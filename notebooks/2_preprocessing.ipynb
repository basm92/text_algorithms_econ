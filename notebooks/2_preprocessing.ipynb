{
 "cells": [
  {
   "cell_type": "markdown",
   "metadata": {},
   "source": [
    "+ Dropping verb variations from pos/neg dictionaries to make stemming point more relevant?"
   ]
  },
  {
   "cell_type": "code",
   "execution_count": 1,
   "metadata": {
    "id": "OO7_xdAZduto"
   },
   "outputs": [],
   "source": [
    "# Install necessary packages\n",
    "# !pip install flashtext\n",
    "# !pip install contractions\n",
    "# !pip install --upgrade spacy==2.2.4\n",
    "# !pip install gdown"
   ]
  },
  {
   "cell_type": "code",
   "execution_count": 2,
   "metadata": {
    "id": "zzY5wHPIdutp"
   },
   "outputs": [],
   "source": [
    "# Restart RUNTIME after installing packages!"
   ]
  },
  {
   "cell_type": "code",
   "execution_count": 3,
   "metadata": {},
   "outputs": [],
   "source": [
    "import pandas as pd\n",
    "import numpy as np\n",
    "import gdown\n",
    "import random\n",
    "import string\n",
    "import re\n",
    "from sklearn.preprocessing import StandardScaler\n",
    "import matplotlib.pyplot as plt\n",
    "from sklearn.feature_extraction.text import TfidfVectorizer\n",
    "import contractions\n",
    "\n",
    "import sys\n",
    "sys.path.append('../pymodules')\n",
    "import preprocessing_class as pc\n",
    "import preprocess_data\n",
    "\n",
    "import unicodedata\n",
    "import spacy\n",
    "nlp_standard = spacy.load('en_core_web_sm')\n",
    "\n",
    "import nltk\n",
    "from nltk import SnowballStemmer\n",
    "stemmer = SnowballStemmer(language='english')"
   ]
  },
  {
   "cell_type": "code",
   "execution_count": 4,
   "metadata": {
    "id": "oYSA60vTZgJn"
   },
   "outputs": [],
   "source": [
    "# define paths and seed\n",
    "seed = 92\n",
    "data_path = \"./\""
   ]
  },
  {
   "cell_type": "code",
   "execution_count": 5,
   "metadata": {
    "id": "1ASFG1hzHeUP"
   },
   "outputs": [],
   "source": [
    "# define dictionary with paths to data in Google Drive\n",
    "data_url_dict = {\"mpc_minutes\": (\"https://drive.google.com/uc?id=1k086m12gBHKuVMPv4GUD1aB_kZOZpznR\", \"txt\"),\n",
    "                \"ons_quarterly_gdp\": (\"https://drive.google.com/uc?id=1_8JwCNUsq9wnPiTDmcJ2xrWklGGDFbQD\", \"csv\"),\n",
    "                \"gdp_sentiment\": (\"https://drive.google.com/uc?id=1DrJpCsLBfJMPQ6O6wBZKeb3haDD0EaSY\", \"csv\")}"
   ]
  },
  {
   "cell_type": "code",
   "execution_count": 6,
   "metadata": {
    "colab": {
     "base_uri": "https://localhost:8080/"
    },
    "id": "VeM3yIZFICcl",
    "outputId": "30ee6514-5dbf-4535-e733-d1c1fdfa2e38"
   },
   "outputs": [
    {
     "name": "stderr",
     "output_type": "stream",
     "text": [
      "Downloading...\n",
      "From: https://drive.google.com/uc?id=1k086m12gBHKuVMPv4GUD1aB_kZOZpznR\n",
      "To: /Users/llaurabat/Dropbox/BGSE_work/AR/ARE_text_algorithms_economics/notebooks/mpc_minutes.txt\n",
      "100%|██████████| 7.36M/7.36M [00:04<00:00, 1.77MB/s]\n",
      "Downloading...\n",
      "From: https://drive.google.com/uc?id=1_8JwCNUsq9wnPiTDmcJ2xrWklGGDFbQD\n",
      "To: /Users/llaurabat/Dropbox/BGSE_work/AR/ARE_text_algorithms_economics/notebooks/ons_quarterly_gdp.csv\n",
      "100%|██████████| 3.33k/3.33k [00:00<00:00, 11.3MB/s]\n",
      "Downloading...\n",
      "From: https://drive.google.com/uc?id=1DrJpCsLBfJMPQ6O6wBZKeb3haDD0EaSY\n",
      "To: /Users/llaurabat/Dropbox/BGSE_work/AR/ARE_text_algorithms_economics/notebooks/gdp_sentiment.csv\n",
      "100%|██████████| 2.36k/2.36k [00:00<00:00, 6.74MB/s]\n"
     ]
    }
   ],
   "source": [
    "# download each file in the dictionary\n",
    "for file_name, attributes in data_url_dict.items():\n",
    "    url = attributes[0]\n",
    "    extension = attributes[1]\n",
    "    gdown.download(url, f\"{file_name}.{extension}\", quiet=False) "
   ]
  },
  {
   "cell_type": "markdown",
   "metadata": {
    "id": "qx4zes1Ddutr"
   },
   "source": [
    "# Text preprocessing and dictionary methods"
   ]
  },
  {
   "cell_type": "markdown",
   "metadata": {
    "id": "kLIyQWCaduts"
   },
   "source": [
    "This notebook makes use of our RawDocs class to illustrate a preprocessing pipeline for text data. Indeed, raw text typically needs to be cleaned before it can serve as input for a statistical model. \n",
    "\n",
    "As an example, we could want to split contractions, remove stopwords or remove punctuation. These steps can help a statistical model to only learn from terms that have a relevant meaning. \n",
    "\n",
    "We might also want to replace a term or a set of terms with another token. For instance, this operation could allow us to replace phrases (e.g. bigrams, trigrams) with single tokens.\n",
    "\n",
    "Another common practice in text preprocessing is that of stemming (remove affixes and replace with root) or lemmatizing (replace with dictionary form i.e. lemma). These procedures bring words with the same root meaning back to a single token.\n",
    "\n",
    "Finally, we might want to remove very frequent or infrequent words, and transform the data into a document-term matrix that can be fed into models that follow a bag-of-words approach."
   ]
  },
  {
   "cell_type": "markdown",
   "metadata": {
    "id": "ftz2XnGwdutv"
   },
   "source": [
    "# 1. Load data"
   ]
  },
  {
   "cell_type": "markdown",
   "metadata": {
    "id": "rsOhKaTvdutv"
   },
   "source": [
    "This tutorial uses text data from Bank of England minutes. As a first step, we inspect the data. We observe that we have a total number of 7277 strings of data (hereafter \"documents\") that are produced monthly for 18 years (06/1997 to 10/2014). The average length of a document is of 161 words."
   ]
  },
  {
   "cell_type": "code",
   "execution_count": 7,
   "metadata": {
    "colab": {
     "base_uri": "https://localhost:8080/"
    },
    "id": "WJomAJdvdutv",
    "outputId": "2d5adb33-a3a9-4366-e03b-08c66f75fe00"
   },
   "outputs": [
    {
     "name": "stdout",
     "output_type": "stream",
     "text": [
      "(7277, 2)\n"
     ]
    },
    {
     "data": {
      "text/html": [
       "<div>\n",
       "<style scoped>\n",
       "    .dataframe tbody tr th:only-of-type {\n",
       "        vertical-align: middle;\n",
       "    }\n",
       "\n",
       "    .dataframe tbody tr th {\n",
       "        vertical-align: top;\n",
       "    }\n",
       "\n",
       "    .dataframe thead th {\n",
       "        text-align: right;\n",
       "    }\n",
       "</style>\n",
       "<table border=\"1\" class=\"dataframe\">\n",
       "  <thead>\n",
       "    <tr style=\"text-align: right;\">\n",
       "      <th></th>\n",
       "      <th>date</th>\n",
       "      <th>minutes</th>\n",
       "    </tr>\n",
       "  </thead>\n",
       "  <tbody>\n",
       "    <tr>\n",
       "      <th>0</th>\n",
       "      <td>199706</td>\n",
       "      <td>1 Sections I to V of this minute summarise t...</td>\n",
       "    </tr>\n",
       "    <tr>\n",
       "      <th>1</th>\n",
       "      <td>199706</td>\n",
       "      <td>The 12-month growth rate of notes and coins ...</td>\n",
       "    </tr>\n",
       "    <tr>\n",
       "      <th>2</th>\n",
       "      <td>199706</td>\n",
       "      <td>Broad money, too, decelerated in April: its ...</td>\n",
       "    </tr>\n",
       "    <tr>\n",
       "      <th>3</th>\n",
       "      <td>199706</td>\n",
       "      <td>Lending growth continued at around 9% in ...</td>\n",
       "    </tr>\n",
       "    <tr>\n",
       "      <th>4</th>\n",
       "      <td>199706</td>\n",
       "      <td>Lending to individuals remained robust in...</td>\n",
       "    </tr>\n",
       "  </tbody>\n",
       "</table>\n",
       "</div>"
      ],
      "text/plain": [
       "     date                                            minutes\n",
       "0  199706    1 Sections I to V of this minute summarise t...\n",
       "1  199706    The 12-month growth rate of notes and coins ...\n",
       "2  199706    Broad money, too, decelerated in April: its ...\n",
       "3  199706       Lending growth continued at around 9% in ...\n",
       "4  199706       Lending to individuals remained robust in..."
      ]
     },
     "execution_count": 7,
     "metadata": {},
     "output_type": "execute_result"
    }
   ],
   "source": [
    "data = pd.read_csv(data_path + 'mpc_minutes.txt', delimiter='\\t', header=0, names=['date', 'minutes'])\n",
    "print(data.shape)\n",
    "data.head()"
   ]
  },
  {
   "cell_type": "code",
   "execution_count": 8,
   "metadata": {
    "colab": {
     "base_uri": "https://localhost:8080/"
    },
    "id": "Ran5C7C2dutw",
    "outputId": "78d37ecf-a275-4c5c-8c2c-1a1d9df28a35"
   },
   "outputs": [
    {
     "data": {
      "text/html": [
       "<div>\n",
       "<style scoped>\n",
       "    .dataframe tbody tr th:only-of-type {\n",
       "        vertical-align: middle;\n",
       "    }\n",
       "\n",
       "    .dataframe tbody tr th {\n",
       "        vertical-align: top;\n",
       "    }\n",
       "\n",
       "    .dataframe thead th {\n",
       "        text-align: right;\n",
       "    }\n",
       "</style>\n",
       "<table border=\"1\" class=\"dataframe\">\n",
       "  <thead>\n",
       "    <tr style=\"text-align: right;\">\n",
       "      <th></th>\n",
       "      <th>date</th>\n",
       "      <th>minutes</th>\n",
       "      <th>year</th>\n",
       "      <th>quarter</th>\n",
       "    </tr>\n",
       "  </thead>\n",
       "  <tbody>\n",
       "    <tr>\n",
       "      <th>0</th>\n",
       "      <td>199706</td>\n",
       "      <td>1 Sections I to V of this minute summarise t...</td>\n",
       "      <td>1997</td>\n",
       "      <td>2</td>\n",
       "    </tr>\n",
       "    <tr>\n",
       "      <th>1</th>\n",
       "      <td>199706</td>\n",
       "      <td>The 12-month growth rate of notes and coins ...</td>\n",
       "      <td>1997</td>\n",
       "      <td>2</td>\n",
       "    </tr>\n",
       "    <tr>\n",
       "      <th>2</th>\n",
       "      <td>199706</td>\n",
       "      <td>Broad money, too, decelerated in April: its ...</td>\n",
       "      <td>1997</td>\n",
       "      <td>2</td>\n",
       "    </tr>\n",
       "    <tr>\n",
       "      <th>3</th>\n",
       "      <td>199706</td>\n",
       "      <td>Lending growth continued at around 9% in ...</td>\n",
       "      <td>1997</td>\n",
       "      <td>2</td>\n",
       "    </tr>\n",
       "    <tr>\n",
       "      <th>4</th>\n",
       "      <td>199706</td>\n",
       "      <td>Lending to individuals remained robust in...</td>\n",
       "      <td>1997</td>\n",
       "      <td>2</td>\n",
       "    </tr>\n",
       "  </tbody>\n",
       "</table>\n",
       "</div>"
      ],
      "text/plain": [
       "     date                                            minutes  year  quarter\n",
       "0  199706    1 Sections I to V of this minute summarise t...  1997        2\n",
       "1  199706    The 12-month growth rate of notes and coins ...  1997        2\n",
       "2  199706    Broad money, too, decelerated in April: its ...  1997        2\n",
       "3  199706       Lending growth continued at around 9% in ...  1997        2\n",
       "4  199706       Lending to individuals remained robust in...  1997        2"
      ]
     },
     "execution_count": 8,
     "metadata": {},
     "output_type": "execute_result"
    }
   ],
   "source": [
    "# turn date into date format and create quarter column\n",
    "data['date'] = pd.to_datetime(data.date, format='%Y%m')\n",
    "data['year'] = data.date.dt.year.astype(int)\n",
    "data['quarter'] = data.date.dt.quarter.astype(int)\n",
    "data['date'] = data['date'].dt.strftime('%Y%m')\n",
    "data.head()"
   ]
  },
  {
   "cell_type": "code",
   "execution_count": 9,
   "metadata": {
    "colab": {
     "base_uri": "https://localhost:8080/"
    },
    "id": "mfffmCRrdutx",
    "outputId": "84af71fe-db84-42b7-d8e3-f6134c8605ab"
   },
   "outputs": [
    {
     "name": "stdout",
     "output_type": "stream",
     "text": [
      "average document length: 161.0 words\n"
     ]
    }
   ],
   "source": [
    "data['length'] = data.minutes.apply(lambda x: len(x.split()))\n",
    "print(f'average document length: {np.round(np.mean(data.length),0)} words')"
   ]
  },
  {
   "cell_type": "code",
   "execution_count": 10,
   "metadata": {
    "colab": {
     "base_uri": "https://localhost:8080/"
    },
    "id": "Piqhv31-dutx",
    "outputId": "f1f523cd-2fa6-4f81-833b-5e316dfb9096"
   },
   "outputs": [
    {
     "name": "stdout",
     "output_type": "stream",
     "text": [
      "n. months: 209\n",
      "n. years: 18\n"
     ]
    },
    {
     "data": {
      "text/plain": [
       "array(['199706', '199707', '199708', '199709', '199710', '199711',\n",
       "       '199712', '199801', '199802', '199803', '199804', '199805',\n",
       "       '199806', '199807', '199808', '199809', '199810', '199811',\n",
       "       '199812', '199901', '199902', '199903', '199904', '199905',\n",
       "       '199906', '199907', '199908', '199909', '199910', '199911',\n",
       "       '199912', '200001', '200002', '200003', '200004', '200005',\n",
       "       '200006', '200007', '200008', '200009', '200010', '200011',\n",
       "       '200012', '200101', '200102', '200103', '200104', '200105',\n",
       "       '200106', '200107', '200108', '200109', '200110', '200111',\n",
       "       '200112', '200201', '200202', '200203', '200204', '200205',\n",
       "       '200206', '200207', '200208', '200209', '200210', '200211',\n",
       "       '200212', '200301', '200302', '200303', '200304', '200305',\n",
       "       '200306', '200307', '200308', '200309', '200310', '200311',\n",
       "       '200312', '200401', '200402', '200403', '200404', '200405',\n",
       "       '200406', '200407', '200408', '200409', '200410', '200411',\n",
       "       '200412', '200501', '200502', '200503', '200504', '200505',\n",
       "       '200506', '200507', '200508', '200509', '200510', '200511',\n",
       "       '200512', '200601', '200602', '200603', '200604', '200605',\n",
       "       '200606', '200607', '200608', '200609', '200610', '200611',\n",
       "       '200612', '200701', '200702', '200703', '200704', '200705',\n",
       "       '200706', '200707', '200708', '200709', '200710', '200711',\n",
       "       '200712', '200801', '200802', '200803', '200804', '200805',\n",
       "       '200806', '200807', '200808', '200809', '200810', '200811',\n",
       "       '200812', '200901', '200902', '200903', '200904', '200905',\n",
       "       '200906', '200907', '200908', '200909', '200910', '200911',\n",
       "       '200912', '201001', '201002', '201003', '201004', '201005',\n",
       "       '201006', '201007', '201008', '201009', '201010', '201011',\n",
       "       '201012', '201101', '201102', '201103', '201104', '201105',\n",
       "       '201106', '201107', '201108', '201109', '201110', '201111',\n",
       "       '201112', '201201', '201202', '201203', '201204', '201205',\n",
       "       '201206', '201207', '201208', '201209', '201210', '201211',\n",
       "       '201212', '201301', '201302', '201303', '201304', '201305',\n",
       "       '201306', '201307', '201308', '201309', '201310', '201311',\n",
       "       '201312', '201401', '201402', '201403', '201404', '201405',\n",
       "       '201406', '201407', '201408', '201409', '201410'], dtype=object)"
      ]
     },
     "execution_count": 10,
     "metadata": {},
     "output_type": "execute_result"
    }
   ],
   "source": [
    "print('n. months:',len(data.date.unique()))\n",
    "print('n. years:',len(data.year.unique()))\n",
    "data.date.unique()"
   ]
  },
  {
   "cell_type": "markdown",
   "metadata": {
    "id": "5YJYlZkPdutx"
   },
   "source": [
    "#  2. Preprocessing using the RawDocs class"
   ]
  },
  {
   "cell_type": "markdown",
   "metadata": {},
   "source": [
    "## 2.1 Initialize class"
   ]
  },
  {
   "cell_type": "markdown",
   "metadata": {
    "id": "SSFJjO09duty"
   },
   "source": [
    "We instantiate the ```RawDocs``` class by passing a pandas series containing the raw documents. In the initialization, we provide parameters that will define the way in which the text will be cleaned and tokenized at a later stage. \n",
    "\n",
    "We can as well set a list of stopwords that will be saved into the \"stopwords\" attribute. We can go for the \"long\" list (retrieved from http://snowball.tartarus.org/algorithms/english/stop.txt) or the \"short\" list (a subsample defined as in Hansen, McMahon, and Prat (2014)). We can also pass a customized list, or no list at all (we are always free to add it later on by modifying the ```stopwords``` attribute).\n",
    "\n",
    "By setting the ```contraction_split``` argument to ```True```, we will also expand English contractions to their extended form (e.g. \"doesn't\" to \"does not\"). Finally, we can pass a tokenization pattern that will override the default tokenization algorithm with a user-defined tokenization routine based on a specific regular expression. In our case, we pass a regex that ensures e.g. not to tokenize over hyphens, currency or percentage signs. "
   ]
  },
  {
   "cell_type": "code",
   "execution_count": 11,
   "metadata": {
    "id": "2rm48MHXduty"
   },
   "outputs": [],
   "source": [
    "pattern = r'''\n",
    "          (?x)                # set flag to allow verbose regexps (to separate logical sections of pattern and add comments)\n",
    "          \\w+(?:-\\w+)*        # word characters with internal hyphens\n",
    "          | [][.,;\"'?():-_`]  # preserve punctuation as separate tokens\n",
    "          '''"
   ]
  },
  {
   "cell_type": "code",
   "execution_count": 12,
   "metadata": {
    "id": "NFWqspWGduty"
   },
   "outputs": [],
   "source": [
    "prep = pc.RawDocs(data.minutes, \n",
    "                  stopwords='long', \n",
    "                  contraction_split=True, \n",
    "                  tokenization_pattern=pattern)"
   ]
  },
  {
   "cell_type": "markdown",
   "metadata": {},
   "source": [
    "At this stage, we have not performed any preprocessing yet. We are free to access raw documents via the ```docs``` attribute."
   ]
  },
  {
   "cell_type": "code",
   "execution_count": 13,
   "metadata": {},
   "outputs": [
    {
     "name": "stdout",
     "output_type": "stream",
     "text": [
      "Document from the pandas series:\n",
      "   In the UK, there was a continuing contrast between goods and services inflation. Goods inflation fell further in April, to 1.9%, compared with 2.1% in March and over 3% in late 1996. Services inflation, which had been as low as 2% in Spring 1996, was unchanged at 3.2% between March and April this year. The April figure for services inflation was particularly significant because approaching half of services prices are recorded in a survey held in the first month of each quarter. Within the category of services, utility and rent inflation fell between March and April, while other services inflation continued to rise.\n",
      "\n",
      "-------------------------\n",
      "\n",
      "Document from preprocessing object:\n",
      "   In the UK, there was a continuing contrast between goods and services inflation. Goods inflation fell further in April, to 1.9%, compared with 2.1% in March and over 3% in late 1996. Services inflation, which had been as low as 2% in Spring 1996, was unchanged at 3.2% between March and April this year. The April figure for services inflation was particularly significant because approaching half of services prices are recorded in a survey held in the first month of each quarter. Within the category of services, utility and rent inflation fell between March and April, while other services inflation continued to rise.\n"
     ]
    }
   ],
   "source": [
    "# notice that the documents from the object are identical to the ones from the pandas series\n",
    "i = 20\n",
    "print(\"Document from the pandas series:\\n\", data.loc[i, \"minutes\"])\n",
    "print(\"\\n-------------------------\\n\")\n",
    "print(\"Document from preprocessing object:\\n\", prep.docs[i])"
   ]
  },
  {
   "cell_type": "markdown",
   "metadata": {
    "id": "5YJYlZkPdutx"
   },
   "source": [
    "## 2.2 Lower-case, split contractions"
   ]
  },
  {
   "cell_type": "markdown",
   "metadata": {},
   "source": [
    "In the previous notebook, we have used Python built-in functions to lower-case the text. We can achieve the same via the ```basic_cleaning()``` method, that allows as well for contractions expansion."
   ]
  },
  {
   "cell_type": "code",
   "execution_count": 14,
   "metadata": {},
   "outputs": [],
   "source": [
    "# lower-case text, expand contractions\n",
    "prep.basic_cleaning()"
   ]
  },
  {
   "cell_type": "code",
   "execution_count": 15,
   "metadata": {},
   "outputs": [
    {
     "name": "stdout",
     "output_type": "stream",
     "text": [
      "  There was as yet no clear downtrend in net exports. Exports to non-EU countries had risen sharply: the USA had grown very fast in Q1, but it was expected by US commentators to slow down spontaneously. Net exports to EU countries had been resilient. GDP growth in France and Germany (though not Italy) had picked up to just below trend, but domestic demand growth in those countries had been subdued.\n",
      "\n",
      "  there was as yet no clear downtrend in net exports. exports to non-eu countries had risen sharply: the usa had grown very fast in q1, but it was expected by us commentators to slow down spontaneously. net exports to eu countries had been resilient. gdp growth in france and germany (though not italy) had picked up to just below trend, but domestic demand growth in those countries had been subdued.\n"
     ]
    }
   ],
   "source": [
    "# explore an example after the basic cleaning has been applied\n",
    "i = 10\n",
    "print(data.minutes[i])\n",
    "print()\n",
    "print(prep.docs[i])"
   ]
  },
  {
   "cell_type": "markdown",
   "metadata": {
    "id": "tISXT0HQdut2"
   },
   "source": [
    "## 2.3 Replace phrases with single token"
   ]
  },
  {
   "cell_type": "markdown",
   "metadata": {
    "id": "EE597fIKdut2"
   },
   "source": [
    "The ```phrase_replace``` method is an extremely convenient method of the RawDocs class. In particular, it will replace the keys with the values of a user-defined \"replace_dict\". It can prove useful if for instance we want to replace specific phrases with a single token. Let's give it a try:"
   ]
  },
  {
   "cell_type": "code",
   "execution_count": 16,
   "metadata": {
    "id": "yejUkaXxdut2"
   },
   "outputs": [],
   "source": [
    "replacing_dict = {'financial intermediation':'financial-intermediation',\n",
    "                  'interest rate':'interest-rate'}"
   ]
  },
  {
   "cell_type": "code",
   "execution_count": 17,
   "metadata": {},
   "outputs": [],
   "source": [
    "prep.phrase_replace(replace_dict=replacing_dict)"
   ]
  },
  {
   "cell_type": "code",
   "execution_count": 18,
   "metadata": {
    "colab": {
     "base_uri": "https://localhost:8080/"
    },
    "id": "2X27PVm3dut3",
    "outputId": "f963b920-8fbe-42e5-ced9-d6a952e13a3b"
   },
   "outputs": [
    {
     "name": "stdout",
     "output_type": "stream",
     "text": [
      "     Lending growth continued at around 9% in April. Borrowing by ICCs, which had decelerated in Q1, picked up again in April, and unused credit facilities (mainly to ICCs) continued to rise quickly (the 12 month increase was about 13% in April). Interest rate spreads seemed to have narrowed for ICCs and OFIs in Q1, which suggested that banks had become more willing to lend, perhaps in response to competition from other forms of financial intermediation.\n",
      "\n",
      "     lending growth continued at around 9% in april. borrowing by iccs, which had decelerated in q1, picked up again in april, and unused credit facilities (mainly to iccs) continued to rise quickly (the 12 month increase was about 13% in april). interest-rate spreads seemed to have narrowed for iccs and ofis in q1, which suggested that banks had become more willing to lend, perhaps in response to competition from other forms of financial-intermediation.\n"
     ]
    }
   ],
   "source": [
    "i = 3\n",
    "print(data.minutes[i])\n",
    "print()\n",
    "print(prep.docs[i])"
   ]
  },
  {
   "cell_type": "markdown",
   "metadata": {},
   "source": [
    "## 2.4 Tokenize"
   ]
  },
  {
   "cell_type": "markdown",
   "metadata": {},
   "source": [
    "We will now use the ```tokenize_text()``` method to split documents into tokens, using the custom pattern we provided in the initialisation. It is very important that we use a tokenization pattern that does not split over hyphens, since we have used the hyphen when replacing phrases earlier. After applying this method, our preprocessing object (```prep```) will get a new attribute that we can access: ```.tokens```."
   ]
  },
  {
   "cell_type": "code",
   "execution_count": 19,
   "metadata": {},
   "outputs": [],
   "source": [
    "# now we can split the documents into tokens\n",
    "prep.tokenize_text()"
   ]
  },
  {
   "cell_type": "markdown",
   "metadata": {
    "id": "YA8RWtJ6dutz"
   },
   "source": [
    "Below, we show a random document and its tokenized version. As we can see, text was tokenized in such a way that expressions such as \"non-EU\" were kept as a single token. Notice also that punctuation symbols were preserved."
   ]
  },
  {
   "cell_type": "code",
   "execution_count": 20,
   "metadata": {},
   "outputs": [
    {
     "name": "stdout",
     "output_type": "stream",
     "text": [
      "  There was as yet no clear downtrend in net exports. Exports to non-EU countries had risen sharply: the USA had grown very fast in Q1, but it was expected by US commentators to slow down spontaneously. Net exports to EU countries had been resilient. GDP growth in France and Germany (though not Italy) had picked up to just below trend, but domestic demand growth in those countries had been subdued.\n",
      "\n",
      "['there', 'was', 'as', 'yet', 'no', 'clear', 'downtrend', 'in', 'net', 'exports', '.', 'exports', 'to', 'non-eu', 'countries', 'had', 'risen', 'sharply', ':', 'the', 'usa', 'had', 'grown', 'very', 'fast', 'in', 'q1', ',', 'but', 'it', 'was', 'expected', 'by', 'us', 'commentators', 'to', 'slow', 'down', 'spontaneously', '.', 'net', 'exports', 'to', 'eu', 'countries', 'had', 'been', 'resilient', '.', 'gdp', 'growth', 'in', 'france', 'and', 'germany', '(', 'though', 'not', 'italy', ')', 'had', 'picked', 'up', 'to', 'just', 'below', 'trend', ',', 'but', 'domestic', 'demand', 'growth', 'in', 'those', 'countries', 'had', 'been', 'subdued', '.']\n"
     ]
    }
   ],
   "source": [
    "i = 10\n",
    "print(data.minutes[i])\n",
    "print()\n",
    "print(prep.tokens[i])"
   ]
  },
  {
   "cell_type": "markdown",
   "metadata": {},
   "source": [
    "At this point, tokens could be ready to use for some specific aims. For instance, one might want to count instances of specific terms, including punctuation. However, more often one wants to proceed with heavier preprocessing, for which other methods of the RawDocs class can prove useful."
   ]
  },
  {
   "cell_type": "markdown",
   "metadata": {
    "id": "8fj8gXkRdutz"
   },
   "source": [
    "## 2.5 Remove non-ASCII symbols, punctuation, numbers, short tokens"
   ]
  },
  {
   "cell_type": "markdown",
   "metadata": {
    "id": "DYMXsYZKdutz"
   },
   "source": [
    "The ```token_clean()``` method iterates over tokens and removes elements that we might consider unnecessary or impairing our analysis.\n",
    "\n",
    "The method automatically removes non-ASCII characters. In addition, we can remove punctuation, numbers and tokens with a number of characters lower than or equal to \"length\". The function removes by default the punctuation included in the string package:"
   ]
  },
  {
   "cell_type": "code",
   "execution_count": 21,
   "metadata": {
    "colab": {
     "base_uri": "https://localhost:8080/"
    },
    "id": "KuDWVlRhdut0",
    "outputId": "40f940b9-8e7d-4d3f-f707-2d7148ef1c61"
   },
   "outputs": [
    {
     "data": {
      "text/plain": [
       "'!\"#$%&\\'()*+,-./:;<=>?@[\\\\]^_`{|}~'"
      ]
     },
     "execution_count": 21,
     "metadata": {},
     "output_type": "execute_result"
    }
   ],
   "source": [
    "string.punctuation"
   ]
  },
  {
   "cell_type": "markdown",
   "metadata": {
    "id": "Dp4k-rkWdut0"
   },
   "source": [
    "However, we are free to pass a customised punctuation string. Here, we pass the string above excluding hypens."
   ]
  },
  {
   "cell_type": "code",
   "execution_count": 22,
   "metadata": {
    "colab": {
     "base_uri": "https://localhost:8080/"
    },
    "id": "yrohs7yDdut0",
    "outputId": "b12c8322-2088-45b1-d769-cbbdee137812"
   },
   "outputs": [
    {
     "data": {
      "text/plain": [
       "'!\"#$%&\\'()*+,./:;<=>?@[\\\\]^_`{|}~'"
      ]
     },
     "execution_count": 22,
     "metadata": {},
     "output_type": "execute_result"
    }
   ],
   "source": [
    "punctuation = string.punctuation\n",
    "punctuation = punctuation.replace(\"-\", \"\")\n",
    "punctuation"
   ]
  },
  {
   "cell_type": "code",
   "execution_count": 23,
   "metadata": {
    "id": "vHM1CFv_dut0"
   },
   "outputs": [],
   "source": [
    "prep.token_clean(length=2,                # remove tokens with less than this number of characters \n",
    "                 punctuation=punctuation, # remove custom list of punctuation characters\n",
    "                 numbers=True)            # remove numbers"
   ]
  },
  {
   "cell_type": "markdown",
   "metadata": {
    "id": "mCkcigB2dut0"
   },
   "source": [
    "Let's now look at a document. As we can see, numbers and very short tokens were removed, as well as punctuation, but excluding e.g. hypens."
   ]
  },
  {
   "cell_type": "code",
   "execution_count": 24,
   "metadata": {
    "colab": {
     "base_uri": "https://localhost:8080/"
    },
    "id": "cBMtWm-ydut0",
    "outputId": "7894028e-9bb0-4541-d25f-65c2f2e644f1"
   },
   "outputs": [
    {
     "name": "stdout",
     "output_type": "stream",
     "text": [
      "  There was as yet no clear downtrend in net exports. Exports to non-EU countries had risen sharply: the USA had grown very fast in Q1, but it was expected by US commentators to slow down spontaneously. Net exports to EU countries had been resilient. GDP growth in France and Germany (though not Italy) had picked up to just below trend, but domestic demand growth in those countries had been subdued.\n",
      "\n",
      "['there', 'was', 'yet', 'clear', 'downtrend', 'net', 'exports', 'exports', 'non-eu', 'countries', 'had', 'risen', 'sharply', 'the', 'usa', 'had', 'grown', 'very', 'fast', 'but', 'was', 'expected', 'commentators', 'slow', 'down', 'spontaneously', 'net', 'exports', 'countries', 'had', 'been', 'resilient', 'gdp', 'growth', 'france', 'and', 'germany', 'though', 'not', 'italy', 'had', 'picked', 'just', 'below', 'trend', 'but', 'domestic', 'demand', 'growth', 'those', 'countries', 'had', 'been', 'subdued']\n"
     ]
    }
   ],
   "source": [
    "i = 10\n",
    "print(data.minutes[i])\n",
    "print()\n",
    "print(prep.tokens[i])"
   ]
  },
  {
   "cell_type": "markdown",
   "metadata": {
    "id": "Z0aardZbdut1"
   },
   "source": [
    "## 2.6 Remove stopwords"
   ]
  },
  {
   "cell_type": "markdown",
   "metadata": {
    "id": "A5migS4Pdut1"
   },
   "source": [
    "The ```remove_stopwords()``` method allows to remove tokens included in the ```stopwords``` attribute. We went for the \"long\" stopwords list, that is printed below."
   ]
  },
  {
   "cell_type": "code",
   "execution_count": 25,
   "metadata": {
    "colab": {
     "base_uri": "https://localhost:8080/"
    },
    "id": "xefr6wkfdut1",
    "outputId": "f35c18e4-ce69-443a-925a-cd5727d74127"
   },
   "outputs": [
    {
     "name": "stdout",
     "output_type": "stream",
     "text": [
      "['a', 'about', 'above', 'after', 'again', 'against', 'all', 'also', 'am', 'an', 'and', 'another', 'any', 'are', 'as', 'at', 'back', 'be', 'because', 'been', 'before', 'being', 'below', 'between', 'both', 'but', 'by', 'could', 'did', 'do', 'does', 'doing', 'down', 'during', 'each', 'even', 'ever', 'every', 'few', 'first', 'five', 'for', 'four', 'from', 'further', 'get', 'go', 'goes', 'had', 'has', 'have', 'having', 'he', 'her', 'here', 'hers', 'herself', 'high', 'him', 'himself', 'his', 'how', 'however', 'i', 'if', 'in', 'into', 'is', 'it', 'its', 'itself', 'just', 'least', 'less', 'like', 'long', 'made', 'make', 'many', 'me', 'more', 'most', 'my', 'myself', 'never', 'new', 'no', 'nor', 'not', 'now', 'of', 'off', 'old', 'on', 'once', 'one', 'only', 'or', 'other', 'ought', 'our', 'ours', 'ourselves', 'out', 'over', 'own', 'put', 'said', 'same', 'say', 'says', 'second', 'see', 'seen', 'she', 'should', 'since', 'so', 'some', 'still', 'such', 'take', 'than', 'that', 'the', 'their', 'theirs', 'them', 'themselves', 'then', 'there', 'these', 'they', 'this', 'those', 'three', 'through', 'to', 'too', 'two', 'under', 'until', 'up', 'us', 'very', 'was', 'way', 'we', 'well', 'were', 'what', 'when', 'where', 'whether', 'which', 'while', 'who', 'whom', 'why', 'with', 'would', 'you', 'your', 'yours', 'yourself', 'yourselves']\n"
     ]
    }
   ],
   "source": [
    "print(sorted(prep.stopwords))"
   ]
  },
  {
   "cell_type": "code",
   "execution_count": 26,
   "metadata": {
    "id": "2lykFC5Vdut1"
   },
   "outputs": [],
   "source": [
    "prep.stopword_remove('tokens')"
   ]
  },
  {
   "cell_type": "markdown",
   "metadata": {
    "id": "Zb7PP_sZdut1"
   },
   "source": [
    "As we can see, after applying the ```stopwords_remove()``` method, tokens like \"just\" or \"below\" have been dropped."
   ]
  },
  {
   "cell_type": "code",
   "execution_count": 27,
   "metadata": {
    "colab": {
     "base_uri": "https://localhost:8080/"
    },
    "id": "oF2Pl4fmdut2",
    "outputId": "4ecadb3a-c202-45ec-fe17-38c24f00fc3f"
   },
   "outputs": [
    {
     "name": "stdout",
     "output_type": "stream",
     "text": [
      "  There was as yet no clear downtrend in net exports. Exports to non-EU countries had risen sharply: the USA had grown very fast in Q1, but it was expected by US commentators to slow down spontaneously. Net exports to EU countries had been resilient. GDP growth in France and Germany (though not Italy) had picked up to just below trend, but domestic demand growth in those countries had been subdued.\n",
      "\n",
      "['yet', 'clear', 'downtrend', 'net', 'exports', 'exports', 'non-eu', 'countries', 'risen', 'sharply', 'usa', 'grown', 'fast', 'expected', 'commentators', 'slow', 'spontaneously', 'net', 'exports', 'countries', 'resilient', 'gdp', 'growth', 'france', 'germany', 'though', 'italy', 'picked', 'trend', 'domestic', 'demand', 'growth', 'countries', 'subdued']\n"
     ]
    }
   ],
   "source": [
    "i = 10\n",
    "print(data.minutes[i])\n",
    "print()\n",
    "print(prep.tokens[i])"
   ]
  },
  {
   "cell_type": "markdown",
   "metadata": {
    "id": "Ljag15cJdut3"
   },
   "source": [
    "## 2.7 Stem or lemmatize"
   ]
  },
  {
   "cell_type": "markdown",
   "metadata": {
    "id": "zXFH4m4mdut3"
   },
   "source": [
    "As a next step, one might attempt to group together words that are grammatically different but thematically identical. For example, it could be reasonable to keep words such as \"obligations\", \"obligation\" and  \"oblige\" under a single token. Ultimately, these three words denote the same concept, and so we might want them to share the same symbol. \n",
    "\n",
    "The two most popular techniques to achieve this goal are stemming and lemmatization.  Stemming removes affixes and replaces each word with its root, while lemmatization replaces words with their dictionary form i.e. lemma. \n",
    "\n",
    "The RawDocs class allows both stemming (via nltk Snowball stemmer) and lemmatization (via spaCy lemmatizer). Below, we use both techniques and look at the different results on a specific document. Stems and lemmas are stored in the \"stems\" and \"lemmas\" attributes respectively."
   ]
  },
  {
   "cell_type": "code",
   "execution_count": 28,
   "metadata": {
    "colab": {
     "base_uri": "https://localhost:8080/"
    },
    "id": "nhQVNTAfdut3",
    "outputId": "b0374383-9f1b-4118-f6a5-5624621aee69"
   },
   "outputs": [
    {
     "name": "stdout",
     "output_type": "stream",
     "text": [
      "CPU times: user 6.5 s, sys: 16.7 ms, total: 6.52 s\n",
      "Wall time: 6.53 s\n"
     ]
    }
   ],
   "source": [
    "%%time\n",
    "prep.stem()"
   ]
  },
  {
   "cell_type": "code",
   "execution_count": 29,
   "metadata": {
    "colab": {
     "base_uri": "https://localhost:8080/"
    },
    "id": "q83cG0qfdut4",
    "outputId": "2105afc1-e6f6-4449-a114-4c0f86556caf"
   },
   "outputs": [
    {
     "name": "stdout",
     "output_type": "stream",
     "text": [
      "CPU times: user 1min 10s, sys: 3.96 s, total: 1min 14s\n",
      "Wall time: 1min 15s\n"
     ]
    }
   ],
   "source": [
    "%%time\n",
    "prep.lemmatize()"
   ]
  },
  {
   "cell_type": "code",
   "execution_count": 30,
   "metadata": {
    "colab": {
     "base_uri": "https://localhost:8080/"
    },
    "id": "6jFi3QiVdut4",
    "outputId": "34c2954e-a6cb-4149-c9e5-4084470bef28"
   },
   "outputs": [
    {
     "name": "stdout",
     "output_type": "stream",
     "text": [
      "['lending', 'growth', 'continued', 'around', 'april', 'borrowing', 'iccs', 'decelerated', 'picked', 'april', 'unused', 'credit', 'facilities', 'mainly', 'iccs', 'continued', 'rise', 'quickly', 'month', 'increase', 'april', 'interest-rate', 'spreads', 'seemed', 'narrowed', 'iccs', 'ofis', 'suggested', 'banks', 'become', 'willing', 'lend', 'perhaps', 'response', 'competition', 'forms', 'financial-intermediation']\n",
      "\n",
      "['lend', 'growth', 'continu', 'around', 'april', 'borrow', 'icc', 'deceler', 'pick', 'april', 'unus', 'credit', 'facil', 'main', 'icc', 'continu', 'rise', 'quick', 'month', 'increas', 'april', 'interest-rate', 'spread', 'seem', 'narrow', 'icc', 'ofi', 'suggest', 'bank', 'becom', 'will', 'lend', 'perhap', 'respons', 'competit', 'form', 'financial-intermediation']\n",
      "\n",
      "['lending', 'growth', 'continue', 'around', 'april', 'borrowing', 'iccs', 'decelerate', 'pick', 'april', 'unused', 'credit', 'facility', 'mainly', 'iccs', 'continue', 'rise', 'quickly', 'month', 'increase', 'april', 'interest-rate', 'spread', 'seem', 'narrow', 'iccs', 'ofis', 'suggest', 'bank', 'become', 'willing', 'lend', 'perhaps', 'response', 'competition', 'form', 'financial-intermediation']\n"
     ]
    }
   ],
   "source": [
    "i = 3\n",
    "print(prep.tokens[i])\n",
    "print()\n",
    "print(prep.stems[i])\n",
    "print()\n",
    "print(prep.lemmas[i])"
   ]
  },
  {
   "cell_type": "markdown",
   "metadata": {
    "id": "hMHoyG--dut4"
   },
   "source": [
    "## 2.8 Term ranking "
   ]
  },
  {
   "cell_type": "markdown",
   "metadata": {
    "id": "Ek7ktzk8dut4"
   },
   "source": [
    "Finally, one might want to drop very frequent terms, as they could be regarded as corpus-specific stopwords that do not add up much value. Similarly, one might want to drop very rare terms, considering that not much can be learnt from such infrequent items. \n",
    "\n",
    "To explore these ideas, the ```get_term_ranking()``` method comes in handy. It allows to rank items (either tokens, stems or lemmas) according to pure document frequency (df) or term frequency inverse document frequency (tf-idf) - where  high weight is given to terms that appear frequently in the entire dataset, but in relatively few documents. In particular, the tf-idf score for term $v$ is computed according to the formula below:\n",
    "\n",
    "\\begin{equation}\n",
    "tfidf_v = (1+log(tf_v)) (log \\frac{N}{df_v+1})\n",
    "\\end{equation}\n",
    "\n",
    "Results are stored in the ```df_ranking``` and ```tfidf_ranking``` attributes respectively, and come as a list of tuples of the form (score, term, ranking position). Let's now look at the top ranked tokens in terms of document frequency:"
   ]
  },
  {
   "cell_type": "code",
   "execution_count": 31,
   "metadata": {
    "colab": {
     "base_uri": "https://localhost:8080/"
    },
    "id": "CNbuBatDdut4",
    "outputId": "666ef3d4-26e2-4073-fb08-19f8225780f6"
   },
   "outputs": [
    {
     "data": {
      "text/plain": [
       "[(3431.0, 'growth', 0),\n",
       " (3059.0, 'inflation', 1),\n",
       " (2532.0, 'rate', 2),\n",
       " (2530.0, 'committee', 3),\n",
       " (2388.0, 'prices', 4),\n",
       " (2266.0, 'market', 5),\n",
       " (1936.0, 'demand', 6),\n",
       " (1905.0, 'remained', 7),\n",
       " (1875.0, 'month', 8),\n",
       " (1853.0, 'output', 9)]"
      ]
     },
     "execution_count": 31,
     "metadata": {},
     "output_type": "execute_result"
    }
   ],
   "source": [
    "prep.get_term_ranking(items='tokens',score_type='df')\n",
    "prep.df_ranking['tokens'][:10]"
   ]
  },
  {
   "cell_type": "markdown",
   "metadata": {
    "id": "6C84Rr-jdut5"
   },
   "source": [
    "As we can see, the token \"growth\" ranks first, with a document frequency of 3431 out of 7277 (i.e. \"growth\" is present in around 47% of the documents), and \"rate\" and \"inflation\" come right after.\n",
    "\n",
    "Let's now look at the top ranked tokens in terms of tf-df:"
   ]
  },
  {
   "cell_type": "code",
   "execution_count": 32,
   "metadata": {
    "colab": {
     "base_uri": "https://localhost:8080/"
    },
    "id": "cQWJKzfIdut5",
    "outputId": "85283f6e-b0f6-441c-ea60-15435e94627b"
   },
   "outputs": [
    {
     "data": {
      "text/plain": [
       "[(29.825243257254172, 'nfc', 0),\n",
       " (29.417855025455637, 'ips', 1),\n",
       " (29.394055447843666, 'securitisations', 2),\n",
       " (28.20096850526625, 'surveya', 3),\n",
       " (28.09284413266011, 'pnfcsa', 4),\n",
       " (27.928971035400984, 'attacks', 5),\n",
       " (27.89033249950207, 'bcc', 6),\n",
       " (27.731835312191592, 'egarding', 7),\n",
       " (27.616652544786927, 'working-age', 8),\n",
       " (27.47589968820303, 'deliveries', 9)]"
      ]
     },
     "execution_count": 32,
     "metadata": {},
     "output_type": "execute_result"
    }
   ],
   "source": [
    "prep.get_term_ranking(items='tokens',score_type='tfidf')\n",
    "prep.tfidf_ranking['tokens'][:10]"
   ]
  },
  {
   "cell_type": "markdown",
   "metadata": {
    "id": "2_ILguAldut5"
   },
   "source": [
    "As we can see, the two methods do not agree. Indeed, tf-idf weights more those terms that are frequent, but in relatively few documents. \n",
    "\n",
    "If instead we look at the bottom-ranked terms, we see that the two methods agree way more:"
   ]
  },
  {
   "cell_type": "code",
   "execution_count": 33,
   "metadata": {
    "colab": {
     "base_uri": "https://localhost:8080/"
    },
    "id": "KOftb7c2dut5",
    "outputId": "bbb8d0b2-5de2-4335-ba32-0f0037418522"
   },
   "outputs": [
    {
     "data": {
      "text/plain": [
       "[(1.0, 'yardstick', 538),\n",
       " (1.0, 'year-', 538),\n",
       " (1.0, 'yesa', 538),\n",
       " (1.0, 'yield-curve', 538),\n",
       " (1.0, 'ynchronised', 538),\n",
       " (1.0, 'york', 538),\n",
       " (1.0, 'yorkshire', 538),\n",
       " (1.0, 'ypically', 538),\n",
       " (1.0, 'yukos', 538),\n",
       " (1.0, 'zero-interesta', 538)]"
      ]
     },
     "execution_count": 33,
     "metadata": {},
     "output_type": "execute_result"
    }
   ],
   "source": [
    "prep.df_ranking['tokens'][-10:]"
   ]
  },
  {
   "cell_type": "code",
   "execution_count": 34,
   "metadata": {
    "colab": {
     "base_uri": "https://localhost:8080/"
    },
    "id": "VVi3c65Rdut5",
    "outputId": "fb1d0bd3-f7cb-43a7-daf8-4569600d2f2e"
   },
   "outputs": [
    {
     "data": {
      "text/plain": [
       "[(8.199326787787141, 'year-', 1630),\n",
       " (8.199326787787141, 'yesa', 1630),\n",
       " (8.199326787787141, 'yield-curve', 1630),\n",
       " (8.199326787787141, 'ynchronised', 1630),\n",
       " (8.199326787787141, 'york', 1630),\n",
       " (8.199326787787141, 'yorkshire', 1630),\n",
       " (8.199326787787141, 'ypically', 1630),\n",
       " (8.199326787787141, 'yukos', 1630),\n",
       " (8.199326787787141, 'zero-interesta', 1630),\n",
       " (7.757875162555764, 'growth', 1631)]"
      ]
     },
     "execution_count": 34,
     "metadata": {},
     "output_type": "execute_result"
    }
   ],
   "source": [
    "prep.tfidf_ranking['tokens'][-10:]"
   ]
  },
  {
   "cell_type": "markdown",
   "metadata": {
    "id": "oyYONbGTdut5"
   },
   "source": [
    "This is typical, as terms with an extremely small term frequency usually have a relatively small tf-idf even if logically they appear in very few documents, as the first term in the tf-idf formula tends to prevail. Obviously, they also have a low document frequency score."
   ]
  },
  {
   "cell_type": "markdown",
   "metadata": {
    "id": "iTV9NxC6dut5"
   },
   "source": [
    "Let's now inspect the behavior of df and tf-idf ranking. As we can see, document frequency decays very fast, while tf-idf decreases at a slower pace."
   ]
  },
  {
   "cell_type": "code",
   "execution_count": 35,
   "metadata": {
    "colab": {
     "base_uri": "https://localhost:8080/"
    },
    "id": "AU5YBC78dut5",
    "outputId": "8555fd2b-b21f-4ad4-e03f-9ad71f80e7bd"
   },
   "outputs": [
    {
     "data": {
      "image/png": "[encoded data removed]",
      "text/plain": [
       "<Figure size 432x288 with 1 Axes>"
      ]
     },
     "metadata": {
      "needs_background": "light"
     },
     "output_type": "display_data"
    }
   ],
   "source": [
    "plt.plot([x[0] for x in prep.df_ranking['tokens']])\n",
    "plt.title('df ranking')\n",
    "plt.show()"
   ]
  },
  {
   "cell_type": "code",
   "execution_count": 36,
   "metadata": {},
   "outputs": [
    {
     "data": {
      "image/png": "[encoded data removed]",
      "text/plain": [
       "<Figure size 432x288 with 1 Axes>"
      ]
     },
     "metadata": {
      "needs_background": "light"
     },
     "output_type": "display_data"
    }
   ],
   "source": [
    "# we can use a log-log scale to observe more clearly the power-law distribution (Zipf's law)\n",
    "\n",
    "plt.loglog([x[0] for x in prep.df_ranking['tokens']])\n",
    "plt.title('Document frequency ranking (log-log)')\n",
    "plt.ylabel(\"log document frequency\")\n",
    "plt.xlabel(\"log term ranking\")\n",
    "plt.show()"
   ]
  },
  {
   "cell_type": "code",
   "execution_count": 37,
   "metadata": {
    "colab": {
     "base_uri": "https://localhost:8080/"
    },
    "id": "S7kjLkeddut6",
    "outputId": "c238c41f-0616-465d-9424-6f3e97089510"
   },
   "outputs": [
    {
     "data": {
      "image/png": "[encoded data removed]",
      "text/plain": [
       "<Figure size 432x288 with 1 Axes>"
      ]
     },
     "metadata": {
      "needs_background": "light"
     },
     "output_type": "display_data"
    }
   ],
   "source": [
    "plt.plot([x[0] for x in prep.tfidf_ranking['tokens']])\n",
    "plt.title('Tf-idf ranking')\n",
    "plt.show()"
   ]
  },
  {
   "cell_type": "markdown",
   "metadata": {
    "id": "mh_tHhqhdut6"
   },
   "source": [
    "## 2.9 Remove terms and vectorize"
   ]
  },
  {
   "cell_type": "markdown",
   "metadata": {
    "id": "q9IcrlzVdut6"
   },
   "source": [
    "The ```dt_matrix_create()``` method allows us to vectorize documents according to either document frequency or tf-idf. Moreover, the function allows to drop terms with high or low score values.\n",
    "\n",
    "For instance, picking document frequency as a criterion, we observe that around 3000 terms only appear 3 times across the whole corpus. We might decide to remove them and lighten our subsequent analysis."
   ]
  },
  {
   "cell_type": "code",
   "execution_count": 38,
   "metadata": {
    "colab": {
     "base_uri": "https://localhost:8080/"
    },
    "id": "ZGH1dkKhdut6",
    "outputId": "8498728e-edea-4936-e433-28dc3b310f81"
   },
   "outputs": [
    {
     "data": {
      "image/png": "[encoded data removed]",
      "text/plain": [
       "<Figure size 432x288 with 1 Axes>"
      ]
     },
     "metadata": {
      "needs_background": "light"
     },
     "output_type": "display_data"
    }
   ],
   "source": [
    "plt.plot([x[0] for x in prep.df_ranking['tokens'][2000:]])\n",
    "plt.title('df ranking')\n",
    "plt.show()"
   ]
  },
  {
   "cell_type": "code",
   "execution_count": 39,
   "metadata": {
    "colab": {
     "base_uri": "https://localhost:8080/"
    },
    "id": "I_3O_0dvdut6",
    "outputId": "8bc44af5-eaaf-412d-bc00-f25af5d5fee9"
   },
   "outputs": [
    {
     "name": "stdout",
     "output_type": "stream",
     "text": [
      "9863\n"
     ]
    },
    {
     "data": {
      "text/plain": [
       "[(1.0, 'yardstick', 538),\n",
       " (1.0, 'year-', 538),\n",
       " (1.0, 'yesa', 538),\n",
       " (1.0, 'yield-curve', 538),\n",
       " (1.0, 'ynchronised', 538),\n",
       " (1.0, 'york', 538),\n",
       " (1.0, 'yorkshire', 538),\n",
       " (1.0, 'ypically', 538),\n",
       " (1.0, 'yukos', 538),\n",
       " (1.0, 'zero-interesta', 538)]"
      ]
     },
     "execution_count": 39,
     "metadata": {},
     "output_type": "execute_result"
    }
   ],
   "source": [
    "print(len(prep.df_ranking['tokens']))\n",
    "prep.df_ranking['tokens'][-10:]"
   ]
  },
  {
   "cell_type": "code",
   "execution_count": 40,
   "metadata": {
    "id": "YXlI-7yedut6"
   },
   "outputs": [],
   "source": [
    "prep.dt_matrix_create(items='tokens', score_type='df', min_df=4)"
   ]
  },
  {
   "cell_type": "markdown",
   "metadata": {
    "id": "RFdkdZmzdut6"
   },
   "source": [
    "We can now observe that the bottom-ranked terms have changed and now have a minimum document frequency of 4."
   ]
  },
  {
   "cell_type": "code",
   "execution_count": 41,
   "metadata": {
    "colab": {
     "base_uri": "https://localhost:8080/"
    },
    "id": "TIkr2djXdut7",
    "outputId": "0dcd69e1-bfad-48fa-813c-e497fd0c3d19"
   },
   "outputs": [
    {
     "name": "stdout",
     "output_type": "stream",
     "text": [
      "4723\n"
     ]
    },
    {
     "data": {
      "text/plain": [
       "[(4.0, 'welfare-to-work', 535),\n",
       " (4.0, 'wheat', 535),\n",
       " (4.0, 'window', 535),\n",
       " (4.0, 'wished', 535),\n",
       " (4.0, 'withdrawals', 535),\n",
       " (4.0, 'workforces', 535),\n",
       " (4.0, 'working-day', 535),\n",
       " (4.0, 'wrongly', 535),\n",
       " (4.0, 'yielding', 535),\n",
       " (4.0, 'zone', 535)]"
      ]
     },
     "execution_count": 41,
     "metadata": {},
     "output_type": "execute_result"
    }
   ],
   "source": [
    "prep.get_term_ranking(items='tokens',score_type='df')\n",
    "print(len(prep.df_ranking['tokens']))\n",
    "prep.df_ranking['tokens'][-10:]"
   ]
  },
  {
   "cell_type": "markdown",
   "metadata": {
    "id": "2cqGIB19dut7"
   },
   "source": [
    "We can also observe that a document term frequency matrix has been produced:"
   ]
  },
  {
   "cell_type": "code",
   "execution_count": 42,
   "metadata": {
    "colab": {
     "base_uri": "https://localhost:8080/"
    },
    "id": "rI0Io6rxdut7",
    "outputId": "7eba4644-3d43-49de-8865-c59a179330e5"
   },
   "outputs": [
    {
     "name": "stdout",
     "output_type": "stream",
     "text": [
      "(7277, 4723)\n"
     ]
    },
    {
     "data": {
      "text/plain": [
       "array([[0., 0., 0., ..., 0., 0., 0.],\n",
       "       [0., 1., 0., ..., 0., 0., 0.],\n",
       "       [0., 2., 0., ..., 0., 0., 0.],\n",
       "       ...,\n",
       "       [0., 0., 0., ..., 0., 0., 0.],\n",
       "       [0., 0., 0., ..., 0., 0., 0.],\n",
       "       [0., 0., 0., ..., 0., 0., 0.]])"
      ]
     },
     "execution_count": 42,
     "metadata": {},
     "output_type": "execute_result"
    }
   ],
   "source": [
    "print(prep.df_matrix['tokens'].shape)\n",
    "prep.df_matrix['tokens']"
   ]
  },
  {
   "cell_type": "markdown",
   "metadata": {
    "id": "Q7g5oUBMdut7"
   },
   "source": [
    "This object, eventually together with the vocabulary stored under \"vocabulary\", can be used as input to many bag-of-words text analysis algorithms such as dictionary methods, word2vec, Latent Semantic Analysis (LSA) or Linear Dirichlet Allocation (LDA)."
   ]
  },
  {
   "cell_type": "markdown",
   "metadata": {},
   "source": [
    "## 2.10 Vectorization on stems/lemmas"
   ]
  },
  {
   "cell_type": "markdown",
   "metadata": {},
   "source": [
    "In sections 2.8 and 2.9, we have focused on tokens. Depending on the object of our analysis, we can easily perform the same transformations on stems or lemmas."
   ]
  },
  {
   "cell_type": "code",
   "execution_count": 43,
   "metadata": {},
   "outputs": [
    {
     "name": "stdout",
     "output_type": "stream",
     "text": [
      "(7277, 8090)\n"
     ]
    },
    {
     "data": {
      "text/plain": [
       "array([[0., 0., 0., ..., 0., 0., 0.],\n",
       "       [0., 0., 0., ..., 0., 0., 0.],\n",
       "       [0., 0., 0., ..., 0., 0., 0.],\n",
       "       ...,\n",
       "       [0., 0., 0., ..., 0., 0., 0.],\n",
       "       [0., 0., 0., ..., 0., 0., 0.],\n",
       "       [0., 0., 0., ..., 0., 0., 0.]])"
      ]
     },
     "execution_count": 43,
     "metadata": {},
     "output_type": "execute_result"
    }
   ],
   "source": [
    "prep.dt_matrix_create(items='lemmas', score_type='df', min_df=1)\n",
    "print(prep.df_matrix['lemmas'].shape)\n",
    "prep.df_matrix['lemmas']"
   ]
  },
  {
   "cell_type": "code",
   "execution_count": 44,
   "metadata": {},
   "outputs": [
    {
     "name": "stdout",
     "output_type": "stream",
     "text": [
      "(7277, 6540)\n"
     ]
    },
    {
     "data": {
      "text/plain": [
       "array([[0., 0., 0., ..., 0., 0., 0.],\n",
       "       [0., 0., 0., ..., 0., 0., 0.],\n",
       "       [0., 0., 0., ..., 0., 0., 0.],\n",
       "       ...,\n",
       "       [0., 0., 0., ..., 0., 0., 0.],\n",
       "       [0., 0., 0., ..., 0., 0., 0.],\n",
       "       [0., 0., 0., ..., 0., 0., 0.]])"
      ]
     },
     "execution_count": 44,
     "metadata": {},
     "output_type": "execute_result"
    }
   ],
   "source": [
    "prep.dt_matrix_create(items='stems', score_type='df', min_df=1)\n",
    "print(prep.df_matrix['stems'].shape)\n",
    "prep.df_matrix['stems']"
   ]
  },
  {
   "cell_type": "markdown",
   "metadata": {
    "id": "m1bRVbnudut7"
   },
   "source": [
    "# 3. Sentiment analysis after preprocessing"
   ]
  },
  {
   "cell_type": "markdown",
   "metadata": {},
   "source": [
    "We now want to see whether a more sophisticated preprocessing leads to a sentiment index that is more correlated to GDP, when comparing with the index we obtained in Notebook 1.  \n",
    "\n",
    "That is, we will still build a document sentiment index based on the count of words having a \"positive\" or \"negative\" sentiment, and compare such an index to UK GDP. However, we hope that the enhanced preprocessing will lead to a better dictionary search, and therefore an improved sentiment index."
   ]
  },
  {
   "cell_type": "markdown",
   "metadata": {},
   "source": [
    "We choose stems as our level of analysis. For dictionary searches to be successful, we need sentiment words to be cleaned and stemmed the same way as the main text."
   ]
  },
  {
   "cell_type": "code",
   "execution_count": 45,
   "metadata": {
    "id": "otKb5dLbdut7"
   },
   "outputs": [],
   "source": [
    "pos_words = ['accelerate','accelerated','accelerates','accelerating','expand','expanded','expanding','expands',\n",
    "             'fast','faster','fastest','gain','gained','gaining','gains','high','higher','highest','increase',\n",
    "             'increased','increases','increasing','strong','stronger','strongest']"
   ]
  },
  {
   "cell_type": "code",
   "execution_count": 46,
   "metadata": {
    "id": "qGCgPMoydut7"
   },
   "outputs": [],
   "source": [
    "neg_words = ['contract','contracted','contracting','contracts','decelerate','decelerated','decelerates',\n",
    "             'decelerating','decrease','decreased','decreases','decreasing','lose','losing','loss','losses',\n",
    "             'lost','low','lower','lowest','slow','slower','slowest','weak','weaker','weakest']"
   ]
  },
  {
   "cell_type": "code",
   "execution_count": 47,
   "metadata": {
    "colab": {
     "base_uri": "https://localhost:8080/"
    },
    "id": "bH-sB5XUdut7",
    "outputId": "d6d46620-e03b-46da-aafe-17d40e4797b8"
   },
   "outputs": [
    {
     "name": "stdout",
     "output_type": "stream",
     "text": [
      "['acceler', 'acceler', 'acceler', 'acceler', 'expand', 'expand', 'expand', 'expand', 'fast', 'faster', 'fastest', 'gain', 'gain', 'gain', 'gain', 'high', 'higher', 'highest', 'increas', 'increas', 'increas', 'increas', 'strong', 'stronger', 'strongest']\n",
      "['contract', 'contract', 'contract', 'contract', 'deceler', 'deceler', 'deceler', 'deceler', 'decreas', 'decreas', 'decreas', 'decreas', 'lose', 'lose', 'loss', 'loss', 'lost', 'low', 'lower', 'lowest', 'slow', 'slower', 'slowest', 'weak', 'weaker', 'weakest']\n"
     ]
    }
   ],
   "source": [
    "pos_clean = pc.RawDocs([' '.join(pos_words)], stopwords='long', contraction_split=True, tokenization_pattern=pattern)\n",
    "pos_clean.basic_cleaning()\n",
    "pos_clean.tokenize_text()\n",
    "pos_clean.token_clean(length=2,punctuation=punctuation, numbers=True)\n",
    "pos_clean.stem() \n",
    "pos_stems = pos_clean.stems[0]\n",
    "print(pos_stems) \n",
    "\n",
    "neg_clean = pc.RawDocs([' '.join(neg_words)], stopwords='long', contraction_split=True, tokenization_pattern=pattern)\n",
    "neg_clean.basic_cleaning()\n",
    "neg_clean.tokenize_text()\n",
    "neg_clean.token_clean(length=2,punctuation=punctuation, numbers=True)\n",
    "neg_clean.stem() \n",
    "neg_stems = neg_clean.stems[0]\n",
    "print(neg_stems)  "
   ]
  },
  {
   "cell_type": "code",
   "execution_count": 48,
   "metadata": {
    "colab": {
     "base_uri": "https://localhost:8080/"
    },
    "id": "Z45P5mjCdut8",
    "outputId": "b4b78814-3c84-4524-83d8-f9cd2ac09549"
   },
   "outputs": [
    {
     "name": "stdout",
     "output_type": "stream",
     "text": [
      "[5536, 40, 5535, 2704, 2245, 2001, 2468, 2003, 2455, 2441, 2006, 5541, 1917]\n",
      "[1251, 3218, 5312, 1059, 3200, 3202, 3204, 6356, 3201, 6363, 5315, 1268, 3234, 6358, 5318]\n"
     ]
    }
   ],
   "source": [
    "pos_ixs = [v for k,v in prep.vocabulary['stems'].items() if k in pos_stems]\n",
    "neg_ixs = [v for k,v in prep.vocabulary['stems'].items() if k in neg_stems]\n",
    "print(pos_ixs)\n",
    "print(neg_ixs)"
   ]
  },
  {
   "cell_type": "code",
   "execution_count": 49,
   "metadata": {
    "id": "wjdnGPfodut8"
   },
   "outputs": [],
   "source": [
    "pos_counts = np.take(prep.df_matrix['stems'], pos_ixs, axis=1)\n",
    "pos_counts = pos_counts.sum(axis=1)\n",
    "\n",
    "neg_counts = np.take(prep.df_matrix['stems'], neg_ixs, axis=1)\n",
    "neg_counts = neg_counts.sum(axis=1)"
   ]
  },
  {
   "cell_type": "code",
   "execution_count": 50,
   "metadata": {
    "id": "i8zc8HUtdut8"
   },
   "outputs": [],
   "source": [
    "data['pos_counts'] = pos_counts\n",
    "data['neg_counts'] = neg_counts"
   ]
  },
  {
   "cell_type": "code",
   "execution_count": 51,
   "metadata": {
    "colab": {
     "base_uri": "https://localhost:8080/",
     "height": 234
    },
    "id": "9Kzbj-lpdut8",
    "outputId": "415eb301-0407-4de7-a574-21547726255b"
   },
   "outputs": [
    {
     "data": {
      "text/html": [
       "<div>\n",
       "<style scoped>\n",
       "    .dataframe tbody tr th:only-of-type {\n",
       "        vertical-align: middle;\n",
       "    }\n",
       "\n",
       "    .dataframe tbody tr th {\n",
       "        vertical-align: top;\n",
       "    }\n",
       "\n",
       "    .dataframe thead th {\n",
       "        text-align: right;\n",
       "    }\n",
       "</style>\n",
       "<table border=\"1\" class=\"dataframe\">\n",
       "  <thead>\n",
       "    <tr style=\"text-align: right;\">\n",
       "      <th></th>\n",
       "      <th>year</th>\n",
       "      <th>quarter</th>\n",
       "      <th>pos_counts</th>\n",
       "      <th>neg_counts</th>\n",
       "    </tr>\n",
       "  </thead>\n",
       "  <tbody>\n",
       "    <tr>\n",
       "      <th>0</th>\n",
       "      <td>1997</td>\n",
       "      <td>2</td>\n",
       "      <td>28.0</td>\n",
       "      <td>18.0</td>\n",
       "    </tr>\n",
       "    <tr>\n",
       "      <th>1</th>\n",
       "      <td>1997</td>\n",
       "      <td>3</td>\n",
       "      <td>245.0</td>\n",
       "      <td>93.0</td>\n",
       "    </tr>\n",
       "    <tr>\n",
       "      <th>2</th>\n",
       "      <td>1997</td>\n",
       "      <td>4</td>\n",
       "      <td>244.0</td>\n",
       "      <td>113.0</td>\n",
       "    </tr>\n",
       "    <tr>\n",
       "      <th>3</th>\n",
       "      <td>1998</td>\n",
       "      <td>1</td>\n",
       "      <td>264.0</td>\n",
       "      <td>162.0</td>\n",
       "    </tr>\n",
       "    <tr>\n",
       "      <th>4</th>\n",
       "      <td>1998</td>\n",
       "      <td>2</td>\n",
       "      <td>255.0</td>\n",
       "      <td>187.0</td>\n",
       "    </tr>\n",
       "  </tbody>\n",
       "</table>\n",
       "</div>"
      ],
      "text/plain": [
       "   year  quarter  pos_counts  neg_counts\n",
       "0  1997        2        28.0        18.0\n",
       "1  1997        3       245.0        93.0\n",
       "2  1997        4       244.0       113.0\n",
       "3  1998        1       264.0       162.0\n",
       "4  1998        2       255.0       187.0"
      ]
     },
     "execution_count": 51,
     "metadata": {},
     "output_type": "execute_result"
    }
   ],
   "source": [
    "# aggregate to year-quarter level\n",
    "data_agg = data.groupby(['year', 'quarter']).agg({'pos_counts': 'sum', 'neg_counts': 'sum'}).reset_index()\n",
    "data_agg.head()"
   ]
  },
  {
   "cell_type": "code",
   "execution_count": 52,
   "metadata": {
    "colab": {
     "base_uri": "https://localhost:8080/",
     "height": 234
    },
    "id": "ArVt_Xdpdut8",
    "outputId": "225722b4-091e-48e3-95f6-2a2b32ff6950"
   },
   "outputs": [
    {
     "data": {
      "text/html": [
       "<div>\n",
       "<style scoped>\n",
       "    .dataframe tbody tr th:only-of-type {\n",
       "        vertical-align: middle;\n",
       "    }\n",
       "\n",
       "    .dataframe tbody tr th {\n",
       "        vertical-align: top;\n",
       "    }\n",
       "\n",
       "    .dataframe thead th {\n",
       "        text-align: right;\n",
       "    }\n",
       "</style>\n",
       "<table border=\"1\" class=\"dataframe\">\n",
       "  <thead>\n",
       "    <tr style=\"text-align: right;\">\n",
       "      <th></th>\n",
       "      <th>year</th>\n",
       "      <th>quarter</th>\n",
       "      <th>sentiment_enhanced</th>\n",
       "    </tr>\n",
       "  </thead>\n",
       "  <tbody>\n",
       "    <tr>\n",
       "      <th>0</th>\n",
       "      <td>1997</td>\n",
       "      <td>2</td>\n",
       "      <td>0.217391</td>\n",
       "    </tr>\n",
       "    <tr>\n",
       "      <th>1</th>\n",
       "      <td>1997</td>\n",
       "      <td>3</td>\n",
       "      <td>0.449704</td>\n",
       "    </tr>\n",
       "    <tr>\n",
       "      <th>2</th>\n",
       "      <td>1997</td>\n",
       "      <td>4</td>\n",
       "      <td>0.366947</td>\n",
       "    </tr>\n",
       "    <tr>\n",
       "      <th>3</th>\n",
       "      <td>1998</td>\n",
       "      <td>1</td>\n",
       "      <td>0.239437</td>\n",
       "    </tr>\n",
       "    <tr>\n",
       "      <th>4</th>\n",
       "      <td>1998</td>\n",
       "      <td>2</td>\n",
       "      <td>0.153846</td>\n",
       "    </tr>\n",
       "  </tbody>\n",
       "</table>\n",
       "</div>"
      ],
      "text/plain": [
       "   year  quarter  sentiment_enhanced\n",
       "0  1997        2            0.217391\n",
       "1  1997        3            0.449704\n",
       "2  1997        4            0.366947\n",
       "3  1998        1            0.239437\n",
       "4  1998        2            0.153846"
      ]
     },
     "execution_count": 52,
     "metadata": {},
     "output_type": "execute_result"
    }
   ],
   "source": [
    "# compute sentiment at year-quarter level\n",
    "data_agg['sentiment_enhanced'] = (data_agg.pos_counts - data_agg.neg_counts)/(data_agg.pos_counts + data_agg.neg_counts)\n",
    "data_agg = data_agg[['year', 'quarter', 'sentiment_enhanced']].copy()\n",
    "data_agg.head()"
   ]
  },
  {
   "cell_type": "markdown",
   "metadata": {
    "id": "qpeVOrTIdut8"
   },
   "source": [
    "Next we add quarterly GDP data collected from the ONS website, as well as the sentiment computed in Notebook 1."
   ]
  },
  {
   "cell_type": "code",
   "execution_count": 53,
   "metadata": {},
   "outputs": [
    {
     "data": {
      "text/html": [
       "<div>\n",
       "<style scoped>\n",
       "    .dataframe tbody tr th:only-of-type {\n",
       "        vertical-align: middle;\n",
       "    }\n",
       "\n",
       "    .dataframe tbody tr th {\n",
       "        vertical-align: top;\n",
       "    }\n",
       "\n",
       "    .dataframe thead th {\n",
       "        text-align: right;\n",
       "    }\n",
       "</style>\n",
       "<table border=\"1\" class=\"dataframe\">\n",
       "  <thead>\n",
       "    <tr style=\"text-align: right;\">\n",
       "      <th></th>\n",
       "      <th>year</th>\n",
       "      <th>quarter</th>\n",
       "      <th>sentiment</th>\n",
       "      <th>gdp_growth</th>\n",
       "    </tr>\n",
       "  </thead>\n",
       "  <tbody>\n",
       "    <tr>\n",
       "      <th>0</th>\n",
       "      <td>1997</td>\n",
       "      <td>2</td>\n",
       "      <td>0.304348</td>\n",
       "      <td>1.2</td>\n",
       "    </tr>\n",
       "    <tr>\n",
       "      <th>1</th>\n",
       "      <td>1997</td>\n",
       "      <td>3</td>\n",
       "      <td>0.476923</td>\n",
       "      <td>0.6</td>\n",
       "    </tr>\n",
       "    <tr>\n",
       "      <th>2</th>\n",
       "      <td>1997</td>\n",
       "      <td>4</td>\n",
       "      <td>0.452888</td>\n",
       "      <td>1.3</td>\n",
       "    </tr>\n",
       "    <tr>\n",
       "      <th>3</th>\n",
       "      <td>1998</td>\n",
       "      <td>1</td>\n",
       "      <td>0.365979</td>\n",
       "      <td>0.6</td>\n",
       "    </tr>\n",
       "    <tr>\n",
       "      <th>4</th>\n",
       "      <td>1998</td>\n",
       "      <td>2</td>\n",
       "      <td>0.292683</td>\n",
       "      <td>0.6</td>\n",
       "    </tr>\n",
       "  </tbody>\n",
       "</table>\n",
       "</div>"
      ],
      "text/plain": [
       "   year  quarter  sentiment  gdp_growth\n",
       "0  1997        2   0.304348         1.2\n",
       "1  1997        3   0.476923         0.6\n",
       "2  1997        4   0.452888         1.3\n",
       "3  1998        1   0.365979         0.6\n",
       "4  1998        2   0.292683         0.6"
      ]
     },
     "execution_count": 53,
     "metadata": {},
     "output_type": "execute_result"
    }
   ],
   "source": [
    "gdp_df = pd.read_csv(data_path + 'gdp_sentiment.csv', index_col='Unnamed: 0')\n",
    "gdp_df.head()"
   ]
  },
  {
   "cell_type": "code",
   "execution_count": 54,
   "metadata": {
    "colab": {
     "base_uri": "https://localhost:8080/",
     "height": 203
    },
    "id": "NYjVsNUhdut9",
    "outputId": "bbd0904b-9e31-411b-b8e6-f9a5bd6bf850"
   },
   "outputs": [
    {
     "data": {
      "text/html": [
       "<div>\n",
       "<style scoped>\n",
       "    .dataframe tbody tr th:only-of-type {\n",
       "        vertical-align: middle;\n",
       "    }\n",
       "\n",
       "    .dataframe tbody tr th {\n",
       "        vertical-align: top;\n",
       "    }\n",
       "\n",
       "    .dataframe thead th {\n",
       "        text-align: right;\n",
       "    }\n",
       "</style>\n",
       "<table border=\"1\" class=\"dataframe\">\n",
       "  <thead>\n",
       "    <tr style=\"text-align: right;\">\n",
       "      <th></th>\n",
       "      <th>year</th>\n",
       "      <th>quarter</th>\n",
       "      <th>sentiment_enhanced</th>\n",
       "      <th>sentiment</th>\n",
       "      <th>gdp_growth</th>\n",
       "    </tr>\n",
       "  </thead>\n",
       "  <tbody>\n",
       "    <tr>\n",
       "      <th>0</th>\n",
       "      <td>1997</td>\n",
       "      <td>2</td>\n",
       "      <td>0.217391</td>\n",
       "      <td>0.304348</td>\n",
       "      <td>1.2</td>\n",
       "    </tr>\n",
       "    <tr>\n",
       "      <th>1</th>\n",
       "      <td>1997</td>\n",
       "      <td>3</td>\n",
       "      <td>0.449704</td>\n",
       "      <td>0.476923</td>\n",
       "      <td>0.6</td>\n",
       "    </tr>\n",
       "    <tr>\n",
       "      <th>2</th>\n",
       "      <td>1997</td>\n",
       "      <td>4</td>\n",
       "      <td>0.366947</td>\n",
       "      <td>0.452888</td>\n",
       "      <td>1.3</td>\n",
       "    </tr>\n",
       "    <tr>\n",
       "      <th>3</th>\n",
       "      <td>1998</td>\n",
       "      <td>1</td>\n",
       "      <td>0.239437</td>\n",
       "      <td>0.365979</td>\n",
       "      <td>0.6</td>\n",
       "    </tr>\n",
       "    <tr>\n",
       "      <th>4</th>\n",
       "      <td>1998</td>\n",
       "      <td>2</td>\n",
       "      <td>0.153846</td>\n",
       "      <td>0.292683</td>\n",
       "      <td>0.6</td>\n",
       "    </tr>\n",
       "  </tbody>\n",
       "</table>\n",
       "</div>"
      ],
      "text/plain": [
       "   year  quarter  sentiment_enhanced  sentiment  gdp_growth\n",
       "0  1997        2            0.217391   0.304348         1.2\n",
       "1  1997        3            0.449704   0.476923         0.6\n",
       "2  1997        4            0.366947   0.452888         1.3\n",
       "3  1998        1            0.239437   0.365979         0.6\n",
       "4  1998        2            0.153846   0.292683         0.6"
      ]
     },
     "execution_count": 54,
     "metadata": {},
     "output_type": "execute_result"
    }
   ],
   "source": [
    "# merge to gdp data\n",
    "df = data_agg.merge(gdp_df, how='left', on=['year', 'quarter']).copy()\n",
    "# df = df[['sentiment', 'gdp_growth']]\n",
    "df.head()"
   ]
  },
  {
   "cell_type": "markdown",
   "metadata": {},
   "source": [
    "Looking at correlations, we see that the new sentiment index is slightly more correlated with GDP than our initial measure."
   ]
  },
  {
   "cell_type": "code",
   "execution_count": 55,
   "metadata": {
    "colab": {
     "base_uri": "https://localhost:8080/"
    },
    "id": "PCmxFbZydut9",
    "outputId": "d89f7444-650e-4cb6-b25b-318e69bba1ae"
   },
   "outputs": [
    {
     "name": "stdout",
     "output_type": "stream",
     "text": [
      "                    gdp_growth  sentiment  sentiment_enhanced\n",
      "gdp_growth            1.000000   0.286951            0.330013\n",
      "sentiment             0.286951   1.000000            0.965835\n",
      "sentiment_enhanced    0.330013   0.965835            1.000000\n"
     ]
    }
   ],
   "source": [
    "print(df[['gdp_growth', 'sentiment', 'sentiment_enhanced']].corr())"
   ]
  },
  {
   "cell_type": "markdown",
   "metadata": {},
   "source": [
    "Below we plot standardized series for growth and sentiment."
   ]
  },
  {
   "cell_type": "code",
   "execution_count": 56,
   "metadata": {},
   "outputs": [
    {
     "data": {
      "image/png": "[encoded data removed]",
      "text/plain": [
       "<Figure size 432x288 with 1 Axes>"
      ]
     },
     "metadata": {
      "needs_background": "light"
     },
     "output_type": "display_data"
    }
   ],
   "source": [
    "scaler = StandardScaler()\n",
    "ticks = np.arange(0, df.shape[0], 5)\n",
    "labs = np.array([str(x)+'Q'+str(y) for x,y in zip(df['year'],df['quarter'])])\n",
    "labs = labs[ticks]\n",
    "\n",
    "fig, ax = plt.subplots()\n",
    "ax.plot(scaler.fit_transform(df.gdp_growth.values.reshape(-1, 1)).flatten(), \n",
    "        label='GDP', c='green', alpha=0.8)\n",
    "ax.plot(scaler.fit_transform(df.sentiment.values.reshape(-1, 1)).flatten(), \n",
    "        label='sentiment', linestyle='dashed', c='black')\n",
    "ax.plot(scaler.fit_transform(df.sentiment_enhanced.values.reshape(-1, 1)).flatten(), \n",
    "        label='sentiment_enhanced', linestyle='dashed', c='red')\n",
    "\n",
    "\n",
    "ax.set_xticks(ticks)\n",
    "ax.set_xticklabels(labs, rotation=60)\n",
    "ax.legend()\n",
    "\n",
    "plt.show()"
   ]
  },
  {
   "cell_type": "markdown",
   "metadata": {},
   "source": [
    "# 4. Preprocessing with standard packages"
   ]
  },
  {
   "cell_type": "markdown",
   "metadata": {},
   "source": [
    "We have built the ```RawDocs``` class making use of renowned packages commonly employed for performing text preprocessing in Python. We believe this class is a user-friendly tool for approaching text preprocessing, that allows as well for flexibility and customisation.\n",
    "\n",
    "On the other hand, we deem it important to familiarise with the standard methods and packages the class is built upon. To this end, we will go through a simplified version of the preprocessing steps we have performed above, making use of standard packages only. We will compute again the sentiment index and see that in our simple example we obtain aligned results."
   ]
  },
  {
   "cell_type": "code",
   "execution_count": 57,
   "metadata": {},
   "outputs": [],
   "source": [
    "# lower case via the lower() built-in method\n",
    "docs = [s.lower() for s in data.minutes]"
   ]
  },
  {
   "cell_type": "code",
   "execution_count": 58,
   "metadata": {},
   "outputs": [],
   "source": [
    "# split contractions with the contraction package\n",
    "docs = list(map(lambda x: contractions.fix(x), docs))"
   ]
  },
  {
   "cell_type": "code",
   "execution_count": 59,
   "metadata": {},
   "outputs": [],
   "source": [
    "# tokenize with the spaCy tokenizer\n",
    "def spacy_tokenizer_standard(sent):\n",
    "    sent = nlp_standard.tokenizer(sent)\n",
    "    tokens = [t.text for t in sent]\n",
    "    return tokens\n",
    "\n",
    "tokens = list(map(spacy_tokenizer_standard, docs))"
   ]
  },
  {
   "cell_type": "code",
   "execution_count": 60,
   "metadata": {},
   "outputs": [],
   "source": [
    "# remove non-ascii characters via unicodedata package\n",
    "def remove_non_ascii(tokens):\n",
    "    tokens = [unicodedata.normalize('NFKD', t).encode('ascii', 'ignore').decode('utf-8', 'ignore') \n",
    "                        for t in tokens]\n",
    "    return tokens\n",
    "\n",
    "tokens = list(map(remove_non_ascii, tokens))"
   ]
  },
  {
   "cell_type": "code",
   "execution_count": 61,
   "metadata": {},
   "outputs": [],
   "source": [
    "# remove short tokens via simple list comprehension\n",
    "def remove_short(tokens, length=2):\n",
    "    return [t for t in tokens if t != '' and len(t) > length] \n",
    "tokens = list(map(remove_short, tokens))"
   ]
  },
  {
   "cell_type": "code",
   "execution_count": 62,
   "metadata": {},
   "outputs": [],
   "source": [
    "# remove punctuation via regularised expressions\n",
    "def remove_punctuation(tokens, punctuation):            \n",
    "    regex = re.compile('[%s]' % re.escape(punctuation))\n",
    "    tokens = [regex.sub('', t) for t in tokens]\n",
    "    return tokens\n",
    "\n",
    "tokens = list(map(lambda x: remove_punctuation(x,punctuation), tokens))\n"
   ]
  },
  {
   "cell_type": "code",
   "execution_count": 63,
   "metadata": {},
   "outputs": [],
   "source": [
    "# remove stopwords via simple list comprehension\n",
    "def remove_stopwords(tokens, stopwords):\n",
    "    return [t for t in tokens if t not in stopwords]\n",
    "tokens = list(map(lambda x: \n",
    "                  remove_stopwords(x, stopwords=preprocess_data.stp_long),\n",
    "                  tokens))\n"
   ]
  },
  {
   "cell_type": "code",
   "execution_count": 64,
   "metadata": {},
   "outputs": [],
   "source": [
    "# stem via standard nltk Snowball Stemmer\n",
    "def stem(tokens):\n",
    "    return [stemmer.stem(t) if \"-\" not in t else t for t in tokens]\n",
    "\n",
    "stems = list(map(stem, tokens))"
   ]
  },
  {
   "cell_type": "code",
   "execution_count": 65,
   "metadata": {},
   "outputs": [],
   "source": [
    "# lemmatize with standard spaCy lemmatizer\n",
    "def lemmatize_sent(sent):\n",
    "    sent = ' '.join(sent)\n",
    "    doc = nlp_standard(sent)\n",
    "    lemmas = [token.lemma_ if token.lemma_ != '-PRON-' else token.text for token in doc]\n",
    "    return lemmas\n",
    "\n",
    "lemmas = list(map(lemmatize_sent, tokens))\n"
   ]
  },
  {
   "cell_type": "code",
   "execution_count": 66,
   "metadata": {},
   "outputs": [],
   "source": [
    "# vectorizer with sklearn vectorizer, that allows as well for dropping most/least frequent items\n",
    "def dummy(doc):\n",
    "    return doc\n",
    "vectorizer = TfidfVectorizer(use_idf=False, norm=None, \n",
    "                             min_df=3, tokenizer=dummy, preprocessor=dummy) \n",
    "df_matrix = vectorizer.fit_transform(stems).toarray()\n",
    "vocabulary = vectorizer.vocabulary_\n"
   ]
  },
  {
   "cell_type": "markdown",
   "metadata": {},
   "source": [
    "We can use the so-obtained stems to build the sentiment index as we did in the previous section, and compare with our previous metrics."
   ]
  },
  {
   "cell_type": "code",
   "execution_count": 67,
   "metadata": {
    "colab": {
     "base_uri": "https://localhost:8080/"
    },
    "id": "Z45P5mjCdut8",
    "outputId": "b4b78814-3c84-4524-83d8-f9cd2ac09549"
   },
   "outputs": [],
   "source": [
    "pos_ixs = [v for k,v in vocabulary.items() if k in pos_stems]\n",
    "neg_ixs = [v for k,v in vocabulary.items() if k in neg_stems]"
   ]
  },
  {
   "cell_type": "code",
   "execution_count": 68,
   "metadata": {
    "id": "wjdnGPfodut8"
   },
   "outputs": [],
   "source": [
    "pos_counts = np.take(df_matrix, pos_ixs, axis=1)\n",
    "pos_counts = pos_counts.sum(axis=1)\n",
    "\n",
    "neg_counts = np.take(df_matrix, neg_ixs, axis=1)\n",
    "neg_counts = neg_counts.sum(axis=1)"
   ]
  },
  {
   "cell_type": "code",
   "execution_count": 69,
   "metadata": {
    "id": "i8zc8HUtdut8"
   },
   "outputs": [],
   "source": [
    "data['pos_counts_standard'] = pos_counts\n",
    "data['neg_counts_standard'] = neg_counts"
   ]
  },
  {
   "cell_type": "code",
   "execution_count": 70,
   "metadata": {
    "colab": {
     "base_uri": "https://localhost:8080/",
     "height": 234
    },
    "id": "9Kzbj-lpdut8",
    "outputId": "415eb301-0407-4de7-a574-21547726255b"
   },
   "outputs": [
    {
     "data": {
      "text/html": [
       "<div>\n",
       "<style scoped>\n",
       "    .dataframe tbody tr th:only-of-type {\n",
       "        vertical-align: middle;\n",
       "    }\n",
       "\n",
       "    .dataframe tbody tr th {\n",
       "        vertical-align: top;\n",
       "    }\n",
       "\n",
       "    .dataframe thead th {\n",
       "        text-align: right;\n",
       "    }\n",
       "</style>\n",
       "<table border=\"1\" class=\"dataframe\">\n",
       "  <thead>\n",
       "    <tr style=\"text-align: right;\">\n",
       "      <th></th>\n",
       "      <th>year</th>\n",
       "      <th>quarter</th>\n",
       "      <th>length</th>\n",
       "      <th>pos_counts</th>\n",
       "      <th>neg_counts</th>\n",
       "      <th>pos_counts_standard</th>\n",
       "      <th>neg_counts_standard</th>\n",
       "    </tr>\n",
       "  </thead>\n",
       "  <tbody>\n",
       "    <tr>\n",
       "      <th>0</th>\n",
       "      <td>1997</td>\n",
       "      <td>2</td>\n",
       "      <td>3464</td>\n",
       "      <td>28.0</td>\n",
       "      <td>18.0</td>\n",
       "      <td>28.0</td>\n",
       "      <td>18.0</td>\n",
       "    </tr>\n",
       "    <tr>\n",
       "      <th>1</th>\n",
       "      <td>1997</td>\n",
       "      <td>3</td>\n",
       "      <td>19016</td>\n",
       "      <td>245.0</td>\n",
       "      <td>93.0</td>\n",
       "      <td>246.0</td>\n",
       "      <td>95.0</td>\n",
       "    </tr>\n",
       "    <tr>\n",
       "      <th>2</th>\n",
       "      <td>1997</td>\n",
       "      <td>4</td>\n",
       "      <td>21023</td>\n",
       "      <td>244.0</td>\n",
       "      <td>113.0</td>\n",
       "      <td>244.0</td>\n",
       "      <td>116.0</td>\n",
       "    </tr>\n",
       "    <tr>\n",
       "      <th>3</th>\n",
       "      <td>1998</td>\n",
       "      <td>1</td>\n",
       "      <td>25790</td>\n",
       "      <td>264.0</td>\n",
       "      <td>162.0</td>\n",
       "      <td>267.0</td>\n",
       "      <td>166.0</td>\n",
       "    </tr>\n",
       "    <tr>\n",
       "      <th>4</th>\n",
       "      <td>1998</td>\n",
       "      <td>2</td>\n",
       "      <td>29387</td>\n",
       "      <td>255.0</td>\n",
       "      <td>187.0</td>\n",
       "      <td>258.0</td>\n",
       "      <td>192.0</td>\n",
       "    </tr>\n",
       "  </tbody>\n",
       "</table>\n",
       "</div>"
      ],
      "text/plain": [
       "   year  quarter  length  pos_counts  neg_counts  pos_counts_standard  \\\n",
       "0  1997        2    3464        28.0        18.0                 28.0   \n",
       "1  1997        3   19016       245.0        93.0                246.0   \n",
       "2  1997        4   21023       244.0       113.0                244.0   \n",
       "3  1998        1   25790       264.0       162.0                267.0   \n",
       "4  1998        2   29387       255.0       187.0                258.0   \n",
       "\n",
       "   neg_counts_standard  \n",
       "0                 18.0  \n",
       "1                 95.0  \n",
       "2                116.0  \n",
       "3                166.0  \n",
       "4                192.0  "
      ]
     },
     "execution_count": 70,
     "metadata": {},
     "output_type": "execute_result"
    }
   ],
   "source": [
    "# aggregate to year-quarter level\n",
    "data_agg = data.groupby(['year', 'quarter']).sum().reset_index()\n",
    "data_agg.head()"
   ]
  },
  {
   "cell_type": "code",
   "execution_count": 71,
   "metadata": {
    "colab": {
     "base_uri": "https://localhost:8080/",
     "height": 234
    },
    "id": "ArVt_Xdpdut8",
    "outputId": "225722b4-091e-48e3-95f6-2a2b32ff6950"
   },
   "outputs": [
    {
     "data": {
      "text/html": [
       "<div>\n",
       "<style scoped>\n",
       "    .dataframe tbody tr th:only-of-type {\n",
       "        vertical-align: middle;\n",
       "    }\n",
       "\n",
       "    .dataframe tbody tr th {\n",
       "        vertical-align: top;\n",
       "    }\n",
       "\n",
       "    .dataframe thead th {\n",
       "        text-align: right;\n",
       "    }\n",
       "</style>\n",
       "<table border=\"1\" class=\"dataframe\">\n",
       "  <thead>\n",
       "    <tr style=\"text-align: right;\">\n",
       "      <th></th>\n",
       "      <th>year</th>\n",
       "      <th>quarter</th>\n",
       "      <th>sentiment_enhanced</th>\n",
       "      <th>sentiment_enhanced_standard</th>\n",
       "    </tr>\n",
       "  </thead>\n",
       "  <tbody>\n",
       "    <tr>\n",
       "      <th>0</th>\n",
       "      <td>1997</td>\n",
       "      <td>2</td>\n",
       "      <td>0.217391</td>\n",
       "      <td>0.217391</td>\n",
       "    </tr>\n",
       "    <tr>\n",
       "      <th>1</th>\n",
       "      <td>1997</td>\n",
       "      <td>3</td>\n",
       "      <td>0.449704</td>\n",
       "      <td>0.442815</td>\n",
       "    </tr>\n",
       "    <tr>\n",
       "      <th>2</th>\n",
       "      <td>1997</td>\n",
       "      <td>4</td>\n",
       "      <td>0.366947</td>\n",
       "      <td>0.355556</td>\n",
       "    </tr>\n",
       "    <tr>\n",
       "      <th>3</th>\n",
       "      <td>1998</td>\n",
       "      <td>1</td>\n",
       "      <td>0.239437</td>\n",
       "      <td>0.233256</td>\n",
       "    </tr>\n",
       "    <tr>\n",
       "      <th>4</th>\n",
       "      <td>1998</td>\n",
       "      <td>2</td>\n",
       "      <td>0.153846</td>\n",
       "      <td>0.146667</td>\n",
       "    </tr>\n",
       "  </tbody>\n",
       "</table>\n",
       "</div>"
      ],
      "text/plain": [
       "   year  quarter  sentiment_enhanced  sentiment_enhanced_standard\n",
       "0  1997        2            0.217391                     0.217391\n",
       "1  1997        3            0.449704                     0.442815\n",
       "2  1997        4            0.366947                     0.355556\n",
       "3  1998        1            0.239437                     0.233256\n",
       "4  1998        2            0.153846                     0.146667"
      ]
     },
     "execution_count": 71,
     "metadata": {},
     "output_type": "execute_result"
    }
   ],
   "source": [
    "# compute sentiment at year-quarter level\n",
    "data_agg['sentiment_enhanced'] = (data_agg.pos_counts - data_agg.neg_counts)/(data_agg.pos_counts + data_agg.neg_counts)\n",
    "data_agg['sentiment_enhanced_standard'] = (data_agg.pos_counts_standard - data_agg.neg_counts_standard)/(data_agg.pos_counts_standard + data_agg.neg_counts_standard)\n",
    "\n",
    "data_agg = data_agg[['year', 'quarter', 'sentiment_enhanced', 'sentiment_enhanced_standard']].copy()\n",
    "data_agg.head()"
   ]
  },
  {
   "cell_type": "code",
   "execution_count": 72,
   "metadata": {
    "colab": {
     "base_uri": "https://localhost:8080/",
     "height": 203
    },
    "id": "NYjVsNUhdut9",
    "outputId": "bbd0904b-9e31-411b-b8e6-f9a5bd6bf850"
   },
   "outputs": [],
   "source": [
    "# merge to gdp data\n",
    "df = data_agg.merge(gdp_df, how='left', on=['year', 'quarter']).copy()"
   ]
  },
  {
   "cell_type": "markdown",
   "metadata": {},
   "source": [
    "Looking at correlations, we see that the new sentiment index shows a correlation with GDP which is only slightly lower than the one obtained via the RawDocs class."
   ]
  },
  {
   "cell_type": "code",
   "execution_count": 73,
   "metadata": {
    "colab": {
     "base_uri": "https://localhost:8080/"
    },
    "id": "PCmxFbZydut9",
    "outputId": "d89f7444-650e-4cb6-b25b-318e69bba1ae"
   },
   "outputs": [
    {
     "name": "stdout",
     "output_type": "stream",
     "text": [
      "                             gdp_growth  sentiment  sentiment_enhanced  \\\n",
      "gdp_growth                     1.000000   0.286951            0.330013   \n",
      "sentiment                      0.286951   1.000000            0.965835   \n",
      "sentiment_enhanced             0.330013   0.965835            1.000000   \n",
      "sentiment_enhanced_standard    0.329447   0.967381            0.999133   \n",
      "\n",
      "                             sentiment_enhanced_standard  \n",
      "gdp_growth                                      0.329447  \n",
      "sentiment                                       0.967381  \n",
      "sentiment_enhanced                              0.999133  \n",
      "sentiment_enhanced_standard                     1.000000  \n"
     ]
    }
   ],
   "source": [
    "print(df[['gdp_growth', 'sentiment', 'sentiment_enhanced', 'sentiment_enhanced_standard']].corr())"
   ]
  },
  {
   "cell_type": "markdown",
   "metadata": {},
   "source": [
    "Below we plot standardized series for growth and sentiment metrics."
   ]
  },
  {
   "cell_type": "code",
   "execution_count": 74,
   "metadata": {},
   "outputs": [
    {
     "data": {
      "image/png": "[encoded data removed]",
      "text/plain": [
       "<Figure size 432x288 with 1 Axes>"
      ]
     },
     "metadata": {
      "needs_background": "light"
     },
     "output_type": "display_data"
    }
   ],
   "source": [
    "scaler = StandardScaler()\n",
    "ticks = np.arange(0, df.shape[0], 5)\n",
    "labs = np.array([str(x)+'Q'+str(y) for x,y in zip(df['year'],df['quarter'])])\n",
    "labs = labs[ticks]\n",
    "\n",
    "fig, ax = plt.subplots()\n",
    "ax.plot(scaler.fit_transform(df.gdp_growth.values.reshape(-1, 1)).flatten(), \n",
    "        label='GDP', c='green', alpha=0.8)\n",
    "ax.plot(scaler.fit_transform(df.sentiment.values.reshape(-1, 1)).flatten(), \n",
    "        label='sentiment', linestyle='dashed', c='black')\n",
    "ax.plot(scaler.fit_transform(df.sentiment_enhanced.values.reshape(-1, 1)).flatten(), \n",
    "        label='sentiment_enhanced', linestyle='dashed', c='red')\n",
    "ax.plot(scaler.fit_transform(df.sentiment_enhanced_standard.values.reshape(-1, 1)).flatten(), \n",
    "        label='sentiment_enhanced_standard', linestyle='dashed', c='#0099ff', alpha=0.9)\n",
    "\n",
    "\n",
    "ax.set_xticks(ticks)\n",
    "ax.set_xticklabels(labs, rotation=60)\n",
    "ax.legend()\n",
    "\n",
    "plt.show()"
   ]
  }
 ],
 "metadata": {
  "colab": {
   "name": "preprocessing_notebook.ipynb",
   "provenance": []
  },
  "kernelspec": {
   "display_name": "Python 3",
   "language": "python",
   "name": "python3"
  },
  "language_info": {
   "codemirror_mode": {
    "name": "ipython",
    "version": 3
   },
   "file_extension": ".py",
   "mimetype": "text/x-python",
   "name": "python",
   "nbconvert_exporter": "python",
   "pygments_lexer": "ipython3",
   "version": "3.8.3"
  },
  "metadata": {
   "interpreter": {
    "hash": "aee8b7b246df8f9039afb4144a1f6fd8d2ca17a180786b69acc140d282b71a49"
   }
  },
  "toc": {
   "base_numbering": 1,
   "nav_menu": {},
   "number_sections": false,
   "sideBar": true,
   "skip_h1_title": false,
   "title_cell": "Table of Contents",
   "title_sidebar": "Contents",
   "toc_cell": false,
   "toc_position": {},
   "toc_section_display": true,
   "toc_window_display": false
  }
 },
 "nbformat": 4,
 "nbformat_minor": 1
}
