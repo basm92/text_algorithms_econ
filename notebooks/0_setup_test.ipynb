{
  "nbformat": 4,
  "nbformat_minor": 0,
  "metadata": {
    "colab": {
      "name": "setup_test.ipynb",
      "provenance": [],
      "collapsed_sections": []
    },
    "kernelspec": {
      "name": "python3",
      "display_name": "Python 3"
    },
    "language_info": {
      "name": "python"
    }
  },
  "cells": [
    {
      "cell_type": "markdown",
      "metadata": {
        "id": "0qvJldg9FMG6"
      },
      "source": [
        "# Setup"
      ]
    },
    {
      "cell_type": "code",
      "source": [
        "# Instructions for Colab: \n",
        "# 1. First CHANGE RUNTIME TYPE to GPU \n",
        "# 2. Then run install commands commented out below\n",
        "# 3. You might need to RESTART RUNTIME\n",
        "# 4. Run git clone command to the get files from the public repository\n",
        "# 5. Run the rest of the cells below"
      ],
      "metadata": {
        "id": "FrWckfCZC7ud"
      },
      "execution_count": null,
      "outputs": []
    },
    {
      "cell_type": "code",
      "execution_count": null,
      "metadata": {
        "colab": {
          "base_uri": "https://localhost:8080/"
        },
        "outputId": "dd85301f-4c91-47c6-d6c6-5204cdcc548f",
        "id": "ljkoTFA-HSXe"
      },
      "outputs": [
        {
          "output_type": "stream",
          "name": "stdout",
          "text": [
            "Looking in indexes: https://pypi.org/simple, https://us-python.pkg.dev/colab-wheels/public/simple/\n",
            "Collecting contractions\n",
            "  Downloading contractions-0.1.72-py2.py3-none-any.whl (8.3 kB)\n",
            "Collecting flashtext\n",
            "  Downloading flashtext-2.7.tar.gz (14 kB)\n",
            "Collecting textsearch>=0.0.21\n",
            "  Downloading textsearch-0.0.21-py2.py3-none-any.whl (7.5 kB)\n",
            "Collecting anyascii\n",
            "  Downloading anyascii-0.3.1-py3-none-any.whl (287 kB)\n",
            "\u001b[K     |████████████████████████████████| 287 kB 13.9 MB/s \n",
            "\u001b[?25hCollecting pyahocorasick\n",
            "  Downloading pyahocorasick-1.4.4-cp37-cp37m-manylinux_2_17_x86_64.manylinux2014_x86_64.whl (106 kB)\n",
            "\u001b[K     |████████████████████████████████| 106 kB 57.4 MB/s \n",
            "\u001b[?25hBuilding wheels for collected packages: flashtext\n",
            "  Building wheel for flashtext (setup.py) ... \u001b[?25l\u001b[?25hdone\n",
            "  Created wheel for flashtext: filename=flashtext-2.7-py2.py3-none-any.whl size=9309 sha256=94f1802e9cff8db981c78514d28edd2a1b071a2211e0b20c9cdf1742d05ea2ab\n",
            "  Stored in directory: /root/.cache/pip/wheels/cb/19/58/4e8fdd0009a7f89dbce3c18fff2e0d0fa201d5cdfd16f113b7\n",
            "Successfully built flashtext\n",
            "Installing collected packages: pyahocorasick, anyascii, textsearch, flashtext, contractions\n",
            "Successfully installed anyascii-0.3.1 contractions-0.1.72 flashtext-2.7 pyahocorasick-1.4.4 textsearch-0.0.21\n"
          ]
        }
      ],
      "source": [
        "# install required libraries\n",
        "!pip3 install contractions flashtext"
      ]
    },
    {
      "cell_type": "code",
      "metadata": {
        "id": "fbd338d1-11bc-4cc7-a173-4ecf5920ddc3"
      },
      "source": [
        "# (COLAB) you might need to restart RUNTIME after installing packages!"
      ],
      "execution_count": null,
      "outputs": []
    },
    {
      "cell_type": "code",
      "metadata": {
        "id": "547399b5-1e4f-4c55-b703-530dd83ffd75",
        "colab": {
          "base_uri": "https://localhost:8080/"
        },
        "outputId": "ff64d453-ac77-4c99-f37b-b78b97705097"
      },
      "source": [
        "# (COLAB) clone the public Github repository\n",
        "!git clone https://github.com/yabramuvdi/pymodules-test.git"
      ],
      "execution_count": null,
      "outputs": [
        {
          "output_type": "stream",
          "name": "stdout",
          "text": [
            "Cloning into 'pymodules-test'...\n",
            "remote: Enumerating objects: 11, done.\u001b[K\n",
            "remote: Counting objects: 100% (11/11), done.\u001b[K\n",
            "remote: Compressing objects: 100% (9/9), done.\u001b[K\n",
            "remote: Total 11 (delta 1), reused 11 (delta 1), pack-reused 0\u001b[K\n",
            "Unpacking objects: 100% (11/11), done.\n"
          ]
        }
      ]
    },
    {
      "cell_type": "code",
      "execution_count": null,
      "metadata": {
        "colab": {
          "base_uri": "https://localhost:8080/"
        },
        "outputId": "bbb498ff-fe38-4f67-f072-6772580c5314",
        "id": "ClNKBOSqHSXg"
      },
      "outputs": [
        {
          "output_type": "stream",
          "name": "stdout",
          "text": [
            "GPU: False\n"
          ]
        }
      ],
      "source": [
        "import sys\n",
        "import pandas as pd\n",
        "import numpy as np\n",
        "import gdown\n",
        "import torch\n",
        "\n",
        "# test GPU\n",
        "print(f\"GPU: {torch.cuda.is_available()}\")"
      ]
    },
    {
      "cell_type": "code",
      "source": [
        "# define paths and seed\n",
        "seed = 92\n",
        "data_path = \"./\"\n",
        "pymodules_path = \"./pymodules-test/pymodules/\"  # for COLAB\n",
        "#pymodules_path = \"../pymodules/\"  # for local repository"
      ],
      "metadata": {
        "id": "TViukr2yiXyp"
      },
      "execution_count": null,
      "outputs": []
    },
    {
      "cell_type": "code",
      "source": [
        "# import our own code\n",
        "sys.path.append(pymodules_path)\n",
        "import preprocessing_class as pc"
      ],
      "metadata": {
        "id": "8tJWYC52igmw"
      },
      "execution_count": null,
      "outputs": []
    },
    {
      "cell_type": "code",
      "source": [
        "# define dictionary with paths to data in Google Drive\n",
        "data_url_dict = {\"10k_sent_2019\":        (\"https://drive.google.com/uc?id=17PQbZ6EotMxyhpt2Laqqh9z-EKUbwDhX\", \"parquet\"),\n",
        "                 \"covariates_2019\":      (\"https://drive.google.com/uc?id=1ELRq69FOiFvNpSvXOijGeGKZB5DiNXt4\", \"csv\"),\n",
        "                 \"naics2_codes\":         (\"https://drive.google.com/uc?id=1H4bFNVbEbhxQotoxsM3yf-JrtgKGXG0k\", \"csv\")\n",
        "                  }"
      ],
      "metadata": {
        "id": "1ASFG1hzHeUP"
      },
      "execution_count": null,
      "outputs": []
    },
    {
      "cell_type": "code",
      "source": [
        "# download each file in the dictionary\n",
        "for file_name, attributes in data_url_dict.items():\n",
        "  url = attributes[0]\n",
        "  extension = attributes[1]\n",
        "  gdown.download(url, f\"{data_path}{file_name}.{extension}\", quiet=False) "
      ],
      "metadata": {
        "colab": {
          "base_uri": "https://localhost:8080/"
        },
        "id": "VeM3yIZFICcl",
        "outputId": "974df8f9-7431-4025-df9d-af95b3c287fe"
      },
      "execution_count": null,
      "outputs": [
        {
          "output_type": "stream",
          "name": "stderr",
          "text": [
            "Downloading...\n",
            "From: https://drive.google.com/uc?id=17PQbZ6EotMxyhpt2Laqqh9z-EKUbwDhX\n",
            "To: /content/10k_sent_2019.parquet\n",
            "100%|██████████| 162M/162M [00:00<00:00, 236MB/s]\n",
            "Downloading...\n",
            "From: https://drive.google.com/uc?id=1ELRq69FOiFvNpSvXOijGeGKZB5DiNXt4\n",
            "To: /content/covariates_2019.csv\n",
            "100%|██████████| 428k/428k [00:00<00:00, 104MB/s]\n",
            "Downloading...\n",
            "From: https://drive.google.com/uc?id=1H4bFNVbEbhxQotoxsM3yf-JrtgKGXG0k\n",
            "To: /content/naics2_codes.csv\n",
            "100%|██████████| 868/868 [00:00<00:00, 2.89MB/s]\n"
          ]
        }
      ]
    },
    {
      "cell_type": "code",
      "source": [
        "# load data\n",
        "df = pd.read_parquet(data_path + \"10k_sent_2019.parquet\")\n",
        "df"
      ],
      "metadata": {
        "id": "P517IgFpOZq-",
        "colab": {
          "base_uri": "https://localhost:8080/",
          "height": 424
        },
        "outputId": "b883d416-a73d-457d-80ff-c1771aee2a08"
      },
      "execution_count": null,
      "outputs": [
        {
          "output_type": "execute_result",
          "data": {
            "text/plain": [
              "                                                 sentences      cik  year  \\\n",
              "0        You should carefully review the following disc...  1065088  2019   \n",
              "1        Risk Factors That May Affect our Business, Res...  1065088  2019   \n",
              "2        Our operating and financial results are subjec...  1065088  2019   \n",
              "3        Our operating and financial results have varie...  1065088  2019   \n",
              "4        It is difficult for us to forecast the level o...  1065088  2019   \n",
              "...                                                    ...      ...   ...   \n",
              "1744126                                                     1069533  2019   \n",
              "1744127  The Company is generally isolated from commodi...  1069533  2019   \n",
              "1744128                                                     1069533  2019   \n",
              "1744129  With respect to interest rate risk, the Compan...  1069533  2019   \n",
              "1744130  However, increases in interest rates could adv...  1069533  2019   \n",
              "\n",
              "         sent_no      sent_id  \n",
              "0              0    1065088_0  \n",
              "1              1    1065088_1  \n",
              "2              2    1065088_2  \n",
              "3              3    1065088_3  \n",
              "4              4    1065088_4  \n",
              "...          ...          ...  \n",
              "1744126      189  1069533_189  \n",
              "1744127      190  1069533_190  \n",
              "1744128      191  1069533_191  \n",
              "1744129      192  1069533_192  \n",
              "1744130      193  1069533_193  \n",
              "\n",
              "[1744131 rows x 5 columns]"
            ],
            "text/html": [
              "\n",
              "  <div id=\"df-661960ad-2028-411d-9ce7-e3b996e1ff71\">\n",
              "    <div class=\"colab-df-container\">\n",
              "      <div>\n",
              "<style scoped>\n",
              "    .dataframe tbody tr th:only-of-type {\n",
              "        vertical-align: middle;\n",
              "    }\n",
              "\n",
              "    .dataframe tbody tr th {\n",
              "        vertical-align: top;\n",
              "    }\n",
              "\n",
              "    .dataframe thead th {\n",
              "        text-align: right;\n",
              "    }\n",
              "</style>\n",
              "<table border=\"1\" class=\"dataframe\">\n",
              "  <thead>\n",
              "    <tr style=\"text-align: right;\">\n",
              "      <th></th>\n",
              "      <th>sentences</th>\n",
              "      <th>cik</th>\n",
              "      <th>year</th>\n",
              "      <th>sent_no</th>\n",
              "      <th>sent_id</th>\n",
              "    </tr>\n",
              "  </thead>\n",
              "  <tbody>\n",
              "    <tr>\n",
              "      <th>0</th>\n",
              "      <td>You should carefully review the following disc...</td>\n",
              "      <td>1065088</td>\n",
              "      <td>2019</td>\n",
              "      <td>0</td>\n",
              "      <td>1065088_0</td>\n",
              "    </tr>\n",
              "    <tr>\n",
              "      <th>1</th>\n",
              "      <td>Risk Factors That May Affect our Business, Res...</td>\n",
              "      <td>1065088</td>\n",
              "      <td>2019</td>\n",
              "      <td>1</td>\n",
              "      <td>1065088_1</td>\n",
              "    </tr>\n",
              "    <tr>\n",
              "      <th>2</th>\n",
              "      <td>Our operating and financial results are subjec...</td>\n",
              "      <td>1065088</td>\n",
              "      <td>2019</td>\n",
              "      <td>2</td>\n",
              "      <td>1065088_2</td>\n",
              "    </tr>\n",
              "    <tr>\n",
              "      <th>3</th>\n",
              "      <td>Our operating and financial results have varie...</td>\n",
              "      <td>1065088</td>\n",
              "      <td>2019</td>\n",
              "      <td>3</td>\n",
              "      <td>1065088_3</td>\n",
              "    </tr>\n",
              "    <tr>\n",
              "      <th>4</th>\n",
              "      <td>It is difficult for us to forecast the level o...</td>\n",
              "      <td>1065088</td>\n",
              "      <td>2019</td>\n",
              "      <td>4</td>\n",
              "      <td>1065088_4</td>\n",
              "    </tr>\n",
              "    <tr>\n",
              "      <th>...</th>\n",
              "      <td>...</td>\n",
              "      <td>...</td>\n",
              "      <td>...</td>\n",
              "      <td>...</td>\n",
              "      <td>...</td>\n",
              "    </tr>\n",
              "    <tr>\n",
              "      <th>1744126</th>\n",
              "      <td></td>\n",
              "      <td>1069533</td>\n",
              "      <td>2019</td>\n",
              "      <td>189</td>\n",
              "      <td>1069533_189</td>\n",
              "    </tr>\n",
              "    <tr>\n",
              "      <th>1744127</th>\n",
              "      <td>The Company is generally isolated from commodi...</td>\n",
              "      <td>1069533</td>\n",
              "      <td>2019</td>\n",
              "      <td>190</td>\n",
              "      <td>1069533_190</td>\n",
              "    </tr>\n",
              "    <tr>\n",
              "      <th>1744128</th>\n",
              "      <td></td>\n",
              "      <td>1069533</td>\n",
              "      <td>2019</td>\n",
              "      <td>191</td>\n",
              "      <td>1069533_191</td>\n",
              "    </tr>\n",
              "    <tr>\n",
              "      <th>1744129</th>\n",
              "      <td>With respect to interest rate risk, the Compan...</td>\n",
              "      <td>1069533</td>\n",
              "      <td>2019</td>\n",
              "      <td>192</td>\n",
              "      <td>1069533_192</td>\n",
              "    </tr>\n",
              "    <tr>\n",
              "      <th>1744130</th>\n",
              "      <td>However, increases in interest rates could adv...</td>\n",
              "      <td>1069533</td>\n",
              "      <td>2019</td>\n",
              "      <td>193</td>\n",
              "      <td>1069533_193</td>\n",
              "    </tr>\n",
              "  </tbody>\n",
              "</table>\n",
              "<p>1744131 rows × 5 columns</p>\n",
              "</div>\n",
              "      <button class=\"colab-df-convert\" onclick=\"convertToInteractive('df-661960ad-2028-411d-9ce7-e3b996e1ff71')\"\n",
              "              title=\"Convert this dataframe to an interactive table.\"\n",
              "              style=\"display:none;\">\n",
              "        \n",
              "  <svg xmlns=\"http://www.w3.org/2000/svg\" height=\"24px\"viewBox=\"0 0 24 24\"\n",
              "       width=\"24px\">\n",
              "    <path d=\"M0 0h24v24H0V0z\" fill=\"none\"/>\n",
              "    <path d=\"M18.56 5.44l.94 2.06.94-2.06 2.06-.94-2.06-.94-.94-2.06-.94 2.06-2.06.94zm-11 1L8.5 8.5l.94-2.06 2.06-.94-2.06-.94L8.5 2.5l-.94 2.06-2.06.94zm10 10l.94 2.06.94-2.06 2.06-.94-2.06-.94-.94-2.06-.94 2.06-2.06.94z\"/><path d=\"M17.41 7.96l-1.37-1.37c-.4-.4-.92-.59-1.43-.59-.52 0-1.04.2-1.43.59L10.3 9.45l-7.72 7.72c-.78.78-.78 2.05 0 2.83L4 21.41c.39.39.9.59 1.41.59.51 0 1.02-.2 1.41-.59l7.78-7.78 2.81-2.81c.8-.78.8-2.07 0-2.86zM5.41 20L4 18.59l7.72-7.72 1.47 1.35L5.41 20z\"/>\n",
              "  </svg>\n",
              "      </button>\n",
              "      \n",
              "  <style>\n",
              "    .colab-df-container {\n",
              "      display:flex;\n",
              "      flex-wrap:wrap;\n",
              "      gap: 12px;\n",
              "    }\n",
              "\n",
              "    .colab-df-convert {\n",
              "      background-color: #E8F0FE;\n",
              "      border: none;\n",
              "      border-radius: 50%;\n",
              "      cursor: pointer;\n",
              "      display: none;\n",
              "      fill: #1967D2;\n",
              "      height: 32px;\n",
              "      padding: 0 0 0 0;\n",
              "      width: 32px;\n",
              "    }\n",
              "\n",
              "    .colab-df-convert:hover {\n",
              "      background-color: #E2EBFA;\n",
              "      box-shadow: 0px 1px 2px rgba(60, 64, 67, 0.3), 0px 1px 3px 1px rgba(60, 64, 67, 0.15);\n",
              "      fill: #174EA6;\n",
              "    }\n",
              "\n",
              "    [theme=dark] .colab-df-convert {\n",
              "      background-color: #3B4455;\n",
              "      fill: #D2E3FC;\n",
              "    }\n",
              "\n",
              "    [theme=dark] .colab-df-convert:hover {\n",
              "      background-color: #434B5C;\n",
              "      box-shadow: 0px 1px 3px 1px rgba(0, 0, 0, 0.15);\n",
              "      filter: drop-shadow(0px 1px 2px rgba(0, 0, 0, 0.3));\n",
              "      fill: #FFFFFF;\n",
              "    }\n",
              "  </style>\n",
              "\n",
              "      <script>\n",
              "        const buttonEl =\n",
              "          document.querySelector('#df-661960ad-2028-411d-9ce7-e3b996e1ff71 button.colab-df-convert');\n",
              "        buttonEl.style.display =\n",
              "          google.colab.kernel.accessAllowed ? 'block' : 'none';\n",
              "\n",
              "        async function convertToInteractive(key) {\n",
              "          const element = document.querySelector('#df-661960ad-2028-411d-9ce7-e3b996e1ff71');\n",
              "          const dataTable =\n",
              "            await google.colab.kernel.invokeFunction('convertToInteractive',\n",
              "                                                     [key], {});\n",
              "          if (!dataTable) return;\n",
              "\n",
              "          const docLinkHtml = 'Like what you see? Visit the ' +\n",
              "            '<a target=\"_blank\" href=https://colab.research.google.com/notebooks/data_table.ipynb>data table notebook</a>'\n",
              "            + ' to learn more about interactive tables.';\n",
              "          element.innerHTML = '';\n",
              "          dataTable['output_type'] = 'display_data';\n",
              "          await google.colab.output.renderOutput(dataTable, element);\n",
              "          const docLink = document.createElement('div');\n",
              "          docLink.innerHTML = docLinkHtml;\n",
              "          element.appendChild(docLink);\n",
              "        }\n",
              "      </script>\n",
              "    </div>\n",
              "  </div>\n",
              "  "
            ]
          },
          "metadata": {},
          "execution_count": 8
        }
      ]
    }
  ]
}