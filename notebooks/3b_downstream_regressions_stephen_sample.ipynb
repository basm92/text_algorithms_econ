{
 "cells": [
  {
   "cell_type": "code",
   "execution_count": null,
   "metadata": {
    "id": "OO7_xdAZduto"
   },
   "outputs": [],
   "source": [
    "# Install necessary packages\n",
    "# !pip install gdown\n",
    "# !pip install gensim==3.8.3"
   ]
  },
  {
   "cell_type": "code",
   "execution_count": null,
   "metadata": {},
   "outputs": [],
   "source": [
    "# !pip install lda"
   ]
  },
  {
   "cell_type": "code",
   "execution_count": null,
   "metadata": {
    "id": "zzY5wHPIdutp"
   },
   "outputs": [],
   "source": [
    "# Restart RUNTIME after installing packages!"
   ]
  },
  {
   "cell_type": "code",
   "execution_count": 2,
   "metadata": {},
   "outputs": [],
   "source": [
    "import pandas as pd\n",
    "import numpy as np\n",
    "import gdown\n",
    "import matplotlib.pyplot as plt\n",
    "from sklearn.metrics.pairwise import cosine_similarity\n",
    "import statsmodels.api as sm\n",
    "import pickle"
   ]
  },
  {
   "cell_type": "code",
   "execution_count": 3,
   "metadata": {},
   "outputs": [],
   "source": [
    "import sys\n",
    "sys.path.append('../pymodules')"
   ]
  },
  {
   "cell_type": "code",
   "execution_count": 4,
   "metadata": {
    "id": "oYSA60vTZgJn"
   },
   "outputs": [],
   "source": [
    "# define paths and seed\n",
    "SEED = 92\n",
    "data_path = \"./\""
   ]
  },
  {
   "cell_type": "code",
   "execution_count": 4,
   "metadata": {
    "id": "1ASFG1hzHeUP"
   },
   "outputs": [],
   "source": [
    "# define dictionary with paths to data in Google Drive\n",
    "data_url_dict = {\"10K_vocab_2019_min25\": (\"https://drive.google.com/uc?id=1va-ob3C7UD0pYV4Z6WEhL2WMP7ynQJCH\", \"csv\"),\n",
    "                \"10K_dtmatrix_2019_min25\": (\"https://drive.google.com/uc?id=1c-lNSgaj3tKjnkpn_12ddCL3OP6IsXLT\", \"txt\"),\n",
    "                \"10K_raw_text_2019_min25\": (\"https://drive.google.com/uc?id=1T97btZK10417MNXGlx_ASFY0mzqpNtu9\", \"csv\"),\n",
    "                \"tic_cik_crosswalk\": (\"https://drive.google.com/uc?id=1YsbeWapKf_hvfP3qMo9-Xj-PFuH5R96o\", \"csv\"),\n",
    "                \"compustat\": (\"https://drive.google.com/uc?id=1M87hyFjG74DZy7LoGxc_eHjUgbZEtFif\", \"csv\"),\n",
    "                \"X_tfidf\": (\"https://drive.google.com/uc?id=1uYYDcL_1P9dB6HKqm726DZ3q02V21XA_\", \"npy\"),\n",
    "                \"X_tfidf_w2v_sg\": (\"https://drive.google.com/uc?id=1jqmSngcW6JA4ESyrjvQk9lheNspLZ6Sl\", \"npy\"),\n",
    "                \"X_tfidf_glove\": (\"https://drive.google.com/uc?id=14FO6USCeRLrJ1_Nfjgs23a3BBgSj_lZw\", \"npy\"),\n",
    "                \"X_NMF\": (\"https://drive.google.com/uc?id=1sROI2YFlGQU9CjHlUGek6zMwDLZxVDJv\", \"npy\"),\n",
    "                \"X_LSA\": (\"https://drive.google.com/uc?id=12tEYC8D1YdEMHh_U3UC3J9YlbUreqiRg\", \"npy\"),\n",
    "                \"X_lda\": (\"https://drive.google.com/uc?id=11AB4gSjmPD8z069TsczTYbEZ7t5pXHy-\", \"npy\"),\n",
    "                \"X_d2v\": (\"https://drive.google.com/uc?id=1inbsTzUlXo56zSR-LZdvodIWGZaDiNv0\", \"npy\"),\n",
    "                \"X_countvec\": (\"https://drive.google.com/uc?id=1M0O2GqEjPubQc906xRrG3NrF3ow2tN3X\", \"npy\"),\n",
    "                \"X_avgw2v\": (\"https://drive.google.com/uc?id=1Tz1JTccsWcOxW5HMwtfZ0Ii7JKMOe3-o\", \"npy\"),\n",
    "                \"X_avglove\": (\"https://drive.google.com/uc?id=1lv9qSazyLMpwyKAb-rXTknF4K0MSnMqr\", \"npy\"),\n",
    "                \"X_avglove_pretrained\": (\"https://drive.google.com/uc?id=1daFs4bRcchxk0Q54w4mcGUYh49VpmyHb\", \"npy\"),\n",
    "                \"matches_dict\": (\"https://drive.google.com/uc?id=1Th3aZBqbVAlTS7warTDuStrORD36Rvqw\", \"sav\"),\n",
    "                }"
   ]
  },
  {
   "cell_type": "code",
   "execution_count": 5,
   "metadata": {
    "colab": {
     "base_uri": "https://localhost:8080/"
    },
    "id": "VeM3yIZFICcl",
    "outputId": "30ee6514-5dbf-4535-e733-d1c1fdfa2e38"
   },
   "outputs": [
    {
     "name": "stderr",
     "output_type": "stream",
     "text": [
      "Downloading...\n",
      "From: https://drive.google.com/uc?id=1va-ob3C7UD0pYV4Z6WEhL2WMP7ynQJCH\n",
      "To: /home/sekhansen/text_algorithms_econ/notebooks/10K_vocab_2019_min25.csv\n",
      "100%|██████████| 422k/422k [00:00<00:00, 84.6MB/s]\n",
      "Downloading...\n",
      "From: https://drive.google.com/uc?id=1c-lNSgaj3tKjnkpn_12ddCL3OP6IsXLT\n",
      "To: /home/sekhansen/text_algorithms_econ/notebooks/10K_dtmatrix_2019_min25.txt\n",
      "100%|██████████| 310M/310M [00:01<00:00, 310MB/s] \n",
      "Downloading...\n",
      "From: https://drive.google.com/uc?id=1T97btZK10417MNXGlx_ASFY0mzqpNtu9\n",
      "To: /home/sekhansen/text_algorithms_econ/notebooks/10K_raw_text_2019_min25.csv\n",
      "100%|██████████| 1.34G/1.34G [00:07<00:00, 181MB/s] \n",
      "Downloading...\n",
      "From: https://drive.google.com/uc?id=1YsbeWapKf_hvfP3qMo9-Xj-PFuH5R96o\n",
      "To: /home/sekhansen/text_algorithms_econ/notebooks/tic_cik_crosswalk.csv\n",
      "100%|██████████| 38.8k/38.8k [00:00<00:00, 31.9MB/s]\n",
      "Downloading...\n",
      "From: https://drive.google.com/uc?id=1M87hyFjG74DZy7LoGxc_eHjUgbZEtFif\n",
      "To: /home/sekhansen/text_algorithms_econ/notebooks/compustat.csv\n",
      "100%|██████████| 3.78M/3.78M [00:00<00:00, 205MB/s]\n",
      "Downloading...\n",
      "From: https://drive.google.com/uc?id=1uYYDcL_1P9dB6HKqm726DZ3q02V21XA_\n",
      "To: /home/sekhansen/text_algorithms_econ/notebooks/X_tfidf.npy\n",
      "100%|██████████| 619M/619M [00:02<00:00, 239MB/s] \n",
      "Downloading...\n",
      "From: https://drive.google.com/uc?id=1jqmSngcW6JA4ESyrjvQk9lheNspLZ6Sl\n",
      "To: /home/sekhansen/text_algorithms_econ/notebooks/X_tfidf_w2v_sg.npy\n",
      "100%|██████████| 11.3M/11.3M [00:00<00:00, 55.2MB/s]\n",
      "Downloading...\n",
      "From: https://drive.google.com/uc?id=14FO6USCeRLrJ1_Nfjgs23a3BBgSj_lZw\n",
      "To: /home/sekhansen/text_algorithms_econ/notebooks/X_tfidf_glove.npy\n",
      "100%|██████████| 22.6M/22.6M [00:00<00:00, 96.2MB/s]\n",
      "Downloading...\n",
      "From: https://drive.google.com/uc?id=1sROI2YFlGQU9CjHlUGek6zMwDLZxVDJv\n",
      "To: /home/sekhansen/text_algorithms_econ/notebooks/X_NMF.npy\n",
      "100%|██████████| 645k/645k [00:00<00:00, 105MB/s]\n",
      "Downloading...\n",
      "From: https://drive.google.com/uc?id=12tEYC8D1YdEMHh_U3UC3J9YlbUreqiRg\n",
      "To: /home/sekhansen/text_algorithms_econ/notebooks/X_LSA.npy\n",
      "100%|██████████| 645k/645k [00:00<00:00, 90.4MB/s]\n",
      "Downloading...\n",
      "From: https://drive.google.com/uc?id=11AB4gSjmPD8z069TsczTYbEZ7t5pXHy-\n",
      "To: /home/sekhansen/text_algorithms_econ/notebooks/X_lda.npy\n",
      "100%|██████████| 645k/645k [00:00<00:00, 104MB/s]\n",
      "Downloading...\n",
      "From: https://drive.google.com/uc?id=1inbsTzUlXo56zSR-LZdvodIWGZaDiNv0\n",
      "To: /home/sekhansen/text_algorithms_econ/notebooks/X_d2v.npy\n",
      "100%|██████████| 11.3M/11.3M [00:00<00:00, 103MB/s] \n",
      "Downloading...\n",
      "From: https://drive.google.com/uc?id=1M0O2GqEjPubQc906xRrG3NrF3ow2tN3X\n",
      "To: /home/sekhansen/text_algorithms_econ/notebooks/X_countvec.npy\n",
      "100%|██████████| 595M/595M [00:02<00:00, 233MB/s]  \n",
      "Downloading...\n",
      "From: https://drive.google.com/uc?id=1Tz1JTccsWcOxW5HMwtfZ0Ii7JKMOe3-o\n",
      "To: /home/sekhansen/text_algorithms_econ/notebooks/X_avgw2v.npy\n",
      "100%|██████████| 11.3M/11.3M [00:00<00:00, 56.5MB/s]\n",
      "Downloading...\n",
      "From: https://drive.google.com/uc?id=1lv9qSazyLMpwyKAb-rXTknF4K0MSnMqr\n",
      "To: /home/sekhansen/text_algorithms_econ/notebooks/X_avglove.npy\n",
      "100%|██████████| 22.6M/22.6M [00:00<00:00, 157MB/s]\n",
      "Downloading...\n",
      "From: https://drive.google.com/uc?id=1daFs4bRcchxk0Q54w4mcGUYh49VpmyHb\n",
      "To: /home/sekhansen/text_algorithms_econ/notebooks/X_avglove_pretrained.npy\n",
      "100%|██████████| 4.84M/4.84M [00:00<00:00, 188MB/s]\n",
      "Downloading...\n",
      "From: https://drive.google.com/uc?id=1Th3aZBqbVAlTS7warTDuStrORD36Rvqw\n",
      "To: /home/sekhansen/text_algorithms_econ/notebooks/matches_dict.sav\n",
      "100%|██████████| 1.35G/1.35G [00:08<00:00, 160MB/s] \n"
     ]
    }
   ],
   "source": [
    "# download each file in the dictionary (it takes a while)\n",
    "for file_name, attributes in data_url_dict.items():\n",
    "    url = attributes[0]\n",
    "    extension = attributes[1]\n",
    "    gdown.download(url, f\"{file_name}.{extension}\", quiet=False) "
   ]
  },
  {
   "cell_type": "code",
   "execution_count": 4,
   "metadata": {},
   "outputs": [],
   "source": [
    "# run to have plots in LaTeX format\n",
    "\n",
    "params = {\n",
    "            'font.family': 'serif',\n",
    "          'text.usetex': True,\n",
    "          'axes.titlesize': 15,\n",
    "          'axes.labelsize': 15,\n",
    "          'xtick.labelsize': 15,\n",
    "          'ytick.labelsize': 15,\n",
    "          'font.weight': 'bold'}\n",
    "plt.rcParams.update(params)"
   ]
  },
  {
   "cell_type": "markdown",
   "metadata": {},
   "source": [
    "# Load data"
   ]
  },
  {
   "cell_type": "markdown",
   "metadata": {},
   "source": [
    "## Load 10K"
   ]
  },
  {
   "cell_type": "markdown",
   "metadata": {},
   "source": [
    "This tutorial uses text data from the **10-K reports** filed by most publicly-traded firms in the U.S. in 2019. 10-K reports are a very rich source of data since firms include information regarding their organizational structure, financial performance and risk factors. We will use a version of the data where the risk factors section of each report has been splitted into sentences and each sentence has been assigned an ID that combines the firm identifier (i.e. **CIK**) and a sentence number. The data we use has a total of 1,077,416 sentences for 2,500 firms.\n",
    "\n",
    "More on the 10-K reports [here](https://www.investor.gov/introduction-investing/getting-started/researching-investments/how-read-10-k)."
   ]
  },
  {
   "cell_type": "code",
   "execution_count": 5,
   "metadata": {},
   "outputs": [],
   "source": [
    "raw_data = pd.read_csv(data_path + '10K_raw_text_2019_min25.csv', index_col='Unnamed: 0')"
   ]
  },
  {
   "cell_type": "code",
   "execution_count": 6,
   "metadata": {},
   "outputs": [],
   "source": [
    "dt_mat = pd.read_csv(data_path + '10K_dtmatrix_2019_min25.txt', index_col='Unnamed: 0')\n",
    "dt_vals = dt_mat.values"
   ]
  },
  {
   "cell_type": "code",
   "execution_count": 7,
   "metadata": {},
   "outputs": [
    {
     "data": {
      "text/plain": [
       "(4033, 19170)"
      ]
     },
     "execution_count": 7,
     "metadata": {},
     "output_type": "execute_result"
    }
   ],
   "source": [
    "dt_mat.shape"
   ]
  },
  {
   "cell_type": "code",
   "execution_count": 8,
   "metadata": {},
   "outputs": [],
   "source": [
    "vocab_df = pd.read_csv(data_path + '10K_vocab_2019_min25.csv', index_col='Unnamed: 0', keep_default_na=False)"
   ]
  },
  {
   "cell_type": "code",
   "execution_count": 9,
   "metadata": {},
   "outputs": [],
   "source": [
    "vocab = vocab_df.to_dict()['0']"
   ]
  },
  {
   "cell_type": "code",
   "execution_count": 10,
   "metadata": {},
   "outputs": [
    {
     "data": {
      "text/plain": [
       "3196"
      ]
     },
     "execution_count": 10,
     "metadata": {},
     "output_type": "execute_result"
    }
   ],
   "source": [
    "tics = pd.read_csv(data_path+'tic_cik_crosswalk.csv') #3196\n",
    "raw_data.cik.isin(tics.cik).sum()"
   ]
  },
  {
   "cell_type": "code",
   "execution_count": null,
   "metadata": {},
   "outputs": [],
   "source": [
    "# alternative ticker datasets (even fewer matches)\n",
    "\n",
    "# tickers = pd.read_csv('../../cik_ticker.csv', sep='|') #2684\n",
    "# tickers2 = pd.read_csv('../../ticker_2.txt', sep='\\t', header=None, names=['ticker', 'cik']) #3183"
   ]
  },
  {
   "cell_type": "code",
   "execution_count": 11,
   "metadata": {},
   "outputs": [],
   "source": [
    "df = raw_data.merge(tics, on='cik', how='left').copy()"
   ]
  },
  {
   "cell_type": "markdown",
   "metadata": {},
   "source": [
    "## Load compustat"
   ]
  },
  {
   "cell_type": "code",
   "execution_count": 12,
   "metadata": {},
   "outputs": [],
   "source": [
    "compustat = pd.read_csv(data_path + 'compustat.csv') #36026"
   ]
  },
  {
   "cell_type": "code",
   "execution_count": 13,
   "metadata": {},
   "outputs": [],
   "source": [
    "comp2019 = compustat[compustat.fyear==2019].copy()\n",
    "comp2019 = comp2019[comp2019.indfmt=='INDL'].reset_index(drop=True).copy()\n",
    "cols = ['act', 'at', 'emp', 'cik', 'naics']"
   ]
  },
  {
   "cell_type": "code",
   "execution_count": 14,
   "metadata": {},
   "outputs": [
    {
     "name": "stdout",
     "output_type": "stream",
     "text": [
      "Shape of comp2019: (3027, 5)\n",
      "NAs per column\n"
     ]
    },
    {
     "data": {
      "text/plain": [
       "act      623\n",
       "at         8\n",
       "emp       84\n",
       "cik        0\n",
       "naics      0\n",
       "dtype: int64"
      ]
     },
     "metadata": {},
     "output_type": "display_data"
    }
   ],
   "source": [
    "comp2019 = comp2019[cols].copy() #3027\n",
    "print(f'Shape of comp2019: {comp2019.shape}')\n",
    "print('NAs per column')\n",
    "display(comp2019.isna().sum())"
   ]
  },
  {
   "cell_type": "code",
   "execution_count": 15,
   "metadata": {},
   "outputs": [
    {
     "data": {
      "image/png": "[encoded data removed]",
      "text/plain": [
       "<Figure size 288x288 with 1 Axes>"
      ]
     },
     "metadata": {
      "needs_background": "light"
     },
     "output_type": "display_data"
    }
   ],
   "source": [
    "fig, ax = plt.subplots( figsize=(4,4))\n",
    "\n",
    "plt.title(f\"Correlation between at and act: {np.corrcoef( comp2019.dropna()['at'],comp2019.dropna()['act'])[0,1]}\")\n",
    "\n",
    "plt.plot(comp2019.dropna()['at'], label='at')\n",
    "plt.plot(comp2019.dropna().act, label='act')\n",
    "plt.legend()\n",
    "\n",
    "plt.show()"
   ]
  },
  {
   "cell_type": "code",
   "execution_count": 16,
   "metadata": {},
   "outputs": [],
   "source": [
    "# drop act\n",
    "cols = [ 'at', 'emp', 'cik', 'naics']\n",
    "comp2019 = comp2019[cols].copy()"
   ]
  },
  {
   "cell_type": "code",
   "execution_count": 17,
   "metadata": {},
   "outputs": [],
   "source": [
    "# rescale\n",
    "comp2019['at'] = 1000*comp2019['at']\n",
    "comp2019['emp'] = 1000*comp2019['emp']"
   ]
  },
  {
   "cell_type": "code",
   "execution_count": 18,
   "metadata": {},
   "outputs": [
    {
     "name": "stdout",
     "output_type": "stream",
     "text": [
      "N. observations above 10 by column\n",
      "3012 for at\n",
      "2695 for emp\n"
     ]
    }
   ],
   "source": [
    "print('N. observations above 10 by column')\n",
    "print(f\"{comp2019[(comp2019['at']>10)].shape[0]} for at\")\n",
    "print(f\"{comp2019[(comp2019['emp']>10)].shape[0]} for emp\")"
   ]
  },
  {
   "cell_type": "code",
   "execution_count": 19,
   "metadata": {},
   "outputs": [],
   "source": [
    "comp2019 = comp2019[(comp2019.emp>10)& (comp2019['at']>10)].copy() "
   ]
  },
  {
   "cell_type": "code",
   "execution_count": 20,
   "metadata": {},
   "outputs": [
    {
     "name": "stdout",
     "output_type": "stream",
     "text": [
      "Shape of df after cleaning: (2695, 4)\n"
     ]
    }
   ],
   "source": [
    "comp2019 = comp2019.dropna().copy() #2695\n",
    "print(f'Shape of df after cleaning: {comp2019.shape}')"
   ]
  },
  {
   "cell_type": "code",
   "execution_count": 21,
   "metadata": {},
   "outputs": [],
   "source": [
    "comp2019['naics2'] = comp2019.naics.apply(lambda x: int(str(x)[:2]))"
   ]
  },
  {
   "cell_type": "markdown",
   "metadata": {},
   "source": [
    "## Load similarities"
   ]
  },
  {
   "cell_type": "code",
   "execution_count": 22,
   "metadata": {},
   "outputs": [],
   "source": [
    "#%%\n",
    "X_countvec = np.load(data_path + 'X_countvec.npy')\n",
    "X_tfidf = np.load(data_path + 'X_tfidf.npy')\n",
    "X_LSA = np.load(data_path + 'X_LSA.npy')\n",
    "X_NMF = np.load(data_path + 'X_NMF.npy')\n",
    "X_lda = np.load(data_path + 'X_lda.npy')\n",
    "X_d2v = np.load(data_path + 'X_d2v.npy')\n",
    "X_tfidf_w2v_sg = np.load(data_path + 'X_tfidf_w2v_sg.npy')\n",
    "X_avgw2v = np.load(data_path + 'X_avgw2v.npy')\n",
    "X_tfidf_glove = np.load(data_path + 'X_tfidf_glove.npy')\n",
    "X_avglove = np.load(data_path + 'X_avglove.npy')\n",
    "X_avglove_pretrained = np.load(data_path + 'X_avglove_pretrained.npy')"
   ]
  },
  {
   "cell_type": "code",
   "execution_count": 23,
   "metadata": {},
   "outputs": [],
   "source": [
    "####### COSINE SIMILARITIES\n",
    "# %%\n",
    "sims_countvec = cosine_similarity(X_countvec)\n",
    "sims_tfidf = cosine_similarity(X_tfidf)\n",
    "sims_lsa = cosine_similarity(X_LSA)\n",
    "sims_nmf = cosine_similarity(X_NMF)\n",
    "sims_lda = cosine_similarity(X_lda)\n",
    "sims_d2v = cosine_similarity(X_d2v)\n",
    "sims_tfidf_w2v_sg = cosine_similarity(X_tfidf_w2v_sg)\n",
    "sims_avgw2v = cosine_similarity(X_avgw2v)\n",
    "sims_tfidf_glove = cosine_similarity(X_tfidf_glove)\n",
    "sims_avglove = cosine_similarity(X_avglove)\n",
    "sims_avglove_pretrained = cosine_similarity(X_avglove_pretrained)\n",
    "#%%"
   ]
  },
  {
   "cell_type": "markdown",
   "metadata": {},
   "source": [
    "# Pair similarity of cik i to cik j with correspondent covariates"
   ]
  },
  {
   "cell_type": "code",
   "execution_count": 24,
   "metadata": {},
   "outputs": [],
   "source": [
    "ciks_vocab = raw_data.to_dict()['cik']\n",
    "ciks_vocab = {v:k for k,v in ciks_vocab.items()}"
   ]
  },
  {
   "cell_type": "code",
   "execution_count": null,
   "metadata": {},
   "outputs": [],
   "source": [
    "# %%time\n",
    "# 18 min\n",
    "\n",
    "# matches = {'idx_pair':[], 'cik_pair':[],\n",
    "# 'naics':[], 'naics2':[], 'emp':[], 'at':[], 'sims_countvec':[], 'sims_tfidf':[], 'sims_lsa':[], 'sims_nmf':[],\n",
    "# 'sims_lda':[], 'sims_d2v':[], 'sims_tfidf_w2v_sg':[], 'sims_avgw2v':[], 'sims_tfidf_glove':[], 'sims_avglove':[],\n",
    "#            'sims_avglove_pretrained':[]}\n",
    "# for i in range(comp2019.shape[0]):\n",
    "#     for j in range(i+1, comp2019.shape[0]):\n",
    "\n",
    "#         row_i = comp2019.iloc[i].copy()\n",
    "#         row_j = comp2019.iloc[j].copy()\n",
    "\n",
    "#         cik_i = row_i.cik\n",
    "#         cik_j = row_j.cik\n",
    "#         matches['cik_pair'].append((cik_i,cik_j))\n",
    "\n",
    "#         idx_i = ciks_vocab[cik_i]\n",
    "#         idx_j = ciks_vocab[cik_j]\n",
    "#         matches['idx_pair'].append((idx_i,idx_j))\n",
    "#         matches['sims_countvec'].append(sims_countvec[idx_i, idx_j])\n",
    "#         matches['sims_tfidf'].append(sims_tfidf[idx_i, idx_j])\n",
    "#         matches['sims_lsa'].append(sims_lsa[idx_i, idx_j])\n",
    "#         matches['sims_nmf'].append(sims_nmf[idx_i, idx_j])\n",
    "#         matches['sims_lda'].append(sims_lda[idx_i, idx_j])\n",
    "#         matches['sims_d2v'].append(sims_d2v[idx_i, idx_j])\n",
    "        \n",
    "#         matches['sims_tfidf_w2v_sg'].append(sims_tfidf_w2v_sg[idx_i, idx_j])\n",
    "#         matches['sims_avgw2v'].append(sims_avgw2v[idx_i, idx_j])\n",
    "#         matches['sims_tfidf_glove'].append(sims_tfidf_glove[idx_i, idx_j])\n",
    "#         matches['sims_avglove'].append(sims_avglove[idx_i, idx_j])\n",
    "#         matches['sims_avglove_pretrained'].append(sims_avglove_pretrained[idx_i, idx_j])\n",
    "        \n",
    "\n",
    "#         naics_i = row_i.naics\n",
    "#         naics_j = row_j.naics\n",
    "#         matches['naics'].append(1 if naics_i==naics_j else 0)\n",
    "        \n",
    "#         naics2_i = row_i.naics2\n",
    "#         naics2_j = row_j.naics2\n",
    "#         matches['naics2'].append(1 if naics2_i==naics2_j else 0)\n",
    "\n",
    "#         for cov in ['at', 'emp']:\n",
    "#             cov_i = row_i[cov]\n",
    "#             cov_j = row_j[cov]\n",
    "#             cov_val = np.log(cov_i/cov_j)\n",
    "#             matches[cov].append(cov_val)\n",
    "#     if i%200==0:\n",
    "#         print(i)"
   ]
  },
  {
   "cell_type": "code",
   "execution_count": null,
   "metadata": {},
   "outputs": [],
   "source": [
    "# filename = data_path + 'matches_dict.sav'\n",
    "# with open(filename, 'wb') as f:\n",
    "#     pickle.dump((matches), f)"
   ]
  },
  {
   "cell_type": "code",
   "execution_count": 25,
   "metadata": {},
   "outputs": [],
   "source": [
    "filename = data_path + 'matches_dict.sav'\n",
    "with open(filename, 'rb') as fr:\n",
    "    matches = pickle.load(fr)"
   ]
  },
  {
   "cell_type": "markdown",
   "metadata": {},
   "source": [
    "# Regression analysis: match sample to price data"
   ]
  },
  {
   "cell_type": "code",
   "execution_count": 26,
   "metadata": {},
   "outputs": [],
   "source": [
    "df_all = pd.DataFrame.from_dict(matches)"
   ]
  },
  {
   "cell_type": "code",
   "execution_count": 27,
   "metadata": {},
   "outputs": [
    {
     "data": {
      "text/plain": [
       "0    (1750.0, 3197.0)\n",
       "1    (1750.0, 1800.0)\n",
       "2    (1750.0, 2098.0)\n",
       "3    (1750.0, 2186.0)\n",
       "4    (1750.0, 2178.0)\n",
       "Name: cik_pair, dtype: object"
      ]
     },
     "execution_count": 27,
     "metadata": {},
     "output_type": "execute_result"
    }
   ],
   "source": [
    "df_all.cik_pair.head()"
   ]
  },
  {
   "cell_type": "code",
   "execution_count": 28,
   "metadata": {},
   "outputs": [
    {
     "name": "stdout",
     "output_type": "stream",
     "text": [
      "n. observations: (3630165, 17)\n"
     ]
    }
   ],
   "source": [
    "print('n. observations:', df_all.shape)"
   ]
  },
  {
   "cell_type": "code",
   "execution_count": 31,
   "metadata": {},
   "outputs": [
    {
     "data": {
      "text/html": [
       "<div>\n",
       "<style scoped>\n",
       "    .dataframe tbody tr th:only-of-type {\n",
       "        vertical-align: middle;\n",
       "    }\n",
       "\n",
       "    .dataframe tbody tr th {\n",
       "        vertical-align: top;\n",
       "    }\n",
       "\n",
       "    .dataframe thead th {\n",
       "        text-align: right;\n",
       "    }\n",
       "</style>\n",
       "<table border=\"1\" class=\"dataframe\">\n",
       "  <thead>\n",
       "    <tr style=\"text-align: right;\">\n",
       "      <th></th>\n",
       "      <th>PERMNO</th>\n",
       "      <th>date</th>\n",
       "      <th>TICKER</th>\n",
       "      <th>PERMCO</th>\n",
       "      <th>CUSIP</th>\n",
       "      <th>PRC</th>\n",
       "      <th>log_price</th>\n",
       "      <th>return</th>\n",
       "      <th>cik</th>\n",
       "      <th>tic</th>\n",
       "    </tr>\n",
       "  </thead>\n",
       "  <tbody>\n",
       "    <tr>\n",
       "      <th>0</th>\n",
       "      <td>87432</td>\n",
       "      <td>20190103</td>\n",
       "      <td>A</td>\n",
       "      <td>36364</td>\n",
       "      <td>00846U10</td>\n",
       "      <td>63.27</td>\n",
       "      <td>4.147411</td>\n",
       "      <td>-0.037535</td>\n",
       "      <td>1090872</td>\n",
       "      <td>A</td>\n",
       "    </tr>\n",
       "    <tr>\n",
       "      <th>1</th>\n",
       "      <td>87432</td>\n",
       "      <td>20190104</td>\n",
       "      <td>A</td>\n",
       "      <td>36364</td>\n",
       "      <td>00846U10</td>\n",
       "      <td>65.46</td>\n",
       "      <td>4.181439</td>\n",
       "      <td>0.034028</td>\n",
       "      <td>1090872</td>\n",
       "      <td>A</td>\n",
       "    </tr>\n",
       "    <tr>\n",
       "      <th>2</th>\n",
       "      <td>87432</td>\n",
       "      <td>20190107</td>\n",
       "      <td>A</td>\n",
       "      <td>36364</td>\n",
       "      <td>00846U10</td>\n",
       "      <td>66.85</td>\n",
       "      <td>4.202451</td>\n",
       "      <td>0.021012</td>\n",
       "      <td>1090872</td>\n",
       "      <td>A</td>\n",
       "    </tr>\n",
       "    <tr>\n",
       "      <th>3</th>\n",
       "      <td>87432</td>\n",
       "      <td>20190108</td>\n",
       "      <td>A</td>\n",
       "      <td>36364</td>\n",
       "      <td>00846U10</td>\n",
       "      <td>67.83</td>\n",
       "      <td>4.217005</td>\n",
       "      <td>0.014553</td>\n",
       "      <td>1090872</td>\n",
       "      <td>A</td>\n",
       "    </tr>\n",
       "    <tr>\n",
       "      <th>4</th>\n",
       "      <td>87432</td>\n",
       "      <td>20190109</td>\n",
       "      <td>A</td>\n",
       "      <td>36364</td>\n",
       "      <td>00846U10</td>\n",
       "      <td>69.25</td>\n",
       "      <td>4.237723</td>\n",
       "      <td>0.020719</td>\n",
       "      <td>1090872</td>\n",
       "      <td>A</td>\n",
       "    </tr>\n",
       "  </tbody>\n",
       "</table>\n",
       "</div>"
      ],
      "text/plain": [
       "   PERMNO      date TICKER  PERMCO     CUSIP    PRC  log_price    return  \\\n",
       "0   87432  20190103      A   36364  00846U10  63.27   4.147411 -0.037535   \n",
       "1   87432  20190104      A   36364  00846U10  65.46   4.181439  0.034028   \n",
       "2   87432  20190107      A   36364  00846U10  66.85   4.202451  0.021012   \n",
       "3   87432  20190108      A   36364  00846U10  67.83   4.217005  0.014553   \n",
       "4   87432  20190109      A   36364  00846U10  69.25   4.237723  0.020719   \n",
       "\n",
       "       cik tic  \n",
       "0  1090872   A  \n",
       "1  1090872   A  \n",
       "2  1090872   A  \n",
       "3  1090872   A  \n",
       "4  1090872   A  "
      ]
     },
     "execution_count": 31,
     "metadata": {},
     "output_type": "execute_result"
    }
   ],
   "source": [
    "# merge in price data to later form correlation in returns in 2019\n",
    "prices = pd.read_csv(\"daily_returns_2019.csv\")\n",
    "prices.head()"
   ]
  },
  {
   "cell_type": "code",
   "execution_count": 34,
   "metadata": {},
   "outputs": [
    {
     "data": {
      "text/plain": [
       "tuple"
      ]
     },
     "execution_count": 34,
     "metadata": {},
     "output_type": "execute_result"
    }
   ],
   "source": [
    "type(df_all.loc[0, \"cik_pair\"])"
   ]
  },
  {
   "cell_type": "code",
   "execution_count": 35,
   "metadata": {},
   "outputs": [
    {
     "data": {
      "text/html": [
       "<div>\n",
       "<style scoped>\n",
       "    .dataframe tbody tr th:only-of-type {\n",
       "        vertical-align: middle;\n",
       "    }\n",
       "\n",
       "    .dataframe tbody tr th {\n",
       "        vertical-align: top;\n",
       "    }\n",
       "\n",
       "    .dataframe thead th {\n",
       "        text-align: right;\n",
       "    }\n",
       "</style>\n",
       "<table border=\"1\" class=\"dataframe\">\n",
       "  <thead>\n",
       "    <tr style=\"text-align: right;\">\n",
       "      <th></th>\n",
       "      <th>idx_pair</th>\n",
       "      <th>cik_pair</th>\n",
       "      <th>naics</th>\n",
       "      <th>naics2</th>\n",
       "      <th>emp</th>\n",
       "      <th>at</th>\n",
       "      <th>sims_countvec</th>\n",
       "      <th>sims_tfidf</th>\n",
       "      <th>sims_lsa</th>\n",
       "      <th>sims_nmf</th>\n",
       "      <th>sims_lda</th>\n",
       "      <th>sims_d2v</th>\n",
       "      <th>sims_tfidf_w2v_sg</th>\n",
       "      <th>sims_avgw2v</th>\n",
       "      <th>sims_tfidf_glove</th>\n",
       "      <th>sims_avglove</th>\n",
       "      <th>sims_avglove_pretrained</th>\n",
       "      <th>cik1</th>\n",
       "      <th>cik2</th>\n",
       "    </tr>\n",
       "  </thead>\n",
       "  <tbody>\n",
       "    <tr>\n",
       "      <th>0</th>\n",
       "      <td>(0, 9)</td>\n",
       "      <td>(1750.0, 3197.0)</td>\n",
       "      <td>0</td>\n",
       "      <td>0</td>\n",
       "      <td>1.872729</td>\n",
       "      <td>1.626815</td>\n",
       "      <td>0.740186</td>\n",
       "      <td>0.394291</td>\n",
       "      <td>0.952413</td>\n",
       "      <td>0.947263</td>\n",
       "      <td>0.918647</td>\n",
       "      <td>0.114133</td>\n",
       "      <td>0.950129</td>\n",
       "      <td>0.978689</td>\n",
       "      <td>0.945335</td>\n",
       "      <td>0.983872</td>\n",
       "      <td>0.989954</td>\n",
       "      <td>1750</td>\n",
       "      <td>3197</td>\n",
       "    </tr>\n",
       "    <tr>\n",
       "      <th>1</th>\n",
       "      <td>(0, 1)</td>\n",
       "      <td>(1750.0, 1800.0)</td>\n",
       "      <td>0</td>\n",
       "      <td>0</td>\n",
       "      <td>-2.986430</td>\n",
       "      <td>-3.485958</td>\n",
       "      <td>0.613366</td>\n",
       "      <td>0.293499</td>\n",
       "      <td>0.863631</td>\n",
       "      <td>0.900804</td>\n",
       "      <td>0.802660</td>\n",
       "      <td>0.401232</td>\n",
       "      <td>0.933207</td>\n",
       "      <td>0.967690</td>\n",
       "      <td>0.924758</td>\n",
       "      <td>0.975147</td>\n",
       "      <td>0.981650</td>\n",
       "      <td>1750</td>\n",
       "      <td>1800</td>\n",
       "    </tr>\n",
       "    <tr>\n",
       "      <th>2</th>\n",
       "      <td>(0, 2)</td>\n",
       "      <td>(1750.0, 2098.0)</td>\n",
       "      <td>0</td>\n",
       "      <td>0</td>\n",
       "      <td>2.505109</td>\n",
       "      <td>2.932376</td>\n",
       "      <td>0.565447</td>\n",
       "      <td>0.256880</td>\n",
       "      <td>0.743678</td>\n",
       "      <td>0.701206</td>\n",
       "      <td>0.558150</td>\n",
       "      <td>0.013688</td>\n",
       "      <td>0.937625</td>\n",
       "      <td>0.969352</td>\n",
       "      <td>0.931263</td>\n",
       "      <td>0.973529</td>\n",
       "      <td>0.979961</td>\n",
       "      <td>1750</td>\n",
       "      <td>2098</td>\n",
       "    </tr>\n",
       "    <tr>\n",
       "      <th>3</th>\n",
       "      <td>(0, 4)</td>\n",
       "      <td>(1750.0, 2186.0)</td>\n",
       "      <td>0</td>\n",
       "      <td>0</td>\n",
       "      <td>3.884624</td>\n",
       "      <td>4.003636</td>\n",
       "      <td>0.704898</td>\n",
       "      <td>0.381424</td>\n",
       "      <td>0.921849</td>\n",
       "      <td>0.633801</td>\n",
       "      <td>0.807830</td>\n",
       "      <td>0.488416</td>\n",
       "      <td>0.947485</td>\n",
       "      <td>0.976324</td>\n",
       "      <td>0.943156</td>\n",
       "      <td>0.981751</td>\n",
       "      <td>0.987158</td>\n",
       "      <td>1750</td>\n",
       "      <td>2186</td>\n",
       "    </tr>\n",
       "    <tr>\n",
       "      <th>4</th>\n",
       "      <td>(0, 3)</td>\n",
       "      <td>(1750.0, 2178.0)</td>\n",
       "      <td>0</td>\n",
       "      <td>1</td>\n",
       "      <td>2.095872</td>\n",
       "      <td>1.838001</td>\n",
       "      <td>0.605433</td>\n",
       "      <td>0.223159</td>\n",
       "      <td>0.950511</td>\n",
       "      <td>0.971372</td>\n",
       "      <td>0.712001</td>\n",
       "      <td>0.474086</td>\n",
       "      <td>0.923686</td>\n",
       "      <td>0.967690</td>\n",
       "      <td>0.938517</td>\n",
       "      <td>0.981137</td>\n",
       "      <td>0.988197</td>\n",
       "      <td>1750</td>\n",
       "      <td>2178</td>\n",
       "    </tr>\n",
       "  </tbody>\n",
       "</table>\n",
       "</div>"
      ],
      "text/plain": [
       "  idx_pair          cik_pair  naics  naics2       emp        at  \\\n",
       "0   (0, 9)  (1750.0, 3197.0)      0       0  1.872729  1.626815   \n",
       "1   (0, 1)  (1750.0, 1800.0)      0       0 -2.986430 -3.485958   \n",
       "2   (0, 2)  (1750.0, 2098.0)      0       0  2.505109  2.932376   \n",
       "3   (0, 4)  (1750.0, 2186.0)      0       0  3.884624  4.003636   \n",
       "4   (0, 3)  (1750.0, 2178.0)      0       1  2.095872  1.838001   \n",
       "\n",
       "   sims_countvec  sims_tfidf  sims_lsa  sims_nmf  sims_lda  sims_d2v  \\\n",
       "0       0.740186    0.394291  0.952413  0.947263  0.918647  0.114133   \n",
       "1       0.613366    0.293499  0.863631  0.900804  0.802660  0.401232   \n",
       "2       0.565447    0.256880  0.743678  0.701206  0.558150  0.013688   \n",
       "3       0.704898    0.381424  0.921849  0.633801  0.807830  0.488416   \n",
       "4       0.605433    0.223159  0.950511  0.971372  0.712001  0.474086   \n",
       "\n",
       "   sims_tfidf_w2v_sg  sims_avgw2v  sims_tfidf_glove  sims_avglove  \\\n",
       "0           0.950129     0.978689          0.945335      0.983872   \n",
       "1           0.933207     0.967690          0.924758      0.975147   \n",
       "2           0.937625     0.969352          0.931263      0.973529   \n",
       "3           0.947485     0.976324          0.943156      0.981751   \n",
       "4           0.923686     0.967690          0.938517      0.981137   \n",
       "\n",
       "   sims_avglove_pretrained  cik1  cik2  \n",
       "0                 0.989954  1750  3197  \n",
       "1                 0.981650  1750  1800  \n",
       "2                 0.979961  1750  2098  \n",
       "3                 0.987158  1750  2186  \n",
       "4                 0.988197  1750  2178  "
      ]
     },
     "execution_count": 35,
     "metadata": {},
     "output_type": "execute_result"
    }
   ],
   "source": [
    "df_all[\"cik1\"] = df_all[\"cik_pair\"].apply(lambda x: int(x[0]))\n",
    "df_all[\"cik2\"] = df_all[\"cik_pair\"].apply(lambda x: int(x[1]))\n",
    "\n",
    "df_all.head()"
   ]
  },
  {
   "cell_type": "code",
   "execution_count": 37,
   "metadata": {},
   "outputs": [
    {
     "name": "stdout",
     "output_type": "stream",
     "text": [
      "(2227105, 19)\n"
     ]
    }
   ],
   "source": [
    "# only keep pairs where both have price data\n",
    "\n",
    "cik_asset = set(prices.cik)\n",
    "df_all = df_all[(df_all.cik1.isin(cik_asset)) & (df_all.cik2.isin(cik_asset))]\n",
    "print(df_all.shape)"
   ]
  },
  {
   "cell_type": "code",
   "execution_count": 40,
   "metadata": {},
   "outputs": [
    {
     "name": "stdout",
     "output_type": "stream",
     "text": [
      "             idx_pair                cik_pair  naics  naics2       emp  \\\n",
      "366129    (119, 1213)     (26172.0, 915779.0)      0       1  3.138452   \n",
      "2563660  (3650, 3214)  (1651094.0, 1566469.0)      0       0  0.557460   \n",
      "44331     (725, 1514)   (773840.0, 1041368.0)      0       0  6.105714   \n",
      "203420    (648, 3960)   (733269.0, 1730430.0)      0       0  2.127536   \n",
      "208696     (529, 812)    (356037.0, 810332.0)      0       0 -3.445802   \n",
      "\n",
      "               at  sims_countvec  sims_tfidf  sims_lsa  sims_nmf  sims_lda  \\\n",
      "366129   3.969608       0.712806    0.420435  0.959959  0.911723  0.953553   \n",
      "2563660  1.078557       0.737993    0.419978  0.891312  0.297139  0.520775   \n",
      "44331    3.905883       0.599475    0.319807  0.753989  0.127137  0.082118   \n",
      "203420   1.632137       0.595051    0.228558  0.717309  0.440149  0.023307   \n",
      "208696  -3.196868       0.631900    0.249260  0.878344  0.903688  0.297719   \n",
      "\n",
      "         sims_d2v  sims_tfidf_w2v_sg  sims_avgw2v  sims_tfidf_glove  \\\n",
      "366129   0.464202           0.968530     0.981235          0.962191   \n",
      "2563660  0.452196           0.944892     0.969787          0.927298   \n",
      "44331    0.579541           0.870967     0.922953          0.823624   \n",
      "203420   0.283133           0.859056     0.922057          0.755887   \n",
      "208696   0.379266           0.892851     0.944721          0.884079   \n",
      "\n",
      "         sims_avglove  sims_avglove_pretrained     cik1     cik2  \n",
      "366129       0.984512                 0.990596    26172   915779  \n",
      "2563660      0.973591                 0.983519  1651094  1566469  \n",
      "44331        0.931582                 0.968784   773840  1041368  \n",
      "203420       0.914528                 0.976441   733269  1730430  \n",
      "208696       0.958439                 0.975680   356037   810332  \n"
     ]
    }
   ],
   "source": [
    "SEED=879\n",
    "sample =df_all.sample(50000, random_state=SEED)\n",
    "print(sample.head())\n",
    "sample.to_csv(\"sample_for_regression.csv\", index=False)"
   ]
  }
 ],
 "metadata": {
  "kernelspec": {
   "display_name": "Python 3.8.12 ('base')",
   "language": "python",
   "name": "python3"
  },
  "language_info": {
   "codemirror_mode": {
    "name": "ipython",
    "version": 3
   },
   "file_extension": ".py",
   "mimetype": "text/x-python",
   "name": "python",
   "nbconvert_exporter": "python",
   "pygments_lexer": "ipython3",
   "version": "3.8.5"
  },
  "toc": {
   "base_numbering": 1,
   "nav_menu": {},
   "number_sections": true,
   "sideBar": true,
   "skip_h1_title": false,
   "title_cell": "Table of Contents",
   "title_sidebar": "Contents",
   "toc_cell": false,
   "toc_position": {},
   "toc_section_display": true,
   "toc_window_display": false
  },
  "vscode": {
   "interpreter": {
    "hash": "4f08c5092ce33836bcc50c3290e82ac23330d9fb5768d6b87dba74024c27574f"
   }
  }
 },
 "nbformat": 4,
 "nbformat_minor": 2
}
