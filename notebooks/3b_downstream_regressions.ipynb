{
 "cells": [
  {
   "cell_type": "code",
   "execution_count": 30,
   "metadata": {
    "id": "OO7_xdAZduto"
   },
   "outputs": [],
   "source": [
    "# Install necessary packages\n",
    "# !pip install gdown\n",
    "#!pip install gensim==3.8.3"
   ]
  },
  {
   "cell_type": "code",
   "execution_count": 8,
   "metadata": {},
   "outputs": [],
   "source": [
    "#!pip install lda"
   ]
  },
  {
   "cell_type": "code",
   "execution_count": 9,
   "metadata": {
    "id": "zzY5wHPIdutp"
   },
   "outputs": [],
   "source": [
    "# Restart RUNTIME after installing packages!"
   ]
  },
  {
   "cell_type": "code",
   "execution_count": 64,
   "metadata": {},
   "outputs": [],
   "source": [
    "import pandas as pd\n",
    "import numpy as np\n",
    "import gdown\n",
    "import matplotlib.pyplot as plt\n",
    "from sklearn.metrics.pairwise import cosine_similarity\n",
    "import statsmodels.api as sm\n",
    "import pickle"
   ]
  },
  {
   "cell_type": "code",
   "execution_count": 2,
   "metadata": {},
   "outputs": [],
   "source": [
    "import sys\n",
    "sys.path.append('../pymodules')"
   ]
  },
  {
   "cell_type": "code",
   "execution_count": 4,
   "metadata": {
    "id": "oYSA60vTZgJn"
   },
   "outputs": [],
   "source": [
    "# define paths and seed\n",
    "SEED = 92\n",
    "data_path = \"./\""
   ]
  },
  {
   "cell_type": "code",
   "execution_count": 5,
   "metadata": {
    "id": "1ASFG1hzHeUP"
   },
   "outputs": [],
   "source": [
    "# define dictionary with paths to data in Google Drive\n",
    "data_url_dict = {\"10K_vocab_2019_min25\": (\"https://drive.google.com/uc?id=1va-ob3C7UD0pYV4Z6WEhL2WMP7ynQJCH\", \"csv\"),\n",
    "                \"10K_dtmatrix_2019_min25\": (\"https://drive.google.com/uc?id=1c-lNSgaj3tKjnkpn_12ddCL3OP6IsXLT\", \"txt\"),\n",
    "                \"10K_raw_text_2019_min25\": (\"https://drive.google.com/uc?id=1T97btZK10417MNXGlx_ASFY0mzqpNtu9\", \"csv\"),\n",
    "                \"tic_cik_crosswalk\": (\"https://drive.google.com/uc?id=1YsbeWapKf_hvfP3qMo9-Xj-PFuH5R96o\", \"csv\"),\n",
    "                \"compustat\": (\"https://drive.google.com/uc?id=1M87hyFjG74DZy7LoGxc_eHjUgbZEtFif\", \"csv\"),\n",
    "                \"X_tfidf\": (\"https://drive.google.com/uc?id=1uYYDcL_1P9dB6HKqm726DZ3q02V21XA_\", \"npy\"),\n",
    "                \"X_tfidf_w2v_sg\": (\"https://drive.google.com/uc?id=1jqmSngcW6JA4ESyrjvQk9lheNspLZ6Sl\", \"npy\"),\n",
    "                \"X_tfidf_glove\": (\"https://drive.google.com/uc?id=14FO6USCeRLrJ1_Nfjgs23a3BBgSj_lZw\", \"npy\"),\n",
    "                \"X_NMF\": (\"https://drive.google.com/uc?id=1sROI2YFlGQU9CjHlUGek6zMwDLZxVDJv\", \"npy\"),\n",
    "                \"X_LSA\": (\"https://drive.google.com/uc?id=12tEYC8D1YdEMHh_U3UC3J9YlbUreqiRg\", \"npy\"),\n",
    "                \"X_lda\": (\"https://drive.google.com/uc?id=11AB4gSjmPD8z069TsczTYbEZ7t5pXHy-\", \"npy\"),\n",
    "                \"X_d2v\": (\"https://drive.google.com/uc?id=1inbsTzUlXo56zSR-LZdvodIWGZaDiNv0\", \"npy\"),\n",
    "                \"X_countvec\": (\"https://drive.google.com/uc?id=1M0O2GqEjPubQc906xRrG3NrF3ow2tN3X\", \"npy\"),\n",
    "                \"X_avgw2v\": (\"https://drive.google.com/uc?id=1Tz1JTccsWcOxW5HMwtfZ0Ii7JKMOe3-o\", \"npy\"),\n",
    "                \"X_avglove\": (\"https://drive.google.com/uc?id=1lv9qSazyLMpwyKAb-rXTknF4K0MSnMqr\", \"npy\"),\n",
    "                \"X_avglove_pretrained\": (\"https://drive.google.com/uc?id=1daFs4bRcchxk0Q54w4mcGUYh49VpmyHb\", \"npy\"),\n",
    "                \"matches_dict\": (\"https://drive.google.com/uc?id=1Th3aZBqbVAlTS7warTDuStrORD36Rvqw\", \"sav\"),\n",
    "                }"
   ]
  },
  {
   "cell_type": "code",
   "execution_count": 180,
   "metadata": {
    "colab": {
     "base_uri": "https://localhost:8080/"
    },
    "id": "VeM3yIZFICcl",
    "outputId": "30ee6514-5dbf-4535-e733-d1c1fdfa2e38"
   },
   "outputs": [
    {
     "name": "stderr",
     "output_type": "stream",
     "text": [
      "Downloading...\n",
      "From: https://drive.google.com/uc?id=1M87hyFjG74DZy7LoGxc_eHjUgbZEtFif\n",
      "To: /Users/llaurabat/Dropbox/BGSE_work/AR/ARE_text_algorithms_economics/notebooks/compustat.csv\n",
      "100%|██████████| 3.78M/3.78M [00:00<00:00, 22.5MB/s]\n",
      "Downloading...\n",
      "From: https://drive.google.com/uc?id=1uYYDcL_1P9dB6HKqm726DZ3q02V21XA_\n",
      "To: /Users/llaurabat/Dropbox/BGSE_work/AR/ARE_text_algorithms_economics/notebooks/X_tfidf.npy\n",
      "100%|██████████| 619M/619M [00:32<00:00, 19.3MB/s] \n",
      "Downloading...\n",
      "From: https://drive.google.com/uc?id=1jqmSngcW6JA4ESyrjvQk9lheNspLZ6Sl\n",
      "To: /Users/llaurabat/Dropbox/BGSE_work/AR/ARE_text_algorithms_economics/notebooks/X_tfidf_w2v_sg.npy\n",
      "100%|██████████| 11.3M/11.3M [00:00<00:00, 24.9MB/s]\n",
      "Downloading...\n",
      "From: https://drive.google.com/uc?id=14FO6USCeRLrJ1_Nfjgs23a3BBgSj_lZw\n",
      "To: /Users/llaurabat/Dropbox/BGSE_work/AR/ARE_text_algorithms_economics/notebooks/X_tfidf_glove.npy\n",
      "100%|██████████| 22.6M/22.6M [00:00<00:00, 28.5MB/s]\n",
      "Downloading...\n",
      "From: https://drive.google.com/uc?id=1sROI2YFlGQU9CjHlUGek6zMwDLZxVDJv\n",
      "To: /Users/llaurabat/Dropbox/BGSE_work/AR/ARE_text_algorithms_economics/notebooks/X_NMF.npy\n",
      "100%|██████████| 645k/645k [00:00<00:00, 3.23MB/s]\n",
      "Downloading...\n",
      "From: https://drive.google.com/uc?id=12tEYC8D1YdEMHh_U3UC3J9YlbUreqiRg\n",
      "To: /Users/llaurabat/Dropbox/BGSE_work/AR/ARE_text_algorithms_economics/notebooks/X_LSA.npy\n",
      "100%|██████████| 645k/645k [00:00<00:00, 4.78MB/s]\n",
      "Downloading...\n",
      "From: https://drive.google.com/uc?id=11AB4gSjmPD8z069TsczTYbEZ7t5pXHy-\n",
      "To: /Users/llaurabat/Dropbox/BGSE_work/AR/ARE_text_algorithms_economics/notebooks/X_lda.npy\n",
      "100%|██████████| 645k/645k [00:00<00:00, 4.83MB/s]\n",
      "Downloading...\n",
      "From: https://drive.google.com/uc?id=1inbsTzUlXo56zSR-LZdvodIWGZaDiNv0\n",
      "To: /Users/llaurabat/Dropbox/BGSE_work/AR/ARE_text_algorithms_economics/notebooks/X_d2v.npy\n",
      "100%|██████████| 11.3M/11.3M [00:00<00:00, 19.9MB/s]\n",
      "Downloading...\n",
      "From: https://drive.google.com/uc?id=1M0O2GqEjPubQc906xRrG3NrF3ow2tN3X\n",
      "To: /Users/llaurabat/Dropbox/BGSE_work/AR/ARE_text_algorithms_economics/notebooks/X_countvec.npy\n",
      "100%|██████████| 595M/595M [00:18<00:00, 32.5MB/s] \n",
      "Downloading...\n",
      "From: https://drive.google.com/uc?id=1Tz1JTccsWcOxW5HMwtfZ0Ii7JKMOe3-o\n",
      "To: /Users/llaurabat/Dropbox/BGSE_work/AR/ARE_text_algorithms_economics/notebooks/X_avgw2v.npy\n",
      "100%|██████████| 11.3M/11.3M [00:00<00:00, 22.3MB/s]\n",
      "Downloading...\n",
      "From: https://drive.google.com/uc?id=1lv9qSazyLMpwyKAb-rXTknF4K0MSnMqr\n",
      "To: /Users/llaurabat/Dropbox/BGSE_work/AR/ARE_text_algorithms_economics/notebooks/X_avglove.npy\n",
      "100%|██████████| 22.6M/22.6M [00:00<00:00, 24.0MB/s]\n",
      "Downloading...\n",
      "From: https://drive.google.com/uc?id=1daFs4bRcchxk0Q54w4mcGUYh49VpmyHb\n",
      "To: /Users/llaurabat/Dropbox/BGSE_work/AR/ARE_text_algorithms_economics/notebooks/X_avglove_pretrained.npy\n",
      "100%|██████████| 4.84M/4.84M [00:00<00:00, 20.2MB/s]\n"
     ]
    }
   ],
   "source": [
    "# download each file in the dictionary (it takes a while)\n",
    "for file_name, attributes in data_url_dict.items():\n",
    "    url = attributes[0]\n",
    "    extension = attributes[1]\n",
    "    gdown.download(url, f\"{file_name}.{extension}\", quiet=False) "
   ]
  },
  {
   "cell_type": "code",
   "execution_count": 158,
   "metadata": {},
   "outputs": [],
   "source": [
    "# run to have plots in LaTeX format\n",
    "\n",
    "params = {\n",
    "            'font.family': 'serif',\n",
    "          'text.usetex': True,\n",
    "          'axes.titlesize': 15,\n",
    "          'axes.labelsize': 15,\n",
    "          'xtick.labelsize': 15,\n",
    "          'ytick.labelsize': 15,\n",
    "          'font.weight': 'bold'}\n",
    "plt.rcParams.update(params)"
   ]
  },
  {
   "cell_type": "markdown",
   "metadata": {},
   "source": [
    "# Load data"
   ]
  },
  {
   "cell_type": "markdown",
   "metadata": {},
   "source": [
    "## Load 10K"
   ]
  },
  {
   "cell_type": "markdown",
   "metadata": {},
   "source": [
    "This tutorial uses text data from the **10-K reports** filed by most publicly-traded firms in the U.S. in 2019. 10-K reports are a very rich source of data since firms include information regarding their organizational structure, financial performance and risk factors. We will use a version of the data where the risk factors section of each report has been splitted into sentences and each sentence has been assigned an ID that combines the firm identifier (i.e. **CIK**) and a sentence number. The data we use has a total of 1,077,416 sentences for 2,500 firms.\n",
    "\n",
    "More on the 10-K reports [here](https://www.investor.gov/introduction-investing/getting-started/researching-investments/how-read-10-k)."
   ]
  },
  {
   "cell_type": "code",
   "execution_count": 25,
   "metadata": {},
   "outputs": [],
   "source": [
    "raw_data = pd.read_csv(data_path + '10K_raw_text_2019_min25.csv', index_col='Unnamed: 0')"
   ]
  },
  {
   "cell_type": "code",
   "execution_count": 26,
   "metadata": {},
   "outputs": [],
   "source": [
    "dt_mat = pd.read_csv(data_path + '10K_dtmatrix_2019_min25.txt', index_col='Unnamed: 0')\n",
    "dt_vals = dt_mat.values"
   ]
  },
  {
   "cell_type": "code",
   "execution_count": 27,
   "metadata": {},
   "outputs": [
    {
     "data": {
      "text/plain": [
       "(4033, 19170)"
      ]
     },
     "execution_count": 27,
     "metadata": {},
     "output_type": "execute_result"
    }
   ],
   "source": [
    "dt_mat.shape"
   ]
  },
  {
   "cell_type": "code",
   "execution_count": 28,
   "metadata": {},
   "outputs": [],
   "source": [
    "vocab_df = pd.read_csv(data_path + '10K_vocab_2019_min25.csv', index_col='Unnamed: 0', keep_default_na=False)"
   ]
  },
  {
   "cell_type": "code",
   "execution_count": 29,
   "metadata": {},
   "outputs": [],
   "source": [
    "vocab = vocab_df.to_dict()['0']"
   ]
  },
  {
   "cell_type": "code",
   "execution_count": 30,
   "metadata": {},
   "outputs": [
    {
     "data": {
      "text/plain": [
       "3196"
      ]
     },
     "execution_count": 30,
     "metadata": {},
     "output_type": "execute_result"
    }
   ],
   "source": [
    "tics = pd.read_csv(data_path+'tic_cik_crosswalk.csv') #3196\n",
    "raw_data.cik.isin(tics.cik).sum()"
   ]
  },
  {
   "cell_type": "code",
   "execution_count": 31,
   "metadata": {},
   "outputs": [],
   "source": [
    "# alternative ticker datasets (even fewer matches)\n",
    "\n",
    "# tickers = pd.read_csv('../../cik_ticker.csv', sep='|') #2684\n",
    "# tickers2 = pd.read_csv('../../ticker_2.txt', sep='\\t', header=None, names=['ticker', 'cik']) #3183"
   ]
  },
  {
   "cell_type": "code",
   "execution_count": 32,
   "metadata": {},
   "outputs": [],
   "source": [
    "df = raw_data.merge(tics, on='cik', how='left').copy()"
   ]
  },
  {
   "cell_type": "markdown",
   "metadata": {},
   "source": [
    "## Load compustat"
   ]
  },
  {
   "cell_type": "code",
   "execution_count": 181,
   "metadata": {},
   "outputs": [],
   "source": [
    "compustat = pd.read_csv(data_path + 'compustat.csv') #36026"
   ]
  },
  {
   "cell_type": "code",
   "execution_count": 9,
   "metadata": {},
   "outputs": [],
   "source": [
    "comp2019 = compustat[compustat.fyear==2019].copy()\n",
    "comp2019 = comp2019[comp2019.indfmt=='INDL'].reset_index(drop=True).copy()\n",
    "cols = ['act', 'at', 'emp', 'cik', 'naics']"
   ]
  },
  {
   "cell_type": "code",
   "execution_count": 10,
   "metadata": {},
   "outputs": [
    {
     "name": "stdout",
     "output_type": "stream",
     "text": [
      "Shape of comp2019: (3027, 5)\n",
      "NAs per column\n"
     ]
    },
    {
     "data": {
      "text/plain": [
       "act      623\n",
       "at         8\n",
       "emp       84\n",
       "cik        0\n",
       "naics      0\n",
       "dtype: int64"
      ]
     },
     "metadata": {},
     "output_type": "display_data"
    }
   ],
   "source": [
    "comp2019 = comp2019[cols].copy() #3027\n",
    "print(f'Shape of comp2019: {comp2019.shape}')\n",
    "print('NAs per column')\n",
    "display(comp2019.isna().sum())"
   ]
  },
  {
   "cell_type": "code",
   "execution_count": 11,
   "metadata": {},
   "outputs": [
    {
     "data": {
      "image/png": "[encoded data removed]",
      "text/plain": [
       "<Figure size 288x288 with 1 Axes>"
      ]
     },
     "metadata": {
      "needs_background": "light"
     },
     "output_type": "display_data"
    }
   ],
   "source": [
    "fig, ax = plt.subplots( figsize=(4,4))\n",
    "\n",
    "plt.title(f\"Correlation between at and act: {np.corrcoef( comp2019.dropna()['at'],comp2019.dropna()['act'])[0,1]}\")\n",
    "\n",
    "plt.plot(comp2019.dropna()['at'], label='at')\n",
    "plt.plot(comp2019.dropna().act, label='act')\n",
    "plt.legend()\n",
    "\n",
    "plt.show()"
   ]
  },
  {
   "cell_type": "code",
   "execution_count": 12,
   "metadata": {},
   "outputs": [],
   "source": [
    "# drop act\n",
    "cols = [ 'at', 'emp', 'cik', 'naics']\n",
    "comp2019 = comp2019[cols].copy()"
   ]
  },
  {
   "cell_type": "code",
   "execution_count": 13,
   "metadata": {},
   "outputs": [],
   "source": [
    "# rescale\n",
    "comp2019['at'] = 1000*comp2019['at']\n",
    "comp2019['emp'] = 1000*comp2019['emp']"
   ]
  },
  {
   "cell_type": "code",
   "execution_count": 14,
   "metadata": {},
   "outputs": [
    {
     "name": "stdout",
     "output_type": "stream",
     "text": [
      "N. observations above 10 by column\n",
      "3012 for at\n",
      "2695 for emp\n"
     ]
    }
   ],
   "source": [
    "print('N. observations above 10 by column')\n",
    "print(f\"{comp2019[(comp2019['at']>10)].shape[0]} for at\")\n",
    "print(f\"{comp2019[(comp2019['emp']>10)].shape[0]} for emp\")"
   ]
  },
  {
   "cell_type": "code",
   "execution_count": 15,
   "metadata": {},
   "outputs": [],
   "source": [
    "comp2019 = comp2019[(comp2019.emp>10)& (comp2019['at']>10)].copy() "
   ]
  },
  {
   "cell_type": "code",
   "execution_count": 16,
   "metadata": {},
   "outputs": [
    {
     "name": "stdout",
     "output_type": "stream",
     "text": [
      "Shape of df after cleaning: (2695, 4)\n"
     ]
    }
   ],
   "source": [
    "comp2019 = comp2019.dropna().copy() #2695\n",
    "print(f'Shape of df after cleaning: {comp2019.shape}')"
   ]
  },
  {
   "cell_type": "code",
   "execution_count": 40,
   "metadata": {},
   "outputs": [],
   "source": [
    "comp2019['naics2'] = comp2019.naics.apply(lambda x: int(str(x)[:2]))"
   ]
  },
  {
   "cell_type": "markdown",
   "metadata": {},
   "source": [
    "## Load similarities"
   ]
  },
  {
   "cell_type": "code",
   "execution_count": 182,
   "metadata": {},
   "outputs": [],
   "source": [
    "#%%\n",
    "X_countvec = np.load(data_path + 'X_countvec.npy')\n",
    "X_tfidf = np.load(data_path + 'X_tfidf.npy')\n",
    "X_LSA = np.load(data_path + 'X_LSA.npy')\n",
    "X_NMF = np.load(data_path + 'X_NMF.npy')\n",
    "X_lda = np.load(data_path + 'X_lda.npy')\n",
    "X_d2v = np.load(data_path + 'X_d2v.npy')\n",
    "X_tfidf_w2v_sg = np.load(data_path + 'X_tfidf_w2v_sg.npy')\n",
    "X_avgw2v = np.load(data_path + 'X_avgw2v.npy')\n",
    "X_tfidf_glove = np.load(data_path + 'X_tfidf_glove.npy')\n",
    "X_avglove = np.load(data_path + 'X_avglove.npy')\n",
    "X_avglove_pretrained = np.load(data_path + 'X_avglove_pretrained.npy')"
   ]
  },
  {
   "cell_type": "code",
   "execution_count": 43,
   "metadata": {},
   "outputs": [],
   "source": [
    "####### COSINE SIMILARITIES\n",
    "# %%\n",
    "sims_countvec = cosine_similarity(X_countvec)\n",
    "sims_tfidf = cosine_similarity(X_tfidf)\n",
    "sims_lsa = cosine_similarity(X_LSA)\n",
    "sims_nmf = cosine_similarity(X_NMF)\n",
    "sims_lda = cosine_similarity(X_lda)\n",
    "sims_d2v = cosine_similarity(X_d2v)\n",
    "sims_tfidf_w2v_sg = cosine_similarity(X_tfidf_w2v_sg)\n",
    "sims_avgw2v = cosine_similarity(X_avgw2v)\n",
    "sims_tfidf_glove = cosine_similarity(X_tfidf_glove)\n",
    "sims_avglove = cosine_similarity(X_avglove)\n",
    "sims_avglove_pretrained = cosine_similarity(X_avglove_pretrained)\n",
    "#%%"
   ]
  },
  {
   "cell_type": "markdown",
   "metadata": {},
   "source": [
    "# Pair similarity of cik i to cik j with correspondent covariates"
   ]
  },
  {
   "cell_type": "code",
   "execution_count": 44,
   "metadata": {},
   "outputs": [],
   "source": [
    "ciks_vocab = raw_data.to_dict()['cik']\n",
    "ciks_vocab = {v:k for k,v in ciks_vocab.items()}"
   ]
  },
  {
   "cell_type": "code",
   "execution_count": 183,
   "metadata": {},
   "outputs": [],
   "source": [
    "# %%time\n",
    "# 18 min\n",
    "\n",
    "# matches = {'idx_pair':[], 'cik_pair':[],\n",
    "# 'naics':[], 'naics2':[], 'emp':[], 'at':[], 'sims_countvec':[], 'sims_tfidf':[], 'sims_lsa':[], 'sims_nmf':[],\n",
    "# 'sims_lda':[], 'sims_d2v':[], 'sims_tfidf_w2v_sg':[], 'sims_avgw2v':[], 'sims_tfidf_glove':[], 'sims_avglove':[],\n",
    "#            'sims_avglove_pretrained':[]}\n",
    "# for i in range(comp2019.shape[0]):\n",
    "#     for j in range(i+1, comp2019.shape[0]):\n",
    "\n",
    "#         row_i = comp2019.iloc[i].copy()\n",
    "#         row_j = comp2019.iloc[j].copy()\n",
    "\n",
    "#         cik_i = row_i.cik\n",
    "#         cik_j = row_j.cik\n",
    "#         matches['cik_pair'].append((cik_i,cik_j))\n",
    "\n",
    "#         idx_i = ciks_vocab[cik_i]\n",
    "#         idx_j = ciks_vocab[cik_j]\n",
    "#         matches['idx_pair'].append((idx_i,idx_j))\n",
    "#         matches['sims_countvec'].append(sims_countvec[idx_i, idx_j])\n",
    "#         matches['sims_tfidf'].append(sims_tfidf[idx_i, idx_j])\n",
    "#         matches['sims_lsa'].append(sims_lsa[idx_i, idx_j])\n",
    "#         matches['sims_nmf'].append(sims_nmf[idx_i, idx_j])\n",
    "#         matches['sims_lda'].append(sims_lda[idx_i, idx_j])\n",
    "#         matches['sims_d2v'].append(sims_d2v[idx_i, idx_j])\n",
    "        \n",
    "#         matches['sims_tfidf_w2v_sg'].append(sims_tfidf_w2v_sg[idx_i, idx_j])\n",
    "#         matches['sims_avgw2v'].append(sims_avgw2v[idx_i, idx_j])\n",
    "#         matches['sims_tfidf_glove'].append(sims_tfidf_glove[idx_i, idx_j])\n",
    "#         matches['sims_avglove'].append(sims_avglove[idx_i, idx_j])\n",
    "#         matches['sims_avglove_pretrained'].append(sims_avglove_pretrained[idx_i, idx_j])\n",
    "        \n",
    "\n",
    "#         naics_i = row_i.naics\n",
    "#         naics_j = row_j.naics\n",
    "#         matches['naics'].append(1 if naics_i==naics_j else 0)\n",
    "        \n",
    "#         naics2_i = row_i.naics2\n",
    "#         naics2_j = row_j.naics2\n",
    "#         matches['naics2'].append(1 if naics2_i==naics2_j else 0)\n",
    "\n",
    "#         for cov in ['at', 'emp']:\n",
    "#             cov_i = row_i[cov]\n",
    "#             cov_j = row_j[cov]\n",
    "#             cov_val = np.log(cov_i/cov_j)\n",
    "#             matches[cov].append(cov_val)\n",
    "#     if i%200==0:\n",
    "#         print(i)"
   ]
  },
  {
   "cell_type": "code",
   "execution_count": 52,
   "metadata": {},
   "outputs": [],
   "source": [
    "# filename = data_path + 'matches_dict.sav'\n",
    "# with open(filename, 'wb') as f:\n",
    "#     pickle.dump((matches), f)"
   ]
  },
  {
   "cell_type": "code",
   "execution_count": 53,
   "metadata": {},
   "outputs": [],
   "source": [
    "filename = data_path + 'matches_dict.sav'\n",
    "with open(filename, 'rb') as fr:\n",
    "    matches = pickle.load(fr)"
   ]
  },
  {
   "cell_type": "markdown",
   "metadata": {},
   "source": [
    "# Regression analysis"
   ]
  },
  {
   "cell_type": "code",
   "execution_count": 56,
   "metadata": {},
   "outputs": [],
   "source": [
    "df_all = pd.DataFrame.from_dict(matches)"
   ]
  },
  {
   "cell_type": "code",
   "execution_count": 57,
   "metadata": {},
   "outputs": [
    {
     "name": "stdout",
     "output_type": "stream",
     "text": [
      "n. observations: (3630165, 17)\n"
     ]
    }
   ],
   "source": [
    "print('n. observations:', df_all.shape)"
   ]
  },
  {
   "cell_type": "code",
   "execution_count": 171,
   "metadata": {},
   "outputs": [],
   "source": [
    "SEED=879"
   ]
  },
  {
   "cell_type": "code",
   "execution_count": 172,
   "metadata": {},
   "outputs": [],
   "source": [
    "sample =df_all.sample(10000, random_state=SEED)"
   ]
  },
  {
   "cell_type": "code",
   "execution_count": 173,
   "metadata": {},
   "outputs": [
    {
     "data": {
      "image/png": "[encoded data removed]",
      "text/plain": [
       "<Figure size 1152x432 with 2 Axes>"
      ]
     },
     "metadata": {
      "needs_background": "light"
     },
     "output_type": "display_data"
    }
   ],
   "source": [
    "fig, ax = plt.subplots(1,2, figsize=(16,6))\n",
    "\n",
    "fig.suptitle(f\"NAICS agreement overview for 2019 data\", fontsize=20)\n",
    "\n",
    "ax[0].bar([0,1], df_all.naics2.value_counts())\n",
    "ax[0].set_title('All data')\n",
    "\n",
    "ax[1].bar([0,1], sample.naics2.value_counts())\n",
    "ax[1].set_title('Sample used for regression')\n",
    "\n",
    "\n",
    "plt.tight_layout()\n",
    "plt.subplots_adjust(left=None, bottom=0.1, right=None, top=0.86, wspace=0.3, hspace=0.3)\n",
    "plt.xticks([0,1])\n",
    "\n",
    "plt.show()"
   ]
  },
  {
   "cell_type": "code",
   "execution_count": 174,
   "metadata": {},
   "outputs": [],
   "source": [
    "ys_labs = ['sims_countvec', 'sims_tfidf', 'sims_lsa', 'sims_nmf',\n",
    "'sims_lda', 'sims_d2v', 'sims_tfidf_w2v_sg', 'sims_avgw2v', \n",
    "           'sims_tfidf_glove', 'sims_avglove','sims_avglove_pretrained']\n",
    "\n",
    "cov_labs = ['naics2', 'at', 'emp']\n",
    "X = sample[cov_labs].copy()\n",
    "X_c = sm.add_constant(X)"
   ]
  },
  {
   "cell_type": "code",
   "execution_count": 175,
   "metadata": {},
   "outputs": [],
   "source": [
    "# scale X\n",
    "X_c['at'] = X_c['at']/(X_c['at'].std())\n",
    "X_c['emp'] = X_c['emp']/(X_c['emp'].std())"
   ]
  },
  {
   "cell_type": "code",
   "execution_count": 176,
   "metadata": {},
   "outputs": [],
   "source": [
    "res_by_model ={y_lab:{'params':[], 'conf_int':[]} for y_lab in ys_labs}\n",
    "for y_lab in ys_labs:\n",
    "    # scale y\n",
    "    y = sample[y_lab]/(sample[y_lab].std())\n",
    "    \n",
    "    model = sm.OLS(y, X_c)\n",
    "    results = model.fit()\n",
    "    res_by_model[y_lab]['params'].append(results.params.values)\n",
    "    res_by_model[y_lab]['conf_int'].append(results.conf_int().values)"
   ]
  },
  {
   "cell_type": "code",
   "execution_count": 177,
   "metadata": {},
   "outputs": [],
   "source": [
    "res_by_covariate ={cov:{'params':{}, 'conf_int':{}} for cov in (['intercept'] + cov_labs)}\n",
    "\n",
    "for y_lab in ys_labs:\n",
    "    res_by_covariate['intercept']['params'][y_lab] = res_by_model[y_lab]['params'][0][0]\n",
    "    res_by_covariate['intercept']['conf_int'][y_lab] = res_by_model[y_lab]['conf_int'][0][0]\n",
    "\n",
    "    res_by_covariate['naics2']['params'][y_lab] = res_by_model[y_lab]['params'][0][1]\n",
    "    res_by_covariate['naics2']['conf_int'][y_lab] = res_by_model[y_lab]['conf_int'][0][1]\n",
    "\n",
    "    res_by_covariate['at']['params'][y_lab] = res_by_model[y_lab]['params'][0][2]\n",
    "    res_by_covariate['at']['conf_int'][y_lab] = res_by_model[y_lab]['conf_int'][0][2]\n",
    "\n",
    "    res_by_covariate['emp']['params'][y_lab] = res_by_model[y_lab]['params'][0][3]\n",
    "    res_by_covariate['emp']['conf_int'][y_lab] = res_by_model[y_lab]['conf_int'][0][3]"
   ]
  },
  {
   "cell_type": "code",
   "execution_count": 184,
   "metadata": {},
   "outputs": [
    {
     "data": {
      "image/png": "[encoded data removed]",
      "text/plain": [
       "<Figure size 720x720 with 4 Axes>"
      ]
     },
     "metadata": {
      "needs_background": "light"
     },
     "output_type": "display_data"
    }
   ],
   "source": [
    "fig, ax = plt.subplots(2,2, figsize=(10,10))\n",
    "\n",
    "# fig.suptitle('Regression of cik similarity on compustat covariates \\n with intercept',\n",
    "# size=20)\n",
    "\n",
    "names = ['countvec', 'tfidf', 'lsa', 'nmf',\n",
    "'lda', 'd2v', 'tfidf-w2v-sg', 'avgw2v', 'tfidf-glove', 'avglove','glove-pretrained']\n",
    "cov_labs = list(res_by_covariate.keys())\n",
    "cov_lab_names = ['Intercept', 'NAICS2', 'Total Assets', 'Employees']\n",
    "\n",
    "for ix,a in enumerate(ax.flatten()):\n",
    "    reg_mean = np.array(list(res_by_covariate[cov_labs[ix]]['params'].values()))\n",
    "    CI = np.array(list(res_by_covariate[cov_labs[ix]]['conf_int'].values()))\n",
    "    err = (CI - reg_mean[:,None])\n",
    "    err = np.abs(err)\n",
    "\n",
    "    a.scatter(reg_mean[::-1], range(len(names)), s=5, color='#1f77b4')\n",
    "    a.set_title(cov_lab_names[ix])\n",
    "    for x, y, er in zip(reg_mean[::-1],range(len(names)),  err[::-1]):\n",
    "        a.errorbar(x=x, y=y, xerr=er[:,None], fmt='none', \n",
    "        elinewidth=1, capsize=1, color='#1f77b4')\n",
    "    a.set_yticks(range(len(ys_labs)))\n",
    "    a.set_yticklabels(names[::-1])\n",
    "    a.axvline(0, linestyle='dashed', color='black', alpha=0.5)\n",
    "#     a.set_ylim(top=1.1)\n",
    "    a.xaxis.set_major_locator(plt.MaxNLocator(4))\n",
    "\n",
    "plt.tight_layout()\n",
    "plt.subplots_adjust(left=None, bottom=0.1, right=None, top=0.9, wspace=0.6, hspace=0.3)\n",
    "plt.savefig('reg_cosine_similarity_compustat_10000pairs.png')\n",
    "\n",
    "plt.show()"
   ]
  }
 ],
 "metadata": {
  "kernelspec": {
   "display_name": "Python 3",
   "language": "python",
   "name": "python3"
  },
  "language_info": {
   "codemirror_mode": {
    "name": "ipython",
    "version": 3
   },
   "file_extension": ".py",
   "mimetype": "text/x-python",
   "name": "python",
   "nbconvert_exporter": "python",
   "pygments_lexer": "ipython3",
   "version": "3.8.3"
  },
  "toc": {
   "base_numbering": 1,
   "nav_menu": {},
   "number_sections": true,
   "sideBar": true,
   "skip_h1_title": false,
   "title_cell": "Table of Contents",
   "title_sidebar": "Contents",
   "toc_cell": false,
   "toc_position": {},
   "toc_section_display": true,
   "toc_window_display": false
  }
 },
 "nbformat": 4,
 "nbformat_minor": 2
}
