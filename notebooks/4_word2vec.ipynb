{
  "cells": [
    {
      "cell_type": "markdown",
      "id": "optional-influence",
      "metadata": {
        "id": "optional-influence"
      },
      "source": [
        "# **Introduction to Word Embeddings**\n",
        "\n",
        "This tutorial illustrates several applications of word embeddings by estimating a Word2Vec model using an off-the-shelf python library (```Gensim```).\n",
        "\n",
        "Some additional resources on Word2Vec:\n",
        "- [Jurafsky & Martin (2021). Book chapter.](https://web.stanford.edu/~jurafsky/slp3/6.pdf)\n",
        "- [Mikolov et al. (2013). Original paper.](https://arxiv.org/pdf/1301.3781.pdf)\n",
        "- [Rong (2016). Additional explanation on how to train the model.](https://arxiv.org/pdf/1411.2738.pdf)\n",
        "- [Alammar (2019). Illustrated guide.](https://jalammar.github.io/illustrated-word2vec/)\n",
        "- [Gensim documentation](https://radimrehurek.com/gensim/models/word2vec.html)"
      ]
    },
    {
      "cell_type": "markdown",
      "id": "e75c2330-27c2-4cf6-b7d8-312d7b60c898",
      "metadata": {
        "id": "e75c2330-27c2-4cf6-b7d8-312d7b60c898"
      },
      "source": [
        "## **Setup**"
      ]
    },
    {
      "cell_type": "code",
      "execution_count": 1,
      "id": "bc05b753-7cb8-43b7-8ec8-680bb0f188ba",
      "metadata": {
        "id": "bc05b753-7cb8-43b7-8ec8-680bb0f188ba",
        "colab": {
          "base_uri": "https://localhost:8080/"
        },
        "outputId": "e7048839-a2a9-4db0-f15f-fdf01b7983e5"
      },
      "outputs": [
        {
          "output_type": "stream",
          "name": "stdout",
          "text": [
            "Looking in indexes: https://pypi.org/simple, https://us-python.pkg.dev/colab-wheels/public/simple/\n",
            "Collecting flashtext\n",
            "  Downloading flashtext-2.7.tar.gz (14 kB)\n",
            "Building wheels for collected packages: flashtext\n",
            "  Building wheel for flashtext (setup.py) ... \u001b[?25l\u001b[?25hdone\n",
            "  Created wheel for flashtext: filename=flashtext-2.7-py2.py3-none-any.whl size=9309 sha256=03986af5df6042ea1c6025bc39b5f1be8cf61446762343330cb468d9661107a9\n",
            "  Stored in directory: /root/.cache/pip/wheels/cb/19/58/4e8fdd0009a7f89dbce3c18fff2e0d0fa201d5cdfd16f113b7\n",
            "Successfully built flashtext\n",
            "Installing collected packages: flashtext\n",
            "Successfully installed flashtext-2.7\n",
            "Looking in indexes: https://pypi.org/simple, https://us-python.pkg.dev/colab-wheels/public/simple/\n",
            "Collecting contractions\n",
            "  Downloading contractions-0.1.72-py2.py3-none-any.whl (8.3 kB)\n",
            "Collecting textsearch>=0.0.21\n",
            "  Downloading textsearch-0.0.21-py2.py3-none-any.whl (7.5 kB)\n",
            "Collecting anyascii\n",
            "  Downloading anyascii-0.3.1-py3-none-any.whl (287 kB)\n",
            "\u001b[K     |████████████████████████████████| 287 kB 10.0 MB/s \n",
            "\u001b[?25hCollecting pyahocorasick\n",
            "  Downloading pyahocorasick-1.4.4-cp37-cp37m-manylinux_2_17_x86_64.manylinux2014_x86_64.whl (106 kB)\n",
            "\u001b[K     |████████████████████████████████| 106 kB 64.0 MB/s \n",
            "\u001b[?25hInstalling collected packages: pyahocorasick, anyascii, textsearch, contractions\n",
            "Successfully installed anyascii-0.3.1 contractions-0.1.72 pyahocorasick-1.4.4 textsearch-0.0.21\n",
            "Looking in indexes: https://pypi.org/simple, https://us-python.pkg.dev/colab-wheels/public/simple/\n",
            "Requirement already satisfied: spacy==2.2.4 in /usr/local/lib/python3.7/dist-packages (2.2.4)\n",
            "Requirement already satisfied: plac<1.2.0,>=0.9.6 in /usr/local/lib/python3.7/dist-packages (from spacy==2.2.4) (1.1.3)\n",
            "Requirement already satisfied: cymem<2.1.0,>=2.0.2 in /usr/local/lib/python3.7/dist-packages (from spacy==2.2.4) (2.0.6)\n",
            "Requirement already satisfied: murmurhash<1.1.0,>=0.28.0 in /usr/local/lib/python3.7/dist-packages (from spacy==2.2.4) (1.0.7)\n",
            "Requirement already satisfied: srsly<1.1.0,>=1.0.2 in /usr/local/lib/python3.7/dist-packages (from spacy==2.2.4) (1.0.5)\n",
            "Requirement already satisfied: numpy>=1.15.0 in /usr/local/lib/python3.7/dist-packages (from spacy==2.2.4) (1.21.6)\n",
            "Requirement already satisfied: catalogue<1.1.0,>=0.0.7 in /usr/local/lib/python3.7/dist-packages (from spacy==2.2.4) (1.0.0)\n",
            "Requirement already satisfied: preshed<3.1.0,>=3.0.2 in /usr/local/lib/python3.7/dist-packages (from spacy==2.2.4) (3.0.6)\n",
            "Requirement already satisfied: thinc==7.4.0 in /usr/local/lib/python3.7/dist-packages (from spacy==2.2.4) (7.4.0)\n",
            "Requirement already satisfied: wasabi<1.1.0,>=0.4.0 in /usr/local/lib/python3.7/dist-packages (from spacy==2.2.4) (0.9.1)\n",
            "Requirement already satisfied: setuptools in /usr/local/lib/python3.7/dist-packages (from spacy==2.2.4) (57.4.0)\n",
            "Requirement already satisfied: requests<3.0.0,>=2.13.0 in /usr/local/lib/python3.7/dist-packages (from spacy==2.2.4) (2.23.0)\n",
            "Requirement already satisfied: tqdm<5.0.0,>=4.38.0 in /usr/local/lib/python3.7/dist-packages (from spacy==2.2.4) (4.64.0)\n",
            "Requirement already satisfied: blis<0.5.0,>=0.4.0 in /usr/local/lib/python3.7/dist-packages (from spacy==2.2.4) (0.4.1)\n",
            "Requirement already satisfied: importlib-metadata>=0.20 in /usr/local/lib/python3.7/dist-packages (from catalogue<1.1.0,>=0.0.7->spacy==2.2.4) (4.11.4)\n",
            "Requirement already satisfied: zipp>=0.5 in /usr/local/lib/python3.7/dist-packages (from importlib-metadata>=0.20->catalogue<1.1.0,>=0.0.7->spacy==2.2.4) (3.8.0)\n",
            "Requirement already satisfied: typing-extensions>=3.6.4 in /usr/local/lib/python3.7/dist-packages (from importlib-metadata>=0.20->catalogue<1.1.0,>=0.0.7->spacy==2.2.4) (4.2.0)\n",
            "Requirement already satisfied: urllib3!=1.25.0,!=1.25.1,<1.26,>=1.21.1 in /usr/local/lib/python3.7/dist-packages (from requests<3.0.0,>=2.13.0->spacy==2.2.4) (1.24.3)\n",
            "Requirement already satisfied: chardet<4,>=3.0.2 in /usr/local/lib/python3.7/dist-packages (from requests<3.0.0,>=2.13.0->spacy==2.2.4) (3.0.4)\n",
            "Requirement already satisfied: idna<3,>=2.5 in /usr/local/lib/python3.7/dist-packages (from requests<3.0.0,>=2.13.0->spacy==2.2.4) (2.10)\n",
            "Requirement already satisfied: certifi>=2017.4.17 in /usr/local/lib/python3.7/dist-packages (from requests<3.0.0,>=2.13.0->spacy==2.2.4) (2022.5.18.1)\n",
            "Looking in indexes: https://pypi.org/simple, https://us-python.pkg.dev/colab-wheels/public/simple/\n",
            "Collecting gensim==4.0.0\n",
            "  Downloading gensim-4.0.0-cp37-cp37m-manylinux1_x86_64.whl (23.9 MB)\n",
            "\u001b[K     |████████████████████████████████| 23.9 MB 5.9 MB/s \n",
            "\u001b[?25hRequirement already satisfied: numpy>=1.11.3 in /usr/local/lib/python3.7/dist-packages (from gensim==4.0.0) (1.21.6)\n",
            "Requirement already satisfied: scipy>=0.18.1 in /usr/local/lib/python3.7/dist-packages (from gensim==4.0.0) (1.4.1)\n",
            "Requirement already satisfied: smart-open>=1.8.1 in /usr/local/lib/python3.7/dist-packages (from gensim==4.0.0) (6.0.0)\n",
            "Installing collected packages: gensim\n",
            "  Attempting uninstall: gensim\n",
            "    Found existing installation: gensim 3.6.0\n",
            "    Uninstalling gensim-3.6.0:\n",
            "      Successfully uninstalled gensim-3.6.0\n",
            "Successfully installed gensim-4.0.0\n",
            "Looking in indexes: https://pypi.org/simple, https://us-python.pkg.dev/colab-wheels/public/simple/\n",
            "Collecting adjustText\n",
            "  Downloading adjustText-0.7.3.tar.gz (7.5 kB)\n",
            "Requirement already satisfied: numpy in /usr/local/lib/python3.7/dist-packages (from adjustText) (1.21.6)\n",
            "Requirement already satisfied: matplotlib in /usr/local/lib/python3.7/dist-packages (from adjustText) (3.2.2)\n",
            "Requirement already satisfied: pyparsing!=2.0.4,!=2.1.2,!=2.1.6,>=2.0.1 in /usr/local/lib/python3.7/dist-packages (from matplotlib->adjustText) (3.0.9)\n",
            "Requirement already satisfied: cycler>=0.10 in /usr/local/lib/python3.7/dist-packages (from matplotlib->adjustText) (0.11.0)\n",
            "Requirement already satisfied: python-dateutil>=2.1 in /usr/local/lib/python3.7/dist-packages (from matplotlib->adjustText) (2.8.2)\n",
            "Requirement already satisfied: kiwisolver>=1.0.1 in /usr/local/lib/python3.7/dist-packages (from matplotlib->adjustText) (1.4.2)\n",
            "Requirement already satisfied: typing-extensions in /usr/local/lib/python3.7/dist-packages (from kiwisolver>=1.0.1->matplotlib->adjustText) (4.2.0)\n",
            "Requirement already satisfied: six>=1.5 in /usr/local/lib/python3.7/dist-packages (from python-dateutil>=2.1->matplotlib->adjustText) (1.15.0)\n",
            "Building wheels for collected packages: adjustText\n",
            "  Building wheel for adjustText (setup.py) ... \u001b[?25l\u001b[?25hdone\n",
            "  Created wheel for adjustText: filename=adjustText-0.7.3-py3-none-any.whl size=7097 sha256=61c1bfe901096e29d870fd7309de9480ce60dc8ea501b5b2216bb5e794651dfd\n",
            "  Stored in directory: /root/.cache/pip/wheels/2f/98/32/afbf902d8f040fadfdf0a44357e4ab750afe165d873bf5893d\n",
            "Successfully built adjustText\n",
            "Installing collected packages: adjustText\n",
            "Successfully installed adjustText-0.7.3\n"
          ]
        }
      ],
      "source": [
        "# install required libraries\n",
        "!pip3 install flashtext                  # easy phrase replacing methods\n",
        "!pip3 install contractions               # expand English contractions \n",
        "!pip3 install --upgrade spacy==2.2.4     # functions for lemmatizing\n",
        "!pip3 install gensim==4.0.0              # word2vec estimation\n",
        "!pip3 install adjustText                 # generate plots with lots of text labels"
      ]
    },
    {
      "cell_type": "code",
      "metadata": {
        "id": "fbd338d1-11bc-4cc7-a173-4ecf5920ddc3"
      },
      "source": [
        "# (COLAB) you might need to restart RUNTIME after installing packages!"
      ],
      "execution_count": 2,
      "outputs": [],
      "id": "fbd338d1-11bc-4cc7-a173-4ecf5920ddc3"
    },
    {
      "cell_type": "code",
      "metadata": {
        "id": "547399b5-1e4f-4c55-b703-530dd83ffd75",
        "colab": {
          "base_uri": "https://localhost:8080/"
        },
        "outputId": "9aa0601f-ed71-4148-a6b5-9794c626ad70"
      },
      "source": [
        "# (COLAB) clone the public Github repository\n",
        "!git clone https://github.com/yabramuvdi/pymodules-test.git"
      ],
      "execution_count": 3,
      "outputs": [
        {
          "output_type": "stream",
          "name": "stdout",
          "text": [
            "Cloning into 'pymodules-test'...\n",
            "remote: Enumerating objects: 15, done.\u001b[K\n",
            "remote: Counting objects: 100% (15/15), done.\u001b[K\n",
            "remote: Compressing objects: 100% (11/11), done.\u001b[K\n",
            "remote: Total 15 (delta 2), reused 15 (delta 2), pack-reused 0\u001b[K\n",
            "Unpacking objects: 100% (15/15), done.\n"
          ]
        }
      ],
      "id": "547399b5-1e4f-4c55-b703-530dd83ffd75"
    },
    {
      "cell_type": "code",
      "execution_count": 9,
      "id": "military-demonstration",
      "metadata": {
        "id": "military-demonstration"
      },
      "outputs": [],
      "source": [
        "import sys\n",
        "import pandas as pd\n",
        "import numpy as np\n",
        "import gdown\n",
        "import string\n",
        "from gensim.models import Word2Vec\n",
        "import matplotlib.pyplot as plt\n",
        "from adjustText import adjust_text\n",
        "from sklearn.decomposition import PCA\n",
        "from collections import Counter\n",
        "from sklearn.preprocessing import StandardScaler"
      ]
    },
    {
      "cell_type": "code",
      "execution_count": 8,
      "id": "5824485c",
      "metadata": {
        "id": "5824485c"
      },
      "outputs": [],
      "source": [
        "# define paths\n",
        "data_path = \"./\"\n",
        "pymodules_path = \"./pymodules-test/pymodules/\"  # for COLAB\n",
        "#pymodules_path = \"../pymodules/\"  # for local repository"
      ]
    },
    {
      "cell_type": "code",
      "execution_count": 6,
      "id": "3ed59a1b",
      "metadata": {
        "id": "3ed59a1b"
      },
      "outputs": [],
      "source": [
        "# import our own code\n",
        "sys.path.append(pymodules_path)\n",
        "import preprocessing_class as pc\n",
        "import dictionary_methods as dictionary_methods"
      ]
    },
    {
      "cell_type": "markdown",
      "id": "ff8cb7d3-d86a-4fdc-acc5-7402e74b12c8",
      "metadata": {
        "id": "ff8cb7d3-d86a-4fdc-acc5-7402e74b12c8"
      },
      "source": [
        "## **Off-the-shelf Word2Vec using Gensim**\n",
        "\n",
        "[Gensim](https://radimrehurek.com/gensim/index.html) is a very powerful library that contains efficient (written in ```C```) implementations of several NLP models. Word2Vec is included among these. We will start by using this library to demonstrate use cases for word embeddings."
      ]
    },
    {
      "cell_type": "markdown",
      "id": "3a7c7a62-c1ab-4aeb-a2e8-ac009d7b6c34",
      "metadata": {
        "id": "3a7c7a62-c1ab-4aeb-a2e8-ac009d7b6c34"
      },
      "source": [
        "### *Load data and preprocess text*\n",
        "\n",
        "We will now load some real data over which we will estimate our word embeddings. We see that our data consists of paragraphs from the Inflation Reports produced by the Bank of England. The data starts on 1998 and ends in 2015. Reports are produced four times a year in the months of February, May, August and November."
      ]
    },
    {
      "cell_type": "markdown",
      "id": "5952f0ca",
      "metadata": {
        "id": "5952f0ca"
      },
      "source": [
        "As a starting point, we will need to download three data files from Google Drive:\n",
        "1. Inflation Reports data\n",
        "2. Monetary Policy Committee minutes data\n",
        "3. UK Quarterly GDP data"
      ]
    },
    {
      "cell_type": "code",
      "source": [
        "# define dictionary with paths to data in Google Drive\n",
        "data_url_dict = {\"ir_data_final\":        (\"https://drive.google.com/uc?id=1-COWuk2ZitrywYnLoJ7HVx2GJumTmgTs\", \"txt\"),\n",
        "                 \"mpc_minutes\":          (\"https://drive.google.com/uc?id=1k086m12gBHKuVMPv4GUD1aB_kZOZpznR\", \"txt\"),\n",
        "                 \"uk_quarterly_gdp\":     (\"https://drive.google.com/uc?id=1iu3okLOaz4dVbaYWB_jmBM7vZfRczgkS\", \"csv\")\n",
        "                  }"
      ],
      "metadata": {
        "id": "nYIMYPHteHTx"
      },
      "id": "nYIMYPHteHTx",
      "execution_count": 13,
      "outputs": []
    },
    {
      "cell_type": "code",
      "source": [
        "# download each file in the dictionary\n",
        "for file_name, attributes in data_url_dict.items():\n",
        "  url = attributes[0]\n",
        "  extension = attributes[1]\n",
        "  gdown.download(url, f\"{data_path}{file_name}.{extension}\", quiet=False) "
      ],
      "metadata": {
        "colab": {
          "base_uri": "https://localhost:8080/"
        },
        "id": "UuKYi9xZeykS",
        "outputId": "4b36bfcd-bfe8-4ca7-a865-b660a4b47757"
      },
      "id": "UuKYi9xZeykS",
      "execution_count": 14,
      "outputs": [
        {
          "output_type": "stream",
          "name": "stderr",
          "text": [
            "Downloading...\n",
            "From: https://drive.google.com/uc?id=1-COWuk2ZitrywYnLoJ7HVx2GJumTmgTs\n",
            "To: /content/ir_data_final.txt\n",
            "100%|██████████| 9.53M/9.53M [00:00<00:00, 205MB/s]\n",
            "Downloading...\n",
            "From: https://drive.google.com/uc?id=1k086m12gBHKuVMPv4GUD1aB_kZOZpznR\n",
            "To: /content/mpc_minutes.txt\n",
            "100%|██████████| 7.36M/7.36M [00:00<00:00, 118MB/s]\n",
            "Downloading...\n",
            "From: https://drive.google.com/uc?id=1iu3okLOaz4dVbaYWB_jmBM7vZfRczgkS\n",
            "To: /content/uk_quarterly_gdp.csv\n",
            "100%|██████████| 3.33k/3.33k [00:00<00:00, 5.07MB/s]\n"
          ]
        }
      ]
    },
    {
      "cell_type": "code",
      "execution_count": 15,
      "id": "c9f47d7b-e1b3-4326-846b-5dd4c1a7cb99",
      "metadata": {
        "colab": {
          "base_uri": "https://localhost:8080/",
          "height": 381
        },
        "id": "c9f47d7b-e1b3-4326-846b-5dd4c1a7cb99",
        "outputId": "c04d324a-9481-439e-fe98-b1d60e469565"
      },
      "outputs": [
        {
          "output_type": "stream",
          "name": "stdout",
          "text": [
            "(15023, 2)\n"
          ]
        },
        {
          "output_type": "execute_result",
          "data": {
            "text/plain": [
              "   yearmonth                                          paragraph\n",
              "0     199802  It is almost six years since output reached it...\n",
              "1     199802  Monetary policy is currently being pulled in o...\n",
              "2     199802  On the other hand, the delayed demand effect o...\n",
              "3     199802  The scale of the slowdown depends, in part, on...\n",
              "4     199802  Net trade is weakening, but domestic demand gr...\n",
              "5     199802  The combination of sharply weakening net trade...\n",
              "6     199802  The MPC’s probability distribution for the fou...\n",
              "7     199802  The MPC’s projection of the twelve-month RPIX ...\n",
              "8     199802  Overall, the balance of risks to inflation in ...\n",
              "9     199802  Against the background of this projection, the..."
            ],
            "text/html": [
              "\n",
              "  <div id=\"df-86b8e45d-dfc7-4673-a73e-a0555a7d7c0d\">\n",
              "    <div class=\"colab-df-container\">\n",
              "      <div>\n",
              "<style scoped>\n",
              "    .dataframe tbody tr th:only-of-type {\n",
              "        vertical-align: middle;\n",
              "    }\n",
              "\n",
              "    .dataframe tbody tr th {\n",
              "        vertical-align: top;\n",
              "    }\n",
              "\n",
              "    .dataframe thead th {\n",
              "        text-align: right;\n",
              "    }\n",
              "</style>\n",
              "<table border=\"1\" class=\"dataframe\">\n",
              "  <thead>\n",
              "    <tr style=\"text-align: right;\">\n",
              "      <th></th>\n",
              "      <th>yearmonth</th>\n",
              "      <th>paragraph</th>\n",
              "    </tr>\n",
              "  </thead>\n",
              "  <tbody>\n",
              "    <tr>\n",
              "      <th>0</th>\n",
              "      <td>199802</td>\n",
              "      <td>It is almost six years since output reached it...</td>\n",
              "    </tr>\n",
              "    <tr>\n",
              "      <th>1</th>\n",
              "      <td>199802</td>\n",
              "      <td>Monetary policy is currently being pulled in o...</td>\n",
              "    </tr>\n",
              "    <tr>\n",
              "      <th>2</th>\n",
              "      <td>199802</td>\n",
              "      <td>On the other hand, the delayed demand effect o...</td>\n",
              "    </tr>\n",
              "    <tr>\n",
              "      <th>3</th>\n",
              "      <td>199802</td>\n",
              "      <td>The scale of the slowdown depends, in part, on...</td>\n",
              "    </tr>\n",
              "    <tr>\n",
              "      <th>4</th>\n",
              "      <td>199802</td>\n",
              "      <td>Net trade is weakening, but domestic demand gr...</td>\n",
              "    </tr>\n",
              "    <tr>\n",
              "      <th>5</th>\n",
              "      <td>199802</td>\n",
              "      <td>The combination of sharply weakening net trade...</td>\n",
              "    </tr>\n",
              "    <tr>\n",
              "      <th>6</th>\n",
              "      <td>199802</td>\n",
              "      <td>The MPC’s probability distribution for the fou...</td>\n",
              "    </tr>\n",
              "    <tr>\n",
              "      <th>7</th>\n",
              "      <td>199802</td>\n",
              "      <td>The MPC’s projection of the twelve-month RPIX ...</td>\n",
              "    </tr>\n",
              "    <tr>\n",
              "      <th>8</th>\n",
              "      <td>199802</td>\n",
              "      <td>Overall, the balance of risks to inflation in ...</td>\n",
              "    </tr>\n",
              "    <tr>\n",
              "      <th>9</th>\n",
              "      <td>199802</td>\n",
              "      <td>Against the background of this projection, the...</td>\n",
              "    </tr>\n",
              "  </tbody>\n",
              "</table>\n",
              "</div>\n",
              "      <button class=\"colab-df-convert\" onclick=\"convertToInteractive('df-86b8e45d-dfc7-4673-a73e-a0555a7d7c0d')\"\n",
              "              title=\"Convert this dataframe to an interactive table.\"\n",
              "              style=\"display:none;\">\n",
              "        \n",
              "  <svg xmlns=\"http://www.w3.org/2000/svg\" height=\"24px\"viewBox=\"0 0 24 24\"\n",
              "       width=\"24px\">\n",
              "    <path d=\"M0 0h24v24H0V0z\" fill=\"none\"/>\n",
              "    <path d=\"M18.56 5.44l.94 2.06.94-2.06 2.06-.94-2.06-.94-.94-2.06-.94 2.06-2.06.94zm-11 1L8.5 8.5l.94-2.06 2.06-.94-2.06-.94L8.5 2.5l-.94 2.06-2.06.94zm10 10l.94 2.06.94-2.06 2.06-.94-2.06-.94-.94-2.06-.94 2.06-2.06.94z\"/><path d=\"M17.41 7.96l-1.37-1.37c-.4-.4-.92-.59-1.43-.59-.52 0-1.04.2-1.43.59L10.3 9.45l-7.72 7.72c-.78.78-.78 2.05 0 2.83L4 21.41c.39.39.9.59 1.41.59.51 0 1.02-.2 1.41-.59l7.78-7.78 2.81-2.81c.8-.78.8-2.07 0-2.86zM5.41 20L4 18.59l7.72-7.72 1.47 1.35L5.41 20z\"/>\n",
              "  </svg>\n",
              "      </button>\n",
              "      \n",
              "  <style>\n",
              "    .colab-df-container {\n",
              "      display:flex;\n",
              "      flex-wrap:wrap;\n",
              "      gap: 12px;\n",
              "    }\n",
              "\n",
              "    .colab-df-convert {\n",
              "      background-color: #E8F0FE;\n",
              "      border: none;\n",
              "      border-radius: 50%;\n",
              "      cursor: pointer;\n",
              "      display: none;\n",
              "      fill: #1967D2;\n",
              "      height: 32px;\n",
              "      padding: 0 0 0 0;\n",
              "      width: 32px;\n",
              "    }\n",
              "\n",
              "    .colab-df-convert:hover {\n",
              "      background-color: #E2EBFA;\n",
              "      box-shadow: 0px 1px 2px rgba(60, 64, 67, 0.3), 0px 1px 3px 1px rgba(60, 64, 67, 0.15);\n",
              "      fill: #174EA6;\n",
              "    }\n",
              "\n",
              "    [theme=dark] .colab-df-convert {\n",
              "      background-color: #3B4455;\n",
              "      fill: #D2E3FC;\n",
              "    }\n",
              "\n",
              "    [theme=dark] .colab-df-convert:hover {\n",
              "      background-color: #434B5C;\n",
              "      box-shadow: 0px 1px 3px 1px rgba(0, 0, 0, 0.15);\n",
              "      filter: drop-shadow(0px 1px 2px rgba(0, 0, 0, 0.3));\n",
              "      fill: #FFFFFF;\n",
              "    }\n",
              "  </style>\n",
              "\n",
              "      <script>\n",
              "        const buttonEl =\n",
              "          document.querySelector('#df-86b8e45d-dfc7-4673-a73e-a0555a7d7c0d button.colab-df-convert');\n",
              "        buttonEl.style.display =\n",
              "          google.colab.kernel.accessAllowed ? 'block' : 'none';\n",
              "\n",
              "        async function convertToInteractive(key) {\n",
              "          const element = document.querySelector('#df-86b8e45d-dfc7-4673-a73e-a0555a7d7c0d');\n",
              "          const dataTable =\n",
              "            await google.colab.kernel.invokeFunction('convertToInteractive',\n",
              "                                                     [key], {});\n",
              "          if (!dataTable) return;\n",
              "\n",
              "          const docLinkHtml = 'Like what you see? Visit the ' +\n",
              "            '<a target=\"_blank\" href=https://colab.research.google.com/notebooks/data_table.ipynb>data table notebook</a>'\n",
              "            + ' to learn more about interactive tables.';\n",
              "          element.innerHTML = '';\n",
              "          dataTable['output_type'] = 'display_data';\n",
              "          await google.colab.output.renderOutput(dataTable, element);\n",
              "          const docLink = document.createElement('div');\n",
              "          docLink.innerHTML = docLinkHtml;\n",
              "          element.appendChild(docLink);\n",
              "        }\n",
              "      </script>\n",
              "    </div>\n",
              "  </div>\n",
              "  "
            ]
          },
          "metadata": {},
          "execution_count": 15
        }
      ],
      "source": [
        "# load the Inflation Reports (IR) data\n",
        "data = pd.read_csv(data_path + \"ir_data_final.txt\", sep=\"\\t\")\n",
        "data = data[['ir_date', 'paragraph']]\n",
        "data.columns = ['yearmonth', 'paragraph']\n",
        "print(data.shape)\n",
        "data.head(10)"
      ]
    },
    {
      "cell_type": "code",
      "execution_count": 16,
      "id": "a647e409",
      "metadata": {
        "colab": {
          "base_uri": "https://localhost:8080/",
          "height": 89
        },
        "id": "a647e409",
        "outputId": "8630d771-eee1-4f27-af24-a165beaa5dab"
      },
      "outputs": [
        {
          "output_type": "execute_result",
          "data": {
            "text/plain": [
              "'It is almost six years since output reached its trough in the last recession. Since then, output has risen at an average rate of 3% a year and inflation has fallen from almost 5% to below 3% a year. The combination of above-trend growth and falling inflation is unsustainable, and has probably already come to an end. At this juncture, with output growth likely to fall sharply, monetary policy is more finely balanced than at any point since the inflation target was introduced in 1992. The central issue is whether the existing policy stance will slow the economy sufficiently quickly to prevent further upward pressure on earnings growth and retail price inflation.'"
            ],
            "application/vnd.google.colaboratory.intrinsic+json": {
              "type": "string"
            }
          },
          "metadata": {},
          "execution_count": 16
        }
      ],
      "source": [
        "# explore one of the paragraphs\n",
        "data.loc[0, \"paragraph\"]"
      ]
    },
    {
      "cell_type": "code",
      "execution_count": 17,
      "id": "d856f1d9-edd9-4bda-a56d-b4c48a37b074",
      "metadata": {
        "colab": {
          "base_uri": "https://localhost:8080/"
        },
        "id": "d856f1d9-edd9-4bda-a56d-b4c48a37b074",
        "outputId": "fb1b1b90-0741-4e6b-ae75-fbc19fa9c489"
      },
      "outputs": [
        {
          "output_type": "stream",
          "name": "stdout",
          "text": [
            "   yearmonth  size\n",
            "0     199802   177\n",
            "1     199805   161\n",
            "2     199808   195\n",
            "3     199811   176\n",
            "4     199902   191\n",
            "\n",
            "    yearmonth  size\n",
            "65     201405   235\n",
            "66     201408   229\n",
            "67     201411   220\n",
            "68     201502   214\n",
            "69     201505   214\n"
          ]
        }
      ],
      "source": [
        "# check how often these reports are produced\n",
        "grouped = data.groupby(\"yearmonth\", as_index=False).size()\n",
        "print(grouped.head(5))\n",
        "print()\n",
        "print(grouped.tail(5))"
      ]
    },
    {
      "cell_type": "code",
      "execution_count": 18,
      "id": "e_TVUwiS1uDW",
      "metadata": {
        "id": "e_TVUwiS1uDW"
      },
      "outputs": [],
      "source": [
        "def apply_preprocessing(data, replacing_dict, pattern, punctuation):\n",
        "    \"\"\" Function to apply the steps from the preprocessing class in the correct\n",
        "        order to generate a term frequency matrix and the appropriate dictionaries\n",
        "    \"\"\"\n",
        "    \n",
        "    prep = pc.RawDocs(data, stopwords=\"short\", lower_case=True, contraction_split=True, tokenization_pattern=pattern)\n",
        "    prep.phrase_replace(replace_dict=replacing_dict, case_sensitive_replacing=False)\n",
        "    # lower-case text, expand contractions and initialize stopwords list\n",
        "    prep.basic_cleaning()\n",
        "    # split the documents into tokens\n",
        "    prep.tokenize_text()\n",
        "    # clean tokens\n",
        "    prep.token_clean(length=2, punctuation=punctuation, numbers=True)\n",
        "    # create document-term matrix\n",
        "    prep.dt_matrix_create(items='tokens', min_df=10, score_type='df')\n",
        "    \n",
        "    # get the vocabulary and the appropriate dictionaries to map from indices to words\n",
        "    word2idx = prep.vocabulary[\"tokens\"]\n",
        "    idx2word = {i:word for word,i in word2idx.items()}\n",
        "    vocab = list(word2idx.keys())\n",
        "    \n",
        "    return prep, word2idx, idx2word, vocab"
      ]
    },
    {
      "cell_type": "code",
      "execution_count": 19,
      "id": "hiGs2bZK198L",
      "metadata": {
        "id": "hiGs2bZK198L"
      },
      "outputs": [],
      "source": [
        "# define dictionary for pre-processing class with terms we want to preserve\n",
        "replacing_dict = {'monetary policy':'monetary-policy',\n",
        "                  'interest rate':'interest-rate',\n",
        "                  'interest rates':'interest-rate',\n",
        "                  'yield curve':'yield-curve',\n",
        "                  'repo rate':'repo-rate',\n",
        "                  'bond yields':'bond-yields',\n",
        "                  'real estate':'real-estate',\n",
        "                  'economic growth':'economic-growth'}"
      ]
    },
    {
      "cell_type": "code",
      "execution_count": 20,
      "id": "00ee427d-4a0b-4233-99ee-b4d4f4564a0d",
      "metadata": {
        "id": "00ee427d-4a0b-4233-99ee-b4d4f4564a0d"
      },
      "outputs": [],
      "source": [
        "# define tokenization pattern and punctuation symbols\n",
        "pattern = r'''\n",
        "          (?x)                # set flag to allow verbose regexps (to separate logical sections of pattern and add comments)\n",
        "          \\w+(?:-\\w+)*        # word characters with internal hyphens\n",
        "          | [][.,;\"'?():-_`]  # preserve punctuation as separate tokens\n",
        "          '''\n",
        "punctuation = string.punctuation.replace(\"-\", \"\")"
      ]
    },
    {
      "cell_type": "code",
      "execution_count": 21,
      "id": "ce3153bc-9af9-40ec-a5cb-25f2dfa2dd61",
      "metadata": {
        "id": "ce3153bc-9af9-40ec-a5cb-25f2dfa2dd61"
      },
      "outputs": [],
      "source": [
        "# use preprocessing class\n",
        "prep, word2idx, idx2word, vocab = apply_preprocessing(data.paragraph, replacing_dict, pattern, punctuation)"
      ]
    },
    {
      "cell_type": "code",
      "execution_count": 22,
      "id": "7bf4b965-5095-42d4-84ec-d9d64bd063fa",
      "metadata": {
        "colab": {
          "base_uri": "https://localhost:8080/"
        },
        "id": "7bf4b965-5095-42d4-84ec-d9d64bd063fa",
        "outputId": "b0b21569-b4c8-46c7-b147-e1126b77f3d1"
      },
      "outputs": [
        {
          "output_type": "stream",
          "name": "stdout",
          "text": [
            "Broad money continues to grow at double-digit rates (see Chart 1.1). But there are signs that the pace of growth has moderated since the first half of 1997. The slowdown in money growth was preceded by a slowdown in lending, particularly to the corporate sector. Official interest rates have been unchanged since the rise in the Bank’s repo rate on 6 November to 7.25%. Long-term nominal interest rates have fallen by around 50 basis points in the United Kingdom and by around 40 basis points overseas during the same period. The starting-point for the nominal effective exchange rate in the inflation projection, based on its average value in the 15 working days to 4 February, was 104.9—around 2.8% higher than the starting-point used in the November Report.\n",
            "\n",
            " ------------------------------- \n",
            "\n",
            "['broad', 'money', 'continues', 'grow', 'rates', 'see', 'chart', 'but', 'there', 'are', 'signs', 'that', 'the', 'pace', 'growth', 'has', 'moderated', 'since', 'the', 'first', 'half', 'the', 'slowdown', 'money', 'growth', 'was', 'slowdown', 'lending', 'particularly', 'the', 'corporate', 'sector', 'official', 'interest-rate', 'have', 'been', 'unchanged', 'since', 'the', 'rise', 'the', 'bank', 'repo-rate', 'november', 'long-term', 'nominal', 'interest-rate', 'have', 'fallen', 'around', 'basis', 'points', 'the', 'united', 'kingdom', 'and', 'around', 'basis', 'points', 'overseas', 'during', 'the', 'same', 'period', 'the', 'starting-point', 'for', 'the', 'nominal', 'effective', 'exchange', 'rate', 'the', 'inflation', 'projection', 'based', 'its', 'average', 'value', 'the', 'working', 'days', 'february', 'was', 'around', 'higher', 'than', 'the', 'starting-point', 'used', 'the', 'november', 'report']\n"
          ]
        }
      ],
      "source": [
        "# inspect a particular tokenized document and compare to its original form\n",
        "i = 10\n",
        "print(data.paragraph[i])\n",
        "print(\"\\n ------------------------------- \\n\")\n",
        "print(prep.tokens[i])"
      ]
    },
    {
      "cell_type": "markdown",
      "id": "7ddc39dd-70b8-43a2-a5e7-6a943cbdce33",
      "metadata": {
        "id": "7ddc39dd-70b8-43a2-a5e7-6a943cbdce33"
      },
      "source": [
        "### *Model estimation*\n",
        "\n",
        "Now that we have our text preprocessed we can use the [Gensim](https://radimrehurek.com/gensim/) library to efficiently estimate word embeddings using word2vec."
      ]
    },
    {
      "cell_type": "code",
      "execution_count": 23,
      "id": "247cede9-6076-44c1-8977-85f6844f00d3",
      "metadata": {
        "id": "247cede9-6076-44c1-8977-85f6844f00d3"
      },
      "outputs": [],
      "source": [
        "# train Gensim's Word2Vec model\n",
        "gensim_model = Word2Vec(sentences=prep.tokens,      # corpus\n",
        "                        vector_size=100,            # embedding dimension\n",
        "                        window=4,                   # words before and after to take into consideration\n",
        "                        sg=1,                       # use skip-gram\n",
        "                        negative=5,                 # number of negative examples for each positive one\n",
        "                        alpha=0.025,                # initial learning rate\n",
        "                        min_alpha=0.0001,           # minimum learning rate\n",
        "                        epochs=5,                   # number of passes through the data\n",
        "                        min_count=1,                # words that appear less than this are removed\n",
        "                        workers=1,                  # we use 1 to ensure replicability\n",
        "                        seed=92                     # for replicability\n",
        "                       )"
      ]
    },
    {
      "cell_type": "code",
      "execution_count": 24,
      "id": "b9ca52c2-38b9-4377-9d19-c46f0c7194f2",
      "metadata": {
        "id": "b9ca52c2-38b9-4377-9d19-c46f0c7194f2",
        "colab": {
          "base_uri": "https://localhost:8080/"
        },
        "outputId": "ff6c18dd-3825-4de8-9356-e1cab5ec6141"
      },
      "outputs": [
        {
          "output_type": "execute_result",
          "data": {
            "text/plain": [
              "(3579, 100)"
            ]
          },
          "metadata": {},
          "execution_count": 24
        }
      ],
      "source": [
        "# extract the word embeddings from the model\n",
        "word_vectors = gensim_model.wv\n",
        "word_vectors.vectors.shape  # vocab_size x embeddings dimension"
      ]
    },
    {
      "cell_type": "markdown",
      "id": "8eb3d717",
      "metadata": {
        "id": "8eb3d717"
      },
      "source": [
        "There a lot of different ways in which we can use these estimated word embeddings. We will start by showing a simple way to visualize them in 2-dimensions."
      ]
    },
    {
      "cell_type": "markdown",
      "id": "8afe694f-f4ee-486a-ac1b-7b2720077a7b",
      "metadata": {
        "id": "8afe694f-f4ee-486a-ac1b-7b2720077a7b"
      },
      "source": [
        "### *Visualization*"
      ]
    },
    {
      "cell_type": "code",
      "execution_count": 25,
      "id": "6c11c66f-3219-4f7c-a777-fe0dc1ddb220",
      "metadata": {
        "id": "6c11c66f-3219-4f7c-a777-fe0dc1ddb220"
      },
      "outputs": [],
      "source": [
        "# use a PCA decomposition to visualize the embeddings in 2D\n",
        "def pca_scatterplot(model, words):\n",
        "    pca = PCA(n_components=2, random_state=92)\n",
        "    word_vectors = np.array([model[w] for w in words])\n",
        "    low_dim_emb = pca.fit_transform(word_vectors)\n",
        "    plt.figure(figsize=(21,10))\n",
        "    plt.scatter(low_dim_emb[:,0], low_dim_emb[:,1], edgecolors='blue', c='blue')\n",
        "    plt.xlabel(\"Component 1\")\n",
        "    plt.ylabel(\"Component 2\")\n",
        "\n",
        "    # get the text of the plotted words\n",
        "    texts = []\n",
        "    for word, (x,y) in zip(words, low_dim_emb):\n",
        "        texts.append(plt.text(x+0.01, y+0.01, word, rotation=0))\n",
        "    \n",
        "    # adjust the position of the labels so that they dont overlap\n",
        "    adjust_text(texts)\n",
        "    # show plot\n",
        "    plt.show()"
      ]
    },
    {
      "cell_type": "code",
      "execution_count": 26,
      "id": "41a980f8-d2d7-4b7e-8aae-fb74ab132df7",
      "metadata": {
        "colab": {
          "base_uri": "https://localhost:8080/",
          "height": 606
        },
        "id": "41a980f8-d2d7-4b7e-8aae-fb74ab132df7",
        "outputId": "7481eb33-4f4b-4f8f-dd89-d9c1d9a4f613"
      },
      "outputs": [
        {
          "output_type": "display_data",
          "data": {
            "text/plain": [
              "<Figure size 1512x720 with 1 Axes>"
            ],
            "image/png": "[encoded data removed]"
          },
          "metadata": {
            "needs_background": "light"
          }
        }
      ],
      "source": [
        "# define the tokens to use in the plot\n",
        "tokens_of_interest = ['economy', 'gdp', 'production', 'output',\n",
        "                      'investment', 'confidence', 'sentiment',\n",
        "                      'uncertainty', 'inflation', 'cpi',\n",
        "                      'loan', 'mortgage', 'credit', 'debt', 'savings', \n",
        "                      'borrowing', 'housing', 'labour', 'workforce', \n",
        "                      'unemployment', 'employment', 'jobs', 'wages',\n",
        "                      'trade', 'exports', 'imports']\n",
        "\n",
        "# expand the list of tokens with all the tokens from the replacement dictionary\n",
        "tokens_of_interest = set(tokens_of_interest + list(replacing_dict.values()) )\n",
        "\n",
        "# plot\n",
        "pca_scatterplot(word_vectors, list(tokens_of_interest))"
      ]
    },
    {
      "cell_type": "markdown",
      "id": "3760eb2f",
      "metadata": {
        "id": "3760eb2f"
      },
      "source": [
        "We can clearly observe how words form some thematically cohesive groups; trade (e.g. exports, imports, trade, output), job-market (e.g. workforce, jobs, employment), housing (e.g. real-state, housing, borrowing, mortgage)."
      ]
    },
    {
      "cell_type": "markdown",
      "id": "af539380-686d-4ec5-924c-9f8bd51ace1e",
      "metadata": {
        "id": "af539380-686d-4ec5-924c-9f8bd51ace1e"
      },
      "source": [
        "### *Nearest neighbors analysis*\n",
        "\n",
        "We can further explore how words cluster in the embedded space by analyzing the nearest neighbours of some selected words."
      ]
    },
    {
      "cell_type": "code",
      "execution_count": 27,
      "id": "d5eadc3a-2711-4369-8c42-8df7c13af56a",
      "metadata": {
        "colab": {
          "base_uri": "https://localhost:8080/"
        },
        "id": "d5eadc3a-2711-4369-8c42-8df7c13af56a",
        "outputId": "883b8ce7-cb9e-4433-d0f9-d6a8d86fec51"
      },
      "outputs": [
        {
          "output_type": "stream",
          "name": "stdout",
          "text": [
            "Nearest neighbors of: uncertainty\n",
            "[('doubts', 0.6431180238723755), ('surrounding', 0.6351134777069092), ('uncertainties', 0.6242654919624329), ('surrounds', 0.6161075830459595), ('concerns', 0.6125566959381104), ('considerable', 0.6026806831359863), ('fears', 0.6019028425216675), ('depth', 0.5908679962158203), ('concern', 0.5789826512336731), ('severity', 0.5761063694953918)]\n",
            "\n",
            "\n",
            "Nearest neighbors of: risk\n",
            "[('possibility', 0.6867831945419312), ('premium', 0.6424956917762756), ('risks', 0.6314891576766968), ('downside', 0.6242894530296326), ('threat', 0.6129735112190247), ('pose', 0.5902089476585388), ('upside', 0.581644594669342), ('posing', 0.5734459161758423), ('poses', 0.5548344850540161), ('abrupt', 0.5471015572547913)]\n",
            "\n",
            "\n",
            "Nearest neighbors of: stable\n",
            "[('remarkably', 0.7123603820800781), ('fairly', 0.6778324842453003), ('flat', 0.6632624864578247), ('steady', 0.662036120891571), ('fluctuated', 0.65278559923172), ('resilient', 0.6430588960647583), ('muted', 0.6077914237976074), ('benign', 0.6054388284683228), ('characterised', 0.6013332605361938), ('drifted', 0.5888347625732422)]\n",
            "\n",
            "\n",
            "Nearest neighbors of: contraction\n",
            "[('deceleration', 0.7576823830604553), ('bounceback', 0.7292393445968628), ('destocking', 0.7210989594459534), ('slowing', 0.6965845823287964), ('softness', 0.6903616786003113), ('turnaround', 0.6877527236938477), ('lacklustre', 0.6877177357673645), ('acceleration', 0.6844177842140198), ('pause', 0.6768568158149719), ('contracted', 0.6767415404319763)]\n",
            "\n",
            "\n",
            "Nearest neighbors of: expansion\n",
            "[('vigorous', 0.7074395418167114), ('brisk', 0.6933450698852539), ('briskly', 0.692477285861969), ('upswing', 0.6887893080711365), ('upturn', 0.6734954714775085), ('contraction', 0.6626638770103455), ('expanded', 0.6540902853012085), ('robust', 0.6451496481895447), ('revival', 0.6439913511276245), ('buoyancy', 0.6374723315238953)]\n",
            "\n",
            "\n",
            "Nearest neighbors of: monetary-policy\n",
            "[('stance', 0.7525455355644226), ('policy', 0.7246508598327637), ('stimulatory', 0.6665685176849365), ('accommodative', 0.6520408987998962), ('normalisation', 0.6250324249267578), ('stimulative', 0.6117231845855713), ('understanding', 0.6006680130958557), ('expansionary', 0.6004530191421509), ('credible', 0.5969997644424438), ('effectiveness', 0.5853942632675171)]\n",
            "\n",
            "\n",
            "Nearest neighbors of: interest-rate\n",
            "[('yield-curve', 0.6692909002304077), ('yields', 0.6397483348846436), ('repo-rate', 0.6211135983467102), ('bound', 0.6100974082946777), ('rates', 0.6027879118919373), ('two-week', 0.5972716212272644), ('risk-free', 0.5926097631454468), ('convenient', 0.5911438465118408), ('libor', 0.5868016481399536), ('repo', 0.5774129033088684)]\n",
            "\n",
            "\n",
            "Nearest neighbors of: inflation\n",
            "[('cpi', 0.6875590682029724), ('rpix', 0.6800543665885925), ('non-energy', 0.5810199975967407), ('undershoot', 0.5807848572731018), ('symmetric', 0.5703262090682983), ('target', 0.5634415149688721), ('dgi', 0.5632356405258179), ('below-target', 0.5627239942550659), ('rpi', 0.5549125671386719), ('price-setters', 0.549560546875)]\n",
            "\n",
            "\n"
          ]
        }
      ],
      "source": [
        "# find the K nearest neighbours of relevant words\n",
        "K = 10\n",
        "words = [\"uncertainty\", \"risk\", \"stable\",\n",
        "         \"contraction\", \"expansion\",\n",
        "         \"monetary-policy\", \"interest-rate\", \"inflation\"]\n",
        "\n",
        "for word in words:\n",
        "    print(f\"Nearest neighbors of: {word}\")\n",
        "    print(word_vectors.most_similar(word, topn=K))\n",
        "    print(\"\\n\")"
      ]
    },
    {
      "cell_type": "markdown",
      "id": "21cf8616-e4ae-4ca5-936d-eb9c0f0c6f03",
      "metadata": {
        "id": "21cf8616-e4ae-4ca5-936d-eb9c0f0c6f03"
      },
      "source": [
        "### *Analogy tasks*"
      ]
    },
    {
      "cell_type": "markdown",
      "id": "6831515e",
      "metadata": {
        "id": "6831515e"
      },
      "source": [
        "A very interesting, and surprising, use of word embeddings is to find word analogies. The famous example used by [Mikolov et al. (2013)](https://arxiv.org/pdf/1301.3781.pdf) searches for a word $X$ in the embedded space that is similar to \"woman\" in the same sense that \"king\" is similar to \"man\". This task can be expressed in terms of a simple vector arithmetic problem as follows:\n",
        "\n",
        "$$\n",
        "\\vec{King}^{\\,} - \\vec{Man}^{\\,} = \\vec{X}^{\\,} - \\vec{Woman}^{\\,} \\\\\n",
        "\\vec{King}^{\\,} - \\vec{Man}^{\\,} + \\vec{Woman}^{\\,} = \\vec{X}^{\\,}\n",
        "$$\n",
        "\n",
        "Mikolov et al. (2013) find that when performing this operation on their trained embeddings, they are able to recover the word \"queen\".\n",
        "\n",
        "$$ \\vec{King}^{\\,} - \\vec{Man}^{\\,} + \\vec{Woman}^{\\,} \\approx \\vec{Queen}^{\\,} $$\n",
        "\n",
        "Using ```Gensim``` this operation can be very easily perfomed by simply using the ```.most_similar()``` function as follows:\n",
        "\n",
        "<center>\n",
        "\n",
        "```python\n",
        "word_vectors.most_similar(positive=['woman', 'king'], negative=['man'])\n",
        "```\n",
        "\n",
        "</center>"
      ]
    },
    {
      "cell_type": "markdown",
      "id": "2279c969",
      "metadata": {
        "id": "2279c969"
      },
      "source": [
        "We will play with this idea and try to extend it to our own domain. Some of the analogies that we will try to solve are: \n",
        "\n",
        "$$\n",
        "\\vec{Contraction}^{\\,} - \\vec{Expansion}^{\\,} + \\vec{Downward}^{\\,} = \\vec{X}^{\\,} \\\\\n",
        "\\vec{Inflation}^{\\,} - \\vec{CPI}^{\\,} + \\vec{GDP}^{\\,} = \\vec{X}^{\\,} \\\\\n",
        "$$"
      ]
    },
    {
      "cell_type": "code",
      "execution_count": 29,
      "id": "PrOTPikwjPs1",
      "metadata": {
        "colab": {
          "base_uri": "https://localhost:8080/"
        },
        "id": "PrOTPikwjPs1",
        "outputId": "a61cbfad-81c8-4228-f1ff-be3ee2ebd4f8"
      },
      "outputs": [
        {
          "output_type": "stream",
          "name": "stdout",
          "text": [
            "Analogy task for positive words: ['contraction', 'downward'] and negative words ['expansion']\n",
            "[('upward', 0.6714342832565308), ('upwards', 0.6029256582260132), ('downwards', 0.5370616912841797), ('sizable', 0.527133584022522), ('unaffected', 0.5173646211624146), ('exaggerated', 0.49844831228256226), ('lower-than-expected', 0.49681586027145386), ('masked', 0.4926820397377014), ('lessening', 0.4886062741279602), ('positively', 0.4858727753162384)]\n",
            "\n",
            "\n",
            "Analogy task for positive words: ['expansion', 'tighten'] and negative words ['contraction']\n",
            "[('improve', 0.6616867184638977), ('loosen', 0.622673749923706), ('expand', 0.5873724818229675), ('restrictive', 0.5570749640464783), ('tightening', 0.5464398264884949), ('loosening', 0.5414391756057739), ('tight', 0.5374269485473633), ('accommodative', 0.5339483618736267), ('looser', 0.5259711742401123), ('strengthen', 0.5237158536911011)]\n",
            "\n",
            "\n",
            "Analogy task for positive words: ['inflation', 'gdp'] and negative words ['cpi']\n",
            "[('four-quarter', 0.48569414019584656), ('uneven', 0.4761047065258026), ('centre', 0.47182705998420715), ('variance', 0.4637235999107361), ('recovery', 0.4561302661895752), ('outturn', 0.454123318195343), ('growth', 0.4453752338886261), ('provisionally', 0.4449962079524994), ('economic-growth', 0.43925341963768005), ('solidly', 0.4329281151294708)]\n",
            "\n",
            "\n",
            "Analogy task for positive words: ['company', 'wages'] and negative words ['profits']\n",
            "[('determinant', 0.4916902482509613), ('employers', 0.4899994432926178), ('wage', 0.4744163751602173), ('employees', 0.4682689905166626), ('demands', 0.46548163890838623), ('scarce', 0.4632311463356018), ('issue', 0.4623304605484009), ('price-setting', 0.4582245349884033), ('exerts', 0.4570516347885132), ('resistance', 0.45690059661865234)]\n",
            "\n",
            "\n"
          ]
        }
      ],
      "source": [
        "# create the analogy tasks for our data\n",
        "positive_words = [['contraction', 'downward'],\n",
        "                  ['expansion', 'tighten'],\n",
        "                  ['inflation', 'gdp'],\n",
        "                  ['company', 'wages']]\n",
        "\n",
        "negative_words = [['expansion'],\n",
        "                  ['contraction'],\n",
        "                  ['cpi'],\n",
        "                  ['profits']]\n",
        "\n",
        "for pw, nw in zip(positive_words, negative_words):\n",
        "    print(f\"Analogy task for positive words: {pw} and negative words {nw}\")\n",
        "    print(word_vectors.most_similar(positive=pw, negative=nw))\n",
        "    print(\"\\n\")"
      ]
    },
    {
      "cell_type": "markdown",
      "id": "aaca13c6-d38d-4b16-aa92-ab6623b4d47d",
      "metadata": {
        "id": "aaca13c6-d38d-4b16-aa92-ab6623b4d47d"
      },
      "source": [
        "### *Building dictionaries*\n",
        "\n",
        "One last use of word embeddings is to expand existing dictionaries by finding the nearest neighbours to a set of \"center\" terms. To illustrate this, we will show how to generate dictionaries of positive and negative terms to analyze text data from the Bank of England Monetary Police Comittee minutes."
      ]
    },
    {
      "cell_type": "code",
      "execution_count": 30,
      "id": "be80cb35-d6e7-47a8-8b67-1ff6e2886357",
      "metadata": {
        "colab": {
          "base_uri": "https://localhost:8080/"
        },
        "id": "be80cb35-d6e7-47a8-8b67-1ff6e2886357",
        "outputId": "1a177d4c-ae55-4406-dc66-150e9daa88d6"
      },
      "outputs": [
        {
          "output_type": "stream",
          "name": "stdout",
          "text": [
            "['expansion', 'stable', 'remarkably', 'steady', 'resilient', 'brisk', 'vigorous', 'robust', 'fairly', 'upswing', 'healthy', 'buoyant', 'robustly', 'buoyancy', 'solidly', 'patchy', 'stagnant', 'favourable', 'briskly', 'solid', 'bolstered', 'below-trend', 'reasonably', 'upturn', 'accelerated', 'fluctuated', 'quickened', 'lacklustre', 'flat', 'resumed', 'moderating', 'softness', 'acceleration', 'above-trend', 'slackened', 'disappointed', 'surprisingly', 'characterised', 'firm', 'contrasted', 'muted', 'spell']\n"
          ]
        }
      ],
      "source": [
        "# create a positive dictionary by finding the nearest neighbors to a combination of relevant words\n",
        "N = 40\n",
        "pos_center_terms = ['expansion', 'stable']\n",
        "pos_nn = [w for w, _ in word_vectors.most_similar(positive=pos_center_terms, topn=N)]\n",
        "pos_word2vec = pos_center_terms + pos_nn\n",
        "print(pos_word2vec)"
      ]
    },
    {
      "cell_type": "code",
      "execution_count": 31,
      "id": "a03929de-be58-4d54-a1a5-a8af2b7d80be",
      "metadata": {
        "colab": {
          "base_uri": "https://localhost:8080/"
        },
        "id": "a03929de-be58-4d54-a1a5-a8af2b7d80be",
        "outputId": "6af9f409-ce57-4b9e-9c72-c79f347ec17f"
      },
      "outputs": [
        {
          "output_type": "stream",
          "name": "stdout",
          "text": [
            "['contraction', 'uncertainty', 'bounceback', 'softness', 'destocking', 'worsening', 'severity', 'gathers', 'pause', 'deteriorating', 'deceleration', 'upswing', 'gather', 'retrenchment', 'buoyancy', 'hostilities', 'boom', 'conflict', 'lacklustre', 'patchy', 'exacerbated', 'softening', 'surge', 'sars', 'lifting', 'outbreak', 'political', 'resumption', 'doubts', 'anxieties', 'momentum', 'depth', 'sharper-than-expected', 'correction', 'uneven', 'acceleration', 'military', 'conclusion', 'concerns', 'playing', 'first-quarter', 'slackening']\n"
          ]
        }
      ],
      "source": [
        "# create a negative dictionary by finding the nearest neighbors to a combination of relevant words\n",
        "N = 40\n",
        "neg_center_terms = ['contraction', 'uncertainty']\n",
        "neg_nn = [w for w, _ in word_vectors.most_similar(positive=neg_center_terms, topn=N)]\n",
        "neg_word2vec = neg_center_terms + neg_nn\n",
        "print(neg_word2vec)"
      ]
    },
    {
      "cell_type": "code",
      "execution_count": 32,
      "id": "1c41d896-29cf-4abe-8fb1-fdd5631497cc",
      "metadata": {
        "id": "1c41d896-29cf-4abe-8fb1-fdd5631497cc"
      },
      "outputs": [],
      "source": [
        "# load data for dictionary method example (mike take a couple of minutes)\n",
        "path_dict_example = data_path + 'mpc_minutes.txt'\n",
        "data_dict, prep_dict = dictionary_methods.dict_example(path_dict_example) # dataframe, preprocessing object"
      ]
    },
    {
      "cell_type": "code",
      "execution_count": 33,
      "id": "d0f958ce-2d78-469f-abae-a3dc5c7e66c4",
      "metadata": {
        "id": "d0f958ce-2d78-469f-abae-a3dc5c7e66c4"
      },
      "outputs": [],
      "source": [
        "# generate the count of positive and negative lemmas in the corpus with our new dictionaries\n",
        "pos_counts_word2vec, neg_counts_word2vec = dictionary_methods.pos_neg_counts(prep_dict, pos_word2vec, neg_word2vec)"
      ]
    },
    {
      "cell_type": "code",
      "execution_count": 34,
      "id": "fb5e7e17-80cd-4d48-be7e-2d1e00d02d15",
      "metadata": {
        "id": "fb5e7e17-80cd-4d48-be7e-2d1e00d02d15"
      },
      "outputs": [],
      "source": [
        "# Apel and Blix-Grimaldi (2012) dictionaries\n",
        "pos_words_AB = ['accelerate','accelerated','accelerates','accelerating','expand','expanded','expanding','expands',\n",
        "             'fast','faster','fastest','gain','gained','gaining','gains','high','higher','highest','increase',\n",
        "             'increased','increases','increasing','strong','stronger','strongest']\n",
        "\n",
        "neg_words_AB = ['contract','contracted','contracting','contracts','decelerate','decelerated','decelerates',\n",
        "             'decelerating','decrease','decreased','decreases','decreasing','lose','losing','loss','losses',\n",
        "             'lost','low','lower','lowest','slow','slower','slowest','weak','weaker','weakest']"
      ]
    },
    {
      "cell_type": "code",
      "execution_count": 35,
      "id": "ad59b6fa-6d86-4409-9c80-77ff161cf8ca",
      "metadata": {
        "id": "ad59b6fa-6d86-4409-9c80-77ff161cf8ca"
      },
      "outputs": [],
      "source": [
        "# generate the count of positive and negative lemmas in the corpus with Apel and Blix-Grimaldi (2012)\n",
        "pos_counts_AB, neg_counts_AB = dictionary_methods.pos_neg_counts(prep_dict, pos_words_AB, neg_words_AB)"
      ]
    },
    {
      "cell_type": "code",
      "execution_count": 36,
      "id": "a2dd787a-ffc5-4a21-a163-8ac8d8629f90",
      "metadata": {
        "colab": {
          "base_uri": "https://localhost:8080/",
          "height": 206
        },
        "id": "a2dd787a-ffc5-4a21-a163-8ac8d8629f90",
        "outputId": "42a79718-52af-483c-8451-eaf5fd4350dc"
      },
      "outputs": [
        {
          "output_type": "execute_result",
          "data": {
            "text/plain": [
              "     date                                            minutes  year  quarter  \\\n",
              "0  199706    1 Sections I to V of this minute summarise t...  1997        2   \n",
              "1  199706    The 12-month growth rate of notes and coins ...  1997        2   \n",
              "2  199706    Broad money, too, decelerated in April: its ...  1997        2   \n",
              "3  199706       Lending growth continued at around 9% in ...  1997        2   \n",
              "4  199706       Lending to individuals remained robust in...  1997        2   \n",
              "\n",
              "   pos_counts_word2vec  neg_counts_word2vec  pos_counts_AB  neg_counts_AB  \n",
              "0                  0.0                  0.0            0.0            0.0  \n",
              "1                  0.0                  1.0            0.0            0.0  \n",
              "2                  1.0                  0.0            3.0            2.0  \n",
              "3                  0.0                  0.0            1.0            0.0  \n",
              "4                  1.0                  0.0            1.0            0.0  "
            ],
            "text/html": [
              "\n",
              "  <div id=\"df-f17de8aa-8d86-4d9a-97f3-8ee2dfb0e1dd\">\n",
              "    <div class=\"colab-df-container\">\n",
              "      <div>\n",
              "<style scoped>\n",
              "    .dataframe tbody tr th:only-of-type {\n",
              "        vertical-align: middle;\n",
              "    }\n",
              "\n",
              "    .dataframe tbody tr th {\n",
              "        vertical-align: top;\n",
              "    }\n",
              "\n",
              "    .dataframe thead th {\n",
              "        text-align: right;\n",
              "    }\n",
              "</style>\n",
              "<table border=\"1\" class=\"dataframe\">\n",
              "  <thead>\n",
              "    <tr style=\"text-align: right;\">\n",
              "      <th></th>\n",
              "      <th>date</th>\n",
              "      <th>minutes</th>\n",
              "      <th>year</th>\n",
              "      <th>quarter</th>\n",
              "      <th>pos_counts_word2vec</th>\n",
              "      <th>neg_counts_word2vec</th>\n",
              "      <th>pos_counts_AB</th>\n",
              "      <th>neg_counts_AB</th>\n",
              "    </tr>\n",
              "  </thead>\n",
              "  <tbody>\n",
              "    <tr>\n",
              "      <th>0</th>\n",
              "      <td>199706</td>\n",
              "      <td>1 Sections I to V of this minute summarise t...</td>\n",
              "      <td>1997</td>\n",
              "      <td>2</td>\n",
              "      <td>0.0</td>\n",
              "      <td>0.0</td>\n",
              "      <td>0.0</td>\n",
              "      <td>0.0</td>\n",
              "    </tr>\n",
              "    <tr>\n",
              "      <th>1</th>\n",
              "      <td>199706</td>\n",
              "      <td>The 12-month growth rate of notes and coins ...</td>\n",
              "      <td>1997</td>\n",
              "      <td>2</td>\n",
              "      <td>0.0</td>\n",
              "      <td>1.0</td>\n",
              "      <td>0.0</td>\n",
              "      <td>0.0</td>\n",
              "    </tr>\n",
              "    <tr>\n",
              "      <th>2</th>\n",
              "      <td>199706</td>\n",
              "      <td>Broad money, too, decelerated in April: its ...</td>\n",
              "      <td>1997</td>\n",
              "      <td>2</td>\n",
              "      <td>1.0</td>\n",
              "      <td>0.0</td>\n",
              "      <td>3.0</td>\n",
              "      <td>2.0</td>\n",
              "    </tr>\n",
              "    <tr>\n",
              "      <th>3</th>\n",
              "      <td>199706</td>\n",
              "      <td>Lending growth continued at around 9% in ...</td>\n",
              "      <td>1997</td>\n",
              "      <td>2</td>\n",
              "      <td>0.0</td>\n",
              "      <td>0.0</td>\n",
              "      <td>1.0</td>\n",
              "      <td>0.0</td>\n",
              "    </tr>\n",
              "    <tr>\n",
              "      <th>4</th>\n",
              "      <td>199706</td>\n",
              "      <td>Lending to individuals remained robust in...</td>\n",
              "      <td>1997</td>\n",
              "      <td>2</td>\n",
              "      <td>1.0</td>\n",
              "      <td>0.0</td>\n",
              "      <td>1.0</td>\n",
              "      <td>0.0</td>\n",
              "    </tr>\n",
              "  </tbody>\n",
              "</table>\n",
              "</div>\n",
              "      <button class=\"colab-df-convert\" onclick=\"convertToInteractive('df-f17de8aa-8d86-4d9a-97f3-8ee2dfb0e1dd')\"\n",
              "              title=\"Convert this dataframe to an interactive table.\"\n",
              "              style=\"display:none;\">\n",
              "        \n",
              "  <svg xmlns=\"http://www.w3.org/2000/svg\" height=\"24px\"viewBox=\"0 0 24 24\"\n",
              "       width=\"24px\">\n",
              "    <path d=\"M0 0h24v24H0V0z\" fill=\"none\"/>\n",
              "    <path d=\"M18.56 5.44l.94 2.06.94-2.06 2.06-.94-2.06-.94-.94-2.06-.94 2.06-2.06.94zm-11 1L8.5 8.5l.94-2.06 2.06-.94-2.06-.94L8.5 2.5l-.94 2.06-2.06.94zm10 10l.94 2.06.94-2.06 2.06-.94-2.06-.94-.94-2.06-.94 2.06-2.06.94z\"/><path d=\"M17.41 7.96l-1.37-1.37c-.4-.4-.92-.59-1.43-.59-.52 0-1.04.2-1.43.59L10.3 9.45l-7.72 7.72c-.78.78-.78 2.05 0 2.83L4 21.41c.39.39.9.59 1.41.59.51 0 1.02-.2 1.41-.59l7.78-7.78 2.81-2.81c.8-.78.8-2.07 0-2.86zM5.41 20L4 18.59l7.72-7.72 1.47 1.35L5.41 20z\"/>\n",
              "  </svg>\n",
              "      </button>\n",
              "      \n",
              "  <style>\n",
              "    .colab-df-container {\n",
              "      display:flex;\n",
              "      flex-wrap:wrap;\n",
              "      gap: 12px;\n",
              "    }\n",
              "\n",
              "    .colab-df-convert {\n",
              "      background-color: #E8F0FE;\n",
              "      border: none;\n",
              "      border-radius: 50%;\n",
              "      cursor: pointer;\n",
              "      display: none;\n",
              "      fill: #1967D2;\n",
              "      height: 32px;\n",
              "      padding: 0 0 0 0;\n",
              "      width: 32px;\n",
              "    }\n",
              "\n",
              "    .colab-df-convert:hover {\n",
              "      background-color: #E2EBFA;\n",
              "      box-shadow: 0px 1px 2px rgba(60, 64, 67, 0.3), 0px 1px 3px 1px rgba(60, 64, 67, 0.15);\n",
              "      fill: #174EA6;\n",
              "    }\n",
              "\n",
              "    [theme=dark] .colab-df-convert {\n",
              "      background-color: #3B4455;\n",
              "      fill: #D2E3FC;\n",
              "    }\n",
              "\n",
              "    [theme=dark] .colab-df-convert:hover {\n",
              "      background-color: #434B5C;\n",
              "      box-shadow: 0px 1px 3px 1px rgba(0, 0, 0, 0.15);\n",
              "      filter: drop-shadow(0px 1px 2px rgba(0, 0, 0, 0.3));\n",
              "      fill: #FFFFFF;\n",
              "    }\n",
              "  </style>\n",
              "\n",
              "      <script>\n",
              "        const buttonEl =\n",
              "          document.querySelector('#df-f17de8aa-8d86-4d9a-97f3-8ee2dfb0e1dd button.colab-df-convert');\n",
              "        buttonEl.style.display =\n",
              "          google.colab.kernel.accessAllowed ? 'block' : 'none';\n",
              "\n",
              "        async function convertToInteractive(key) {\n",
              "          const element = document.querySelector('#df-f17de8aa-8d86-4d9a-97f3-8ee2dfb0e1dd');\n",
              "          const dataTable =\n",
              "            await google.colab.kernel.invokeFunction('convertToInteractive',\n",
              "                                                     [key], {});\n",
              "          if (!dataTable) return;\n",
              "\n",
              "          const docLinkHtml = 'Like what you see? Visit the ' +\n",
              "            '<a target=\"_blank\" href=https://colab.research.google.com/notebooks/data_table.ipynb>data table notebook</a>'\n",
              "            + ' to learn more about interactive tables.';\n",
              "          element.innerHTML = '';\n",
              "          dataTable['output_type'] = 'display_data';\n",
              "          await google.colab.output.renderOutput(dataTable, element);\n",
              "          const docLink = document.createElement('div');\n",
              "          docLink.innerHTML = docLinkHtml;\n",
              "          element.appendChild(docLink);\n",
              "        }\n",
              "      </script>\n",
              "    </div>\n",
              "  </div>\n",
              "  "
            ]
          },
          "metadata": {},
          "execution_count": 36
        }
      ],
      "source": [
        "# add counts to the data\n",
        "data_dict['pos_counts_word2vec'] = pos_counts_word2vec\n",
        "data_dict['neg_counts_word2vec'] = neg_counts_word2vec\n",
        "\n",
        "data_dict['pos_counts_AB'] = pos_counts_AB\n",
        "data_dict['neg_counts_AB'] = neg_counts_AB\n",
        "\n",
        "data_dict.head()"
      ]
    },
    {
      "cell_type": "code",
      "execution_count": 37,
      "id": "959c009e-b413-47f1-bd14-ea30d92f1a01",
      "metadata": {
        "colab": {
          "base_uri": "https://localhost:8080/",
          "height": 238
        },
        "id": "959c009e-b413-47f1-bd14-ea30d92f1a01",
        "outputId": "44bdbf03-5aab-42cf-e343-58fefbecf8e6"
      },
      "outputs": [
        {
          "output_type": "execute_result",
          "data": {
            "text/plain": [
              "        pos_counts_word2vec  neg_counts_word2vec  pos_counts_AB  \\\n",
              "date                                                              \n",
              "199706                 14.0                 10.0           28.0   \n",
              "199707                 13.0                  7.0           83.0   \n",
              "199708                 16.0                 16.0           76.0   \n",
              "199709                 34.0                 19.0           69.0   \n",
              "199710                 21.0                  9.0           94.0   \n",
              "\n",
              "        neg_counts_AB    year  quarter  \n",
              "date                                    \n",
              "199706           15.0  1997.0      2.0  \n",
              "199707           20.0  1997.0      3.0  \n",
              "199708           22.0  1997.0      3.0  \n",
              "199709           30.0  1997.0      3.0  \n",
              "199710           38.0  1997.0      4.0  "
            ],
            "text/html": [
              "\n",
              "  <div id=\"df-68310112-1ece-47da-baa0-978f088a5638\">\n",
              "    <div class=\"colab-df-container\">\n",
              "      <div>\n",
              "<style scoped>\n",
              "    .dataframe tbody tr th:only-of-type {\n",
              "        vertical-align: middle;\n",
              "    }\n",
              "\n",
              "    .dataframe tbody tr th {\n",
              "        vertical-align: top;\n",
              "    }\n",
              "\n",
              "    .dataframe thead th {\n",
              "        text-align: right;\n",
              "    }\n",
              "</style>\n",
              "<table border=\"1\" class=\"dataframe\">\n",
              "  <thead>\n",
              "    <tr style=\"text-align: right;\">\n",
              "      <th></th>\n",
              "      <th>pos_counts_word2vec</th>\n",
              "      <th>neg_counts_word2vec</th>\n",
              "      <th>pos_counts_AB</th>\n",
              "      <th>neg_counts_AB</th>\n",
              "      <th>year</th>\n",
              "      <th>quarter</th>\n",
              "    </tr>\n",
              "    <tr>\n",
              "      <th>date</th>\n",
              "      <th></th>\n",
              "      <th></th>\n",
              "      <th></th>\n",
              "      <th></th>\n",
              "      <th></th>\n",
              "      <th></th>\n",
              "    </tr>\n",
              "  </thead>\n",
              "  <tbody>\n",
              "    <tr>\n",
              "      <th>199706</th>\n",
              "      <td>14.0</td>\n",
              "      <td>10.0</td>\n",
              "      <td>28.0</td>\n",
              "      <td>15.0</td>\n",
              "      <td>1997.0</td>\n",
              "      <td>2.0</td>\n",
              "    </tr>\n",
              "    <tr>\n",
              "      <th>199707</th>\n",
              "      <td>13.0</td>\n",
              "      <td>7.0</td>\n",
              "      <td>83.0</td>\n",
              "      <td>20.0</td>\n",
              "      <td>1997.0</td>\n",
              "      <td>3.0</td>\n",
              "    </tr>\n",
              "    <tr>\n",
              "      <th>199708</th>\n",
              "      <td>16.0</td>\n",
              "      <td>16.0</td>\n",
              "      <td>76.0</td>\n",
              "      <td>22.0</td>\n",
              "      <td>1997.0</td>\n",
              "      <td>3.0</td>\n",
              "    </tr>\n",
              "    <tr>\n",
              "      <th>199709</th>\n",
              "      <td>34.0</td>\n",
              "      <td>19.0</td>\n",
              "      <td>69.0</td>\n",
              "      <td>30.0</td>\n",
              "      <td>1997.0</td>\n",
              "      <td>3.0</td>\n",
              "    </tr>\n",
              "    <tr>\n",
              "      <th>199710</th>\n",
              "      <td>21.0</td>\n",
              "      <td>9.0</td>\n",
              "      <td>94.0</td>\n",
              "      <td>38.0</td>\n",
              "      <td>1997.0</td>\n",
              "      <td>4.0</td>\n",
              "    </tr>\n",
              "  </tbody>\n",
              "</table>\n",
              "</div>\n",
              "      <button class=\"colab-df-convert\" onclick=\"convertToInteractive('df-68310112-1ece-47da-baa0-978f088a5638')\"\n",
              "              title=\"Convert this dataframe to an interactive table.\"\n",
              "              style=\"display:none;\">\n",
              "        \n",
              "  <svg xmlns=\"http://www.w3.org/2000/svg\" height=\"24px\"viewBox=\"0 0 24 24\"\n",
              "       width=\"24px\">\n",
              "    <path d=\"M0 0h24v24H0V0z\" fill=\"none\"/>\n",
              "    <path d=\"M18.56 5.44l.94 2.06.94-2.06 2.06-.94-2.06-.94-.94-2.06-.94 2.06-2.06.94zm-11 1L8.5 8.5l.94-2.06 2.06-.94-2.06-.94L8.5 2.5l-.94 2.06-2.06.94zm10 10l.94 2.06.94-2.06 2.06-.94-2.06-.94-.94-2.06-.94 2.06-2.06.94z\"/><path d=\"M17.41 7.96l-1.37-1.37c-.4-.4-.92-.59-1.43-.59-.52 0-1.04.2-1.43.59L10.3 9.45l-7.72 7.72c-.78.78-.78 2.05 0 2.83L4 21.41c.39.39.9.59 1.41.59.51 0 1.02-.2 1.41-.59l7.78-7.78 2.81-2.81c.8-.78.8-2.07 0-2.86zM5.41 20L4 18.59l7.72-7.72 1.47 1.35L5.41 20z\"/>\n",
              "  </svg>\n",
              "      </button>\n",
              "      \n",
              "  <style>\n",
              "    .colab-df-container {\n",
              "      display:flex;\n",
              "      flex-wrap:wrap;\n",
              "      gap: 12px;\n",
              "    }\n",
              "\n",
              "    .colab-df-convert {\n",
              "      background-color: #E8F0FE;\n",
              "      border: none;\n",
              "      border-radius: 50%;\n",
              "      cursor: pointer;\n",
              "      display: none;\n",
              "      fill: #1967D2;\n",
              "      height: 32px;\n",
              "      padding: 0 0 0 0;\n",
              "      width: 32px;\n",
              "    }\n",
              "\n",
              "    .colab-df-convert:hover {\n",
              "      background-color: #E2EBFA;\n",
              "      box-shadow: 0px 1px 2px rgba(60, 64, 67, 0.3), 0px 1px 3px 1px rgba(60, 64, 67, 0.15);\n",
              "      fill: #174EA6;\n",
              "    }\n",
              "\n",
              "    [theme=dark] .colab-df-convert {\n",
              "      background-color: #3B4455;\n",
              "      fill: #D2E3FC;\n",
              "    }\n",
              "\n",
              "    [theme=dark] .colab-df-convert:hover {\n",
              "      background-color: #434B5C;\n",
              "      box-shadow: 0px 1px 3px 1px rgba(0, 0, 0, 0.15);\n",
              "      filter: drop-shadow(0px 1px 2px rgba(0, 0, 0, 0.3));\n",
              "      fill: #FFFFFF;\n",
              "    }\n",
              "  </style>\n",
              "\n",
              "      <script>\n",
              "        const buttonEl =\n",
              "          document.querySelector('#df-68310112-1ece-47da-baa0-978f088a5638 button.colab-df-convert');\n",
              "        buttonEl.style.display =\n",
              "          google.colab.kernel.accessAllowed ? 'block' : 'none';\n",
              "\n",
              "        async function convertToInteractive(key) {\n",
              "          const element = document.querySelector('#df-68310112-1ece-47da-baa0-978f088a5638');\n",
              "          const dataTable =\n",
              "            await google.colab.kernel.invokeFunction('convertToInteractive',\n",
              "                                                     [key], {});\n",
              "          if (!dataTable) return;\n",
              "\n",
              "          const docLinkHtml = 'Like what you see? Visit the ' +\n",
              "            '<a target=\"_blank\" href=https://colab.research.google.com/notebooks/data_table.ipynb>data table notebook</a>'\n",
              "            + ' to learn more about interactive tables.';\n",
              "          element.innerHTML = '';\n",
              "          dataTable['output_type'] = 'display_data';\n",
              "          await google.colab.output.renderOutput(dataTable, element);\n",
              "          const docLink = document.createElement('div');\n",
              "          docLink.innerHTML = docLinkHtml;\n",
              "          element.appendChild(docLink);\n",
              "        }\n",
              "      </script>\n",
              "    </div>\n",
              "  </div>\n",
              "  "
            ]
          },
          "metadata": {},
          "execution_count": 37
        }
      ],
      "source": [
        "# aggregate to year-month level\n",
        "data_agg = data_dict.groupby(['date']).agg({'pos_counts_word2vec': 'sum', 'neg_counts_word2vec': 'sum',\n",
        "                                            'pos_counts_AB': 'sum', 'neg_counts_AB': 'sum',\n",
        "                                            'year': 'mean', 'quarter':'mean'})\n",
        "data_agg.head()"
      ]
    },
    {
      "cell_type": "code",
      "execution_count": 38,
      "id": "zgYZn0Jx3pNL",
      "metadata": {
        "colab": {
          "base_uri": "https://localhost:8080/",
          "height": 238
        },
        "id": "zgYZn0Jx3pNL",
        "outputId": "cb3c3665-a0eb-4b4a-a24d-78198e130ec6"
      },
      "outputs": [
        {
          "output_type": "execute_result",
          "data": {
            "text/plain": [
              "                pos_counts_word2vec  neg_counts_word2vec  pos_counts_AB  \\\n",
              "year   quarter                                                            \n",
              "1997.0 3.0                     63.0                 42.0          228.0   \n",
              "       4.0                     70.0                 45.0          223.0   \n",
              "1998.0 1.0                    101.0                 67.0          237.0   \n",
              "       2.0                    141.0                 50.0          230.0   \n",
              "       3.0                     95.0                 52.0          246.0   \n",
              "\n",
              "                neg_counts_AB  \n",
              "year   quarter                 \n",
              "1997.0 3.0               72.0  \n",
              "       4.0               99.0  \n",
              "1998.0 1.0              140.0  \n",
              "       2.0              158.0  \n",
              "       3.0              167.0  "
            ],
            "text/html": [
              "\n",
              "  <div id=\"df-e451a53b-811b-42db-888b-71fca5b35e59\">\n",
              "    <div class=\"colab-df-container\">\n",
              "      <div>\n",
              "<style scoped>\n",
              "    .dataframe tbody tr th:only-of-type {\n",
              "        vertical-align: middle;\n",
              "    }\n",
              "\n",
              "    .dataframe tbody tr th {\n",
              "        vertical-align: top;\n",
              "    }\n",
              "\n",
              "    .dataframe thead th {\n",
              "        text-align: right;\n",
              "    }\n",
              "</style>\n",
              "<table border=\"1\" class=\"dataframe\">\n",
              "  <thead>\n",
              "    <tr style=\"text-align: right;\">\n",
              "      <th></th>\n",
              "      <th></th>\n",
              "      <th>pos_counts_word2vec</th>\n",
              "      <th>neg_counts_word2vec</th>\n",
              "      <th>pos_counts_AB</th>\n",
              "      <th>neg_counts_AB</th>\n",
              "    </tr>\n",
              "    <tr>\n",
              "      <th>year</th>\n",
              "      <th>quarter</th>\n",
              "      <th></th>\n",
              "      <th></th>\n",
              "      <th></th>\n",
              "      <th></th>\n",
              "    </tr>\n",
              "  </thead>\n",
              "  <tbody>\n",
              "    <tr>\n",
              "      <th rowspan=\"2\" valign=\"top\">1997.0</th>\n",
              "      <th>3.0</th>\n",
              "      <td>63.0</td>\n",
              "      <td>42.0</td>\n",
              "      <td>228.0</td>\n",
              "      <td>72.0</td>\n",
              "    </tr>\n",
              "    <tr>\n",
              "      <th>4.0</th>\n",
              "      <td>70.0</td>\n",
              "      <td>45.0</td>\n",
              "      <td>223.0</td>\n",
              "      <td>99.0</td>\n",
              "    </tr>\n",
              "    <tr>\n",
              "      <th rowspan=\"3\" valign=\"top\">1998.0</th>\n",
              "      <th>1.0</th>\n",
              "      <td>101.0</td>\n",
              "      <td>67.0</td>\n",
              "      <td>237.0</td>\n",
              "      <td>140.0</td>\n",
              "    </tr>\n",
              "    <tr>\n",
              "      <th>2.0</th>\n",
              "      <td>141.0</td>\n",
              "      <td>50.0</td>\n",
              "      <td>230.0</td>\n",
              "      <td>158.0</td>\n",
              "    </tr>\n",
              "    <tr>\n",
              "      <th>3.0</th>\n",
              "      <td>95.0</td>\n",
              "      <td>52.0</td>\n",
              "      <td>246.0</td>\n",
              "      <td>167.0</td>\n",
              "    </tr>\n",
              "  </tbody>\n",
              "</table>\n",
              "</div>\n",
              "      <button class=\"colab-df-convert\" onclick=\"convertToInteractive('df-e451a53b-811b-42db-888b-71fca5b35e59')\"\n",
              "              title=\"Convert this dataframe to an interactive table.\"\n",
              "              style=\"display:none;\">\n",
              "        \n",
              "  <svg xmlns=\"http://www.w3.org/2000/svg\" height=\"24px\"viewBox=\"0 0 24 24\"\n",
              "       width=\"24px\">\n",
              "    <path d=\"M0 0h24v24H0V0z\" fill=\"none\"/>\n",
              "    <path d=\"M18.56 5.44l.94 2.06.94-2.06 2.06-.94-2.06-.94-.94-2.06-.94 2.06-2.06.94zm-11 1L8.5 8.5l.94-2.06 2.06-.94-2.06-.94L8.5 2.5l-.94 2.06-2.06.94zm10 10l.94 2.06.94-2.06 2.06-.94-2.06-.94-.94-2.06-.94 2.06-2.06.94z\"/><path d=\"M17.41 7.96l-1.37-1.37c-.4-.4-.92-.59-1.43-.59-.52 0-1.04.2-1.43.59L10.3 9.45l-7.72 7.72c-.78.78-.78 2.05 0 2.83L4 21.41c.39.39.9.59 1.41.59.51 0 1.02-.2 1.41-.59l7.78-7.78 2.81-2.81c.8-.78.8-2.07 0-2.86zM5.41 20L4 18.59l7.72-7.72 1.47 1.35L5.41 20z\"/>\n",
              "  </svg>\n",
              "      </button>\n",
              "      \n",
              "  <style>\n",
              "    .colab-df-container {\n",
              "      display:flex;\n",
              "      flex-wrap:wrap;\n",
              "      gap: 12px;\n",
              "    }\n",
              "\n",
              "    .colab-df-convert {\n",
              "      background-color: #E8F0FE;\n",
              "      border: none;\n",
              "      border-radius: 50%;\n",
              "      cursor: pointer;\n",
              "      display: none;\n",
              "      fill: #1967D2;\n",
              "      height: 32px;\n",
              "      padding: 0 0 0 0;\n",
              "      width: 32px;\n",
              "    }\n",
              "\n",
              "    .colab-df-convert:hover {\n",
              "      background-color: #E2EBFA;\n",
              "      box-shadow: 0px 1px 2px rgba(60, 64, 67, 0.3), 0px 1px 3px 1px rgba(60, 64, 67, 0.15);\n",
              "      fill: #174EA6;\n",
              "    }\n",
              "\n",
              "    [theme=dark] .colab-df-convert {\n",
              "      background-color: #3B4455;\n",
              "      fill: #D2E3FC;\n",
              "    }\n",
              "\n",
              "    [theme=dark] .colab-df-convert:hover {\n",
              "      background-color: #434B5C;\n",
              "      box-shadow: 0px 1px 3px 1px rgba(0, 0, 0, 0.15);\n",
              "      filter: drop-shadow(0px 1px 2px rgba(0, 0, 0, 0.3));\n",
              "      fill: #FFFFFF;\n",
              "    }\n",
              "  </style>\n",
              "\n",
              "      <script>\n",
              "        const buttonEl =\n",
              "          document.querySelector('#df-e451a53b-811b-42db-888b-71fca5b35e59 button.colab-df-convert');\n",
              "        buttonEl.style.display =\n",
              "          google.colab.kernel.accessAllowed ? 'block' : 'none';\n",
              "\n",
              "        async function convertToInteractive(key) {\n",
              "          const element = document.querySelector('#df-e451a53b-811b-42db-888b-71fca5b35e59');\n",
              "          const dataTable =\n",
              "            await google.colab.kernel.invokeFunction('convertToInteractive',\n",
              "                                                     [key], {});\n",
              "          if (!dataTable) return;\n",
              "\n",
              "          const docLinkHtml = 'Like what you see? Visit the ' +\n",
              "            '<a target=\"_blank\" href=https://colab.research.google.com/notebooks/data_table.ipynb>data table notebook</a>'\n",
              "            + ' to learn more about interactive tables.';\n",
              "          element.innerHTML = '';\n",
              "          dataTable['output_type'] = 'display_data';\n",
              "          await google.colab.output.renderOutput(dataTable, element);\n",
              "          const docLink = document.createElement('div');\n",
              "          docLink.innerHTML = docLinkHtml;\n",
              "          element.appendChild(docLink);\n",
              "        }\n",
              "      </script>\n",
              "    </div>\n",
              "  </div>\n",
              "  "
            ]
          },
          "metadata": {},
          "execution_count": 38
        }
      ],
      "source": [
        "# aggregate to year-quarter level removing incomplete quarters \n",
        "data_agg['months_x_quarter'] = 1\n",
        "data_agg = data_agg.groupby(['year', 'quarter']).sum()[['pos_counts_word2vec', 'neg_counts_word2vec',\n",
        "                                                        'pos_counts_AB', 'neg_counts_AB',\n",
        "                                                        'months_x_quarter']]\n",
        "\n",
        "data_agg = data_agg[data_agg['months_x_quarter']==3]\n",
        "del data_agg['months_x_quarter']\n",
        "\n",
        "data_agg.head()"
      ]
    },
    {
      "cell_type": "code",
      "execution_count": 39,
      "id": "b8e12c9b-3ea7-493b-8c8f-15677b66a2af",
      "metadata": {
        "colab": {
          "base_uri": "https://localhost:8080/",
          "height": 238
        },
        "id": "b8e12c9b-3ea7-493b-8c8f-15677b66a2af",
        "outputId": "8ccaf7e8-f551-4fae-c650-50ad3b883e43"
      },
      "outputs": [
        {
          "output_type": "execute_result",
          "data": {
            "text/plain": [
              "                pos_counts_word2vec  neg_counts_word2vec  pos_counts_AB  \\\n",
              "year   quarter                                                            \n",
              "1997.0 3.0                     63.0                 42.0          228.0   \n",
              "       4.0                     70.0                 45.0          223.0   \n",
              "1998.0 1.0                    101.0                 67.0          237.0   \n",
              "       2.0                    141.0                 50.0          230.0   \n",
              "       3.0                     95.0                 52.0          246.0   \n",
              "\n",
              "                neg_counts_AB  sentiment_word2vec  sentiment_AB  \n",
              "year   quarter                                                   \n",
              "1997.0 3.0               72.0            0.200000      0.520000  \n",
              "       4.0               99.0            0.217391      0.385093  \n",
              "1998.0 1.0              140.0            0.202381      0.257294  \n",
              "       2.0              158.0            0.476440      0.185567  \n",
              "       3.0              167.0            0.292517      0.191283  "
            ],
            "text/html": [
              "\n",
              "  <div id=\"df-fe340016-607b-4b8b-86a3-8a6a89762681\">\n",
              "    <div class=\"colab-df-container\">\n",
              "      <div>\n",
              "<style scoped>\n",
              "    .dataframe tbody tr th:only-of-type {\n",
              "        vertical-align: middle;\n",
              "    }\n",
              "\n",
              "    .dataframe tbody tr th {\n",
              "        vertical-align: top;\n",
              "    }\n",
              "\n",
              "    .dataframe thead th {\n",
              "        text-align: right;\n",
              "    }\n",
              "</style>\n",
              "<table border=\"1\" class=\"dataframe\">\n",
              "  <thead>\n",
              "    <tr style=\"text-align: right;\">\n",
              "      <th></th>\n",
              "      <th></th>\n",
              "      <th>pos_counts_word2vec</th>\n",
              "      <th>neg_counts_word2vec</th>\n",
              "      <th>pos_counts_AB</th>\n",
              "      <th>neg_counts_AB</th>\n",
              "      <th>sentiment_word2vec</th>\n",
              "      <th>sentiment_AB</th>\n",
              "    </tr>\n",
              "    <tr>\n",
              "      <th>year</th>\n",
              "      <th>quarter</th>\n",
              "      <th></th>\n",
              "      <th></th>\n",
              "      <th></th>\n",
              "      <th></th>\n",
              "      <th></th>\n",
              "      <th></th>\n",
              "    </tr>\n",
              "  </thead>\n",
              "  <tbody>\n",
              "    <tr>\n",
              "      <th rowspan=\"2\" valign=\"top\">1997.0</th>\n",
              "      <th>3.0</th>\n",
              "      <td>63.0</td>\n",
              "      <td>42.0</td>\n",
              "      <td>228.0</td>\n",
              "      <td>72.0</td>\n",
              "      <td>0.200000</td>\n",
              "      <td>0.520000</td>\n",
              "    </tr>\n",
              "    <tr>\n",
              "      <th>4.0</th>\n",
              "      <td>70.0</td>\n",
              "      <td>45.0</td>\n",
              "      <td>223.0</td>\n",
              "      <td>99.0</td>\n",
              "      <td>0.217391</td>\n",
              "      <td>0.385093</td>\n",
              "    </tr>\n",
              "    <tr>\n",
              "      <th rowspan=\"3\" valign=\"top\">1998.0</th>\n",
              "      <th>1.0</th>\n",
              "      <td>101.0</td>\n",
              "      <td>67.0</td>\n",
              "      <td>237.0</td>\n",
              "      <td>140.0</td>\n",
              "      <td>0.202381</td>\n",
              "      <td>0.257294</td>\n",
              "    </tr>\n",
              "    <tr>\n",
              "      <th>2.0</th>\n",
              "      <td>141.0</td>\n",
              "      <td>50.0</td>\n",
              "      <td>230.0</td>\n",
              "      <td>158.0</td>\n",
              "      <td>0.476440</td>\n",
              "      <td>0.185567</td>\n",
              "    </tr>\n",
              "    <tr>\n",
              "      <th>3.0</th>\n",
              "      <td>95.0</td>\n",
              "      <td>52.0</td>\n",
              "      <td>246.0</td>\n",
              "      <td>167.0</td>\n",
              "      <td>0.292517</td>\n",
              "      <td>0.191283</td>\n",
              "    </tr>\n",
              "  </tbody>\n",
              "</table>\n",
              "</div>\n",
              "      <button class=\"colab-df-convert\" onclick=\"convertToInteractive('df-fe340016-607b-4b8b-86a3-8a6a89762681')\"\n",
              "              title=\"Convert this dataframe to an interactive table.\"\n",
              "              style=\"display:none;\">\n",
              "        \n",
              "  <svg xmlns=\"http://www.w3.org/2000/svg\" height=\"24px\"viewBox=\"0 0 24 24\"\n",
              "       width=\"24px\">\n",
              "    <path d=\"M0 0h24v24H0V0z\" fill=\"none\"/>\n",
              "    <path d=\"M18.56 5.44l.94 2.06.94-2.06 2.06-.94-2.06-.94-.94-2.06-.94 2.06-2.06.94zm-11 1L8.5 8.5l.94-2.06 2.06-.94-2.06-.94L8.5 2.5l-.94 2.06-2.06.94zm10 10l.94 2.06.94-2.06 2.06-.94-2.06-.94-.94-2.06-.94 2.06-2.06.94z\"/><path d=\"M17.41 7.96l-1.37-1.37c-.4-.4-.92-.59-1.43-.59-.52 0-1.04.2-1.43.59L10.3 9.45l-7.72 7.72c-.78.78-.78 2.05 0 2.83L4 21.41c.39.39.9.59 1.41.59.51 0 1.02-.2 1.41-.59l7.78-7.78 2.81-2.81c.8-.78.8-2.07 0-2.86zM5.41 20L4 18.59l7.72-7.72 1.47 1.35L5.41 20z\"/>\n",
              "  </svg>\n",
              "      </button>\n",
              "      \n",
              "  <style>\n",
              "    .colab-df-container {\n",
              "      display:flex;\n",
              "      flex-wrap:wrap;\n",
              "      gap: 12px;\n",
              "    }\n",
              "\n",
              "    .colab-df-convert {\n",
              "      background-color: #E8F0FE;\n",
              "      border: none;\n",
              "      border-radius: 50%;\n",
              "      cursor: pointer;\n",
              "      display: none;\n",
              "      fill: #1967D2;\n",
              "      height: 32px;\n",
              "      padding: 0 0 0 0;\n",
              "      width: 32px;\n",
              "    }\n",
              "\n",
              "    .colab-df-convert:hover {\n",
              "      background-color: #E2EBFA;\n",
              "      box-shadow: 0px 1px 2px rgba(60, 64, 67, 0.3), 0px 1px 3px 1px rgba(60, 64, 67, 0.15);\n",
              "      fill: #174EA6;\n",
              "    }\n",
              "\n",
              "    [theme=dark] .colab-df-convert {\n",
              "      background-color: #3B4455;\n",
              "      fill: #D2E3FC;\n",
              "    }\n",
              "\n",
              "    [theme=dark] .colab-df-convert:hover {\n",
              "      background-color: #434B5C;\n",
              "      box-shadow: 0px 1px 3px 1px rgba(0, 0, 0, 0.15);\n",
              "      filter: drop-shadow(0px 1px 2px rgba(0, 0, 0, 0.3));\n",
              "      fill: #FFFFFF;\n",
              "    }\n",
              "  </style>\n",
              "\n",
              "      <script>\n",
              "        const buttonEl =\n",
              "          document.querySelector('#df-fe340016-607b-4b8b-86a3-8a6a89762681 button.colab-df-convert');\n",
              "        buttonEl.style.display =\n",
              "          google.colab.kernel.accessAllowed ? 'block' : 'none';\n",
              "\n",
              "        async function convertToInteractive(key) {\n",
              "          const element = document.querySelector('#df-fe340016-607b-4b8b-86a3-8a6a89762681');\n",
              "          const dataTable =\n",
              "            await google.colab.kernel.invokeFunction('convertToInteractive',\n",
              "                                                     [key], {});\n",
              "          if (!dataTable) return;\n",
              "\n",
              "          const docLinkHtml = 'Like what you see? Visit the ' +\n",
              "            '<a target=\"_blank\" href=https://colab.research.google.com/notebooks/data_table.ipynb>data table notebook</a>'\n",
              "            + ' to learn more about interactive tables.';\n",
              "          element.innerHTML = '';\n",
              "          dataTable['output_type'] = 'display_data';\n",
              "          await google.colab.output.renderOutput(dataTable, element);\n",
              "          const docLink = document.createElement('div');\n",
              "          docLink.innerHTML = docLinkHtml;\n",
              "          element.appendChild(docLink);\n",
              "        }\n",
              "      </script>\n",
              "    </div>\n",
              "  </div>\n",
              "  "
            ]
          },
          "metadata": {},
          "execution_count": 39
        }
      ],
      "source": [
        "# compute sentiment at year-quarter level\n",
        "data_agg['sentiment_word2vec'] = (data_agg.pos_counts_word2vec - data_agg.neg_counts_word2vec)/(data_agg.pos_counts_word2vec + data_agg.neg_counts_word2vec)\n",
        "data_agg['sentiment_AB'] = (data_agg.pos_counts_AB - data_agg.neg_counts_AB)/(data_agg.pos_counts_AB + data_agg.neg_counts_AB)\n",
        "data_agg.head()"
      ]
    },
    {
      "cell_type": "markdown",
      "id": "1a146d7a-9377-4846-9397-dafd0d837c77",
      "metadata": {
        "id": "1a146d7a-9377-4846-9397-dafd0d837c77"
      },
      "source": [
        "Next we add quarterly GDP data collected from the ONS website."
      ]
    },
    {
      "cell_type": "code",
      "execution_count": 40,
      "id": "a839e6bc-9e20-4cfc-92af-4ef322758f09",
      "metadata": {
        "colab": {
          "base_uri": "https://localhost:8080/",
          "height": 206
        },
        "id": "a839e6bc-9e20-4cfc-92af-4ef322758f09",
        "outputId": "3994e9f8-9593-4f21-9959-e83444b1d69f"
      },
      "outputs": [
        {
          "output_type": "execute_result",
          "data": {
            "text/plain": [
              "   year  quarter  gdp_growth\n",
              "0  1997        2         1.2\n",
              "1  1997        3         0.6\n",
              "2  1997        4         1.3\n",
              "3  1998        1         0.6\n",
              "4  1998        2         0.6"
            ],
            "text/html": [
              "\n",
              "  <div id=\"df-2f5c3023-9822-4eee-8da8-cd356a2b9dcc\">\n",
              "    <div class=\"colab-df-container\">\n",
              "      <div>\n",
              "<style scoped>\n",
              "    .dataframe tbody tr th:only-of-type {\n",
              "        vertical-align: middle;\n",
              "    }\n",
              "\n",
              "    .dataframe tbody tr th {\n",
              "        vertical-align: top;\n",
              "    }\n",
              "\n",
              "    .dataframe thead th {\n",
              "        text-align: right;\n",
              "    }\n",
              "</style>\n",
              "<table border=\"1\" class=\"dataframe\">\n",
              "  <thead>\n",
              "    <tr style=\"text-align: right;\">\n",
              "      <th></th>\n",
              "      <th>year</th>\n",
              "      <th>quarter</th>\n",
              "      <th>gdp_growth</th>\n",
              "    </tr>\n",
              "  </thead>\n",
              "  <tbody>\n",
              "    <tr>\n",
              "      <th>0</th>\n",
              "      <td>1997</td>\n",
              "      <td>2</td>\n",
              "      <td>1.2</td>\n",
              "    </tr>\n",
              "    <tr>\n",
              "      <th>1</th>\n",
              "      <td>1997</td>\n",
              "      <td>3</td>\n",
              "      <td>0.6</td>\n",
              "    </tr>\n",
              "    <tr>\n",
              "      <th>2</th>\n",
              "      <td>1997</td>\n",
              "      <td>4</td>\n",
              "      <td>1.3</td>\n",
              "    </tr>\n",
              "    <tr>\n",
              "      <th>3</th>\n",
              "      <td>1998</td>\n",
              "      <td>1</td>\n",
              "      <td>0.6</td>\n",
              "    </tr>\n",
              "    <tr>\n",
              "      <th>4</th>\n",
              "      <td>1998</td>\n",
              "      <td>2</td>\n",
              "      <td>0.6</td>\n",
              "    </tr>\n",
              "  </tbody>\n",
              "</table>\n",
              "</div>\n",
              "      <button class=\"colab-df-convert\" onclick=\"convertToInteractive('df-2f5c3023-9822-4eee-8da8-cd356a2b9dcc')\"\n",
              "              title=\"Convert this dataframe to an interactive table.\"\n",
              "              style=\"display:none;\">\n",
              "        \n",
              "  <svg xmlns=\"http://www.w3.org/2000/svg\" height=\"24px\"viewBox=\"0 0 24 24\"\n",
              "       width=\"24px\">\n",
              "    <path d=\"M0 0h24v24H0V0z\" fill=\"none\"/>\n",
              "    <path d=\"M18.56 5.44l.94 2.06.94-2.06 2.06-.94-2.06-.94-.94-2.06-.94 2.06-2.06.94zm-11 1L8.5 8.5l.94-2.06 2.06-.94-2.06-.94L8.5 2.5l-.94 2.06-2.06.94zm10 10l.94 2.06.94-2.06 2.06-.94-2.06-.94-.94-2.06-.94 2.06-2.06.94z\"/><path d=\"M17.41 7.96l-1.37-1.37c-.4-.4-.92-.59-1.43-.59-.52 0-1.04.2-1.43.59L10.3 9.45l-7.72 7.72c-.78.78-.78 2.05 0 2.83L4 21.41c.39.39.9.59 1.41.59.51 0 1.02-.2 1.41-.59l7.78-7.78 2.81-2.81c.8-.78.8-2.07 0-2.86zM5.41 20L4 18.59l7.72-7.72 1.47 1.35L5.41 20z\"/>\n",
              "  </svg>\n",
              "      </button>\n",
              "      \n",
              "  <style>\n",
              "    .colab-df-container {\n",
              "      display:flex;\n",
              "      flex-wrap:wrap;\n",
              "      gap: 12px;\n",
              "    }\n",
              "\n",
              "    .colab-df-convert {\n",
              "      background-color: #E8F0FE;\n",
              "      border: none;\n",
              "      border-radius: 50%;\n",
              "      cursor: pointer;\n",
              "      display: none;\n",
              "      fill: #1967D2;\n",
              "      height: 32px;\n",
              "      padding: 0 0 0 0;\n",
              "      width: 32px;\n",
              "    }\n",
              "\n",
              "    .colab-df-convert:hover {\n",
              "      background-color: #E2EBFA;\n",
              "      box-shadow: 0px 1px 2px rgba(60, 64, 67, 0.3), 0px 1px 3px 1px rgba(60, 64, 67, 0.15);\n",
              "      fill: #174EA6;\n",
              "    }\n",
              "\n",
              "    [theme=dark] .colab-df-convert {\n",
              "      background-color: #3B4455;\n",
              "      fill: #D2E3FC;\n",
              "    }\n",
              "\n",
              "    [theme=dark] .colab-df-convert:hover {\n",
              "      background-color: #434B5C;\n",
              "      box-shadow: 0px 1px 3px 1px rgba(0, 0, 0, 0.15);\n",
              "      filter: drop-shadow(0px 1px 2px rgba(0, 0, 0, 0.3));\n",
              "      fill: #FFFFFF;\n",
              "    }\n",
              "  </style>\n",
              "\n",
              "      <script>\n",
              "        const buttonEl =\n",
              "          document.querySelector('#df-2f5c3023-9822-4eee-8da8-cd356a2b9dcc button.colab-df-convert');\n",
              "        buttonEl.style.display =\n",
              "          google.colab.kernel.accessAllowed ? 'block' : 'none';\n",
              "\n",
              "        async function convertToInteractive(key) {\n",
              "          const element = document.querySelector('#df-2f5c3023-9822-4eee-8da8-cd356a2b9dcc');\n",
              "          const dataTable =\n",
              "            await google.colab.kernel.invokeFunction('convertToInteractive',\n",
              "                                                     [key], {});\n",
              "          if (!dataTable) return;\n",
              "\n",
              "          const docLinkHtml = 'Like what you see? Visit the ' +\n",
              "            '<a target=\"_blank\" href=https://colab.research.google.com/notebooks/data_table.ipynb>data table notebook</a>'\n",
              "            + ' to learn more about interactive tables.';\n",
              "          element.innerHTML = '';\n",
              "          dataTable['output_type'] = 'display_data';\n",
              "          await google.colab.output.renderOutput(dataTable, element);\n",
              "          const docLink = document.createElement('div');\n",
              "          docLink.innerHTML = docLinkHtml;\n",
              "          element.appendChild(docLink);\n",
              "        }\n",
              "      </script>\n",
              "    </div>\n",
              "  </div>\n",
              "  "
            ]
          },
          "metadata": {},
          "execution_count": 40
        }
      ],
      "source": [
        "# prepare GDP data\n",
        "ons = pd.read_csv(data_path + 'uk_quarterly_gdp.csv', names=['label', 'gdp_growth', 'quarter_long'], header=0)\n",
        "ons['year'] = ons.label.apply(lambda x: x[:4]).astype(int)\n",
        "ons['quarter'] = ons.label.apply(lambda x: x[6]).astype(int)\n",
        "ons = ons[['year', 'quarter', 'gdp_growth']]\n",
        "ons = ons.drop_duplicates().reset_index(drop=True).copy()\n",
        "ons.head()"
      ]
    },
    {
      "cell_type": "code",
      "execution_count": 41,
      "id": "8a63d1e5-0951-4899-bbb6-215c23f670a5",
      "metadata": {
        "colab": {
          "base_uri": "https://localhost:8080/",
          "height": 206
        },
        "id": "8a63d1e5-0951-4899-bbb6-215c23f670a5",
        "outputId": "3294d0f8-af8c-4a47-fcf2-da53db79edf4"
      },
      "outputs": [
        {
          "output_type": "execute_result",
          "data": {
            "text/plain": [
              "     year  quarter  pos_counts_word2vec  neg_counts_word2vec  pos_counts_AB  \\\n",
              "0  1997.0      3.0                 63.0                 42.0          228.0   \n",
              "1  1997.0      4.0                 70.0                 45.0          223.0   \n",
              "2  1998.0      1.0                101.0                 67.0          237.0   \n",
              "3  1998.0      2.0                141.0                 50.0          230.0   \n",
              "4  1998.0      3.0                 95.0                 52.0          246.0   \n",
              "\n",
              "   neg_counts_AB  sentiment_word2vec  sentiment_AB  gdp_growth year_quarter  \n",
              "0           72.0            0.200000      0.520000         0.6   1997-07-01  \n",
              "1           99.0            0.217391      0.385093         1.3   1997-10-01  \n",
              "2          140.0            0.202381      0.257294         0.6   1998-01-01  \n",
              "3          158.0            0.476440      0.185567         0.6   1998-04-01  \n",
              "4          167.0            0.292517      0.191283         0.7   1998-07-01  "
            ],
            "text/html": [
              "\n",
              "  <div id=\"df-3806e2f5-5400-4512-a80f-0a75a8e74060\">\n",
              "    <div class=\"colab-df-container\">\n",
              "      <div>\n",
              "<style scoped>\n",
              "    .dataframe tbody tr th:only-of-type {\n",
              "        vertical-align: middle;\n",
              "    }\n",
              "\n",
              "    .dataframe tbody tr th {\n",
              "        vertical-align: top;\n",
              "    }\n",
              "\n",
              "    .dataframe thead th {\n",
              "        text-align: right;\n",
              "    }\n",
              "</style>\n",
              "<table border=\"1\" class=\"dataframe\">\n",
              "  <thead>\n",
              "    <tr style=\"text-align: right;\">\n",
              "      <th></th>\n",
              "      <th>year</th>\n",
              "      <th>quarter</th>\n",
              "      <th>pos_counts_word2vec</th>\n",
              "      <th>neg_counts_word2vec</th>\n",
              "      <th>pos_counts_AB</th>\n",
              "      <th>neg_counts_AB</th>\n",
              "      <th>sentiment_word2vec</th>\n",
              "      <th>sentiment_AB</th>\n",
              "      <th>gdp_growth</th>\n",
              "      <th>year_quarter</th>\n",
              "    </tr>\n",
              "  </thead>\n",
              "  <tbody>\n",
              "    <tr>\n",
              "      <th>0</th>\n",
              "      <td>1997.0</td>\n",
              "      <td>3.0</td>\n",
              "      <td>63.0</td>\n",
              "      <td>42.0</td>\n",
              "      <td>228.0</td>\n",
              "      <td>72.0</td>\n",
              "      <td>0.200000</td>\n",
              "      <td>0.520000</td>\n",
              "      <td>0.6</td>\n",
              "      <td>1997-07-01</td>\n",
              "    </tr>\n",
              "    <tr>\n",
              "      <th>1</th>\n",
              "      <td>1997.0</td>\n",
              "      <td>4.0</td>\n",
              "      <td>70.0</td>\n",
              "      <td>45.0</td>\n",
              "      <td>223.0</td>\n",
              "      <td>99.0</td>\n",
              "      <td>0.217391</td>\n",
              "      <td>0.385093</td>\n",
              "      <td>1.3</td>\n",
              "      <td>1997-10-01</td>\n",
              "    </tr>\n",
              "    <tr>\n",
              "      <th>2</th>\n",
              "      <td>1998.0</td>\n",
              "      <td>1.0</td>\n",
              "      <td>101.0</td>\n",
              "      <td>67.0</td>\n",
              "      <td>237.0</td>\n",
              "      <td>140.0</td>\n",
              "      <td>0.202381</td>\n",
              "      <td>0.257294</td>\n",
              "      <td>0.6</td>\n",
              "      <td>1998-01-01</td>\n",
              "    </tr>\n",
              "    <tr>\n",
              "      <th>3</th>\n",
              "      <td>1998.0</td>\n",
              "      <td>2.0</td>\n",
              "      <td>141.0</td>\n",
              "      <td>50.0</td>\n",
              "      <td>230.0</td>\n",
              "      <td>158.0</td>\n",
              "      <td>0.476440</td>\n",
              "      <td>0.185567</td>\n",
              "      <td>0.6</td>\n",
              "      <td>1998-04-01</td>\n",
              "    </tr>\n",
              "    <tr>\n",
              "      <th>4</th>\n",
              "      <td>1998.0</td>\n",
              "      <td>3.0</td>\n",
              "      <td>95.0</td>\n",
              "      <td>52.0</td>\n",
              "      <td>246.0</td>\n",
              "      <td>167.0</td>\n",
              "      <td>0.292517</td>\n",
              "      <td>0.191283</td>\n",
              "      <td>0.7</td>\n",
              "      <td>1998-07-01</td>\n",
              "    </tr>\n",
              "  </tbody>\n",
              "</table>\n",
              "</div>\n",
              "      <button class=\"colab-df-convert\" onclick=\"convertToInteractive('df-3806e2f5-5400-4512-a80f-0a75a8e74060')\"\n",
              "              title=\"Convert this dataframe to an interactive table.\"\n",
              "              style=\"display:none;\">\n",
              "        \n",
              "  <svg xmlns=\"http://www.w3.org/2000/svg\" height=\"24px\"viewBox=\"0 0 24 24\"\n",
              "       width=\"24px\">\n",
              "    <path d=\"M0 0h24v24H0V0z\" fill=\"none\"/>\n",
              "    <path d=\"M18.56 5.44l.94 2.06.94-2.06 2.06-.94-2.06-.94-.94-2.06-.94 2.06-2.06.94zm-11 1L8.5 8.5l.94-2.06 2.06-.94-2.06-.94L8.5 2.5l-.94 2.06-2.06.94zm10 10l.94 2.06.94-2.06 2.06-.94-2.06-.94-.94-2.06-.94 2.06-2.06.94z\"/><path d=\"M17.41 7.96l-1.37-1.37c-.4-.4-.92-.59-1.43-.59-.52 0-1.04.2-1.43.59L10.3 9.45l-7.72 7.72c-.78.78-.78 2.05 0 2.83L4 21.41c.39.39.9.59 1.41.59.51 0 1.02-.2 1.41-.59l7.78-7.78 2.81-2.81c.8-.78.8-2.07 0-2.86zM5.41 20L4 18.59l7.72-7.72 1.47 1.35L5.41 20z\"/>\n",
              "  </svg>\n",
              "      </button>\n",
              "      \n",
              "  <style>\n",
              "    .colab-df-container {\n",
              "      display:flex;\n",
              "      flex-wrap:wrap;\n",
              "      gap: 12px;\n",
              "    }\n",
              "\n",
              "    .colab-df-convert {\n",
              "      background-color: #E8F0FE;\n",
              "      border: none;\n",
              "      border-radius: 50%;\n",
              "      cursor: pointer;\n",
              "      display: none;\n",
              "      fill: #1967D2;\n",
              "      height: 32px;\n",
              "      padding: 0 0 0 0;\n",
              "      width: 32px;\n",
              "    }\n",
              "\n",
              "    .colab-df-convert:hover {\n",
              "      background-color: #E2EBFA;\n",
              "      box-shadow: 0px 1px 2px rgba(60, 64, 67, 0.3), 0px 1px 3px 1px rgba(60, 64, 67, 0.15);\n",
              "      fill: #174EA6;\n",
              "    }\n",
              "\n",
              "    [theme=dark] .colab-df-convert {\n",
              "      background-color: #3B4455;\n",
              "      fill: #D2E3FC;\n",
              "    }\n",
              "\n",
              "    [theme=dark] .colab-df-convert:hover {\n",
              "      background-color: #434B5C;\n",
              "      box-shadow: 0px 1px 3px 1px rgba(0, 0, 0, 0.15);\n",
              "      filter: drop-shadow(0px 1px 2px rgba(0, 0, 0, 0.3));\n",
              "      fill: #FFFFFF;\n",
              "    }\n",
              "  </style>\n",
              "\n",
              "      <script>\n",
              "        const buttonEl =\n",
              "          document.querySelector('#df-3806e2f5-5400-4512-a80f-0a75a8e74060 button.colab-df-convert');\n",
              "        buttonEl.style.display =\n",
              "          google.colab.kernel.accessAllowed ? 'block' : 'none';\n",
              "\n",
              "        async function convertToInteractive(key) {\n",
              "          const element = document.querySelector('#df-3806e2f5-5400-4512-a80f-0a75a8e74060');\n",
              "          const dataTable =\n",
              "            await google.colab.kernel.invokeFunction('convertToInteractive',\n",
              "                                                     [key], {});\n",
              "          if (!dataTable) return;\n",
              "\n",
              "          const docLinkHtml = 'Like what you see? Visit the ' +\n",
              "            '<a target=\"_blank\" href=https://colab.research.google.com/notebooks/data_table.ipynb>data table notebook</a>'\n",
              "            + ' to learn more about interactive tables.';\n",
              "          element.innerHTML = '';\n",
              "          dataTable['output_type'] = 'display_data';\n",
              "          await google.colab.output.renderOutput(dataTable, element);\n",
              "          const docLink = document.createElement('div');\n",
              "          docLink.innerHTML = docLinkHtml;\n",
              "          element.appendChild(docLink);\n",
              "        }\n",
              "      </script>\n",
              "    </div>\n",
              "  </div>\n",
              "  "
            ]
          },
          "metadata": {},
          "execution_count": 41
        }
      ],
      "source": [
        "# merge to sentiment data\n",
        "df = data_agg.merge(ons, how='left', on=['year', 'quarter']).copy()\n",
        "# create year-quarter variable\n",
        "df[\"year_quarter\"] = df.apply(lambda x: f\"{int(x['quarter'])}Q{int(x['year'])}\", axis=1)\n",
        "df[\"year_quarter\"] = df[\"year_quarter\"].apply(lambda x: pd.Period(value=x, freq=\"Q\").to_timestamp())\n",
        "df.head()"
      ]
    },
    {
      "cell_type": "code",
      "execution_count": 42,
      "id": "577dd00e-a66f-48e1-aba8-4d4ded3d5f7e",
      "metadata": {
        "colab": {
          "base_uri": "https://localhost:8080/"
        },
        "id": "577dd00e-a66f-48e1-aba8-4d4ded3d5f7e",
        "outputId": "8cecf90a-6916-4691-98df-955e8d301041"
      },
      "outputs": [
        {
          "output_type": "stream",
          "name": "stdout",
          "text": [
            "                    sentiment_AB  sentiment_word2vec  gdp_growth\n",
            "sentiment_AB            1.000000            0.363853    0.321381\n",
            "sentiment_word2vec      0.363853            1.000000    0.456141\n",
            "gdp_growth              0.321381            0.456141    1.000000\n"
          ]
        }
      ],
      "source": [
        "print(df[['sentiment_AB', 'sentiment_word2vec', 'gdp_growth']].corr())"
      ]
    },
    {
      "cell_type": "code",
      "execution_count": 44,
      "id": "ffbd0886-fc52-46f0-b51f-1b3dcf52a014",
      "metadata": {
        "colab": {
          "base_uri": "https://localhost:8080/",
          "height": 483
        },
        "id": "ffbd0886-fc52-46f0-b51f-1b3dcf52a014",
        "outputId": "af06acf8-f065-4231-a4ea-3212c2dd8872"
      },
      "outputs": [
        {
          "output_type": "display_data",
          "data": {
            "text/plain": [
              "<Figure size 1152x576 with 1 Axes>"
            ],
            "image/png": "[encoded data removed]"
          },
          "metadata": {
            "needs_background": "light"
          }
        }
      ],
      "source": [
        "# standardize and plot all series\n",
        "scaler = StandardScaler()\n",
        "\n",
        "fig, ax = plt.subplots(figsize=(16,8))\n",
        "ax.plot(df[\"year_quarter\"], scaler.fit_transform(df.sentiment_AB.values.reshape(-1, 1)), label=\"Apel and Blix-Grimaldi (2012)\")\n",
        "ax.plot(df[\"year_quarter\"], scaler.fit_transform(df.sentiment_word2vec.values.reshape(-1, 1)), label=\"Word2Vec dictionaries\")\n",
        "ax.plot(df[\"year_quarter\"], scaler.fit_transform(df.gdp_growth.values.reshape(-1, 1)), label=\"GDP Growth\")\n",
        "\n",
        "plt.legend()\n",
        "plt.show()"
      ]
    }
  ],
  "metadata": {
    "accelerator": "GPU",
    "colab": {
      "collapsed_sections": [],
      "name": "word2vec_notebook.ipynb",
      "provenance": [],
      "toc_visible": true
    },
    "kernelspec": {
      "display_name": "Python 3",
      "language": "python",
      "name": "python3"
    },
    "language_info": {
      "codemirror_mode": {
        "name": "ipython",
        "version": 3
      },
      "file_extension": ".py",
      "mimetype": "text/x-python",
      "name": "python",
      "nbconvert_exporter": "python",
      "pygments_lexer": "ipython3",
      "version": "3.8.2"
    }
  },
  "nbformat": 4,
  "nbformat_minor": 5
}