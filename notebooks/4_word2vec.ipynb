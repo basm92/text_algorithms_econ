{
  "cells": [
    {
      "cell_type": "markdown",
      "id": "optional-influence",
      "metadata": {
        "id": "optional-influence"
      },
      "source": [
        "# **Introduction to Word2Vec**\n",
        "\n",
        "This tutorial illustrates several applications of word embeddings by estimating a Word2Vec model using an off-the-shelf Python library (```Gensim```).\n",
        "\n",
        "Some additional resources on Word2Vec:\n",
        "- **Book chapter**. Jurafsky & Martin (2021). *Vector Semantics and\n",
        "Embeddings*. [Available online.](https://web.stanford.edu/~jurafsky/slp3/6.pdf)\n",
        "- **Original word2vec paper**. Mikolov et al. (2013). *Efficient Estimation of Word Representations in\n",
        "Vector Space*. [Available online.](https://arxiv.org/pdf/1301.3781.pdf)\n",
        "- **Paper.** Rong (2016). *word2vec Parameter Learning Explained*. [Available online.](https://arxiv.org/pdf/1411.2738.pdf)\n",
        "- **Blog post.** Alammar (2019). *The Illustrated Word2vec*. [Available online.](https://jalammar.github.io/illustrated-word2vec/)\n",
        "- [Gensim documentation](https://radimrehurek.com/gensim/models/word2vec.html)"
      ]
    },
    {
      "cell_type": "markdown",
      "id": "e75c2330-27c2-4cf6-b7d8-312d7b60c898",
      "metadata": {
        "id": "e75c2330-27c2-4cf6-b7d8-312d7b60c898"
      },
      "source": [
        "## **Setup**"
      ]
    },
    {
      "cell_type": "code",
      "execution_count": 1,
      "id": "bc05b753-7cb8-43b7-8ec8-680bb0f188ba",
      "metadata": {
        "colab": {
          "base_uri": "https://localhost:8080/"
        },
        "id": "bc05b753-7cb8-43b7-8ec8-680bb0f188ba",
        "outputId": "b48491e7-0d56-4858-853b-695aeabb8000"
      },
      "outputs": [
        {
          "name": "stdout",
          "output_type": "stream",
          "text": [
            "Looking in indexes: https://pypi.org/simple, https://us-python.pkg.dev/colab-wheels/public/simple/\n",
            "Collecting flashtext\n",
            "  Downloading flashtext-2.7.tar.gz (14 kB)\n",
            "Building wheels for collected packages: flashtext\n",
            "  Building wheel for flashtext (setup.py) ... \u001b[?25l\u001b[?25hdone\n",
            "  Created wheel for flashtext: filename=flashtext-2.7-py2.py3-none-any.whl size=9309 sha256=02a166f18af7f5c2487265207b0e2532a4afd2e1b6d18266f6338cb12636ce6a\n",
            "  Stored in directory: /root/.cache/pip/wheels/cb/19/58/4e8fdd0009a7f89dbce3c18fff2e0d0fa201d5cdfd16f113b7\n",
            "Successfully built flashtext\n",
            "Installing collected packages: flashtext\n",
            "Successfully installed flashtext-2.7\n",
            "Looking in indexes: https://pypi.org/simple, https://us-python.pkg.dev/colab-wheels/public/simple/\n",
            "Collecting contractions\n",
            "  Downloading contractions-0.1.72-py2.py3-none-any.whl (8.3 kB)\n",
            "Collecting textsearch>=0.0.21\n",
            "  Downloading textsearch-0.0.21-py2.py3-none-any.whl (7.5 kB)\n",
            "Collecting anyascii\n",
            "  Downloading anyascii-0.3.1-py3-none-any.whl (287 kB)\n",
            "\u001b[K     |████████████████████████████████| 287 kB 5.1 MB/s \n",
            "\u001b[?25hCollecting pyahocorasick\n",
            "  Downloading pyahocorasick-1.4.4-cp37-cp37m-manylinux_2_17_x86_64.manylinux2014_x86_64.whl (106 kB)\n",
            "\u001b[K     |████████████████████████████████| 106 kB 73.2 MB/s \n",
            "\u001b[?25hInstalling collected packages: pyahocorasick, anyascii, textsearch, contractions\n",
            "Successfully installed anyascii-0.3.1 contractions-0.1.72 pyahocorasick-1.4.4 textsearch-0.0.21\n",
            "Looking in indexes: https://pypi.org/simple, https://us-python.pkg.dev/colab-wheels/public/simple/\n",
            "Collecting spacy==2.2.4\n",
            "  Downloading spacy-2.2.4-cp37-cp37m-manylinux1_x86_64.whl (10.6 MB)\n",
            "\u001b[K     |████████████████████████████████| 10.6 MB 3.5 MB/s \n",
            "\u001b[?25hRequirement already satisfied: tqdm<5.0.0,>=4.38.0 in /usr/local/lib/python3.7/dist-packages (from spacy==2.2.4) (4.64.0)\n",
            "Collecting srsly<1.1.0,>=1.0.2\n",
            "  Downloading srsly-1.0.5-cp37-cp37m-manylinux2014_x86_64.whl (184 kB)\n",
            "\u001b[K     |████████████████████████████████| 184 kB 54.7 MB/s \n",
            "\u001b[?25hCollecting thinc==7.4.0\n",
            "  Downloading thinc-7.4.0-cp37-cp37m-manylinux1_x86_64.whl (2.2 MB)\n",
            "\u001b[K     |████████████████████████████████| 2.2 MB 22.0 MB/s \n",
            "\u001b[?25hRequirement already satisfied: cymem<2.1.0,>=2.0.2 in /usr/local/lib/python3.7/dist-packages (from spacy==2.2.4) (2.0.6)\n",
            "Requirement already satisfied: murmurhash<1.1.0,>=0.28.0 in /usr/local/lib/python3.7/dist-packages (from spacy==2.2.4) (1.0.7)\n",
            "Requirement already satisfied: numpy>=1.15.0 in /usr/local/lib/python3.7/dist-packages (from spacy==2.2.4) (1.21.6)\n",
            "Requirement already satisfied: preshed<3.1.0,>=3.0.2 in /usr/local/lib/python3.7/dist-packages (from spacy==2.2.4) (3.0.6)\n",
            "Requirement already satisfied: wasabi<1.1.0,>=0.4.0 in /usr/local/lib/python3.7/dist-packages (from spacy==2.2.4) (0.10.1)\n",
            "Collecting plac<1.2.0,>=0.9.6\n",
            "  Downloading plac-1.1.3-py2.py3-none-any.whl (20 kB)\n",
            "Requirement already satisfied: setuptools in /usr/local/lib/python3.7/dist-packages (from spacy==2.2.4) (57.4.0)\n",
            "Collecting blis<0.5.0,>=0.4.0\n",
            "  Downloading blis-0.4.1-cp37-cp37m-manylinux1_x86_64.whl (3.7 MB)\n",
            "\u001b[K     |████████████████████████████████| 3.7 MB 51.9 MB/s \n",
            "\u001b[?25hCollecting catalogue<1.1.0,>=0.0.7\n",
            "  Downloading catalogue-1.0.0-py2.py3-none-any.whl (7.7 kB)\n",
            "Requirement already satisfied: requests<3.0.0,>=2.13.0 in /usr/local/lib/python3.7/dist-packages (from spacy==2.2.4) (2.23.0)\n",
            "Requirement already satisfied: importlib-metadata>=0.20 in /usr/local/lib/python3.7/dist-packages (from catalogue<1.1.0,>=0.0.7->spacy==2.2.4) (4.12.0)\n",
            "Requirement already satisfied: zipp>=0.5 in /usr/local/lib/python3.7/dist-packages (from importlib-metadata>=0.20->catalogue<1.1.0,>=0.0.7->spacy==2.2.4) (3.8.1)\n",
            "Requirement already satisfied: typing-extensions>=3.6.4 in /usr/local/lib/python3.7/dist-packages (from importlib-metadata>=0.20->catalogue<1.1.0,>=0.0.7->spacy==2.2.4) (4.1.1)\n",
            "Requirement already satisfied: certifi>=2017.4.17 in /usr/local/lib/python3.7/dist-packages (from requests<3.0.0,>=2.13.0->spacy==2.2.4) (2022.6.15)\n",
            "Requirement already satisfied: chardet<4,>=3.0.2 in /usr/local/lib/python3.7/dist-packages (from requests<3.0.0,>=2.13.0->spacy==2.2.4) (3.0.4)\n",
            "Requirement already satisfied: urllib3!=1.25.0,!=1.25.1,<1.26,>=1.21.1 in /usr/local/lib/python3.7/dist-packages (from requests<3.0.0,>=2.13.0->spacy==2.2.4) (1.24.3)\n",
            "Requirement already satisfied: idna<3,>=2.5 in /usr/local/lib/python3.7/dist-packages (from requests<3.0.0,>=2.13.0->spacy==2.2.4) (2.10)\n",
            "Installing collected packages: srsly, plac, catalogue, blis, thinc, spacy\n",
            "  Attempting uninstall: srsly\n",
            "    Found existing installation: srsly 2.4.4\n",
            "    Uninstalling srsly-2.4.4:\n",
            "      Successfully uninstalled srsly-2.4.4\n",
            "  Attempting uninstall: catalogue\n",
            "    Found existing installation: catalogue 2.0.8\n",
            "    Uninstalling catalogue-2.0.8:\n",
            "      Successfully uninstalled catalogue-2.0.8\n",
            "  Attempting uninstall: blis\n",
            "    Found existing installation: blis 0.7.8\n",
            "    Uninstalling blis-0.7.8:\n",
            "      Successfully uninstalled blis-0.7.8\n",
            "  Attempting uninstall: thinc\n",
            "    Found existing installation: thinc 8.1.0\n",
            "    Uninstalling thinc-8.1.0:\n",
            "      Successfully uninstalled thinc-8.1.0\n",
            "  Attempting uninstall: spacy\n",
            "    Found existing installation: spacy 3.4.1\n",
            "    Uninstalling spacy-3.4.1:\n",
            "      Successfully uninstalled spacy-3.4.1\n",
            "\u001b[31mERROR: pip's dependency resolver does not currently take into account all the packages that are installed. This behaviour is the source of the following dependency conflicts.\n",
            "en-core-web-sm 3.4.0 requires spacy<3.5.0,>=3.4.0, but you have spacy 2.2.4 which is incompatible.\u001b[0m\n",
            "Successfully installed blis-0.4.1 catalogue-1.0.0 plac-1.1.3 spacy-2.2.4 srsly-1.0.5 thinc-7.4.0\n",
            "Looking in indexes: https://pypi.org/simple, https://us-python.pkg.dev/colab-wheels/public/simple/\n",
            "Collecting gensim==4.0.0\n",
            "  Downloading gensim-4.0.0-cp37-cp37m-manylinux1_x86_64.whl (23.9 MB)\n",
            "\u001b[K     |████████████████████████████████| 23.9 MB 1.4 MB/s \n",
            "\u001b[?25hRequirement already satisfied: smart-open>=1.8.1 in /usr/local/lib/python3.7/dist-packages (from gensim==4.0.0) (5.2.1)\n",
            "Requirement already satisfied: numpy>=1.11.3 in /usr/local/lib/python3.7/dist-packages (from gensim==4.0.0) (1.21.6)\n",
            "Requirement already satisfied: scipy>=0.18.1 in /usr/local/lib/python3.7/dist-packages (from gensim==4.0.0) (1.7.3)\n",
            "Installing collected packages: gensim\n",
            "  Attempting uninstall: gensim\n",
            "    Found existing installation: gensim 3.6.0\n",
            "    Uninstalling gensim-3.6.0:\n",
            "      Successfully uninstalled gensim-3.6.0\n",
            "Successfully installed gensim-4.0.0\n",
            "Looking in indexes: https://pypi.org/simple, https://us-python.pkg.dev/colab-wheels/public/simple/\n",
            "Collecting adjustText\n",
            "  Downloading adjustText-0.7.3.tar.gz (7.5 kB)\n",
            "Requirement already satisfied: numpy in /usr/local/lib/python3.7/dist-packages (from adjustText) (1.21.6)\n",
            "Requirement already satisfied: matplotlib in /usr/local/lib/python3.7/dist-packages (from adjustText) (3.2.2)\n",
            "Requirement already satisfied: python-dateutil>=2.1 in /usr/local/lib/python3.7/dist-packages (from matplotlib->adjustText) (2.8.2)\n",
            "Requirement already satisfied: kiwisolver>=1.0.1 in /usr/local/lib/python3.7/dist-packages (from matplotlib->adjustText) (1.4.4)\n",
            "Requirement already satisfied: cycler>=0.10 in /usr/local/lib/python3.7/dist-packages (from matplotlib->adjustText) (0.11.0)\n",
            "Requirement already satisfied: pyparsing!=2.0.4,!=2.1.2,!=2.1.6,>=2.0.1 in /usr/local/lib/python3.7/dist-packages (from matplotlib->adjustText) (3.0.9)\n",
            "Requirement already satisfied: typing-extensions in /usr/local/lib/python3.7/dist-packages (from kiwisolver>=1.0.1->matplotlib->adjustText) (4.1.1)\n",
            "Requirement already satisfied: six>=1.5 in /usr/local/lib/python3.7/dist-packages (from python-dateutil>=2.1->matplotlib->adjustText) (1.15.0)\n",
            "Building wheels for collected packages: adjustText\n",
            "  Building wheel for adjustText (setup.py) ... \u001b[?25l\u001b[?25hdone\n",
            "  Created wheel for adjustText: filename=adjustText-0.7.3-py3-none-any.whl size=7097 sha256=86e1e9b21f4ebe818749992c594a0026ca50f60ea743d4964bef1d9fe18052b6\n",
            "  Stored in directory: /root/.cache/pip/wheels/2f/98/32/afbf902d8f040fadfdf0a44357e4ab750afe165d873bf5893d\n",
            "Successfully built adjustText\n",
            "Installing collected packages: adjustText\n",
            "Successfully installed adjustText-0.7.3\n",
            "Looking in indexes: https://pypi.org/simple, https://us-python.pkg.dev/colab-wheels/public/simple/\n",
            "Requirement already satisfied: gdown in /usr/local/lib/python3.7/dist-packages (4.4.0)\n",
            "Requirement already satisfied: requests[socks] in /usr/local/lib/python3.7/dist-packages (from gdown) (2.23.0)\n",
            "Requirement already satisfied: six in /usr/local/lib/python3.7/dist-packages (from gdown) (1.15.0)\n",
            "Requirement already satisfied: tqdm in /usr/local/lib/python3.7/dist-packages (from gdown) (4.64.0)\n",
            "Requirement already satisfied: filelock in /usr/local/lib/python3.7/dist-packages (from gdown) (3.8.0)\n",
            "Requirement already satisfied: beautifulsoup4 in /usr/local/lib/python3.7/dist-packages (from gdown) (4.6.3)\n",
            "Requirement already satisfied: urllib3!=1.25.0,!=1.25.1,<1.26,>=1.21.1 in /usr/local/lib/python3.7/dist-packages (from requests[socks]->gdown) (1.24.3)\n",
            "Requirement already satisfied: chardet<4,>=3.0.2 in /usr/local/lib/python3.7/dist-packages (from requests[socks]->gdown) (3.0.4)\n",
            "Requirement already satisfied: certifi>=2017.4.17 in /usr/local/lib/python3.7/dist-packages (from requests[socks]->gdown) (2022.6.15)\n",
            "Requirement already satisfied: idna<3,>=2.5 in /usr/local/lib/python3.7/dist-packages (from requests[socks]->gdown) (2.10)\n",
            "Requirement already satisfied: PySocks!=1.5.7,>=1.5.6 in /usr/local/lib/python3.7/dist-packages (from requests[socks]->gdown) (1.7.1)\n",
            "Looking in indexes: https://pypi.org/simple, https://us-python.pkg.dev/colab-wheels/public/simple/\n",
            "Requirement already satisfied: nltk in /usr/local/lib/python3.7/dist-packages (3.7)\n",
            "Requirement already satisfied: click in /usr/local/lib/python3.7/dist-packages (from nltk) (7.1.2)\n",
            "Requirement already satisfied: joblib in /usr/local/lib/python3.7/dist-packages (from nltk) (1.1.0)\n",
            "Requirement already satisfied: tqdm in /usr/local/lib/python3.7/dist-packages (from nltk) (4.64.0)\n",
            "Requirement already satisfied: regex>=2021.8.3 in /usr/local/lib/python3.7/dist-packages (from nltk) (2022.6.2)\n"
          ]
        }
      ],
      "source": [
        "# install required libraries\n",
        "!pip3 install flashtext                  # easy phrase replacing methods\n",
        "!pip3 install contractions               # expand English contractions \n",
        "!pip3 install --upgrade spacy==2.2.4     # functions for lemmatizing\n",
        "!pip3 install gensim==4.0.0              # word2vec estimation\n",
        "!pip3 install adjustText                 # generate plots with lots of text labels\n",
        "!pip3 install gdown                      # download files from Google Drive\n",
        "!pip3 install nltk                       # NLP library"
      ]
    },
    {
      "cell_type": "code",
      "execution_count": 2,
      "id": "8f6fe5a9",
      "metadata": {
        "colab": {
          "base_uri": "https://localhost:8080/"
        },
        "id": "8f6fe5a9",
        "outputId": "839d93aa-0c30-494b-f642-56104205b163"
      },
      "outputs": [
        {
          "name": "stdout",
          "output_type": "stream",
          "text": [
            "Looking in indexes: https://pypi.org/simple, https://us-python.pkg.dev/colab-wheels/public/simple/\n",
            "Collecting en_core_web_sm==2.2.5\n",
            "  Downloading https://github.com/explosion/spacy-models/releases/download/en_core_web_sm-2.2.5/en_core_web_sm-2.2.5.tar.gz (12.0 MB)\n",
            "\u001b[K     |████████████████████████████████| 12.0 MB 5.2 MB/s \n",
            "\u001b[?25hRequirement already satisfied: spacy>=2.2.2 in /usr/local/lib/python3.7/dist-packages (from en_core_web_sm==2.2.5) (2.2.4)\n",
            "Requirement already satisfied: thinc==7.4.0 in /usr/local/lib/python3.7/dist-packages (from spacy>=2.2.2->en_core_web_sm==2.2.5) (7.4.0)\n",
            "Requirement already satisfied: tqdm<5.0.0,>=4.38.0 in /usr/local/lib/python3.7/dist-packages (from spacy>=2.2.2->en_core_web_sm==2.2.5) (4.64.0)\n",
            "Requirement already satisfied: setuptools in /usr/local/lib/python3.7/dist-packages (from spacy>=2.2.2->en_core_web_sm==2.2.5) (57.4.0)\n",
            "Requirement already satisfied: preshed<3.1.0,>=3.0.2 in /usr/local/lib/python3.7/dist-packages (from spacy>=2.2.2->en_core_web_sm==2.2.5) (3.0.6)\n",
            "Requirement already satisfied: requests<3.0.0,>=2.13.0 in /usr/local/lib/python3.7/dist-packages (from spacy>=2.2.2->en_core_web_sm==2.2.5) (2.23.0)\n",
            "Requirement already satisfied: catalogue<1.1.0,>=0.0.7 in /usr/local/lib/python3.7/dist-packages (from spacy>=2.2.2->en_core_web_sm==2.2.5) (1.0.0)\n",
            "Requirement already satisfied: wasabi<1.1.0,>=0.4.0 in /usr/local/lib/python3.7/dist-packages (from spacy>=2.2.2->en_core_web_sm==2.2.5) (0.10.1)\n",
            "Requirement already satisfied: srsly<1.1.0,>=1.0.2 in /usr/local/lib/python3.7/dist-packages (from spacy>=2.2.2->en_core_web_sm==2.2.5) (1.0.5)\n",
            "Requirement already satisfied: blis<0.5.0,>=0.4.0 in /usr/local/lib/python3.7/dist-packages (from spacy>=2.2.2->en_core_web_sm==2.2.5) (0.4.1)\n",
            "Requirement already satisfied: murmurhash<1.1.0,>=0.28.0 in /usr/local/lib/python3.7/dist-packages (from spacy>=2.2.2->en_core_web_sm==2.2.5) (1.0.7)\n",
            "Requirement already satisfied: numpy>=1.15.0 in /usr/local/lib/python3.7/dist-packages (from spacy>=2.2.2->en_core_web_sm==2.2.5) (1.21.6)\n",
            "Requirement already satisfied: cymem<2.1.0,>=2.0.2 in /usr/local/lib/python3.7/dist-packages (from spacy>=2.2.2->en_core_web_sm==2.2.5) (2.0.6)\n",
            "Requirement already satisfied: plac<1.2.0,>=0.9.6 in /usr/local/lib/python3.7/dist-packages (from spacy>=2.2.2->en_core_web_sm==2.2.5) (1.1.3)\n",
            "Requirement already satisfied: importlib-metadata>=0.20 in /usr/local/lib/python3.7/dist-packages (from catalogue<1.1.0,>=0.0.7->spacy>=2.2.2->en_core_web_sm==2.2.5) (4.12.0)\n",
            "Requirement already satisfied: typing-extensions>=3.6.4 in /usr/local/lib/python3.7/dist-packages (from importlib-metadata>=0.20->catalogue<1.1.0,>=0.0.7->spacy>=2.2.2->en_core_web_sm==2.2.5) (4.1.1)\n",
            "Requirement already satisfied: zipp>=0.5 in /usr/local/lib/python3.7/dist-packages (from importlib-metadata>=0.20->catalogue<1.1.0,>=0.0.7->spacy>=2.2.2->en_core_web_sm==2.2.5) (3.8.1)\n",
            "Requirement already satisfied: idna<3,>=2.5 in /usr/local/lib/python3.7/dist-packages (from requests<3.0.0,>=2.13.0->spacy>=2.2.2->en_core_web_sm==2.2.5) (2.10)\n",
            "Requirement already satisfied: chardet<4,>=3.0.2 in /usr/local/lib/python3.7/dist-packages (from requests<3.0.0,>=2.13.0->spacy>=2.2.2->en_core_web_sm==2.2.5) (3.0.4)\n",
            "Requirement already satisfied: certifi>=2017.4.17 in /usr/local/lib/python3.7/dist-packages (from requests<3.0.0,>=2.13.0->spacy>=2.2.2->en_core_web_sm==2.2.5) (2022.6.15)\n",
            "Requirement already satisfied: urllib3!=1.25.0,!=1.25.1,<1.26,>=1.21.1 in /usr/local/lib/python3.7/dist-packages (from requests<3.0.0,>=2.13.0->spacy>=2.2.2->en_core_web_sm==2.2.5) (1.24.3)\n",
            "Building wheels for collected packages: en-core-web-sm\n",
            "  Building wheel for en-core-web-sm (setup.py) ... \u001b[?25l\u001b[?25hdone\n",
            "  Created wheel for en-core-web-sm: filename=en_core_web_sm-2.2.5-py3-none-any.whl size=12011737 sha256=322df5c3b1023a463fc6b3f58b604271acd762b96402edacb7db67580702a9be\n",
            "  Stored in directory: /tmp/pip-ephem-wheel-cache-v28022k2/wheels/51/19/da/a3885266a3c241aff0ad2eb674ae058fd34a4870fef1c0a5a0\n",
            "Successfully built en-core-web-sm\n",
            "Installing collected packages: en-core-web-sm\n",
            "  Attempting uninstall: en-core-web-sm\n",
            "    Found existing installation: en-core-web-sm 3.4.0\n",
            "    Uninstalling en-core-web-sm-3.4.0:\n",
            "      Successfully uninstalled en-core-web-sm-3.4.0\n",
            "Successfully installed en-core-web-sm-2.2.5\n",
            "\u001b[38;5;2m✔ Download and installation successful\u001b[0m\n",
            "You can now load the model via spacy.load('en_core_web_sm')\n"
          ]
        }
      ],
      "source": [
        "# download Spacy's English language model\n",
        "# for more languages and models check: https://spacy.io/models\n",
        "!python -m spacy download en_core_web_sm"
      ]
    },
    {
      "cell_type": "code",
      "execution_count": 3,
      "id": "fbd338d1-11bc-4cc7-a173-4ecf5920ddc3",
      "metadata": {
        "id": "fbd338d1-11bc-4cc7-a173-4ecf5920ddc3"
      },
      "outputs": [],
      "source": [
        "# (COLAB) you might need to restart RUNTIME after installing packages!"
      ]
    },
    {
      "cell_type": "code",
      "execution_count": 4,
      "id": "547399b5-1e4f-4c55-b703-530dd83ffd75",
      "metadata": {
        "colab": {
          "base_uri": "https://localhost:8080/"
        },
        "id": "547399b5-1e4f-4c55-b703-530dd83ffd75",
        "outputId": "f8bb193a-a986-4833-efcb-f8f5fc7a72de"
      },
      "outputs": [
        {
          "name": "stdout",
          "output_type": "stream",
          "text": [
            "Cloning into 'pymodules-test'...\n",
            "remote: Enumerating objects: 23, done.\u001b[K\n",
            "remote: Counting objects: 100% (23/23), done.\u001b[K\n",
            "remote: Compressing objects: 100% (17/17), done.\u001b[K\n",
            "remote: Total 23 (delta 5), reused 14 (delta 2), pack-reused 0\u001b[K\n",
            "Unpacking objects: 100% (23/23), done.\n"
          ]
        }
      ],
      "source": [
        "# (COLAB) clone the GitHub repository\n",
        "!git clone https://github.com/yabramuvdi/pymodules-test.git\n",
        "#!git clone https://github.com/sekhansen/text_algorithms_econ \n",
        "#!git clone https://github.com/[USERNAME]/[REPOSITORY_NAME].git"
      ]
    },
    {
      "cell_type": "code",
      "execution_count": 5,
      "id": "military-demonstration",
      "metadata": {
        "colab": {
          "base_uri": "https://localhost:8080/"
        },
        "id": "military-demonstration",
        "outputId": "46109961-0a47-45b7-cd95-fd4dfe404f60"
      },
      "outputs": [
        {
          "name": "stderr",
          "output_type": "stream",
          "text": [
            "/usr/local/lib/python3.7/dist-packages/gensim/similarities/__init__.py:15: UserWarning: The gensim.similarities.levenshtein submodule is disabled, because the optional Levenshtein package <https://pypi.org/project/python-Levenshtein/> is unavailable. Install Levenhstein (e.g. `pip install python-Levenshtein`) to suppress this warning.\n",
            "  warnings.warn(msg)\n"
          ]
        }
      ],
      "source": [
        "import sys\n",
        "import pandas as pd\n",
        "import numpy as np\n",
        "import gdown\n",
        "import string\n",
        "from gensim.models import Word2Vec\n",
        "import matplotlib.pyplot as plt\n",
        "from adjustText import adjust_text\n",
        "from sklearn.decomposition import PCA\n",
        "from collections import Counter\n",
        "from sklearn.preprocessing import StandardScaler"
      ]
    },
    {
      "cell_type": "code",
      "execution_count": 6,
      "id": "5824485c",
      "metadata": {
        "id": "5824485c"
      },
      "outputs": [],
      "source": [
        "# define paths\n",
        "data_path = \"./\"\n",
        "pymodules_path = \"./pymodules-test/pymodules/\"  # for COLAB\n",
        "#pymodules_path = \"../pymodules/\"  # for local repository"
      ]
    },
    {
      "cell_type": "code",
      "execution_count": 7,
      "id": "3ed59a1b",
      "metadata": {
        "id": "3ed59a1b"
      },
      "outputs": [],
      "source": [
        "# import our own code\n",
        "sys.path.append(pymodules_path)\n",
        "import preprocessing_class as pc\n",
        "import dictionary_methods as dictionary_methods"
      ]
    },
    {
      "cell_type": "markdown",
      "id": "ff8cb7d3-d86a-4fdc-acc5-7402e74b12c8",
      "metadata": {
        "id": "ff8cb7d3-d86a-4fdc-acc5-7402e74b12c8"
      },
      "source": [
        "## **Off-the-shelf Word2Vec using Gensim**\n",
        "\n",
        "[Gensim](https://radimrehurek.com/gensim/index.html) is a very powerful library that contains efficient (written in ```C```) implementations of several NLP models. Word2Vec is included among these. We will start by using this library to demonstrate use cases for word embeddings."
      ]
    },
    {
      "cell_type": "markdown",
      "id": "3a7c7a62-c1ab-4aeb-a2e8-ac009d7b6c34",
      "metadata": {
        "id": "3a7c7a62-c1ab-4aeb-a2e8-ac009d7b6c34"
      },
      "source": [
        "### *Load data and preprocess text*\n",
        "\n",
        "We will now load some real data over which we will estimate our word embeddings. We see that our data consists of paragraphs from the Inflation Reports produced by the Bank of England. The data starts on 1998 and ends in 2015. Reports are produced four times a year in the months of February, May, August and November."
      ]
    },
    {
      "cell_type": "markdown",
      "id": "5952f0ca",
      "metadata": {
        "id": "5952f0ca"
      },
      "source": [
        "As a starting point, we will need to download three data files from Google Drive:\n",
        "1. Inflation Reports data\n",
        "2. Monetary Policy Committee minutes data\n",
        "3. UK Quarterly GDP data"
      ]
    },
    {
      "cell_type": "code",
      "execution_count": 8,
      "id": "nYIMYPHteHTx",
      "metadata": {
        "id": "nYIMYPHteHTx"
      },
      "outputs": [],
      "source": [
        "# define dictionary with paths to data in Google Drive\n",
        "data_url_dict = {\"ir_data_final\":        (\"https://drive.google.com/uc?id=1-COWuk2ZitrywYnLoJ7HVx2GJumTmgTs\", \"txt\"),\n",
        "                 \"mpc_minutes\":          (\"https://drive.google.com/uc?id=1k086m12gBHKuVMPv4GUD1aB_kZOZpznR\", \"txt\"),\n",
        "                 \"ons_quarterly_gdp\":    (\"https://drive.google.com/uc?id=1_8JwCNUsq9wnPiTDmcJ2xrWklGGDFbQD\", \"csv\"),\n",
        "                  }"
      ]
    },
    {
      "cell_type": "code",
      "execution_count": 9,
      "id": "UuKYi9xZeykS",
      "metadata": {
        "colab": {
          "base_uri": "https://localhost:8080/"
        },
        "id": "UuKYi9xZeykS",
        "outputId": "1325cc1a-5a40-4535-9c0d-d14074ad8774"
      },
      "outputs": [
        {
          "name": "stderr",
          "output_type": "stream",
          "text": [
            "Downloading...\n",
            "From: https://drive.google.com/uc?id=1-COWuk2ZitrywYnLoJ7HVx2GJumTmgTs\n",
            "To: /content/ir_data_final.txt\n",
            "100%|██████████| 9.53M/9.53M [00:00<00:00, 59.9MB/s]\n",
            "Downloading...\n",
            "From: https://drive.google.com/uc?id=1k086m12gBHKuVMPv4GUD1aB_kZOZpznR\n",
            "To: /content/mpc_minutes.txt\n",
            "100%|██████████| 7.36M/7.36M [00:00<00:00, 56.3MB/s]\n",
            "Downloading...\n",
            "From: https://drive.google.com/uc?id=1_8JwCNUsq9wnPiTDmcJ2xrWklGGDFbQD\n",
            "To: /content/ons_quarterly_gdp.csv\n",
            "100%|██████████| 3.33k/3.33k [00:00<00:00, 5.59MB/s]\n"
          ]
        }
      ],
      "source": [
        "# download each file in the dictionary\n",
        "for file_name, attributes in data_url_dict.items():\n",
        "  url = attributes[0]\n",
        "  extension = attributes[1]\n",
        "  gdown.download(url, f\"{data_path}{file_name}.{extension}\", quiet=False) "
      ]
    },
    {
      "cell_type": "code",
      "execution_count": 10,
      "id": "c9f47d7b-e1b3-4326-846b-5dd4c1a7cb99",
      "metadata": {
        "colab": {
          "base_uri": "https://localhost:8080/",
          "height": 381
        },
        "id": "c9f47d7b-e1b3-4326-846b-5dd4c1a7cb99",
        "outputId": "9831dfa3-b92e-4547-af76-1358ddfd3ae4"
      },
      "outputs": [
        {
          "name": "stdout",
          "output_type": "stream",
          "text": [
            "(15023, 2)\n"
          ]
        },
        {
          "data": {
            "text/html": [
              "\n",
              "  <div id=\"df-99f14eee-86b7-4bf7-ada8-07a64bf6f8b7\">\n",
              "    <div class=\"colab-df-container\">\n",
              "      <div>\n",
              "<style scoped>\n",
              "    .dataframe tbody tr th:only-of-type {\n",
              "        vertical-align: middle;\n",
              "    }\n",
              "\n",
              "    .dataframe tbody tr th {\n",
              "        vertical-align: top;\n",
              "    }\n",
              "\n",
              "    .dataframe thead th {\n",
              "        text-align: right;\n",
              "    }\n",
              "</style>\n",
              "<table border=\"1\" class=\"dataframe\">\n",
              "  <thead>\n",
              "    <tr style=\"text-align: right;\">\n",
              "      <th></th>\n",
              "      <th>yearmonth</th>\n",
              "      <th>paragraph</th>\n",
              "    </tr>\n",
              "  </thead>\n",
              "  <tbody>\n",
              "    <tr>\n",
              "      <th>0</th>\n",
              "      <td>199802</td>\n",
              "      <td>It is almost six years since output reached it...</td>\n",
              "    </tr>\n",
              "    <tr>\n",
              "      <th>1</th>\n",
              "      <td>199802</td>\n",
              "      <td>Monetary policy is currently being pulled in o...</td>\n",
              "    </tr>\n",
              "    <tr>\n",
              "      <th>2</th>\n",
              "      <td>199802</td>\n",
              "      <td>On the other hand, the delayed demand effect o...</td>\n",
              "    </tr>\n",
              "    <tr>\n",
              "      <th>3</th>\n",
              "      <td>199802</td>\n",
              "      <td>The scale of the slowdown depends, in part, on...</td>\n",
              "    </tr>\n",
              "    <tr>\n",
              "      <th>4</th>\n",
              "      <td>199802</td>\n",
              "      <td>Net trade is weakening, but domestic demand gr...</td>\n",
              "    </tr>\n",
              "    <tr>\n",
              "      <th>5</th>\n",
              "      <td>199802</td>\n",
              "      <td>The combination of sharply weakening net trade...</td>\n",
              "    </tr>\n",
              "    <tr>\n",
              "      <th>6</th>\n",
              "      <td>199802</td>\n",
              "      <td>The MPC’s probability distribution for the fou...</td>\n",
              "    </tr>\n",
              "    <tr>\n",
              "      <th>7</th>\n",
              "      <td>199802</td>\n",
              "      <td>The MPC’s projection of the twelve-month RPIX ...</td>\n",
              "    </tr>\n",
              "    <tr>\n",
              "      <th>8</th>\n",
              "      <td>199802</td>\n",
              "      <td>Overall, the balance of risks to inflation in ...</td>\n",
              "    </tr>\n",
              "    <tr>\n",
              "      <th>9</th>\n",
              "      <td>199802</td>\n",
              "      <td>Against the background of this projection, the...</td>\n",
              "    </tr>\n",
              "  </tbody>\n",
              "</table>\n",
              "</div>\n",
              "      <button class=\"colab-df-convert\" onclick=\"convertToInteractive('df-99f14eee-86b7-4bf7-ada8-07a64bf6f8b7')\"\n",
              "              title=\"Convert this dataframe to an interactive table.\"\n",
              "              style=\"display:none;\">\n",
              "        \n",
              "  <svg xmlns=\"http://www.w3.org/2000/svg\" height=\"24px\"viewBox=\"0 0 24 24\"\n",
              "       width=\"24px\">\n",
              "    <path d=\"M0 0h24v24H0V0z\" fill=\"none\"/>\n",
              "    <path d=\"M18.56 5.44l.94 2.06.94-2.06 2.06-.94-2.06-.94-.94-2.06-.94 2.06-2.06.94zm-11 1L8.5 8.5l.94-2.06 2.06-.94-2.06-.94L8.5 2.5l-.94 2.06-2.06.94zm10 10l.94 2.06.94-2.06 2.06-.94-2.06-.94-.94-2.06-.94 2.06-2.06.94z\"/><path d=\"M17.41 7.96l-1.37-1.37c-.4-.4-.92-.59-1.43-.59-.52 0-1.04.2-1.43.59L10.3 9.45l-7.72 7.72c-.78.78-.78 2.05 0 2.83L4 21.41c.39.39.9.59 1.41.59.51 0 1.02-.2 1.41-.59l7.78-7.78 2.81-2.81c.8-.78.8-2.07 0-2.86zM5.41 20L4 18.59l7.72-7.72 1.47 1.35L5.41 20z\"/>\n",
              "  </svg>\n",
              "      </button>\n",
              "      \n",
              "  <style>\n",
              "    .colab-df-container {\n",
              "      display:flex;\n",
              "      flex-wrap:wrap;\n",
              "      gap: 12px;\n",
              "    }\n",
              "\n",
              "    .colab-df-convert {\n",
              "      background-color: #E8F0FE;\n",
              "      border: none;\n",
              "      border-radius: 50%;\n",
              "      cursor: pointer;\n",
              "      display: none;\n",
              "      fill: #1967D2;\n",
              "      height: 32px;\n",
              "      padding: 0 0 0 0;\n",
              "      width: 32px;\n",
              "    }\n",
              "\n",
              "    .colab-df-convert:hover {\n",
              "      background-color: #E2EBFA;\n",
              "      box-shadow: 0px 1px 2px rgba(60, 64, 67, 0.3), 0px 1px 3px 1px rgba(60, 64, 67, 0.15);\n",
              "      fill: #174EA6;\n",
              "    }\n",
              "\n",
              "    [theme=dark] .colab-df-convert {\n",
              "      background-color: #3B4455;\n",
              "      fill: #D2E3FC;\n",
              "    }\n",
              "\n",
              "    [theme=dark] .colab-df-convert:hover {\n",
              "      background-color: #434B5C;\n",
              "      box-shadow: 0px 1px 3px 1px rgba(0, 0, 0, 0.15);\n",
              "      filter: drop-shadow(0px 1px 2px rgba(0, 0, 0, 0.3));\n",
              "      fill: #FFFFFF;\n",
              "    }\n",
              "  </style>\n",
              "\n",
              "      <script>\n",
              "        const buttonEl =\n",
              "          document.querySelector('#df-99f14eee-86b7-4bf7-ada8-07a64bf6f8b7 button.colab-df-convert');\n",
              "        buttonEl.style.display =\n",
              "          google.colab.kernel.accessAllowed ? 'block' : 'none';\n",
              "\n",
              "        async function convertToInteractive(key) {\n",
              "          const element = document.querySelector('#df-99f14eee-86b7-4bf7-ada8-07a64bf6f8b7');\n",
              "          const dataTable =\n",
              "            await google.colab.kernel.invokeFunction('convertToInteractive',\n",
              "                                                     [key], {});\n",
              "          if (!dataTable) return;\n",
              "\n",
              "          const docLinkHtml = 'Like what you see? Visit the ' +\n",
              "            '<a target=\"_blank\" href=https://colab.research.google.com/notebooks/data_table.ipynb>data table notebook</a>'\n",
              "            + ' to learn more about interactive tables.';\n",
              "          element.innerHTML = '';\n",
              "          dataTable['output_type'] = 'display_data';\n",
              "          await google.colab.output.renderOutput(dataTable, element);\n",
              "          const docLink = document.createElement('div');\n",
              "          docLink.innerHTML = docLinkHtml;\n",
              "          element.appendChild(docLink);\n",
              "        }\n",
              "      </script>\n",
              "    </div>\n",
              "  </div>\n",
              "  "
            ],
            "text/plain": [
              "   yearmonth                                          paragraph\n",
              "0     199802  It is almost six years since output reached it...\n",
              "1     199802  Monetary policy is currently being pulled in o...\n",
              "2     199802  On the other hand, the delayed demand effect o...\n",
              "3     199802  The scale of the slowdown depends, in part, on...\n",
              "4     199802  Net trade is weakening, but domestic demand gr...\n",
              "5     199802  The combination of sharply weakening net trade...\n",
              "6     199802  The MPC’s probability distribution for the fou...\n",
              "7     199802  The MPC’s projection of the twelve-month RPIX ...\n",
              "8     199802  Overall, the balance of risks to inflation in ...\n",
              "9     199802  Against the background of this projection, the..."
            ]
          },
          "execution_count": 10,
          "metadata": {},
          "output_type": "execute_result"
        }
      ],
      "source": [
        "# load the Inflation Reports (IR) data\n",
        "data = pd.read_csv(data_path + \"ir_data_final.txt\", sep=\"\\t\")\n",
        "data = data[['ir_date', 'paragraph']]\n",
        "data.columns = ['yearmonth', 'paragraph']\n",
        "print(data.shape)\n",
        "data.head(10)"
      ]
    },
    {
      "cell_type": "code",
      "execution_count": 11,
      "id": "a647e409",
      "metadata": {
        "colab": {
          "base_uri": "https://localhost:8080/",
          "height": 89
        },
        "id": "a647e409",
        "outputId": "94cfbcae-30c8-4063-9ba5-dfbfe3029f20"
      },
      "outputs": [
        {
          "data": {
            "application/vnd.google.colaboratory.intrinsic+json": {
              "type": "string"
            },
            "text/plain": [
              "'It is almost six years since output reached its trough in the last recession. Since then, output has risen at an average rate of 3% a year and inflation has fallen from almost 5% to below 3% a year. The combination of above-trend growth and falling inflation is unsustainable, and has probably already come to an end. At this juncture, with output growth likely to fall sharply, monetary policy is more finely balanced than at any point since the inflation target was introduced in 1992. The central issue is whether the existing policy stance will slow the economy sufficiently quickly to prevent further upward pressure on earnings growth and retail price inflation.'"
            ]
          },
          "execution_count": 11,
          "metadata": {},
          "output_type": "execute_result"
        }
      ],
      "source": [
        "# explore one of the paragraphs\n",
        "data.loc[0, \"paragraph\"]"
      ]
    },
    {
      "cell_type": "code",
      "execution_count": 12,
      "id": "d856f1d9-edd9-4bda-a56d-b4c48a37b074",
      "metadata": {
        "colab": {
          "base_uri": "https://localhost:8080/"
        },
        "id": "d856f1d9-edd9-4bda-a56d-b4c48a37b074",
        "outputId": "c7c445bc-b817-492f-d341-732d6442abe8"
      },
      "outputs": [
        {
          "name": "stdout",
          "output_type": "stream",
          "text": [
            "   yearmonth  size\n",
            "0     199802   177\n",
            "1     199805   161\n",
            "2     199808   195\n",
            "3     199811   176\n",
            "4     199902   191\n",
            "\n",
            "    yearmonth  size\n",
            "65     201405   235\n",
            "66     201408   229\n",
            "67     201411   220\n",
            "68     201502   214\n",
            "69     201505   214\n"
          ]
        }
      ],
      "source": [
        "# check how often these reports are produced\n",
        "grouped = data.groupby(\"yearmonth\", as_index=False).size()\n",
        "print(grouped.head(5))\n",
        "print()\n",
        "print(grouped.tail(5))"
      ]
    },
    {
      "cell_type": "code",
      "execution_count": 13,
      "id": "e_TVUwiS1uDW",
      "metadata": {
        "id": "e_TVUwiS1uDW"
      },
      "outputs": [],
      "source": [
        "def apply_preprocessing(data, replacing_dict, pattern, punctuation):\n",
        "    \"\"\" Function to apply the steps from the preprocessing class in the correct\n",
        "        order to generate a term frequency matrix and the appropriate dictionaries\n",
        "    \"\"\"\n",
        "    \n",
        "    prep = pc.RawDocs(data, stopwords=\"short\", lower_case=True, contraction_split=True, tokenization_pattern=pattern)\n",
        "    prep.phrase_replace(replace_dict=replacing_dict, case_sensitive_replacing=False)\n",
        "    # lower-case text, expand contractions and initialize stopwords list\n",
        "    prep.basic_cleaning()\n",
        "    # split the documents into tokens\n",
        "    prep.tokenize_text()\n",
        "    # clean tokens\n",
        "    prep.token_clean(length=2, punctuation=punctuation, numbers=True)\n",
        "    # create document-term matrix\n",
        "    prep.dt_matrix_create(items='tokens', min_df=10, score_type='df')\n",
        "    \n",
        "    # get the vocabulary and the appropriate dictionaries to map from indices to words\n",
        "    word2idx = prep.vocabulary[\"tokens\"]\n",
        "    idx2word = {i:word for word,i in word2idx.items()}\n",
        "    vocab = list(word2idx.keys())\n",
        "    \n",
        "    return prep, word2idx, idx2word, vocab"
      ]
    },
    {
      "cell_type": "code",
      "execution_count": 14,
      "id": "hiGs2bZK198L",
      "metadata": {
        "id": "hiGs2bZK198L"
      },
      "outputs": [],
      "source": [
        "# define dictionary for pre-processing class with terms we want to preserve\n",
        "replacing_dict = {'monetary policy':'monetary-policy',\n",
        "                  'interest rate':'interest-rate',\n",
        "                  'interest rates':'interest-rate',\n",
        "                  'yield curve':'yield-curve',\n",
        "                  'repo rate':'repo-rate',\n",
        "                  'bond yields':'bond-yields',\n",
        "                  'real estate':'real-estate',\n",
        "                  'economic growth':'economic-growth'}"
      ]
    },
    {
      "cell_type": "code",
      "execution_count": 15,
      "id": "00ee427d-4a0b-4233-99ee-b4d4f4564a0d",
      "metadata": {
        "id": "00ee427d-4a0b-4233-99ee-b4d4f4564a0d"
      },
      "outputs": [],
      "source": [
        "# define tokenization pattern and punctuation symbols\n",
        "pattern = r'''\n",
        "          (?x)                # set flag to allow verbose regexps (to separate logical sections of pattern and add comments)\n",
        "          \\w+(?:-\\w+)*        # word characters with internal hyphens\n",
        "          | [][.,;\"'?():-_`]  # preserve punctuation as separate tokens\n",
        "          '''\n",
        "punctuation = string.punctuation.replace(\"-\", \"\")"
      ]
    },
    {
      "cell_type": "code",
      "execution_count": 16,
      "id": "ce3153bc-9af9-40ec-a5cb-25f2dfa2dd61",
      "metadata": {
        "id": "ce3153bc-9af9-40ec-a5cb-25f2dfa2dd61"
      },
      "outputs": [],
      "source": [
        "# use preprocessing class\n",
        "prep, word2idx, idx2word, vocab = apply_preprocessing(data.paragraph, replacing_dict, pattern, punctuation)"
      ]
    },
    {
      "cell_type": "code",
      "execution_count": 17,
      "id": "7bf4b965-5095-42d4-84ec-d9d64bd063fa",
      "metadata": {
        "colab": {
          "base_uri": "https://localhost:8080/"
        },
        "id": "7bf4b965-5095-42d4-84ec-d9d64bd063fa",
        "outputId": "6c2fd45d-c86b-43a5-c44e-2045531a8beb"
      },
      "outputs": [
        {
          "name": "stdout",
          "output_type": "stream",
          "text": [
            "Broad money continues to grow at double-digit rates (see Chart 1.1). But there are signs that the pace of growth has moderated since the first half of 1997. The slowdown in money growth was preceded by a slowdown in lending, particularly to the corporate sector. Official interest rates have been unchanged since the rise in the Bank’s repo rate on 6 November to 7.25%. Long-term nominal interest rates have fallen by around 50 basis points in the United Kingdom and by around 40 basis points overseas during the same period. The starting-point for the nominal effective exchange rate in the inflation projection, based on its average value in the 15 working days to 4 February, was 104.9—around 2.8% higher than the starting-point used in the November Report.\n",
            "\n",
            " ------------------------------- \n",
            "\n",
            "['broad', 'money', 'continues', 'grow', 'rates', 'see', 'chart', 'but', 'there', 'are', 'signs', 'that', 'the', 'pace', 'growth', 'has', 'moderated', 'since', 'the', 'first', 'half', 'the', 'slowdown', 'money', 'growth', 'was', 'slowdown', 'lending', 'particularly', 'the', 'corporate', 'sector', 'official', 'interest-rate', 'have', 'been', 'unchanged', 'since', 'the', 'rise', 'the', 'bank', 'repo-rate', 'november', 'long-term', 'nominal', 'interest-rate', 'have', 'fallen', 'around', 'basis', 'points', 'the', 'united', 'kingdom', 'and', 'around', 'basis', 'points', 'overseas', 'during', 'the', 'same', 'period', 'the', 'starting-point', 'for', 'the', 'nominal', 'effective', 'exchange', 'rate', 'the', 'inflation', 'projection', 'based', 'its', 'average', 'value', 'the', 'working', 'days', 'february', 'was', 'around', 'higher', 'than', 'the', 'starting-point', 'used', 'the', 'november', 'report']\n"
          ]
        }
      ],
      "source": [
        "# inspect a particular tokenized document and compare it to its original form\n",
        "i = 10\n",
        "print(data.paragraph[i])\n",
        "print(\"\\n ------------------------------- \\n\")\n",
        "print(prep.tokens[i])"
      ]
    },
    {
      "cell_type": "markdown",
      "id": "7ddc39dd-70b8-43a2-a5e7-6a943cbdce33",
      "metadata": {
        "id": "7ddc39dd-70b8-43a2-a5e7-6a943cbdce33"
      },
      "source": [
        "### *Model estimation*\n",
        "\n",
        "Now that we have our text preprocessed we can use the [Gensim](https://radimrehurek.com/gensim/) library to efficiently estimate word embeddings using word2vec."
      ]
    },
    {
      "cell_type": "code",
      "execution_count": 18,
      "id": "247cede9-6076-44c1-8977-85f6844f00d3",
      "metadata": {
        "id": "247cede9-6076-44c1-8977-85f6844f00d3"
      },
      "outputs": [],
      "source": [
        "# train Gensim's Word2Vec model\n",
        "gensim_model = Word2Vec(sentences=prep.tokens,      # corpus\n",
        "                        vector_size=100,            # embedding dimension\n",
        "                        window=4,                   # words before and after to take into consideration\n",
        "                        sg=1,                       # use skip-gram\n",
        "                        negative=5,                 # number of negative examples for each positive one\n",
        "                        alpha=0.025,                # initial learning rate\n",
        "                        min_alpha=0.0001,           # minimum learning rate\n",
        "                        epochs=5,                   # number of passes through the data\n",
        "                        min_count=1,                # words that appear less than this are removed\n",
        "                        workers=1,                  # we use 1 to ensure replicability\n",
        "                        seed=92                     # for replicability\n",
        "                       )"
      ]
    },
    {
      "cell_type": "code",
      "execution_count": 19,
      "id": "b9ca52c2-38b9-4377-9d19-c46f0c7194f2",
      "metadata": {
        "colab": {
          "base_uri": "https://localhost:8080/"
        },
        "id": "b9ca52c2-38b9-4377-9d19-c46f0c7194f2",
        "outputId": "662fd604-2195-4119-ffa0-9e6008c7b43a"
      },
      "outputs": [
        {
          "data": {
            "text/plain": [
              "(3579, 100)"
            ]
          },
          "execution_count": 19,
          "metadata": {},
          "output_type": "execute_result"
        }
      ],
      "source": [
        "# extract the word embeddings from the model\n",
        "word_vectors = gensim_model.wv\n",
        "word_vectors.vectors.shape  # vocab_size x embeddings dimension"
      ]
    },
    {
      "cell_type": "markdown",
      "id": "8eb3d717",
      "metadata": {
        "id": "8eb3d717"
      },
      "source": [
        "There a lot of different ways in which we can use these estimated word embeddings. We will start by showing a simple way to visualize them in 2-dimensions."
      ]
    },
    {
      "cell_type": "markdown",
      "id": "8afe694f-f4ee-486a-ac1b-7b2720077a7b",
      "metadata": {
        "id": "8afe694f-f4ee-486a-ac1b-7b2720077a7b"
      },
      "source": [
        "### *Visualization*"
      ]
    },
    {
      "cell_type": "code",
      "execution_count": 20,
      "id": "6c11c66f-3219-4f7c-a777-fe0dc1ddb220",
      "metadata": {
        "id": "6c11c66f-3219-4f7c-a777-fe0dc1ddb220"
      },
      "outputs": [],
      "source": [
        "# use a PCA decomposition to visualize the embeddings in 2D\n",
        "def pca_scatterplot(model, words):\n",
        "    pca = PCA(n_components=2, random_state=92)\n",
        "    word_vectors = np.array([model[w] for w in words])\n",
        "    low_dim_emb = pca.fit_transform(word_vectors)\n",
        "    plt.figure(figsize=(21,10))\n",
        "    plt.scatter(low_dim_emb[:,0], low_dim_emb[:,1], edgecolors='blue', c='blue')\n",
        "    plt.xlabel(\"Component 1\")\n",
        "    plt.ylabel(\"Component 2\")\n",
        "\n",
        "    # get the text of the plotted words\n",
        "    texts = []\n",
        "    for word, (x,y) in zip(words, low_dim_emb):\n",
        "        texts.append(plt.text(x+0.01, y+0.01, word, rotation=0))\n",
        "    \n",
        "    # adjust the position of the labels so that they dont overlap\n",
        "    adjust_text(texts)\n",
        "    # show plot\n",
        "    plt.show()"
      ]
    },
    {
      "cell_type": "code",
      "execution_count": 21,
      "id": "41a980f8-d2d7-4b7e-8aae-fb74ab132df7",
      "metadata": {
        "colab": {
          "base_uri": "https://localhost:8080/",
          "height": 606
        },
        "id": "41a980f8-d2d7-4b7e-8aae-fb74ab132df7",
        "outputId": "f4c4f049-c5ae-4d75-b33b-0f9b431680ea"
      },
      "outputs": [
        {
          "data": {
            "image/png": "[encoded data removed]",
            "text/plain": [
              "<Figure size 1512x720 with 1 Axes>"
            ]
          },
          "metadata": {
            "needs_background": "light"
          },
          "output_type": "display_data"
        }
      ],
      "source": [
        "# define the tokens to use in the plot\n",
        "tokens_of_interest = ['economy', 'gdp', 'production', 'output',\n",
        "                      'investment', 'confidence', 'sentiment',\n",
        "                      'uncertainty', 'inflation', 'cpi',\n",
        "                      'loan', 'mortgage', 'credit', 'debt', 'savings', \n",
        "                      'borrowing', 'housing', 'labour', 'workforce', \n",
        "                      'unemployment', 'employment', 'jobs', 'wages',\n",
        "                      'trade', 'exports', 'imports']\n",
        "\n",
        "# expand the list of tokens with all the tokens from the replacement dictionary\n",
        "tokens_of_interest = set(tokens_of_interest + list(replacing_dict.values()) )\n",
        "\n",
        "# plot\n",
        "pca_scatterplot(word_vectors, list(tokens_of_interest))"
      ]
    },
    {
      "cell_type": "markdown",
      "id": "3760eb2f",
      "metadata": {
        "id": "3760eb2f"
      },
      "source": [
        "We can clearly observe how words form some thematically cohesive groups; trade (e.g. exports, imports, trade, output), job-market (e.g. workforce, jobs, employment), housing (e.g. real-state, housing, borrowing, mortgage)."
      ]
    },
    {
      "cell_type": "markdown",
      "id": "af539380-686d-4ec5-924c-9f8bd51ace1e",
      "metadata": {
        "id": "af539380-686d-4ec5-924c-9f8bd51ace1e"
      },
      "source": [
        "### *Nearest neighbors analysis*\n",
        "\n",
        "We can further explore how words cluster in the embedded space by analyzing the nearest neighbours of some selected words."
      ]
    },
    {
      "cell_type": "code",
      "execution_count": 22,
      "id": "d5eadc3a-2711-4369-8c42-8df7c13af56a",
      "metadata": {
        "colab": {
          "base_uri": "https://localhost:8080/"
        },
        "id": "d5eadc3a-2711-4369-8c42-8df7c13af56a",
        "outputId": "07f41ecf-966a-4b3d-cc24-c3dd952a55dc"
      },
      "outputs": [
        {
          "name": "stdout",
          "output_type": "stream",
          "text": [
            "Nearest neighbors of: uncertainty\n",
            "[('doubts', 0.6431131958961487), ('surrounding', 0.6351167559623718), ('uncertainties', 0.6242510080337524), ('surrounds', 0.6161243319511414), ('concerns', 0.6125351190567017), ('considerable', 0.6026873588562012), ('fears', 0.6019009947776794), ('depth', 0.5908839702606201), ('concern', 0.5790191888809204), ('severity', 0.5761215090751648)]\n",
            "\n",
            "\n",
            "Nearest neighbors of: risk\n",
            "[('possibility', 0.6867850422859192), ('premium', 0.6424904465675354), ('risks', 0.6314987540245056), ('downside', 0.6242884993553162), ('threat', 0.6129885911941528), ('pose', 0.5902042388916016), ('upside', 0.5816364884376526), ('posing', 0.5734551548957825), ('poses', 0.5548081994056702), ('abrupt', 0.5471091270446777)]\n",
            "\n",
            "\n",
            "Nearest neighbors of: stable\n",
            "[('remarkably', 0.7123544216156006), ('fairly', 0.6778448224067688), ('flat', 0.6632662415504456), ('steady', 0.6620153784751892), ('fluctuated', 0.6528114676475525), ('resilient', 0.64305180311203), ('muted', 0.6078048348426819), ('benign', 0.6054365634918213), ('characterised', 0.6013526916503906), ('drifted', 0.5888479948043823)]\n",
            "\n",
            "\n",
            "Nearest neighbors of: contraction\n",
            "[('deceleration', 0.7576788663864136), ('bounceback', 0.7292323112487793), ('destocking', 0.721099853515625), ('slowing', 0.6965731978416443), ('softness', 0.6903645992279053), ('turnaround', 0.6877484321594238), ('lacklustre', 0.687711238861084), ('acceleration', 0.684404194355011), ('pause', 0.6768562197685242), ('contracted', 0.6767296195030212)]\n",
            "\n",
            "\n",
            "Nearest neighbors of: expansion\n",
            "[('vigorous', 0.7074288129806519), ('brisk', 0.693333625793457), ('briskly', 0.6924487352371216), ('upswing', 0.6887772083282471), ('upturn', 0.6734869480133057), ('contraction', 0.6626276969909668), ('expanded', 0.6540759205818176), ('robust', 0.6451395750045776), ('revival', 0.6439946293830872), ('buoyancy', 0.637449324131012)]\n",
            "\n",
            "\n",
            "Nearest neighbors of: monetary-policy\n",
            "[('stance', 0.7525641918182373), ('policy', 0.7246609330177307), ('stimulatory', 0.6665847897529602), ('accommodative', 0.6520339250564575), ('normalisation', 0.6250470280647278), ('stimulative', 0.6117231845855713), ('understanding', 0.6006721258163452), ('expansionary', 0.6004689931869507), ('credible', 0.5970052480697632), ('effectiveness', 0.5853827595710754)]\n",
            "\n",
            "\n",
            "Nearest neighbors of: interest-rate\n",
            "[('yield-curve', 0.6692893505096436), ('yields', 0.6397737860679626), ('repo-rate', 0.6211174130439758), ('bound', 0.6101270318031311), ('rates', 0.6027757525444031), ('two-week', 0.5972667336463928), ('risk-free', 0.5926116704940796), ('convenient', 0.5911408066749573), ('libor', 0.5868257284164429), ('repo', 0.5773954391479492)]\n",
            "\n",
            "\n",
            "Nearest neighbors of: inflation\n",
            "[('cpi', 0.6875547170639038), ('rpix', 0.6800575256347656), ('non-energy', 0.5810312032699585), ('undershoot', 0.580771803855896), ('symmetric', 0.5703340768814087), ('target', 0.5634418725967407), ('dgi', 0.5632321834564209), ('below-target', 0.562711775302887), ('rpi', 0.5549238324165344), ('price-setters', 0.5495517253875732)]\n",
            "\n",
            "\n"
          ]
        }
      ],
      "source": [
        "# find the K nearest neighbours of relevant words\n",
        "K = 10\n",
        "words = [\"uncertainty\", \"risk\", \"stable\",\n",
        "         \"contraction\", \"expansion\",\n",
        "         \"monetary-policy\", \"interest-rate\", \"inflation\"]\n",
        "\n",
        "for word in words:\n",
        "    print(f\"Nearest neighbors of: {word}\")\n",
        "    print(word_vectors.most_similar(word, topn=K))\n",
        "    print(\"\\n\")"
      ]
    },
    {
      "cell_type": "markdown",
      "id": "21cf8616-e4ae-4ca5-936d-eb9c0f0c6f03",
      "metadata": {
        "id": "21cf8616-e4ae-4ca5-936d-eb9c0f0c6f03"
      },
      "source": [
        "### *Analogy tasks*"
      ]
    },
    {
      "cell_type": "markdown",
      "id": "6831515e",
      "metadata": {
        "id": "6831515e"
      },
      "source": [
        "A very interesting, and surprising, use of word embeddings is to find word analogies. The famous example used by [Mikolov et al. (2013)](https://arxiv.org/pdf/1301.3781.pdf) searches for a word $X$ in the embedded space that is similar to \"woman\" in the same sense that \"king\" is similar to \"man\". This task can be expressed in terms of a simple vector arithmetic problem as follows:\n",
        "\n",
        "$$\n",
        "\\vec{King}^{\\,} - \\vec{Man}^{\\,} = \\vec{X}^{\\,} - \\vec{Woman}^{\\,} \\\\\n",
        "\\vec{King}^{\\,} - \\vec{Man}^{\\,} + \\vec{Woman}^{\\,} = \\vec{X}^{\\,}\n",
        "$$\n",
        "\n",
        "Mikolov et al. (2013) find that when performing this operation on their trained embeddings, they are able to recover the word \"queen\".\n",
        "\n",
        "$$ \\vec{King}^{\\,} - \\vec{Man}^{\\,} + \\vec{Woman}^{\\,} \\approx \\vec{Queen}^{\\,} $$\n",
        "\n",
        "Using ```Gensim``` this operation can be very easily perfomed by simply using the ```.most_similar()``` function as follows:\n",
        "\n",
        "<center>\n",
        "\n",
        "```python\n",
        "word_vectors.most_similar(positive=['woman', 'king'], negative=['man'])\n",
        "```\n",
        "\n",
        "</center>"
      ]
    },
    {
      "cell_type": "markdown",
      "id": "2279c969",
      "metadata": {
        "id": "2279c969"
      },
      "source": [
        "We will play with this idea and try to extend it to our own domain. Some of the analogies that we will try to solve are: \n",
        "\n",
        "$$\n",
        "\\vec{Contraction}^{\\,} - \\vec{Expansion}^{\\,} + \\vec{Downward}^{\\,} = \\vec{X}^{\\,} \\\\\n",
        "\\vec{Inflation}^{\\,} - \\vec{CPI}^{\\,} + \\vec{GDP}^{\\,} = \\vec{X}^{\\,} \\\\\n",
        "$$"
      ]
    },
    {
      "cell_type": "code",
      "execution_count": 23,
      "id": "PrOTPikwjPs1",
      "metadata": {
        "colab": {
          "base_uri": "https://localhost:8080/"
        },
        "id": "PrOTPikwjPs1",
        "outputId": "06d29198-34f7-4fcf-ca4f-c60f8e7d6ed4"
      },
      "outputs": [
        {
          "name": "stdout",
          "output_type": "stream",
          "text": [
            "Analogy task for positive words: ['contraction', 'downward'] and negative words ['expansion']\n",
            "[('upward', 0.6714350581169128), ('upwards', 0.6029356122016907), ('downwards', 0.5370702743530273), ('sizable', 0.5271105170249939), ('unaffected', 0.5173656940460205), ('exaggerated', 0.49844634532928467), ('lower-than-expected', 0.4968046247959137), ('masked', 0.4926629066467285), ('lessening', 0.48858943581581116), ('positively', 0.48587766289711)]\n",
            "\n",
            "\n",
            "Analogy task for positive words: ['expansion', 'tighten'] and negative words ['contraction']\n",
            "[('improve', 0.6616321802139282), ('loosen', 0.6226589679718018), ('expand', 0.5873525738716125), ('restrictive', 0.5570910573005676), ('tightening', 0.5464478135108948), ('loosening', 0.5414654612541199), ('tight', 0.5374199151992798), ('accommodative', 0.5339495539665222), ('looser', 0.5259584188461304), ('strengthen', 0.5236828327178955)]\n",
            "\n",
            "\n",
            "Analogy task for positive words: ['inflation', 'gdp'] and negative words ['cpi']\n",
            "[('four-quarter', 0.48566216230392456), ('uneven', 0.4760841131210327), ('centre', 0.47181466221809387), ('variance', 0.46371400356292725), ('recovery', 0.4561590850353241), ('outturn', 0.4541313648223877), ('growth', 0.44536855816841125), ('provisionally', 0.4449923038482666), ('economic-growth', 0.43921488523483276), ('solidly', 0.43291085958480835)]\n",
            "\n",
            "\n",
            "Analogy task for positive words: ['company', 'wages'] and negative words ['profits']\n",
            "[('determinant', 0.4917300045490265), ('employers', 0.49000561237335205), ('wage', 0.47442615032196045), ('employees', 0.46828699111938477), ('demands', 0.46549147367477417), ('scarce', 0.4632004201412201), ('issue', 0.46232733130455017), ('price-setting', 0.4582420885562897), ('exerts', 0.4570160508155823), ('resistance', 0.4569060206413269)]\n",
            "\n",
            "\n"
          ]
        }
      ],
      "source": [
        "# create the analogy tasks for our data\n",
        "positive_words = [['contraction', 'downward'],\n",
        "                  ['expansion', 'tighten'],\n",
        "                  ['inflation', 'gdp'],\n",
        "                  ['company', 'wages']]\n",
        "\n",
        "negative_words = [['expansion'],\n",
        "                  ['contraction'],\n",
        "                  ['cpi'],\n",
        "                  ['profits']]\n",
        "\n",
        "for pw, nw in zip(positive_words, negative_words):\n",
        "    print(f\"Analogy task for positive words: {pw} and negative words {nw}\")\n",
        "    print(word_vectors.most_similar(positive=pw, negative=nw))\n",
        "    print(\"\\n\")"
      ]
    },
    {
      "cell_type": "markdown",
      "id": "aaca13c6-d38d-4b16-aa92-ab6623b4d47d",
      "metadata": {
        "id": "aaca13c6-d38d-4b16-aa92-ab6623b4d47d"
      },
      "source": [
        "### *Building dictionaries*\n",
        "\n",
        "One last use of word embeddings is to expand existing dictionaries by finding the nearest neighbours to a set of \"center\" terms. To illustrate this, we will come show how to generate dictionaries of positive and negative terms to analyze text data from the Bank of England Monetary Police Comittee minutes."
      ]
    },
    {
      "cell_type": "code",
      "execution_count": 24,
      "id": "be80cb35-d6e7-47a8-8b67-1ff6e2886357",
      "metadata": {
        "colab": {
          "base_uri": "https://localhost:8080/"
        },
        "id": "be80cb35-d6e7-47a8-8b67-1ff6e2886357",
        "outputId": "c9aeff7c-0b8d-41a2-f131-558b349d9d86"
      },
      "outputs": [
        {
          "name": "stdout",
          "output_type": "stream",
          "text": [
            "['expansion', 'stable', 'remarkably', 'steady', 'resilient', 'brisk', 'vigorous', 'robust', 'fairly', 'upswing', 'healthy', 'buoyant', 'robustly', 'buoyancy', 'solidly', 'patchy', 'stagnant', 'favourable', 'briskly', 'solid', 'bolstered', 'below-trend', 'reasonably', 'upturn', 'accelerated', 'fluctuated', 'quickened', 'lacklustre', 'flat', 'resumed', 'moderating', 'softness', 'acceleration', 'above-trend', 'slackened', 'disappointed', 'surprisingly', 'characterised', 'firm', 'contrasted', 'muted', 'spell']\n"
          ]
        }
      ],
      "source": [
        "# create a positive dictionary by finding the nearest neighbors to a combination of relevant words\n",
        "N = 40\n",
        "pos_center_terms = ['expansion', 'stable']\n",
        "pos_nn = [w for w, _ in word_vectors.most_similar(positive=pos_center_terms, topn=N)]\n",
        "pos_word2vec = pos_center_terms + pos_nn\n",
        "print(pos_word2vec)"
      ]
    },
    {
      "cell_type": "code",
      "execution_count": 25,
      "id": "a03929de-be58-4d54-a1a5-a8af2b7d80be",
      "metadata": {
        "colab": {
          "base_uri": "https://localhost:8080/"
        },
        "id": "a03929de-be58-4d54-a1a5-a8af2b7d80be",
        "outputId": "f4a265e5-c2df-480a-f62b-4d0bb5829834"
      },
      "outputs": [
        {
          "name": "stdout",
          "output_type": "stream",
          "text": [
            "['contraction', 'uncertainty', 'bounceback', 'softness', 'destocking', 'worsening', 'severity', 'gathers', 'pause', 'deteriorating', 'deceleration', 'upswing', 'gather', 'retrenchment', 'buoyancy', 'hostilities', 'boom', 'conflict', 'lacklustre', 'patchy', 'exacerbated', 'softening', 'surge', 'sars', 'lifting', 'outbreak', 'political', 'resumption', 'doubts', 'anxieties', 'momentum', 'depth', 'sharper-than-expected', 'correction', 'uneven', 'acceleration', 'military', 'conclusion', 'concerns', 'playing', 'first-quarter', 'slackening']\n"
          ]
        }
      ],
      "source": [
        "# create a negative dictionary by finding the nearest neighbors to a combination of relevant words\n",
        "N = 40\n",
        "neg_center_terms = ['contraction', 'uncertainty']\n",
        "neg_nn = [w for w, _ in word_vectors.most_similar(positive=neg_center_terms, topn=N)]\n",
        "neg_word2vec = neg_center_terms + neg_nn\n",
        "print(neg_word2vec)"
      ]
    },
    {
      "cell_type": "code",
      "execution_count": 26,
      "id": "1c41d896-29cf-4abe-8fb1-fdd5631497cc",
      "metadata": {
        "id": "1c41d896-29cf-4abe-8fb1-fdd5631497cc"
      },
      "outputs": [],
      "source": [
        "# load data for dictionary method example (might take a couple of minutes)\n",
        "path_dict_example = data_path + 'mpc_minutes.txt'\n",
        "data_dict, prep_dict = dictionary_methods.dict_example(path_dict_example) # dataframe, preprocessing object"
      ]
    },
    {
      "cell_type": "code",
      "execution_count": 27,
      "id": "d0f958ce-2d78-469f-abae-a3dc5c7e66c4",
      "metadata": {
        "id": "d0f958ce-2d78-469f-abae-a3dc5c7e66c4"
      },
      "outputs": [],
      "source": [
        "# generate the count of positive and negative lemmas in the corpus with our new dictionaries\n",
        "pos_counts_word2vec, neg_counts_word2vec = dictionary_methods.pos_neg_counts(prep_dict, pos_word2vec, neg_word2vec)"
      ]
    },
    {
      "cell_type": "code",
      "execution_count": 28,
      "id": "4e772bd5",
      "metadata": {
        "id": "4e772bd5"
      },
      "outputs": [],
      "source": [
        "# add counts to the data\n",
        "data_dict['pos_counts_word2vec'] = pos_counts_word2vec\n",
        "data_dict['neg_counts_word2vec'] = neg_counts_word2vec"
      ]
    },
    {
      "cell_type": "code",
      "execution_count": 29,
      "id": "fb5e7e17-80cd-4d48-be7e-2d1e00d02d15",
      "metadata": {
        "colab": {
          "base_uri": "https://localhost:8080/",
          "height": 238
        },
        "id": "fb5e7e17-80cd-4d48-be7e-2d1e00d02d15",
        "outputId": "38b30460-23a6-4120-ffbb-bb43869dc2bb"
      },
      "outputs": [
        {
          "data": {
            "text/html": [
              "\n",
              "  <div id=\"df-bfe23b12-e39b-4128-812a-0da9f01c3ca2\">\n",
              "    <div class=\"colab-df-container\">\n",
              "      <div>\n",
              "<style scoped>\n",
              "    .dataframe tbody tr th:only-of-type {\n",
              "        vertical-align: middle;\n",
              "    }\n",
              "\n",
              "    .dataframe tbody tr th {\n",
              "        vertical-align: top;\n",
              "    }\n",
              "\n",
              "    .dataframe thead th {\n",
              "        text-align: right;\n",
              "    }\n",
              "</style>\n",
              "<table border=\"1\" class=\"dataframe\">\n",
              "  <thead>\n",
              "    <tr style=\"text-align: right;\">\n",
              "      <th></th>\n",
              "      <th>pos_counts_word2vec</th>\n",
              "      <th>neg_counts_word2vec</th>\n",
              "      <th>pos_counts_AB</th>\n",
              "      <th>neg_counts_AB</th>\n",
              "      <th>year</th>\n",
              "      <th>quarter</th>\n",
              "    </tr>\n",
              "    <tr>\n",
              "      <th>date</th>\n",
              "      <th></th>\n",
              "      <th></th>\n",
              "      <th></th>\n",
              "      <th></th>\n",
              "      <th></th>\n",
              "      <th></th>\n",
              "    </tr>\n",
              "  </thead>\n",
              "  <tbody>\n",
              "    <tr>\n",
              "      <th>199706</th>\n",
              "      <td>14.0</td>\n",
              "      <td>10.0</td>\n",
              "      <td>28.0</td>\n",
              "      <td>15.0</td>\n",
              "      <td>1997.0</td>\n",
              "      <td>2.0</td>\n",
              "    </tr>\n",
              "    <tr>\n",
              "      <th>199707</th>\n",
              "      <td>13.0</td>\n",
              "      <td>7.0</td>\n",
              "      <td>83.0</td>\n",
              "      <td>20.0</td>\n",
              "      <td>1997.0</td>\n",
              "      <td>3.0</td>\n",
              "    </tr>\n",
              "    <tr>\n",
              "      <th>199708</th>\n",
              "      <td>16.0</td>\n",
              "      <td>16.0</td>\n",
              "      <td>76.0</td>\n",
              "      <td>22.0</td>\n",
              "      <td>1997.0</td>\n",
              "      <td>3.0</td>\n",
              "    </tr>\n",
              "    <tr>\n",
              "      <th>199709</th>\n",
              "      <td>34.0</td>\n",
              "      <td>19.0</td>\n",
              "      <td>69.0</td>\n",
              "      <td>30.0</td>\n",
              "      <td>1997.0</td>\n",
              "      <td>3.0</td>\n",
              "    </tr>\n",
              "    <tr>\n",
              "      <th>199710</th>\n",
              "      <td>21.0</td>\n",
              "      <td>9.0</td>\n",
              "      <td>94.0</td>\n",
              "      <td>38.0</td>\n",
              "      <td>1997.0</td>\n",
              "      <td>4.0</td>\n",
              "    </tr>\n",
              "  </tbody>\n",
              "</table>\n",
              "</div>\n",
              "      <button class=\"colab-df-convert\" onclick=\"convertToInteractive('df-bfe23b12-e39b-4128-812a-0da9f01c3ca2')\"\n",
              "              title=\"Convert this dataframe to an interactive table.\"\n",
              "              style=\"display:none;\">\n",
              "        \n",
              "  <svg xmlns=\"http://www.w3.org/2000/svg\" height=\"24px\"viewBox=\"0 0 24 24\"\n",
              "       width=\"24px\">\n",
              "    <path d=\"M0 0h24v24H0V0z\" fill=\"none\"/>\n",
              "    <path d=\"M18.56 5.44l.94 2.06.94-2.06 2.06-.94-2.06-.94-.94-2.06-.94 2.06-2.06.94zm-11 1L8.5 8.5l.94-2.06 2.06-.94-2.06-.94L8.5 2.5l-.94 2.06-2.06.94zm10 10l.94 2.06.94-2.06 2.06-.94-2.06-.94-.94-2.06-.94 2.06-2.06.94z\"/><path d=\"M17.41 7.96l-1.37-1.37c-.4-.4-.92-.59-1.43-.59-.52 0-1.04.2-1.43.59L10.3 9.45l-7.72 7.72c-.78.78-.78 2.05 0 2.83L4 21.41c.39.39.9.59 1.41.59.51 0 1.02-.2 1.41-.59l7.78-7.78 2.81-2.81c.8-.78.8-2.07 0-2.86zM5.41 20L4 18.59l7.72-7.72 1.47 1.35L5.41 20z\"/>\n",
              "  </svg>\n",
              "      </button>\n",
              "      \n",
              "  <style>\n",
              "    .colab-df-container {\n",
              "      display:flex;\n",
              "      flex-wrap:wrap;\n",
              "      gap: 12px;\n",
              "    }\n",
              "\n",
              "    .colab-df-convert {\n",
              "      background-color: #E8F0FE;\n",
              "      border: none;\n",
              "      border-radius: 50%;\n",
              "      cursor: pointer;\n",
              "      display: none;\n",
              "      fill: #1967D2;\n",
              "      height: 32px;\n",
              "      padding: 0 0 0 0;\n",
              "      width: 32px;\n",
              "    }\n",
              "\n",
              "    .colab-df-convert:hover {\n",
              "      background-color: #E2EBFA;\n",
              "      box-shadow: 0px 1px 2px rgba(60, 64, 67, 0.3), 0px 1px 3px 1px rgba(60, 64, 67, 0.15);\n",
              "      fill: #174EA6;\n",
              "    }\n",
              "\n",
              "    [theme=dark] .colab-df-convert {\n",
              "      background-color: #3B4455;\n",
              "      fill: #D2E3FC;\n",
              "    }\n",
              "\n",
              "    [theme=dark] .colab-df-convert:hover {\n",
              "      background-color: #434B5C;\n",
              "      box-shadow: 0px 1px 3px 1px rgba(0, 0, 0, 0.15);\n",
              "      filter: drop-shadow(0px 1px 2px rgba(0, 0, 0, 0.3));\n",
              "      fill: #FFFFFF;\n",
              "    }\n",
              "  </style>\n",
              "\n",
              "      <script>\n",
              "        const buttonEl =\n",
              "          document.querySelector('#df-bfe23b12-e39b-4128-812a-0da9f01c3ca2 button.colab-df-convert');\n",
              "        buttonEl.style.display =\n",
              "          google.colab.kernel.accessAllowed ? 'block' : 'none';\n",
              "\n",
              "        async function convertToInteractive(key) {\n",
              "          const element = document.querySelector('#df-bfe23b12-e39b-4128-812a-0da9f01c3ca2');\n",
              "          const dataTable =\n",
              "            await google.colab.kernel.invokeFunction('convertToInteractive',\n",
              "                                                     [key], {});\n",
              "          if (!dataTable) return;\n",
              "\n",
              "          const docLinkHtml = 'Like what you see? Visit the ' +\n",
              "            '<a target=\"_blank\" href=https://colab.research.google.com/notebooks/data_table.ipynb>data table notebook</a>'\n",
              "            + ' to learn more about interactive tables.';\n",
              "          element.innerHTML = '';\n",
              "          dataTable['output_type'] = 'display_data';\n",
              "          await google.colab.output.renderOutput(dataTable, element);\n",
              "          const docLink = document.createElement('div');\n",
              "          docLink.innerHTML = docLinkHtml;\n",
              "          element.appendChild(docLink);\n",
              "        }\n",
              "      </script>\n",
              "    </div>\n",
              "  </div>\n",
              "  "
            ],
            "text/plain": [
              "        pos_counts_word2vec  neg_counts_word2vec  pos_counts_AB  \\\n",
              "date                                                              \n",
              "199706                 14.0                 10.0           28.0   \n",
              "199707                 13.0                  7.0           83.0   \n",
              "199708                 16.0                 16.0           76.0   \n",
              "199709                 34.0                 19.0           69.0   \n",
              "199710                 21.0                  9.0           94.0   \n",
              "\n",
              "        neg_counts_AB    year  quarter  \n",
              "date                                    \n",
              "199706           15.0  1997.0      2.0  \n",
              "199707           20.0  1997.0      3.0  \n",
              "199708           22.0  1997.0      3.0  \n",
              "199709           30.0  1997.0      3.0  \n",
              "199710           38.0  1997.0      4.0  "
            ]
          },
          "execution_count": 29,
          "metadata": {},
          "output_type": "execute_result"
        }
      ],
      "source": [
        "# Apel and Blix-Grimaldi (2012) dictionaries\n",
        "pos_words_AB = ['accelerate','accelerated','accelerates','accelerating','expand','expanded','expanding','expands',\n",
        "             'fast','faster','fastest','gain','gained','gaining','gains','high','higher','highest','increase',\n",
        "             'increased','increases','increasing','strong','stronger','strongest']\n",
        "\n",
        "neg_words_AB = ['contract','contracted','contracting','contracts','decelerate','decelerated','decelerates',\n",
        "             'decelerating','decrease','decreased','decreases','decreasing','lose','losing','loss','losses',\n",
        "             'lost','low','lower','lowest','slow','slower','slowest','weak','weaker','weakest']\n",
        "\n",
        "# generate the count of positive and negative lemmas in the corpus with Apel and Blix-Grimaldi (2012)\n",
        "pos_counts_AB, neg_counts_AB = dictionary_methods.pos_neg_counts(prep_dict, pos_words_AB, neg_words_AB)\n",
        "\n",
        "# add counts to the data\n",
        "data_dict['pos_counts_AB'] = pos_counts_AB\n",
        "data_dict['neg_counts_AB'] = neg_counts_AB\n",
        "data_dict.head()\n",
        "\n",
        "# aggregate to year-month level\n",
        "data_agg = data_dict.groupby(['date']).agg({'pos_counts_word2vec': 'sum', 'neg_counts_word2vec': 'sum',\n",
        "                                            'pos_counts_AB': 'sum', 'neg_counts_AB': 'sum',\n",
        "                                            'year': 'mean', 'quarter':'mean'})\n",
        "data_agg.head()"
      ]
    },
    {
      "cell_type": "code",
      "execution_count": 30,
      "id": "zgYZn0Jx3pNL",
      "metadata": {
        "colab": {
          "base_uri": "https://localhost:8080/",
          "height": 238
        },
        "id": "zgYZn0Jx3pNL",
        "outputId": "97c79415-d811-49dd-d2f9-691ea5e66556"
      },
      "outputs": [
        {
          "data": {
            "text/html": [
              "\n",
              "  <div id=\"df-c2b6eeba-0023-456c-918c-106e595a9061\">\n",
              "    <div class=\"colab-df-container\">\n",
              "      <div>\n",
              "<style scoped>\n",
              "    .dataframe tbody tr th:only-of-type {\n",
              "        vertical-align: middle;\n",
              "    }\n",
              "\n",
              "    .dataframe tbody tr th {\n",
              "        vertical-align: top;\n",
              "    }\n",
              "\n",
              "    .dataframe thead th {\n",
              "        text-align: right;\n",
              "    }\n",
              "</style>\n",
              "<table border=\"1\" class=\"dataframe\">\n",
              "  <thead>\n",
              "    <tr style=\"text-align: right;\">\n",
              "      <th></th>\n",
              "      <th></th>\n",
              "      <th>pos_counts_word2vec</th>\n",
              "      <th>neg_counts_word2vec</th>\n",
              "      <th>pos_counts_AB</th>\n",
              "      <th>neg_counts_AB</th>\n",
              "    </tr>\n",
              "    <tr>\n",
              "      <th>year</th>\n",
              "      <th>quarter</th>\n",
              "      <th></th>\n",
              "      <th></th>\n",
              "      <th></th>\n",
              "      <th></th>\n",
              "    </tr>\n",
              "  </thead>\n",
              "  <tbody>\n",
              "    <tr>\n",
              "      <th rowspan=\"2\" valign=\"top\">1997.0</th>\n",
              "      <th>3.0</th>\n",
              "      <td>63.0</td>\n",
              "      <td>42.0</td>\n",
              "      <td>228.0</td>\n",
              "      <td>72.0</td>\n",
              "    </tr>\n",
              "    <tr>\n",
              "      <th>4.0</th>\n",
              "      <td>70.0</td>\n",
              "      <td>45.0</td>\n",
              "      <td>223.0</td>\n",
              "      <td>99.0</td>\n",
              "    </tr>\n",
              "    <tr>\n",
              "      <th rowspan=\"3\" valign=\"top\">1998.0</th>\n",
              "      <th>1.0</th>\n",
              "      <td>101.0</td>\n",
              "      <td>67.0</td>\n",
              "      <td>237.0</td>\n",
              "      <td>140.0</td>\n",
              "    </tr>\n",
              "    <tr>\n",
              "      <th>2.0</th>\n",
              "      <td>141.0</td>\n",
              "      <td>50.0</td>\n",
              "      <td>230.0</td>\n",
              "      <td>158.0</td>\n",
              "    </tr>\n",
              "    <tr>\n",
              "      <th>3.0</th>\n",
              "      <td>95.0</td>\n",
              "      <td>52.0</td>\n",
              "      <td>246.0</td>\n",
              "      <td>167.0</td>\n",
              "    </tr>\n",
              "  </tbody>\n",
              "</table>\n",
              "</div>\n",
              "      <button class=\"colab-df-convert\" onclick=\"convertToInteractive('df-c2b6eeba-0023-456c-918c-106e595a9061')\"\n",
              "              title=\"Convert this dataframe to an interactive table.\"\n",
              "              style=\"display:none;\">\n",
              "        \n",
              "  <svg xmlns=\"http://www.w3.org/2000/svg\" height=\"24px\"viewBox=\"0 0 24 24\"\n",
              "       width=\"24px\">\n",
              "    <path d=\"M0 0h24v24H0V0z\" fill=\"none\"/>\n",
              "    <path d=\"M18.56 5.44l.94 2.06.94-2.06 2.06-.94-2.06-.94-.94-2.06-.94 2.06-2.06.94zm-11 1L8.5 8.5l.94-2.06 2.06-.94-2.06-.94L8.5 2.5l-.94 2.06-2.06.94zm10 10l.94 2.06.94-2.06 2.06-.94-2.06-.94-.94-2.06-.94 2.06-2.06.94z\"/><path d=\"M17.41 7.96l-1.37-1.37c-.4-.4-.92-.59-1.43-.59-.52 0-1.04.2-1.43.59L10.3 9.45l-7.72 7.72c-.78.78-.78 2.05 0 2.83L4 21.41c.39.39.9.59 1.41.59.51 0 1.02-.2 1.41-.59l7.78-7.78 2.81-2.81c.8-.78.8-2.07 0-2.86zM5.41 20L4 18.59l7.72-7.72 1.47 1.35L5.41 20z\"/>\n",
              "  </svg>\n",
              "      </button>\n",
              "      \n",
              "  <style>\n",
              "    .colab-df-container {\n",
              "      display:flex;\n",
              "      flex-wrap:wrap;\n",
              "      gap: 12px;\n",
              "    }\n",
              "\n",
              "    .colab-df-convert {\n",
              "      background-color: #E8F0FE;\n",
              "      border: none;\n",
              "      border-radius: 50%;\n",
              "      cursor: pointer;\n",
              "      display: none;\n",
              "      fill: #1967D2;\n",
              "      height: 32px;\n",
              "      padding: 0 0 0 0;\n",
              "      width: 32px;\n",
              "    }\n",
              "\n",
              "    .colab-df-convert:hover {\n",
              "      background-color: #E2EBFA;\n",
              "      box-shadow: 0px 1px 2px rgba(60, 64, 67, 0.3), 0px 1px 3px 1px rgba(60, 64, 67, 0.15);\n",
              "      fill: #174EA6;\n",
              "    }\n",
              "\n",
              "    [theme=dark] .colab-df-convert {\n",
              "      background-color: #3B4455;\n",
              "      fill: #D2E3FC;\n",
              "    }\n",
              "\n",
              "    [theme=dark] .colab-df-convert:hover {\n",
              "      background-color: #434B5C;\n",
              "      box-shadow: 0px 1px 3px 1px rgba(0, 0, 0, 0.15);\n",
              "      filter: drop-shadow(0px 1px 2px rgba(0, 0, 0, 0.3));\n",
              "      fill: #FFFFFF;\n",
              "    }\n",
              "  </style>\n",
              "\n",
              "      <script>\n",
              "        const buttonEl =\n",
              "          document.querySelector('#df-c2b6eeba-0023-456c-918c-106e595a9061 button.colab-df-convert');\n",
              "        buttonEl.style.display =\n",
              "          google.colab.kernel.accessAllowed ? 'block' : 'none';\n",
              "\n",
              "        async function convertToInteractive(key) {\n",
              "          const element = document.querySelector('#df-c2b6eeba-0023-456c-918c-106e595a9061');\n",
              "          const dataTable =\n",
              "            await google.colab.kernel.invokeFunction('convertToInteractive',\n",
              "                                                     [key], {});\n",
              "          if (!dataTable) return;\n",
              "\n",
              "          const docLinkHtml = 'Like what you see? Visit the ' +\n",
              "            '<a target=\"_blank\" href=https://colab.research.google.com/notebooks/data_table.ipynb>data table notebook</a>'\n",
              "            + ' to learn more about interactive tables.';\n",
              "          element.innerHTML = '';\n",
              "          dataTable['output_type'] = 'display_data';\n",
              "          await google.colab.output.renderOutput(dataTable, element);\n",
              "          const docLink = document.createElement('div');\n",
              "          docLink.innerHTML = docLinkHtml;\n",
              "          element.appendChild(docLink);\n",
              "        }\n",
              "      </script>\n",
              "    </div>\n",
              "  </div>\n",
              "  "
            ],
            "text/plain": [
              "                pos_counts_word2vec  neg_counts_word2vec  pos_counts_AB  \\\n",
              "year   quarter                                                            \n",
              "1997.0 3.0                     63.0                 42.0          228.0   \n",
              "       4.0                     70.0                 45.0          223.0   \n",
              "1998.0 1.0                    101.0                 67.0          237.0   \n",
              "       2.0                    141.0                 50.0          230.0   \n",
              "       3.0                     95.0                 52.0          246.0   \n",
              "\n",
              "                neg_counts_AB  \n",
              "year   quarter                 \n",
              "1997.0 3.0               72.0  \n",
              "       4.0               99.0  \n",
              "1998.0 1.0              140.0  \n",
              "       2.0              158.0  \n",
              "       3.0              167.0  "
            ]
          },
          "execution_count": 30,
          "metadata": {},
          "output_type": "execute_result"
        }
      ],
      "source": [
        "# aggregate to year-quarter level removing incomplete quarters \n",
        "data_agg['months_x_quarter'] = 1\n",
        "data_agg = data_agg.groupby(['year', 'quarter']).sum()[['pos_counts_word2vec', 'neg_counts_word2vec',\n",
        "                                                        'pos_counts_AB', 'neg_counts_AB',\n",
        "                                                        'months_x_quarter']]\n",
        "\n",
        "data_agg = data_agg[data_agg['months_x_quarter']==3]\n",
        "del data_agg['months_x_quarter']\n",
        "\n",
        "data_agg.head()"
      ]
    },
    {
      "cell_type": "code",
      "execution_count": 31,
      "id": "b8e12c9b-3ea7-493b-8c8f-15677b66a2af",
      "metadata": {
        "colab": {
          "base_uri": "https://localhost:8080/",
          "height": 238
        },
        "id": "b8e12c9b-3ea7-493b-8c8f-15677b66a2af",
        "outputId": "0ed17d7f-dc3b-49e7-8fcc-6687093a86bd"
      },
      "outputs": [
        {
          "data": {
            "text/html": [
              "\n",
              "  <div id=\"df-f4755c3f-cd13-409c-8829-c31f2f1eb7f5\">\n",
              "    <div class=\"colab-df-container\">\n",
              "      <div>\n",
              "<style scoped>\n",
              "    .dataframe tbody tr th:only-of-type {\n",
              "        vertical-align: middle;\n",
              "    }\n",
              "\n",
              "    .dataframe tbody tr th {\n",
              "        vertical-align: top;\n",
              "    }\n",
              "\n",
              "    .dataframe thead th {\n",
              "        text-align: right;\n",
              "    }\n",
              "</style>\n",
              "<table border=\"1\" class=\"dataframe\">\n",
              "  <thead>\n",
              "    <tr style=\"text-align: right;\">\n",
              "      <th></th>\n",
              "      <th></th>\n",
              "      <th>pos_counts_word2vec</th>\n",
              "      <th>neg_counts_word2vec</th>\n",
              "      <th>pos_counts_AB</th>\n",
              "      <th>neg_counts_AB</th>\n",
              "      <th>sentiment_word2vec</th>\n",
              "      <th>sentiment_AB</th>\n",
              "    </tr>\n",
              "    <tr>\n",
              "      <th>year</th>\n",
              "      <th>quarter</th>\n",
              "      <th></th>\n",
              "      <th></th>\n",
              "      <th></th>\n",
              "      <th></th>\n",
              "      <th></th>\n",
              "      <th></th>\n",
              "    </tr>\n",
              "  </thead>\n",
              "  <tbody>\n",
              "    <tr>\n",
              "      <th rowspan=\"2\" valign=\"top\">1997.0</th>\n",
              "      <th>3.0</th>\n",
              "      <td>63.0</td>\n",
              "      <td>42.0</td>\n",
              "      <td>228.0</td>\n",
              "      <td>72.0</td>\n",
              "      <td>0.200000</td>\n",
              "      <td>0.520000</td>\n",
              "    </tr>\n",
              "    <tr>\n",
              "      <th>4.0</th>\n",
              "      <td>70.0</td>\n",
              "      <td>45.0</td>\n",
              "      <td>223.0</td>\n",
              "      <td>99.0</td>\n",
              "      <td>0.217391</td>\n",
              "      <td>0.385093</td>\n",
              "    </tr>\n",
              "    <tr>\n",
              "      <th rowspan=\"3\" valign=\"top\">1998.0</th>\n",
              "      <th>1.0</th>\n",
              "      <td>101.0</td>\n",
              "      <td>67.0</td>\n",
              "      <td>237.0</td>\n",
              "      <td>140.0</td>\n",
              "      <td>0.202381</td>\n",
              "      <td>0.257294</td>\n",
              "    </tr>\n",
              "    <tr>\n",
              "      <th>2.0</th>\n",
              "      <td>141.0</td>\n",
              "      <td>50.0</td>\n",
              "      <td>230.0</td>\n",
              "      <td>158.0</td>\n",
              "      <td>0.476440</td>\n",
              "      <td>0.185567</td>\n",
              "    </tr>\n",
              "    <tr>\n",
              "      <th>3.0</th>\n",
              "      <td>95.0</td>\n",
              "      <td>52.0</td>\n",
              "      <td>246.0</td>\n",
              "      <td>167.0</td>\n",
              "      <td>0.292517</td>\n",
              "      <td>0.191283</td>\n",
              "    </tr>\n",
              "  </tbody>\n",
              "</table>\n",
              "</div>\n",
              "      <button class=\"colab-df-convert\" onclick=\"convertToInteractive('df-f4755c3f-cd13-409c-8829-c31f2f1eb7f5')\"\n",
              "              title=\"Convert this dataframe to an interactive table.\"\n",
              "              style=\"display:none;\">\n",
              "        \n",
              "  <svg xmlns=\"http://www.w3.org/2000/svg\" height=\"24px\"viewBox=\"0 0 24 24\"\n",
              "       width=\"24px\">\n",
              "    <path d=\"M0 0h24v24H0V0z\" fill=\"none\"/>\n",
              "    <path d=\"M18.56 5.44l.94 2.06.94-2.06 2.06-.94-2.06-.94-.94-2.06-.94 2.06-2.06.94zm-11 1L8.5 8.5l.94-2.06 2.06-.94-2.06-.94L8.5 2.5l-.94 2.06-2.06.94zm10 10l.94 2.06.94-2.06 2.06-.94-2.06-.94-.94-2.06-.94 2.06-2.06.94z\"/><path d=\"M17.41 7.96l-1.37-1.37c-.4-.4-.92-.59-1.43-.59-.52 0-1.04.2-1.43.59L10.3 9.45l-7.72 7.72c-.78.78-.78 2.05 0 2.83L4 21.41c.39.39.9.59 1.41.59.51 0 1.02-.2 1.41-.59l7.78-7.78 2.81-2.81c.8-.78.8-2.07 0-2.86zM5.41 20L4 18.59l7.72-7.72 1.47 1.35L5.41 20z\"/>\n",
              "  </svg>\n",
              "      </button>\n",
              "      \n",
              "  <style>\n",
              "    .colab-df-container {\n",
              "      display:flex;\n",
              "      flex-wrap:wrap;\n",
              "      gap: 12px;\n",
              "    }\n",
              "\n",
              "    .colab-df-convert {\n",
              "      background-color: #E8F0FE;\n",
              "      border: none;\n",
              "      border-radius: 50%;\n",
              "      cursor: pointer;\n",
              "      display: none;\n",
              "      fill: #1967D2;\n",
              "      height: 32px;\n",
              "      padding: 0 0 0 0;\n",
              "      width: 32px;\n",
              "    }\n",
              "\n",
              "    .colab-df-convert:hover {\n",
              "      background-color: #E2EBFA;\n",
              "      box-shadow: 0px 1px 2px rgba(60, 64, 67, 0.3), 0px 1px 3px 1px rgba(60, 64, 67, 0.15);\n",
              "      fill: #174EA6;\n",
              "    }\n",
              "\n",
              "    [theme=dark] .colab-df-convert {\n",
              "      background-color: #3B4455;\n",
              "      fill: #D2E3FC;\n",
              "    }\n",
              "\n",
              "    [theme=dark] .colab-df-convert:hover {\n",
              "      background-color: #434B5C;\n",
              "      box-shadow: 0px 1px 3px 1px rgba(0, 0, 0, 0.15);\n",
              "      filter: drop-shadow(0px 1px 2px rgba(0, 0, 0, 0.3));\n",
              "      fill: #FFFFFF;\n",
              "    }\n",
              "  </style>\n",
              "\n",
              "      <script>\n",
              "        const buttonEl =\n",
              "          document.querySelector('#df-f4755c3f-cd13-409c-8829-c31f2f1eb7f5 button.colab-df-convert');\n",
              "        buttonEl.style.display =\n",
              "          google.colab.kernel.accessAllowed ? 'block' : 'none';\n",
              "\n",
              "        async function convertToInteractive(key) {\n",
              "          const element = document.querySelector('#df-f4755c3f-cd13-409c-8829-c31f2f1eb7f5');\n",
              "          const dataTable =\n",
              "            await google.colab.kernel.invokeFunction('convertToInteractive',\n",
              "                                                     [key], {});\n",
              "          if (!dataTable) return;\n",
              "\n",
              "          const docLinkHtml = 'Like what you see? Visit the ' +\n",
              "            '<a target=\"_blank\" href=https://colab.research.google.com/notebooks/data_table.ipynb>data table notebook</a>'\n",
              "            + ' to learn more about interactive tables.';\n",
              "          element.innerHTML = '';\n",
              "          dataTable['output_type'] = 'display_data';\n",
              "          await google.colab.output.renderOutput(dataTable, element);\n",
              "          const docLink = document.createElement('div');\n",
              "          docLink.innerHTML = docLinkHtml;\n",
              "          element.appendChild(docLink);\n",
              "        }\n",
              "      </script>\n",
              "    </div>\n",
              "  </div>\n",
              "  "
            ],
            "text/plain": [
              "                pos_counts_word2vec  neg_counts_word2vec  pos_counts_AB  \\\n",
              "year   quarter                                                            \n",
              "1997.0 3.0                     63.0                 42.0          228.0   \n",
              "       4.0                     70.0                 45.0          223.0   \n",
              "1998.0 1.0                    101.0                 67.0          237.0   \n",
              "       2.0                    141.0                 50.0          230.0   \n",
              "       3.0                     95.0                 52.0          246.0   \n",
              "\n",
              "                neg_counts_AB  sentiment_word2vec  sentiment_AB  \n",
              "year   quarter                                                   \n",
              "1997.0 3.0               72.0            0.200000      0.520000  \n",
              "       4.0               99.0            0.217391      0.385093  \n",
              "1998.0 1.0              140.0            0.202381      0.257294  \n",
              "       2.0              158.0            0.476440      0.185567  \n",
              "       3.0              167.0            0.292517      0.191283  "
            ]
          },
          "execution_count": 31,
          "metadata": {},
          "output_type": "execute_result"
        }
      ],
      "source": [
        "# compute sentiment at year-quarter level\n",
        "data_agg['sentiment_word2vec'] = (data_agg.pos_counts_word2vec - data_agg.neg_counts_word2vec)/(data_agg.pos_counts_word2vec + data_agg.neg_counts_word2vec)\n",
        "data_agg['sentiment_AB'] = (data_agg.pos_counts_AB - data_agg.neg_counts_AB)/(data_agg.pos_counts_AB + data_agg.neg_counts_AB)\n",
        "data_agg.head()"
      ]
    },
    {
      "cell_type": "markdown",
      "id": "1a146d7a-9377-4846-9397-dafd0d837c77",
      "metadata": {
        "id": "1a146d7a-9377-4846-9397-dafd0d837c77"
      },
      "source": [
        "Next we add quarterly GDP data collected from the ONS website."
      ]
    },
    {
      "cell_type": "code",
      "execution_count": 32,
      "id": "a839e6bc-9e20-4cfc-92af-4ef322758f09",
      "metadata": {
        "colab": {
          "base_uri": "https://localhost:8080/",
          "height": 206
        },
        "id": "a839e6bc-9e20-4cfc-92af-4ef322758f09",
        "outputId": "4f74ac6a-591a-4ab1-801b-902e67dab937"
      },
      "outputs": [
        {
          "data": {
            "text/html": [
              "\n",
              "  <div id=\"df-1f623879-f335-4eb5-9a69-1278c3eba49a\">\n",
              "    <div class=\"colab-df-container\">\n",
              "      <div>\n",
              "<style scoped>\n",
              "    .dataframe tbody tr th:only-of-type {\n",
              "        vertical-align: middle;\n",
              "    }\n",
              "\n",
              "    .dataframe tbody tr th {\n",
              "        vertical-align: top;\n",
              "    }\n",
              "\n",
              "    .dataframe thead th {\n",
              "        text-align: right;\n",
              "    }\n",
              "</style>\n",
              "<table border=\"1\" class=\"dataframe\">\n",
              "  <thead>\n",
              "    <tr style=\"text-align: right;\">\n",
              "      <th></th>\n",
              "      <th>year</th>\n",
              "      <th>quarter</th>\n",
              "      <th>gdp_growth</th>\n",
              "    </tr>\n",
              "  </thead>\n",
              "  <tbody>\n",
              "    <tr>\n",
              "      <th>0</th>\n",
              "      <td>1997</td>\n",
              "      <td>2</td>\n",
              "      <td>1.2</td>\n",
              "    </tr>\n",
              "    <tr>\n",
              "      <th>1</th>\n",
              "      <td>1997</td>\n",
              "      <td>3</td>\n",
              "      <td>0.6</td>\n",
              "    </tr>\n",
              "    <tr>\n",
              "      <th>2</th>\n",
              "      <td>1997</td>\n",
              "      <td>4</td>\n",
              "      <td>1.3</td>\n",
              "    </tr>\n",
              "    <tr>\n",
              "      <th>3</th>\n",
              "      <td>1998</td>\n",
              "      <td>1</td>\n",
              "      <td>0.6</td>\n",
              "    </tr>\n",
              "    <tr>\n",
              "      <th>4</th>\n",
              "      <td>1998</td>\n",
              "      <td>2</td>\n",
              "      <td>0.6</td>\n",
              "    </tr>\n",
              "  </tbody>\n",
              "</table>\n",
              "</div>\n",
              "      <button class=\"colab-df-convert\" onclick=\"convertToInteractive('df-1f623879-f335-4eb5-9a69-1278c3eba49a')\"\n",
              "              title=\"Convert this dataframe to an interactive table.\"\n",
              "              style=\"display:none;\">\n",
              "        \n",
              "  <svg xmlns=\"http://www.w3.org/2000/svg\" height=\"24px\"viewBox=\"0 0 24 24\"\n",
              "       width=\"24px\">\n",
              "    <path d=\"M0 0h24v24H0V0z\" fill=\"none\"/>\n",
              "    <path d=\"M18.56 5.44l.94 2.06.94-2.06 2.06-.94-2.06-.94-.94-2.06-.94 2.06-2.06.94zm-11 1L8.5 8.5l.94-2.06 2.06-.94-2.06-.94L8.5 2.5l-.94 2.06-2.06.94zm10 10l.94 2.06.94-2.06 2.06-.94-2.06-.94-.94-2.06-.94 2.06-2.06.94z\"/><path d=\"M17.41 7.96l-1.37-1.37c-.4-.4-.92-.59-1.43-.59-.52 0-1.04.2-1.43.59L10.3 9.45l-7.72 7.72c-.78.78-.78 2.05 0 2.83L4 21.41c.39.39.9.59 1.41.59.51 0 1.02-.2 1.41-.59l7.78-7.78 2.81-2.81c.8-.78.8-2.07 0-2.86zM5.41 20L4 18.59l7.72-7.72 1.47 1.35L5.41 20z\"/>\n",
              "  </svg>\n",
              "      </button>\n",
              "      \n",
              "  <style>\n",
              "    .colab-df-container {\n",
              "      display:flex;\n",
              "      flex-wrap:wrap;\n",
              "      gap: 12px;\n",
              "    }\n",
              "\n",
              "    .colab-df-convert {\n",
              "      background-color: #E8F0FE;\n",
              "      border: none;\n",
              "      border-radius: 50%;\n",
              "      cursor: pointer;\n",
              "      display: none;\n",
              "      fill: #1967D2;\n",
              "      height: 32px;\n",
              "      padding: 0 0 0 0;\n",
              "      width: 32px;\n",
              "    }\n",
              "\n",
              "    .colab-df-convert:hover {\n",
              "      background-color: #E2EBFA;\n",
              "      box-shadow: 0px 1px 2px rgba(60, 64, 67, 0.3), 0px 1px 3px 1px rgba(60, 64, 67, 0.15);\n",
              "      fill: #174EA6;\n",
              "    }\n",
              "\n",
              "    [theme=dark] .colab-df-convert {\n",
              "      background-color: #3B4455;\n",
              "      fill: #D2E3FC;\n",
              "    }\n",
              "\n",
              "    [theme=dark] .colab-df-convert:hover {\n",
              "      background-color: #434B5C;\n",
              "      box-shadow: 0px 1px 3px 1px rgba(0, 0, 0, 0.15);\n",
              "      filter: drop-shadow(0px 1px 2px rgba(0, 0, 0, 0.3));\n",
              "      fill: #FFFFFF;\n",
              "    }\n",
              "  </style>\n",
              "\n",
              "      <script>\n",
              "        const buttonEl =\n",
              "          document.querySelector('#df-1f623879-f335-4eb5-9a69-1278c3eba49a button.colab-df-convert');\n",
              "        buttonEl.style.display =\n",
              "          google.colab.kernel.accessAllowed ? 'block' : 'none';\n",
              "\n",
              "        async function convertToInteractive(key) {\n",
              "          const element = document.querySelector('#df-1f623879-f335-4eb5-9a69-1278c3eba49a');\n",
              "          const dataTable =\n",
              "            await google.colab.kernel.invokeFunction('convertToInteractive',\n",
              "                                                     [key], {});\n",
              "          if (!dataTable) return;\n",
              "\n",
              "          const docLinkHtml = 'Like what you see? Visit the ' +\n",
              "            '<a target=\"_blank\" href=https://colab.research.google.com/notebooks/data_table.ipynb>data table notebook</a>'\n",
              "            + ' to learn more about interactive tables.';\n",
              "          element.innerHTML = '';\n",
              "          dataTable['output_type'] = 'display_data';\n",
              "          await google.colab.output.renderOutput(dataTable, element);\n",
              "          const docLink = document.createElement('div');\n",
              "          docLink.innerHTML = docLinkHtml;\n",
              "          element.appendChild(docLink);\n",
              "        }\n",
              "      </script>\n",
              "    </div>\n",
              "  </div>\n",
              "  "
            ],
            "text/plain": [
              "   year  quarter  gdp_growth\n",
              "0  1997        2         1.2\n",
              "1  1997        3         0.6\n",
              "2  1997        4         1.3\n",
              "3  1998        1         0.6\n",
              "4  1998        2         0.6"
            ]
          },
          "execution_count": 32,
          "metadata": {},
          "output_type": "execute_result"
        }
      ],
      "source": [
        "# prepare GDP data\n",
        "ons = pd.read_csv(data_path + 'ons_quarterly_gdp.csv', names=['label', 'gdp_growth', 'quarter_long'], header=0)\n",
        "ons['year'] = ons.label.apply(lambda x: x[:4]).astype(int)\n",
        "ons['quarter'] = ons.label.apply(lambda x: x[6]).astype(int)\n",
        "ons = ons[['year', 'quarter', 'gdp_growth']]\n",
        "ons = ons.drop_duplicates().reset_index(drop=True).copy()\n",
        "ons.head()"
      ]
    },
    {
      "cell_type": "code",
      "execution_count": 33,
      "id": "8a63d1e5-0951-4899-bbb6-215c23f670a5",
      "metadata": {
        "colab": {
          "base_uri": "https://localhost:8080/",
          "height": 206
        },
        "id": "8a63d1e5-0951-4899-bbb6-215c23f670a5",
        "outputId": "16c931bb-1c98-4ca3-c1c4-546b317818e5"
      },
      "outputs": [
        {
          "data": {
            "text/html": [
              "\n",
              "  <div id=\"df-22c74133-c613-4a27-80af-8c49e48301e9\">\n",
              "    <div class=\"colab-df-container\">\n",
              "      <div>\n",
              "<style scoped>\n",
              "    .dataframe tbody tr th:only-of-type {\n",
              "        vertical-align: middle;\n",
              "    }\n",
              "\n",
              "    .dataframe tbody tr th {\n",
              "        vertical-align: top;\n",
              "    }\n",
              "\n",
              "    .dataframe thead th {\n",
              "        text-align: right;\n",
              "    }\n",
              "</style>\n",
              "<table border=\"1\" class=\"dataframe\">\n",
              "  <thead>\n",
              "    <tr style=\"text-align: right;\">\n",
              "      <th></th>\n",
              "      <th>year</th>\n",
              "      <th>quarter</th>\n",
              "      <th>pos_counts_word2vec</th>\n",
              "      <th>neg_counts_word2vec</th>\n",
              "      <th>pos_counts_AB</th>\n",
              "      <th>neg_counts_AB</th>\n",
              "      <th>sentiment_word2vec</th>\n",
              "      <th>sentiment_AB</th>\n",
              "      <th>gdp_growth</th>\n",
              "      <th>year_quarter</th>\n",
              "    </tr>\n",
              "  </thead>\n",
              "  <tbody>\n",
              "    <tr>\n",
              "      <th>0</th>\n",
              "      <td>1997.0</td>\n",
              "      <td>3.0</td>\n",
              "      <td>63.0</td>\n",
              "      <td>42.0</td>\n",
              "      <td>228.0</td>\n",
              "      <td>72.0</td>\n",
              "      <td>0.200000</td>\n",
              "      <td>0.520000</td>\n",
              "      <td>0.6</td>\n",
              "      <td>1997-07-01</td>\n",
              "    </tr>\n",
              "    <tr>\n",
              "      <th>1</th>\n",
              "      <td>1997.0</td>\n",
              "      <td>4.0</td>\n",
              "      <td>70.0</td>\n",
              "      <td>45.0</td>\n",
              "      <td>223.0</td>\n",
              "      <td>99.0</td>\n",
              "      <td>0.217391</td>\n",
              "      <td>0.385093</td>\n",
              "      <td>1.3</td>\n",
              "      <td>1997-10-01</td>\n",
              "    </tr>\n",
              "    <tr>\n",
              "      <th>2</th>\n",
              "      <td>1998.0</td>\n",
              "      <td>1.0</td>\n",
              "      <td>101.0</td>\n",
              "      <td>67.0</td>\n",
              "      <td>237.0</td>\n",
              "      <td>140.0</td>\n",
              "      <td>0.202381</td>\n",
              "      <td>0.257294</td>\n",
              "      <td>0.6</td>\n",
              "      <td>1998-01-01</td>\n",
              "    </tr>\n",
              "    <tr>\n",
              "      <th>3</th>\n",
              "      <td>1998.0</td>\n",
              "      <td>2.0</td>\n",
              "      <td>141.0</td>\n",
              "      <td>50.0</td>\n",
              "      <td>230.0</td>\n",
              "      <td>158.0</td>\n",
              "      <td>0.476440</td>\n",
              "      <td>0.185567</td>\n",
              "      <td>0.6</td>\n",
              "      <td>1998-04-01</td>\n",
              "    </tr>\n",
              "    <tr>\n",
              "      <th>4</th>\n",
              "      <td>1998.0</td>\n",
              "      <td>3.0</td>\n",
              "      <td>95.0</td>\n",
              "      <td>52.0</td>\n",
              "      <td>246.0</td>\n",
              "      <td>167.0</td>\n",
              "      <td>0.292517</td>\n",
              "      <td>0.191283</td>\n",
              "      <td>0.7</td>\n",
              "      <td>1998-07-01</td>\n",
              "    </tr>\n",
              "  </tbody>\n",
              "</table>\n",
              "</div>\n",
              "      <button class=\"colab-df-convert\" onclick=\"convertToInteractive('df-22c74133-c613-4a27-80af-8c49e48301e9')\"\n",
              "              title=\"Convert this dataframe to an interactive table.\"\n",
              "              style=\"display:none;\">\n",
              "        \n",
              "  <svg xmlns=\"http://www.w3.org/2000/svg\" height=\"24px\"viewBox=\"0 0 24 24\"\n",
              "       width=\"24px\">\n",
              "    <path d=\"M0 0h24v24H0V0z\" fill=\"none\"/>\n",
              "    <path d=\"M18.56 5.44l.94 2.06.94-2.06 2.06-.94-2.06-.94-.94-2.06-.94 2.06-2.06.94zm-11 1L8.5 8.5l.94-2.06 2.06-.94-2.06-.94L8.5 2.5l-.94 2.06-2.06.94zm10 10l.94 2.06.94-2.06 2.06-.94-2.06-.94-.94-2.06-.94 2.06-2.06.94z\"/><path d=\"M17.41 7.96l-1.37-1.37c-.4-.4-.92-.59-1.43-.59-.52 0-1.04.2-1.43.59L10.3 9.45l-7.72 7.72c-.78.78-.78 2.05 0 2.83L4 21.41c.39.39.9.59 1.41.59.51 0 1.02-.2 1.41-.59l7.78-7.78 2.81-2.81c.8-.78.8-2.07 0-2.86zM5.41 20L4 18.59l7.72-7.72 1.47 1.35L5.41 20z\"/>\n",
              "  </svg>\n",
              "      </button>\n",
              "      \n",
              "  <style>\n",
              "    .colab-df-container {\n",
              "      display:flex;\n",
              "      flex-wrap:wrap;\n",
              "      gap: 12px;\n",
              "    }\n",
              "\n",
              "    .colab-df-convert {\n",
              "      background-color: #E8F0FE;\n",
              "      border: none;\n",
              "      border-radius: 50%;\n",
              "      cursor: pointer;\n",
              "      display: none;\n",
              "      fill: #1967D2;\n",
              "      height: 32px;\n",
              "      padding: 0 0 0 0;\n",
              "      width: 32px;\n",
              "    }\n",
              "\n",
              "    .colab-df-convert:hover {\n",
              "      background-color: #E2EBFA;\n",
              "      box-shadow: 0px 1px 2px rgba(60, 64, 67, 0.3), 0px 1px 3px 1px rgba(60, 64, 67, 0.15);\n",
              "      fill: #174EA6;\n",
              "    }\n",
              "\n",
              "    [theme=dark] .colab-df-convert {\n",
              "      background-color: #3B4455;\n",
              "      fill: #D2E3FC;\n",
              "    }\n",
              "\n",
              "    [theme=dark] .colab-df-convert:hover {\n",
              "      background-color: #434B5C;\n",
              "      box-shadow: 0px 1px 3px 1px rgba(0, 0, 0, 0.15);\n",
              "      filter: drop-shadow(0px 1px 2px rgba(0, 0, 0, 0.3));\n",
              "      fill: #FFFFFF;\n",
              "    }\n",
              "  </style>\n",
              "\n",
              "      <script>\n",
              "        const buttonEl =\n",
              "          document.querySelector('#df-22c74133-c613-4a27-80af-8c49e48301e9 button.colab-df-convert');\n",
              "        buttonEl.style.display =\n",
              "          google.colab.kernel.accessAllowed ? 'block' : 'none';\n",
              "\n",
              "        async function convertToInteractive(key) {\n",
              "          const element = document.querySelector('#df-22c74133-c613-4a27-80af-8c49e48301e9');\n",
              "          const dataTable =\n",
              "            await google.colab.kernel.invokeFunction('convertToInteractive',\n",
              "                                                     [key], {});\n",
              "          if (!dataTable) return;\n",
              "\n",
              "          const docLinkHtml = 'Like what you see? Visit the ' +\n",
              "            '<a target=\"_blank\" href=https://colab.research.google.com/notebooks/data_table.ipynb>data table notebook</a>'\n",
              "            + ' to learn more about interactive tables.';\n",
              "          element.innerHTML = '';\n",
              "          dataTable['output_type'] = 'display_data';\n",
              "          await google.colab.output.renderOutput(dataTable, element);\n",
              "          const docLink = document.createElement('div');\n",
              "          docLink.innerHTML = docLinkHtml;\n",
              "          element.appendChild(docLink);\n",
              "        }\n",
              "      </script>\n",
              "    </div>\n",
              "  </div>\n",
              "  "
            ],
            "text/plain": [
              "     year  quarter  pos_counts_word2vec  neg_counts_word2vec  pos_counts_AB  \\\n",
              "0  1997.0      3.0                 63.0                 42.0          228.0   \n",
              "1  1997.0      4.0                 70.0                 45.0          223.0   \n",
              "2  1998.0      1.0                101.0                 67.0          237.0   \n",
              "3  1998.0      2.0                141.0                 50.0          230.0   \n",
              "4  1998.0      3.0                 95.0                 52.0          246.0   \n",
              "\n",
              "   neg_counts_AB  sentiment_word2vec  sentiment_AB  gdp_growth year_quarter  \n",
              "0           72.0            0.200000      0.520000         0.6   1997-07-01  \n",
              "1           99.0            0.217391      0.385093         1.3   1997-10-01  \n",
              "2          140.0            0.202381      0.257294         0.6   1998-01-01  \n",
              "3          158.0            0.476440      0.185567         0.6   1998-04-01  \n",
              "4          167.0            0.292517      0.191283         0.7   1998-07-01  "
            ]
          },
          "execution_count": 33,
          "metadata": {},
          "output_type": "execute_result"
        }
      ],
      "source": [
        "# merge to sentiment data\n",
        "df = data_agg.merge(ons, how='left', on=['year', 'quarter']).copy()\n",
        "\n",
        "# create year-quarter variable\n",
        "df[\"year_quarter\"] = df.apply(lambda x: f\"{int(x['quarter'])}Q{int(x['year'])}\", axis=1)\n",
        "df[\"year_quarter\"] = df[\"year_quarter\"].apply(lambda x: pd.Period(value=x, freq=\"Q\").to_timestamp())\n",
        "df.head()"
      ]
    },
    {
      "cell_type": "code",
      "execution_count": 34,
      "id": "577dd00e-a66f-48e1-aba8-4d4ded3d5f7e",
      "metadata": {
        "colab": {
          "base_uri": "https://localhost:8080/"
        },
        "id": "577dd00e-a66f-48e1-aba8-4d4ded3d5f7e",
        "outputId": "3e29fa29-5316-4377-f513-7bdd9cf19751"
      },
      "outputs": [
        {
          "name": "stdout",
          "output_type": "stream",
          "text": [
            "                    sentiment_AB  sentiment_word2vec  gdp_growth\n",
            "sentiment_AB            1.000000            0.363853    0.321381\n",
            "sentiment_word2vec      0.363853            1.000000    0.456141\n",
            "gdp_growth              0.321381            0.456141    1.000000\n"
          ]
        }
      ],
      "source": [
        "print(df[['sentiment_AB', 'sentiment_word2vec', 'gdp_growth']].corr())"
      ]
    },
    {
      "cell_type": "code",
      "execution_count": 35,
      "id": "ffbd0886-fc52-46f0-b51f-1b3dcf52a014",
      "metadata": {
        "colab": {
          "base_uri": "https://localhost:8080/",
          "height": 483
        },
        "id": "ffbd0886-fc52-46f0-b51f-1b3dcf52a014",
        "outputId": "d0a8f5ce-15d3-4dd7-9bcb-3ef879a1d1e1"
      },
      "outputs": [
        {
          "data": {
            "image/png": "[encoded data removed]",
            "text/plain": [
              "<Figure size 1152x576 with 1 Axes>"
            ]
          },
          "metadata": {
            "needs_background": "light"
          },
          "output_type": "display_data"
        }
      ],
      "source": [
        "# standardize and plot all series\n",
        "scaler = StandardScaler()\n",
        "\n",
        "fig, ax = plt.subplots(figsize=(16,8))\n",
        "ax.plot(df[\"year_quarter\"], scaler.fit_transform(df.sentiment_AB.values.reshape(-1, 1)), label=\"Apel and Blix-Grimaldi (2012)\")\n",
        "ax.plot(df[\"year_quarter\"], scaler.fit_transform(df.sentiment_word2vec.values.reshape(-1, 1)), label=\"Word2Vec dictionaries\")\n",
        "ax.plot(df[\"year_quarter\"], scaler.fit_transform(df.gdp_growth.values.reshape(-1, 1)), label=\"GDP Growth\")\n",
        "\n",
        "plt.legend()\n",
        "plt.show()"
      ]
    }
  ],
  "metadata": {
    "accelerator": "GPU",
    "colab": {
      "collapsed_sections": [],
      "name": "4_word2vec.ipynb",
      "provenance": [],
      "toc_visible": true
    },
    "kernelspec": {
      "display_name": "Python 3.10.2 64-bit",
      "language": "python",
      "name": "python3"
    },
    "language_info": {
      "codemirror_mode": {
        "name": "ipython",
        "version": 3
      },
      "file_extension": ".py",
      "mimetype": "text/x-python",
      "name": "python",
      "nbconvert_exporter": "python",
      "pygments_lexer": "ipython3",
      "version": "3.10.2"
    },
    "vscode": {
      "interpreter": {
        "hash": "e7a0c3d8bc4d2db51aea30c86dc747f02938c345e0d55043ee1f11015ff2b63a"
      }
    }
  },
  "nbformat": 4,
  "nbformat_minor": 5
}
