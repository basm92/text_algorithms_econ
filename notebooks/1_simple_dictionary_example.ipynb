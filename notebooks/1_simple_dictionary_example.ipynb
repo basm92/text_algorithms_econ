{
 "cells": [
  {
   "cell_type": "markdown",
   "metadata": {},
   "source": [
    "# TO-DO\n",
    "+ Why were we dropping quarters with <3months of data in past iteration?"
   ]
  },
  {
   "cell_type": "code",
   "execution_count": 3,
   "metadata": {},
   "outputs": [],
   "source": [
    "# !pip install gdown"
   ]
  },
  {
   "cell_type": "code",
   "execution_count": 2,
   "metadata": {},
   "outputs": [],
   "source": [
    "import pandas as pd\n",
    "import numpy as np\n",
    "import gdown\n",
    "import random\n",
    "import re\n",
    "from sklearn.preprocessing import StandardScaler\n",
    "import matplotlib.pyplot as plt"
   ]
  },
  {
   "cell_type": "code",
   "execution_count": 3,
   "metadata": {
    "id": "oYSA60vTZgJn"
   },
   "outputs": [],
   "source": [
    "# define paths and seed\n",
    "seed = 92\n",
    "data_path = \"./\""
   ]
  },
  {
   "cell_type": "code",
   "execution_count": 4,
   "metadata": {
    "id": "1ASFG1hzHeUP"
   },
   "outputs": [],
   "source": [
    "# define dictionary with paths to data in Google Drive\n",
    "data_url_dict = {\"mpc_minutes\": (\"https://drive.google.com/uc?id=1k086m12gBHKuVMPv4GUD1aB_kZOZpznR\", \"txt\"),\n",
    "                \"ons_quarterly_gdp\": (\"https://drive.google.com/uc?id=1_8JwCNUsq9wnPiTDmcJ2xrWklGGDFbQD\", \"csv\")}"
   ]
  },
  {
   "cell_type": "code",
   "execution_count": 5,
   "metadata": {
    "colab": {
     "base_uri": "https://localhost:8080/"
    },
    "id": "VeM3yIZFICcl",
    "outputId": "30ee6514-5dbf-4535-e733-d1c1fdfa2e38"
   },
   "outputs": [
    {
     "name": "stderr",
     "output_type": "stream",
     "text": [
      "Downloading...\n",
      "From: https://drive.google.com/uc?id=1k086m12gBHKuVMPv4GUD1aB_kZOZpznR\n",
      "To: /Users/llaurabat/Dropbox/BGSE_work/AR/ARE_text_algorithms_economics/notebooks/mpc_minutes.txt\n",
      "100%|██████████| 7.36M/7.36M [00:00<00:00, 23.0MB/s]\n",
      "Downloading...\n",
      "From: https://drive.google.com/uc?id=1_8JwCNUsq9wnPiTDmcJ2xrWklGGDFbQD\n",
      "To: /Users/llaurabat/Dropbox/BGSE_work/AR/ARE_text_algorithms_economics/notebooks/ons_quarterly_gdp.csv\n",
      "100%|██████████| 3.33k/3.33k [00:00<00:00, 12.0MB/s]\n"
     ]
    }
   ],
   "source": [
    "# download each file in the dictionary\n",
    "for file_name, attributes in data_url_dict.items():\n",
    "    url = attributes[0]\n",
    "    extension = attributes[1]\n",
    "    gdown.download(url, f\"{file_name}.{extension}\", quiet=False) "
   ]
  },
  {
   "cell_type": "markdown",
   "metadata": {
    "id": "ftz2XnGwdutv"
   },
   "source": [
    "## 0. Load data"
   ]
  },
  {
   "cell_type": "markdown",
   "metadata": {
    "id": "rsOhKaTvdutv"
   },
   "source": [
    "This tutorial uses text data from Bank of England minutes. As a first step, we inspect the data. We observe that we have a total number of 7277 strings of data (hereafter \"documents\") that are produced monthly for 18 years (06/1997 to 10/2014). The average length of a document is of 161 words."
   ]
  },
  {
   "cell_type": "code",
   "execution_count": 6,
   "metadata": {
    "colab": {
     "base_uri": "https://localhost:8080/"
    },
    "id": "WJomAJdvdutv",
    "outputId": "2d5adb33-a3a9-4366-e03b-08c66f75fe00"
   },
   "outputs": [
    {
     "name": "stdout",
     "output_type": "stream",
     "text": [
      "(7277, 2)\n"
     ]
    },
    {
     "data": {
      "text/html": [
       "<div>\n",
       "<style scoped>\n",
       "    .dataframe tbody tr th:only-of-type {\n",
       "        vertical-align: middle;\n",
       "    }\n",
       "\n",
       "    .dataframe tbody tr th {\n",
       "        vertical-align: top;\n",
       "    }\n",
       "\n",
       "    .dataframe thead th {\n",
       "        text-align: right;\n",
       "    }\n",
       "</style>\n",
       "<table border=\"1\" class=\"dataframe\">\n",
       "  <thead>\n",
       "    <tr style=\"text-align: right;\">\n",
       "      <th></th>\n",
       "      <th>date</th>\n",
       "      <th>minutes</th>\n",
       "    </tr>\n",
       "  </thead>\n",
       "  <tbody>\n",
       "    <tr>\n",
       "      <th>0</th>\n",
       "      <td>199706</td>\n",
       "      <td>1 Sections I to V of this minute summarise t...</td>\n",
       "    </tr>\n",
       "    <tr>\n",
       "      <th>1</th>\n",
       "      <td>199706</td>\n",
       "      <td>The 12-month growth rate of notes and coins ...</td>\n",
       "    </tr>\n",
       "    <tr>\n",
       "      <th>2</th>\n",
       "      <td>199706</td>\n",
       "      <td>Broad money, too, decelerated in April: its ...</td>\n",
       "    </tr>\n",
       "    <tr>\n",
       "      <th>3</th>\n",
       "      <td>199706</td>\n",
       "      <td>Lending growth continued at around 9% in ...</td>\n",
       "    </tr>\n",
       "    <tr>\n",
       "      <th>4</th>\n",
       "      <td>199706</td>\n",
       "      <td>Lending to individuals remained robust in...</td>\n",
       "    </tr>\n",
       "  </tbody>\n",
       "</table>\n",
       "</div>"
      ],
      "text/plain": [
       "     date                                            minutes\n",
       "0  199706    1 Sections I to V of this minute summarise t...\n",
       "1  199706    The 12-month growth rate of notes and coins ...\n",
       "2  199706    Broad money, too, decelerated in April: its ...\n",
       "3  199706       Lending growth continued at around 9% in ...\n",
       "4  199706       Lending to individuals remained robust in..."
      ]
     },
     "execution_count": 6,
     "metadata": {},
     "output_type": "execute_result"
    }
   ],
   "source": [
    "data = pd.read_csv(data_path + 'mpc_minutes.txt', delimiter='\\t', header=0, names=['date', 'minutes'])\n",
    "print(data.shape)\n",
    "data.head()"
   ]
  },
  {
   "cell_type": "code",
   "execution_count": 7,
   "metadata": {
    "colab": {
     "base_uri": "https://localhost:8080/"
    },
    "id": "Ran5C7C2dutw",
    "outputId": "78d37ecf-a275-4c5c-8c2c-1a1d9df28a35"
   },
   "outputs": [
    {
     "data": {
      "text/html": [
       "<div>\n",
       "<style scoped>\n",
       "    .dataframe tbody tr th:only-of-type {\n",
       "        vertical-align: middle;\n",
       "    }\n",
       "\n",
       "    .dataframe tbody tr th {\n",
       "        vertical-align: top;\n",
       "    }\n",
       "\n",
       "    .dataframe thead th {\n",
       "        text-align: right;\n",
       "    }\n",
       "</style>\n",
       "<table border=\"1\" class=\"dataframe\">\n",
       "  <thead>\n",
       "    <tr style=\"text-align: right;\">\n",
       "      <th></th>\n",
       "      <th>date</th>\n",
       "      <th>minutes</th>\n",
       "      <th>year</th>\n",
       "      <th>quarter</th>\n",
       "    </tr>\n",
       "  </thead>\n",
       "  <tbody>\n",
       "    <tr>\n",
       "      <th>0</th>\n",
       "      <td>199706</td>\n",
       "      <td>1 Sections I to V of this minute summarise t...</td>\n",
       "      <td>1997</td>\n",
       "      <td>2</td>\n",
       "    </tr>\n",
       "    <tr>\n",
       "      <th>1</th>\n",
       "      <td>199706</td>\n",
       "      <td>The 12-month growth rate of notes and coins ...</td>\n",
       "      <td>1997</td>\n",
       "      <td>2</td>\n",
       "    </tr>\n",
       "    <tr>\n",
       "      <th>2</th>\n",
       "      <td>199706</td>\n",
       "      <td>Broad money, too, decelerated in April: its ...</td>\n",
       "      <td>1997</td>\n",
       "      <td>2</td>\n",
       "    </tr>\n",
       "    <tr>\n",
       "      <th>3</th>\n",
       "      <td>199706</td>\n",
       "      <td>Lending growth continued at around 9% in ...</td>\n",
       "      <td>1997</td>\n",
       "      <td>2</td>\n",
       "    </tr>\n",
       "    <tr>\n",
       "      <th>4</th>\n",
       "      <td>199706</td>\n",
       "      <td>Lending to individuals remained robust in...</td>\n",
       "      <td>1997</td>\n",
       "      <td>2</td>\n",
       "    </tr>\n",
       "  </tbody>\n",
       "</table>\n",
       "</div>"
      ],
      "text/plain": [
       "     date                                            minutes  year  quarter\n",
       "0  199706    1 Sections I to V of this minute summarise t...  1997        2\n",
       "1  199706    The 12-month growth rate of notes and coins ...  1997        2\n",
       "2  199706    Broad money, too, decelerated in April: its ...  1997        2\n",
       "3  199706       Lending growth continued at around 9% in ...  1997        2\n",
       "4  199706       Lending to individuals remained robust in...  1997        2"
      ]
     },
     "execution_count": 7,
     "metadata": {},
     "output_type": "execute_result"
    }
   ],
   "source": [
    "# turn date into date format and create quarter column\n",
    "data['date'] = pd.to_datetime(data.date, format='%Y%m')\n",
    "data['year'] = data.date.dt.year.astype(int)\n",
    "data['quarter'] = data.date.dt.quarter.astype(int)\n",
    "data['date'] = data['date'].dt.strftime('%Y%m')\n",
    "data.head()"
   ]
  },
  {
   "cell_type": "code",
   "execution_count": 8,
   "metadata": {
    "colab": {
     "base_uri": "https://localhost:8080/"
    },
    "id": "mfffmCRrdutx",
    "outputId": "84af71fe-db84-42b7-d8e3-f6134c8605ab"
   },
   "outputs": [
    {
     "name": "stdout",
     "output_type": "stream",
     "text": [
      "average document length: 161.0 words\n"
     ]
    }
   ],
   "source": [
    "data['length'] = data.minutes.apply(lambda x: len(x.split()))\n",
    "print(f'average document length: {np.round(np.mean(data.length),0)} words')"
   ]
  },
  {
   "cell_type": "code",
   "execution_count": 9,
   "metadata": {
    "colab": {
     "base_uri": "https://localhost:8080/"
    },
    "id": "Piqhv31-dutx",
    "outputId": "f1f523cd-2fa6-4f81-833b-5e316dfb9096"
   },
   "outputs": [
    {
     "name": "stdout",
     "output_type": "stream",
     "text": [
      "n. months: 209\n",
      "n. years: 18\n"
     ]
    },
    {
     "data": {
      "text/plain": [
       "array(['199706', '199707', '199708', '199709', '199710', '199711',\n",
       "       '199712', '199801', '199802', '199803', '199804', '199805',\n",
       "       '199806', '199807', '199808', '199809', '199810', '199811',\n",
       "       '199812', '199901', '199902', '199903', '199904', '199905',\n",
       "       '199906', '199907', '199908', '199909', '199910', '199911',\n",
       "       '199912', '200001', '200002', '200003', '200004', '200005',\n",
       "       '200006', '200007', '200008', '200009', '200010', '200011',\n",
       "       '200012', '200101', '200102', '200103', '200104', '200105',\n",
       "       '200106', '200107', '200108', '200109', '200110', '200111',\n",
       "       '200112', '200201', '200202', '200203', '200204', '200205',\n",
       "       '200206', '200207', '200208', '200209', '200210', '200211',\n",
       "       '200212', '200301', '200302', '200303', '200304', '200305',\n",
       "       '200306', '200307', '200308', '200309', '200310', '200311',\n",
       "       '200312', '200401', '200402', '200403', '200404', '200405',\n",
       "       '200406', '200407', '200408', '200409', '200410', '200411',\n",
       "       '200412', '200501', '200502', '200503', '200504', '200505',\n",
       "       '200506', '200507', '200508', '200509', '200510', '200511',\n",
       "       '200512', '200601', '200602', '200603', '200604', '200605',\n",
       "       '200606', '200607', '200608', '200609', '200610', '200611',\n",
       "       '200612', '200701', '200702', '200703', '200704', '200705',\n",
       "       '200706', '200707', '200708', '200709', '200710', '200711',\n",
       "       '200712', '200801', '200802', '200803', '200804', '200805',\n",
       "       '200806', '200807', '200808', '200809', '200810', '200811',\n",
       "       '200812', '200901', '200902', '200903', '200904', '200905',\n",
       "       '200906', '200907', '200908', '200909', '200910', '200911',\n",
       "       '200912', '201001', '201002', '201003', '201004', '201005',\n",
       "       '201006', '201007', '201008', '201009', '201010', '201011',\n",
       "       '201012', '201101', '201102', '201103', '201104', '201105',\n",
       "       '201106', '201107', '201108', '201109', '201110', '201111',\n",
       "       '201112', '201201', '201202', '201203', '201204', '201205',\n",
       "       '201206', '201207', '201208', '201209', '201210', '201211',\n",
       "       '201212', '201301', '201302', '201303', '201304', '201305',\n",
       "       '201306', '201307', '201308', '201309', '201310', '201311',\n",
       "       '201312', '201401', '201402', '201403', '201404', '201405',\n",
       "       '201406', '201407', '201408', '201409', '201410'], dtype=object)"
      ]
     },
     "execution_count": 9,
     "metadata": {},
     "output_type": "execute_result"
    }
   ],
   "source": [
    "print('n. months:',len(data.date.unique()))\n",
    "print('n. years:',len(data.year.unique()))\n",
    "data.date.unique()"
   ]
  },
  {
   "cell_type": "markdown",
   "metadata": {
    "id": "m1bRVbnudut7"
   },
   "source": [
    "## 8. Example of dictionary methods"
   ]
  },
  {
   "cell_type": "markdown",
   "metadata": {},
   "source": [
    "Consider a situation where we want to investigate the sentiment of each meeting minute. \n",
    "A simple and sensible way to do so would be to build a document sentiment index based on the count of words having a \"positive\" or \"negative\" sentiment. We will then evaluate such an index for each of the minutes, and compare the measured sentiment to UK GDP as measured by the Office for National Statistics."
   ]
  },
  {
   "cell_type": "markdown",
   "metadata": {
    "id": "LGS6SXvHdut7"
   },
   "source": [
    "Firstly, we need to define the terms having positive or negative sentiment.\n",
    "For this example, we use the monetary policy sentiment dictionaries from Apel and Blix-Grimaldi (2012)."
   ]
  },
  {
   "cell_type": "code",
   "execution_count": 10,
   "metadata": {
    "id": "otKb5dLbdut7"
   },
   "outputs": [],
   "source": [
    "pos_words = ['accelerate','accelerated','accelerates','accelerating','expand','expanded','expanding','expands',\n",
    "             'fast','faster','fastest','gain','gained','gaining','gains','high','higher','highest','increase',\n",
    "             'increased','increases','increasing','strong','stronger','strongest']"
   ]
  },
  {
   "cell_type": "code",
   "execution_count": 11,
   "metadata": {
    "id": "qGCgPMoydut7"
   },
   "outputs": [],
   "source": [
    "neg_words = ['contract','contracted','contracting','contracts','decelerate','decelerated','decelerates',\n",
    "             'decelerating','decrease','decreased','decreases','decreasing','lose','losing','loss','losses',\n",
    "             'lost','low','lower','lowest','slow','slower','slowest','weak','weaker','weakest']"
   ]
  },
  {
   "cell_type": "markdown",
   "metadata": {
    "id": "LHPUyX_ydut7"
   },
   "source": [
    "The overall sentiment indicator will be formed of the net count of positive words divided by the total number of sentiment words (positive + negative). "
   ]
  },
  {
   "cell_type": "markdown",
   "metadata": {},
   "source": [
    "We can immediately notice that the dictionaries are lowercased, while the minutes data is not. When searching the minutes for sentiment terms, we do not want casing to interefere. Therefore, it is a good idea to lower-case the minutes data first. To do so, we can call the method ```lower()``` on each string. "
   ]
  },
  {
   "cell_type": "code",
   "execution_count": 12,
   "metadata": {},
   "outputs": [],
   "source": [
    "data['minutes_lower'] = data.minutes.apply(lambda x: x.lower())"
   ]
  },
  {
   "cell_type": "markdown",
   "metadata": {},
   "source": [
    "By using regular expressions, we can now count the number of times a positive or negative words was used in each of the minutes."
   ]
  },
  {
   "cell_type": "code",
   "execution_count": 13,
   "metadata": {},
   "outputs": [],
   "source": [
    "def count_instances(text, target_list):\n",
    "    target_string = '|'.join(target_list)\n",
    "    matches = re.findall(fr\"\\b({target_string})\\b\", text)\n",
    "    return len(matches)"
   ]
  },
  {
   "cell_type": "code",
   "execution_count": 14,
   "metadata": {},
   "outputs": [],
   "source": [
    "data['pos_counts'] = data.minutes_lower.apply(lambda x: count_instances(text=x, target_list=pos_words))\n",
    "data['neg_counts'] = data.minutes_lower.apply(lambda x: count_instances(text=x, target_list=neg_words))"
   ]
  },
  {
   "cell_type": "markdown",
   "metadata": {},
   "source": [
    "We can now compute sentiment at the year-quarter level, and compare it to UK GDP."
   ]
  },
  {
   "cell_type": "code",
   "execution_count": 15,
   "metadata": {},
   "outputs": [],
   "source": [
    "data_agg = data.groupby(['year', 'quarter']).sum()[['pos_counts', 'neg_counts']]#, 'months_x_quarter']]"
   ]
  },
  {
   "cell_type": "code",
   "execution_count": 16,
   "metadata": {},
   "outputs": [
    {
     "data": {
      "text/html": [
       "<div>\n",
       "<style scoped>\n",
       "    .dataframe tbody tr th:only-of-type {\n",
       "        vertical-align: middle;\n",
       "    }\n",
       "\n",
       "    .dataframe tbody tr th {\n",
       "        vertical-align: top;\n",
       "    }\n",
       "\n",
       "    .dataframe thead th {\n",
       "        text-align: right;\n",
       "    }\n",
       "</style>\n",
       "<table border=\"1\" class=\"dataframe\">\n",
       "  <thead>\n",
       "    <tr style=\"text-align: right;\">\n",
       "      <th></th>\n",
       "      <th></th>\n",
       "      <th>pos_counts</th>\n",
       "      <th>neg_counts</th>\n",
       "      <th>sentiment</th>\n",
       "    </tr>\n",
       "    <tr>\n",
       "      <th>year</th>\n",
       "      <th>quarter</th>\n",
       "      <th></th>\n",
       "      <th></th>\n",
       "      <th></th>\n",
       "    </tr>\n",
       "  </thead>\n",
       "  <tbody>\n",
       "    <tr>\n",
       "      <th rowspan=\"3\" valign=\"top\">1997</th>\n",
       "      <th>2</th>\n",
       "      <td>30</td>\n",
       "      <td>16</td>\n",
       "      <td>0.304348</td>\n",
       "    </tr>\n",
       "    <tr>\n",
       "      <th>3</th>\n",
       "      <td>240</td>\n",
       "      <td>85</td>\n",
       "      <td>0.476923</td>\n",
       "    </tr>\n",
       "    <tr>\n",
       "      <th>4</th>\n",
       "      <td>239</td>\n",
       "      <td>90</td>\n",
       "      <td>0.452888</td>\n",
       "    </tr>\n",
       "    <tr>\n",
       "      <th rowspan=\"2\" valign=\"top\">1998</th>\n",
       "      <th>1</th>\n",
       "      <td>265</td>\n",
       "      <td>123</td>\n",
       "      <td>0.365979</td>\n",
       "    </tr>\n",
       "    <tr>\n",
       "      <th>2</th>\n",
       "      <td>265</td>\n",
       "      <td>145</td>\n",
       "      <td>0.292683</td>\n",
       "    </tr>\n",
       "  </tbody>\n",
       "</table>\n",
       "</div>"
      ],
      "text/plain": [
       "              pos_counts  neg_counts  sentiment\n",
       "year quarter                                   \n",
       "1997 2                30          16   0.304348\n",
       "     3               240          85   0.476923\n",
       "     4               239          90   0.452888\n",
       "1998 1               265         123   0.365979\n",
       "     2               265         145   0.292683"
      ]
     },
     "execution_count": 16,
     "metadata": {},
     "output_type": "execute_result"
    }
   ],
   "source": [
    "# compute sentiment at year-quarter level\n",
    "data_agg['sentiment'] = (data_agg.pos_counts - data_agg.neg_counts)/(data_agg.pos_counts + data_agg.neg_counts)\n",
    "data_agg.head()"
   ]
  },
  {
   "cell_type": "code",
   "execution_count": 17,
   "metadata": {},
   "outputs": [
    {
     "data": {
      "text/html": [
       "<div>\n",
       "<style scoped>\n",
       "    .dataframe tbody tr th:only-of-type {\n",
       "        vertical-align: middle;\n",
       "    }\n",
       "\n",
       "    .dataframe tbody tr th {\n",
       "        vertical-align: top;\n",
       "    }\n",
       "\n",
       "    .dataframe thead th {\n",
       "        text-align: right;\n",
       "    }\n",
       "</style>\n",
       "<table border=\"1\" class=\"dataframe\">\n",
       "  <thead>\n",
       "    <tr style=\"text-align: right;\">\n",
       "      <th></th>\n",
       "      <th>year</th>\n",
       "      <th>quarter</th>\n",
       "      <th>gdp_growth</th>\n",
       "    </tr>\n",
       "  </thead>\n",
       "  <tbody>\n",
       "    <tr>\n",
       "      <th>0</th>\n",
       "      <td>1997</td>\n",
       "      <td>2</td>\n",
       "      <td>1.2</td>\n",
       "    </tr>\n",
       "    <tr>\n",
       "      <th>1</th>\n",
       "      <td>1997</td>\n",
       "      <td>3</td>\n",
       "      <td>0.6</td>\n",
       "    </tr>\n",
       "    <tr>\n",
       "      <th>2</th>\n",
       "      <td>1997</td>\n",
       "      <td>4</td>\n",
       "      <td>1.3</td>\n",
       "    </tr>\n",
       "    <tr>\n",
       "      <th>3</th>\n",
       "      <td>1998</td>\n",
       "      <td>1</td>\n",
       "      <td>0.6</td>\n",
       "    </tr>\n",
       "    <tr>\n",
       "      <th>4</th>\n",
       "      <td>1998</td>\n",
       "      <td>2</td>\n",
       "      <td>0.6</td>\n",
       "    </tr>\n",
       "  </tbody>\n",
       "</table>\n",
       "</div>"
      ],
      "text/plain": [
       "   year  quarter  gdp_growth\n",
       "0  1997        2         1.2\n",
       "1  1997        3         0.6\n",
       "2  1997        4         1.3\n",
       "3  1998        1         0.6\n",
       "4  1998        2         0.6"
      ]
     },
     "execution_count": 17,
     "metadata": {},
     "output_type": "execute_result"
    }
   ],
   "source": [
    "ons = pd.read_csv(data_path + 'ons_quarterly_gdp.csv', names=['label', 'gdp_growth', 'quarter_long'], header=0)\n",
    "\n",
    "ons['year'] = ons.label.apply(lambda x: x[:4]).astype(int)\n",
    "ons['quarter'] = ons.label.apply(lambda x: x[6]).astype(int)\n",
    "\n",
    "ons = ons[['year', 'quarter', 'gdp_growth']]\n",
    "\n",
    "ons = ons.drop_duplicates().reset_index(drop=True).copy()\n",
    "ons.head()"
   ]
  },
  {
   "cell_type": "code",
   "execution_count": 20,
   "metadata": {},
   "outputs": [
    {
     "data": {
      "text/html": [
       "<div>\n",
       "<style scoped>\n",
       "    .dataframe tbody tr th:only-of-type {\n",
       "        vertical-align: middle;\n",
       "    }\n",
       "\n",
       "    .dataframe tbody tr th {\n",
       "        vertical-align: top;\n",
       "    }\n",
       "\n",
       "    .dataframe thead th {\n",
       "        text-align: right;\n",
       "    }\n",
       "</style>\n",
       "<table border=\"1\" class=\"dataframe\">\n",
       "  <thead>\n",
       "    <tr style=\"text-align: right;\">\n",
       "      <th></th>\n",
       "      <th>year</th>\n",
       "      <th>quarter</th>\n",
       "      <th>pos_counts</th>\n",
       "      <th>neg_counts</th>\n",
       "      <th>sentiment</th>\n",
       "      <th>gdp_growth</th>\n",
       "    </tr>\n",
       "  </thead>\n",
       "  <tbody>\n",
       "    <tr>\n",
       "      <th>0</th>\n",
       "      <td>1997</td>\n",
       "      <td>2</td>\n",
       "      <td>30</td>\n",
       "      <td>16</td>\n",
       "      <td>0.304348</td>\n",
       "      <td>1.2</td>\n",
       "    </tr>\n",
       "    <tr>\n",
       "      <th>1</th>\n",
       "      <td>1997</td>\n",
       "      <td>3</td>\n",
       "      <td>240</td>\n",
       "      <td>85</td>\n",
       "      <td>0.476923</td>\n",
       "      <td>0.6</td>\n",
       "    </tr>\n",
       "    <tr>\n",
       "      <th>2</th>\n",
       "      <td>1997</td>\n",
       "      <td>4</td>\n",
       "      <td>239</td>\n",
       "      <td>90</td>\n",
       "      <td>0.452888</td>\n",
       "      <td>1.3</td>\n",
       "    </tr>\n",
       "    <tr>\n",
       "      <th>3</th>\n",
       "      <td>1998</td>\n",
       "      <td>1</td>\n",
       "      <td>265</td>\n",
       "      <td>123</td>\n",
       "      <td>0.365979</td>\n",
       "      <td>0.6</td>\n",
       "    </tr>\n",
       "    <tr>\n",
       "      <th>4</th>\n",
       "      <td>1998</td>\n",
       "      <td>2</td>\n",
       "      <td>265</td>\n",
       "      <td>145</td>\n",
       "      <td>0.292683</td>\n",
       "      <td>0.6</td>\n",
       "    </tr>\n",
       "  </tbody>\n",
       "</table>\n",
       "</div>"
      ],
      "text/plain": [
       "   year  quarter  pos_counts  neg_counts  sentiment  gdp_growth\n",
       "0  1997        2          30          16   0.304348         1.2\n",
       "1  1997        3         240          85   0.476923         0.6\n",
       "2  1997        4         239          90   0.452888         1.3\n",
       "3  1998        1         265         123   0.365979         0.6\n",
       "4  1998        2         265         145   0.292683         0.6"
      ]
     },
     "execution_count": 20,
     "metadata": {},
     "output_type": "execute_result"
    }
   ],
   "source": [
    "# merge to sentiment data\n",
    "df = data_agg.merge(ons, how='left', on=['year', 'quarter']).reset_index(drop=True).copy()\n",
    "df.head()"
   ]
  },
  {
   "cell_type": "code",
   "execution_count": 21,
   "metadata": {},
   "outputs": [],
   "source": [
    "ticks = np.arange(0, df.shape[0], 5)\n",
    "labs = np.array([str(x)+'Q'+str(y) for x,y in zip(df['year'],df['quarter'])])\n",
    "labs = labs[ticks]\n",
    "\n",
    "# save for later use\n",
    "df = df[['year', 'quarter', 'sentiment', 'gdp_growth']].copy()\n",
    "df.to_csv(data_path + 'gdp_sentiment.csv')\n"
   ]
  },
  {
   "cell_type": "code",
   "execution_count": 22,
   "metadata": {
    "colab": {
     "base_uri": "https://localhost:8080/"
    },
    "id": "PCmxFbZydut9",
    "outputId": "d89f7444-650e-4cb6-b25b-318e69bba1ae"
   },
   "outputs": [
    {
     "name": "stdout",
     "output_type": "stream",
     "text": [
      "            sentiment  gdp_growth\n",
      "sentiment    1.000000    0.286951\n",
      "gdp_growth   0.286951    1.000000\n"
     ]
    }
   ],
   "source": [
    "print(df[['sentiment', 'gdp_growth']].corr())"
   ]
  },
  {
   "cell_type": "markdown",
   "metadata": {
    "id": "t55GGt_Sdut9"
   },
   "source": [
    "In spite of its arguable lack of subtlety, here dictionary methods have produced a sentiment indicator that indeed correlates with real activity. Full results are in output.csv. Below we plot standardized series for growth and sentiment."
   ]
  },
  {
   "cell_type": "code",
   "execution_count": 23,
   "metadata": {
    "colab": {
     "base_uri": "https://localhost:8080/",
     "height": 265
    },
    "id": "ZixwVxoddut9",
    "outputId": "aab29458-cb67-4169-c543-a0733e74175c"
   },
   "outputs": [
    {
     "data": {
      "image/png": "[encoded data removed]",
      "text/plain": [
       "<Figure size 432x288 with 1 Axes>"
      ]
     },
     "metadata": {
      "needs_background": "light"
     },
     "output_type": "display_data"
    }
   ],
   "source": [
    "scaler = StandardScaler()\n",
    "\n",
    "fig, ax = plt.subplots()\n",
    "ax.plot(scaler.fit_transform(df.gdp_growth.values.reshape(-1, 1)).flatten(), \n",
    "        label='GDP', c='green', alpha=0.8)\n",
    "ax.plot(scaler.fit_transform(df.sentiment.values.reshape(-1, 1)).flatten(), \n",
    "        label='sentiment', linestyle='dashed', c='black')\n",
    "\n",
    "ax.set_xticks(ticks)\n",
    "ax.set_xticklabels(labs, rotation=60)\n",
    "ax.legend()\n",
    "\n",
    "plt.show()\n"
   ]
  }
 ],
 "metadata": {
  "kernelspec": {
   "display_name": "Python 3",
   "language": "python",
   "name": "python3"
  },
  "language_info": {
   "codemirror_mode": {
    "name": "ipython",
    "version": 3
   },
   "file_extension": ".py",
   "mimetype": "text/x-python",
   "name": "python",
   "nbconvert_exporter": "python",
   "pygments_lexer": "ipython3",
   "version": "3.8.3"
  },
  "toc": {
   "base_numbering": 1,
   "nav_menu": {},
   "number_sections": true,
   "sideBar": true,
   "skip_h1_title": false,
   "title_cell": "Table of Contents",
   "title_sidebar": "Contents",
   "toc_cell": false,
   "toc_position": {},
   "toc_section_display": true,
   "toc_window_display": false
  }
 },
 "nbformat": 4,
 "nbformat_minor": 4
}
